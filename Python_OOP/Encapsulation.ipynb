{
 "cells": [
  {
   "cell_type": "markdown",
   "source": [
    "# Encapsulation in Python # \r\n",
    "Encapsulation is one of the fundamental concepts in object-oriented programming (OOP). It describes the idea of wrapping data and the methods that work on data within one unit. This puts restrictions on accessing variables and methods directly and can prevent the accidental modification of data. To prevent accidental change, an object’s variable can only be changed by an object’s method. Those types of variables are known as private variable. \r\n",
    "A class is an example of encapsulation as it encapsulates all the data that is member functions, variables, etc.\r\n",
    "\r\n",
    "![](https://media.geeksforgeeks.org/wp-content/uploads/20191013164254/encapsulation-in-python.png)"
   ],
   "metadata": {}
  },
  {
   "cell_type": "markdown",
   "source": [
    "Consider a real-life example of encapsulation, in a company, there are different sections like the accounts section, finance section, sales section etc. The finance section handles all the financial transactions and keeps records of all the data related to finance. Similarly, the sales section handles all the sales-related activities and keeps records of all the sales. Now there may arise a situation when for some reason an official from the finance section needs all the data about sales in a particular month. In this case, he is not allowed to directly access the data of the sales section. He will first have to contact some other officer in the sales section and then request him to give the particular data. This is what encapsulation is. Here the data of the sales section and the employees that can manipulate them are wrapped under a single name “sales section”. Using encapsulation also hides the data. In this example, the data of the sections like sales, finance, or accounts are hidden from any other section."
   ],
   "metadata": {}
  },
  {
   "cell_type": "markdown",
   "source": [
    "## Protected members ##\r\n",
    "Protected members (in C++ and JAVA) are those members of the class that cannot be accessed outside the class but can be accessed from within the class and its subclasses. To accomplish this in Python, just follow the convention by prefixing the name of the member by a single underscore “ _ ”.\r\n",
    "Note: The __init__ method is a constructor and runs as soon as an object of a class is instantiated. "
   ],
   "metadata": {}
  },
  {
   "cell_type": "code",
   "execution_count": 1,
   "source": [
    "# Python program to\r\n",
    "# demonstrate private members\r\n",
    "\r\n",
    "# Creating a Base class\r\n",
    "class Base:\r\n",
    "\tdef __init__(self):\r\n",
    "\t\tself.a = \"GeeksforGeeks\"\r\n",
    "\t\tself.__c = \"GeeksforGeeks\"\r\n",
    "\r\n",
    "# Creating a derived class\r\n",
    "class Derived(Base):\r\n",
    "\tdef __init__(self):\r\n",
    "\t\t\r\n",
    "\t\t# Calling constructor of\r\n",
    "\t\t# Base class\r\n",
    "\t\tBase.__init__(self)\r\n",
    "\t\tprint(\"Calling private member of base class: \")\r\n",
    "\t\tprint(self.__c)\r\n",
    "# Driver code\r\n",
    "obj1 = Base()\r\n",
    "print(obj1.a)\r\n",
    "\r\n",
    "# Uncommenting print(obj1.c) will\r\n",
    "# raise an AttributeError\r\n",
    "\r\n",
    "# Uncommenting obj2 = Derived() will\r\n",
    "# also raise an AtrributeError as\r\n",
    "# private member of base class\r\n",
    "# is called inside derived class\r\n"
   ],
   "outputs": [
    {
     "output_type": "stream",
     "name": "stdout",
     "text": [
      "Calling protected member of base class: \n",
      "2\n"
     ]
    },
    {
     "output_type": "error",
     "ename": "AttributeError",
     "evalue": "'Base' object has no attribute 'a'",
     "traceback": [
      "\u001b[1;31m---------------------------------------------------------------------------\u001b[0m",
      "\u001b[1;31mAttributeError\u001b[0m                            Traceback (most recent call last)",
      "\u001b[1;32m<ipython-input-1-c58a550eca90>\u001b[0m in \u001b[0;36m<module>\u001b[1;34m\u001b[0m\n\u001b[0;32m     27\u001b[0m \u001b[1;31m# Outside class will result in\u001b[0m\u001b[1;33m\u001b[0m\u001b[1;33m\u001b[0m\u001b[1;33m\u001b[0m\u001b[0m\n\u001b[0;32m     28\u001b[0m \u001b[1;31m# AttributeError\u001b[0m\u001b[1;33m\u001b[0m\u001b[1;33m\u001b[0m\u001b[1;33m\u001b[0m\u001b[0m\n\u001b[1;32m---> 29\u001b[1;33m \u001b[0mprint\u001b[0m\u001b[1;33m(\u001b[0m\u001b[0mobj2\u001b[0m\u001b[1;33m.\u001b[0m\u001b[0ma\u001b[0m\u001b[1;33m)\u001b[0m\u001b[1;33m\u001b[0m\u001b[1;33m\u001b[0m\u001b[0m\n\u001b[0m",
      "\u001b[1;31mAttributeError\u001b[0m: 'Base' object has no attribute 'a'"
     ]
    }
   ],
   "metadata": {}
  }
 ],
 "metadata": {
  "orig_nbformat": 4,
  "language_info": {
   "name": "python",
   "version": "3.9.1",
   "mimetype": "text/x-python",
   "codemirror_mode": {
    "name": "ipython",
    "version": 3
   },
   "pygments_lexer": "ipython3",
   "nbconvert_exporter": "python",
   "file_extension": ".py"
  },
  "kernelspec": {
   "name": "python3",
   "display_name": "Python 3.9.1 64-bit"
  },
  "interpreter": {
   "hash": "11f1dc213e07634baa4c5c321dec03c05dafae643c50f20e6d1a492290c05dc2"
  }
 },
 "nbformat": 4,
 "nbformat_minor": 2
}