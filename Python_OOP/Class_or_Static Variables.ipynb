{
 "cells": [
  {
   "cell_type": "markdown",
   "source": [
    "# Class or Static Variables in Python # \r\n",
    "\r\n",
    "All objects share class or static variables. An instance or non-static variables are different for different objects (every object has a copy). For example, let a Computer Science Student be represented by class CSStudent. The class may have a static variable whose value is “cse” for all objects. And class may also have non-static members like name and roll. In C++ and Java, we can use static keywords to make a variable a class variable. The variables which don’t have a preceding static keyword are instance variables. See this for the Java example and this for the C++ example.\r\n",
    "The Python approach is simple; it doesn’t require a static keyword. "
   ],
   "metadata": {}
  },
  {
   "cell_type": "markdown",
   "source": [
    "__All variables which are assigned a value in the class declaration are class variables. And variables that are assigned values inside methods are instance variables.__"
   ],
   "metadata": {}
  },
  {
   "cell_type": "code",
   "execution_count": 1,
   "source": [
    "# Python program to show that the variables with a value\r\n",
    "# assigned in class declaration, are class variables\r\n",
    "\r\n",
    "# Class for Computer Science Student\r\n",
    "class CSStudent:\r\n",
    "\tstream = 'cse'\t\t\t\t # Class Variable\r\n",
    "\tdef __init__(self,name,roll):\r\n",
    "\t\tself.name = name\t\t # Instance Variable\r\n",
    "\t\tself.roll = roll\t\t # Instance Variable\r\n",
    "\r\n",
    "# Objects of CSStudent class\r\n",
    "a = CSStudent('Flex', 1)\r\n",
    "b = CSStudent('Nerd', 2)\r\n",
    "\r\n",
    "print(a.stream) # prints \"cse\"\r\n",
    "print(b.stream) # prints \"cse\"\r\n",
    "print(a.name) # prints \"Geek\"\r\n",
    "print(b.name) # prints \"Nerd\"\r\n",
    "print(a.roll) # prints \"1\"\r\n",
    "print(b.roll) # prints \"2\"\r\n",
    "\r\n",
    "# Class variables can be accessed using class\r\n",
    "# name also\r\n",
    "print(CSStudent.stream) # prints \"cse\"\r\n",
    "\r\n",
    "# Now if we change the stream for just a it won't be changed for b\r\n",
    "a.stream = 'ece'\r\n",
    "print(a.stream) # prints 'ece'\r\n",
    "print(b.stream) # prints 'cse'\r\n",
    "\r\n",
    "# To change the stream for all instances of the class we can change it\r\n",
    "# directly from the class\r\n",
    "CSStudent.stream = 'mech'\r\n",
    "\r\n",
    "print(a.stream) # prints 'ece'\r\n",
    "print(b.stream) # prints 'mech'\r\n"
   ],
   "outputs": [
    {
     "output_type": "stream",
     "name": "stdout",
     "text": [
      "cse\n",
      "cse\n",
      "Flex\n",
      "Nerd\n",
      "1\n",
      "2\n",
      "cse\n",
      "ece\n",
      "cse\n",
      "ece\n",
      "mech\n"
     ]
    }
   ],
   "metadata": {}
  },
  {
   "cell_type": "markdown",
   "source": [
    "## class method vs static method in Python ##\r\n",
    "# Class Method #\r\n",
    "The @classmethod decorator, is a builtin function decorator that is an expression that gets evaluated after your function is defined. The result of that evaluation shadows your function definition.\r\n",
    "A class method receives the class as implicit first argument, just like an instance method receives the instance"
   ],
   "metadata": {}
  },
  {
   "cell_type": "code",
   "execution_count": 2,
   "source": [
    "#class C(object):\r\n",
    "#   @classmethod\r\n",
    "#    def fun(cls, arg1, arg2, ...):\r\n",
    "#       ....\r\n",
    "#fun: function that needs to be converted into a class method\r\n",
    "#returns: a class method for function."
   ],
   "outputs": [],
   "metadata": {}
  },
  {
   "cell_type": "markdown",
   "source": [
    "* A class method is a method which is bound to the class and not the object of the class.\r\n",
    "* They have the access to the state of the class as it takes a class parameter that points to the class and not the object instance.\r\n",
    "* It can modify a class state that would apply across all the instances of the class. For example it can modify a class variable that will be applicable to all the instances."
   ],
   "metadata": {}
  },
  {
   "cell_type": "markdown",
   "source": [
    "# Static Method # \r\n",
    "A static method does not receive an implicit first argument.\r\n",
    "Syntax:\r\n"
   ],
   "metadata": {}
  },
  {
   "cell_type": "code",
   "execution_count": 3,
   "source": [
    "#class C(object):\r\n",
    "#    @staticmethod\r\n",
    "#    def fun(arg1, arg2, ...):\r\n",
    "#        ...\r\n",
    "#returns: a static method for function fun."
   ],
   "outputs": [],
   "metadata": {}
  },
  {
   "cell_type": "markdown",
   "source": [
    "* A static method is also a method which is bound to the class and not the object of the class.\r\n",
    "* A static method can’t access or modify class state.\r\n",
    "* It is present in a class because it makes sense for the method to be present in class."
   ],
   "metadata": {}
  },
  {
   "cell_type": "markdown",
   "source": [
    "# Class method vs Static Method #\r\n",
    "\r\n",
    "* A class method takes cls as first parameter while a static method needs no specific parameters.\r\n",
    "* A class method can access or modify class state while a static method can’t access or modify it.\r\n",
    "* In general, static methods know nothing about class state. They are utility type methods that take some parameters and work upon those parameters. On the other hand class methods must have class as parameter.\r\n",
    "* We use @classmethod decorator in python to create a class method and we use @staticmethod decorator to create a static method in python.\r\n"
   ],
   "metadata": {}
  },
  {
   "cell_type": "markdown",
   "source": [
    "# When to use what? # \r\n",
    "\r\n",
    "* We generally use class method to create factory methods. Factory methods return class object ( similar to a constructor ) for different use cases.\r\n",
    "* We generally use static methods to create utility functions.\r\n"
   ],
   "metadata": {}
  },
  {
   "cell_type": "markdown",
   "source": [
    "# How to define a class method and a static method? # \r\n",
    "\r\n",
    "To define a class method in python, we use @classmethod decorator and to define a static method we use @staticmethod decorator.\r\n",
    "Let us look at an example to understand the difference between both of them. Let us say we want to create a class Person. Now, python doesn’t support method overloading like C++ or Java so we use class methods to create factory methods. In the below example we use a class method to create a person object from birth year.\r\n",
    "\r\n",
    "As explained above we use static methods to create utility functions. In the below example we use a static method to check if a person is adult or not.\r\n",
    "\r\n",
    "_Implementation_\r\n"
   ],
   "metadata": {}
  },
  {
   "cell_type": "code",
   "execution_count": 4,
   "source": [
    "# Python program to demonstrate\r\n",
    "# use of class method and static method.\r\n",
    "from datetime import date\r\n",
    "\r\n",
    "class Person:\r\n",
    "\tdef __init__(self, name, age):\r\n",
    "\t\tself.name = name\r\n",
    "\t\tself.age = age\r\n",
    "\t\r\n",
    "\t# a class method to create a Person object by birth year.\r\n",
    "\t@classmethod\r\n",
    "\tdef fromBirthYear(cls, name, year):\r\n",
    "\t\treturn cls(name, date.today().year - year)\r\n",
    "\t\r\n",
    "\t# a static method to check if a Person is adult or not.\r\n",
    "\t@staticmethod\r\n",
    "\tdef isAdult(age):\r\n",
    "\t\treturn age > 18\r\n",
    "\r\n",
    "person1 = Person('mayank', 21)\r\n",
    "person2 = Person.fromBirthYear('mayank', 1996)\r\n",
    "\r\n",
    "print (person1.age)\r\n",
    "print (person2.age)\r\n",
    "\r\n",
    "# print the result\r\n",
    "print (Person.isAdult(22))\r\n"
   ],
   "outputs": [
    {
     "output_type": "stream",
     "name": "stdout",
     "text": [
      "21\n",
      "25\n",
      "True\n"
     ]
    }
   ],
   "metadata": {}
  }
 ],
 "metadata": {
  "orig_nbformat": 4,
  "language_info": {
   "name": "python",
   "version": "3.9.1",
   "mimetype": "text/x-python",
   "codemirror_mode": {
    "name": "ipython",
    "version": 3
   },
   "pygments_lexer": "ipython3",
   "nbconvert_exporter": "python",
   "file_extension": ".py"
  },
  "kernelspec": {
   "name": "python3",
   "display_name": "Python 3.9.1 64-bit"
  },
  "interpreter": {
   "hash": "11f1dc213e07634baa4c5c321dec03c05dafae643c50f20e6d1a492290c05dc2"
  }
 },
 "nbformat": 4,
 "nbformat_minor": 2
}