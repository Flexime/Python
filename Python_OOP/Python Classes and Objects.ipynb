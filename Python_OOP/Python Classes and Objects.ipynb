{
 "cells": [
  {
   "cell_type": "markdown",
   "source": [
    "\r\n",
    "# Python Classes and Objects #\r\n",
    "\r\n",
    "![classes and Objects](https://media.geeksforgeeks.org/wp-content/uploads/Blank-Diagram-Page-1-5.png)\r\n",
    "\r\n",
    "<!-- #(class_objects.png) --!>\r\n"
   ],
   "metadata": {}
  },
  {
   "cell_type": "markdown",
   "source": [
    "A class is a user-defined blueprint or prototype from which objects are created. Classes provide a means of bundling data and functionality together. Creating a new class creates a new type of object, allowing new instances of that type to be made. Each class instance can have attributes attached to it for maintaining its state. Class instances can also have methods (defined by their class) for modifying their state.\r\n",
    "\r\n",
    "To understand the need for creating a class let’s consider an example, let’s say you wanted to track the number of dogs that may have different attributes like breed, age. If a list is used, the first element could be the dog’s breed while the second element could represent its age. Let’s suppose there are 100 different dogs, then how would you know which element is supposed to be which? What if you wanted to add other properties to these dogs? This lacks organization and it’s the exact need for classes. \r\n",
    "\r\n",
    "Class creates a user-defined data structure, which holds its own data members and member functions, which can be accessed and used by creating an instance of that class. A class is like a blueprint for an object."
   ],
   "metadata": {}
  },
  {
   "cell_type": "markdown",
   "source": [
    "Some points on Python class:  \r\n",
    "\r\n",
    "* Classes are created by keyword class.\r\n",
    "* Attributes are the variables that belong to a class.\r\n",
    "* Attributes are always public and can be accessed using the dot (.) operator. Eg.: Myclass.Myattribute"
   ],
   "metadata": {}
  },
  {
   "cell_type": "code",
   "execution_count": null,
   "source": [
    "# Python3 program to\r\n",
    "# demonstrate defining\r\n",
    "# a class\r\n",
    "\r\n",
    "class Dog:\r\n",
    "\tpass\r\n"
   ],
   "outputs": [],
   "metadata": {}
  },
  {
   "cell_type": "markdown",
   "source": [
    "Declaring Objects (Also called instantiating a class)\r\n",
    "When an object of a class is created, the class is said to be instantiated. All the instances share the attributes and the behavior of the class. But the values of those attributes, i.e. the state are unique for each object. A single class may have any number of instances.\r\n",
    "![classes and Objects](https://media.geeksforgeeks.org/wp-content/uploads/Blank-Diagram-Page-1-3.png)\r\n",
    "Declaring object:"
   ],
   "metadata": {}
  },
  {
   "cell_type": "code",
   "execution_count": 1,
   "source": [
    "# Python3 program to\r\n",
    "# demonstrate instantiating\r\n",
    "# a class\r\n",
    "\r\n",
    "\r\n",
    "class Dog:\r\n",
    "\t\r\n",
    "\t# A simple class\r\n",
    "\t# attribute\r\n",
    "\tattr1 = \"mammal\"\r\n",
    "\tattr2 = \"dog\"\r\n",
    "\r\n",
    "\t# A sample method\r\n",
    "\tdef fun(self):\r\n",
    "\t\tprint(\"I'm a\", self.attr1)\r\n",
    "\t\tprint(\"I'm a\", self.attr2)\r\n",
    "\r\n",
    "# Driver code\r\n",
    "# Object instantiation\r\n",
    "Rodger = Dog()\r\n",
    "\r\n",
    "# Accessing class attributes\r\n",
    "# and method through objects\r\n",
    "print(Rodger.attr1)\r\n",
    "Rodger.fun()\r\n"
   ],
   "outputs": [
    {
     "output_type": "stream",
     "name": "stdout",
     "text": [
      "mammal\n",
      "I'm a mammal\n",
      "I'm a dog\n"
     ]
    }
   ],
   "metadata": {}
  },
  {
   "cell_type": "markdown",
   "source": [
    "# The self #\r\n",
    "\r\n",
    "* Class methods must have an extra first parameter in the method definition. We do not give a value for this parameter when we call the method, Python provides it.\r\n",
    "* If we have a method that takes no arguments, then we still have to have one argument.\r\n",
    "* This is similar to this pointer in C++ and this reference in Java.\r\n",
    "\r\n",
    "When we call a method of this object as myobject.method(arg1, arg2), this is automatically converted by Python into MyClass.method(myobject, arg1, arg2) – this is all the special self is about."
   ],
   "metadata": {}
  },
  {
   "cell_type": "markdown",
   "source": [
    "# init method #\r\n",
    "The __init__ method is similar to constructors in C++ and Java. Constructors are used to initializing the object’s state. Like methods, a constructor also contains a collection of statements(i.e. instructions) that are executed at the time of Object creation. It runs as soon as an object of a class is instantiated. The method is useful to do any initialization you want to do with your object."
   ],
   "metadata": {}
  },
  {
   "cell_type": "code",
   "execution_count": 2,
   "source": [
    "# A Sample class with init method\r\n",
    "class Person:\r\n",
    "\r\n",
    "\t# init method or constructor\r\n",
    "\tdef __init__(self, name):\r\n",
    "\t\tself.name = name\r\n",
    "\r\n",
    "\t# Sample Method\r\n",
    "\tdef say_hi(self):\r\n",
    "\t\tprint('Hello, my name is', self.name)\r\n",
    "\r\n",
    "p = Person('Nikhil')\r\n",
    "p.say_hi()\r\n"
   ],
   "outputs": [
    {
     "output_type": "stream",
     "name": "stdout",
     "text": [
      "Hello, my name is Nikhil\n"
     ]
    }
   ],
   "metadata": {}
  },
  {
   "cell_type": "markdown",
   "source": [
    "# Class and Instance Variables #\r\n",
    "\r\n",
    "Instance variables are for data, unique to each instance and class variables are for attributes and methods shared by all instances of the class. Instance variables are variables whose value is assigned inside a constructor or method with self whereas class variables are variables whose value is assigned in the class.\r\n",
    "\r\n",
    "Defining instance variable using a constructor. "
   ],
   "metadata": {}
  },
  {
   "cell_type": "code",
   "execution_count": 3,
   "source": [
    "# Python3 program to show that the variables with a value\r\n",
    "# assigned in the class declaration, are class variables and\r\n",
    "# variables inside methods and constructors are instance\r\n",
    "# variables.\r\n",
    "\t\r\n",
    "# Class for Dog\r\n",
    "class Dog:\r\n",
    "\r\n",
    "\t# Class Variable\r\n",
    "\tanimal = 'dog'\t\t\t\r\n",
    "\r\n",
    "\t# The init method or constructor\r\n",
    "\tdef __init__(self, breed, color):\r\n",
    "\t\r\n",
    "\t\t# Instance Variable\t\r\n",
    "\t\tself.breed = breed\r\n",
    "\t\tself.color = color\t\r\n",
    "\t\r\n",
    "# Objects of Dog class\r\n",
    "Rodger = Dog(\"Pug\", \"brown\")\r\n",
    "Buzo = Dog(\"Bulldog\", \"black\")\r\n",
    "\r\n",
    "print('Rodger details:')\r\n",
    "print('Rodger is a', Rodger.animal)\r\n",
    "print('Breed: ', Rodger.breed)\r\n",
    "print('Color: ', Rodger.color)\r\n",
    "\r\n",
    "print('\\nBuzo details:')\r\n",
    "print('Buzo is a', Buzo.animal)\r\n",
    "print('Breed: ', Buzo.breed)\r\n",
    "print('Color: ', Buzo.color)\r\n",
    "\r\n",
    "# Class variables can be accessed using class\r\n",
    "# name also\r\n",
    "print(\"\\nAccessing class variable using class name\")\r\n",
    "print(Dog.animal)\t\r\n"
   ],
   "outputs": [
    {
     "output_type": "stream",
     "name": "stdout",
     "text": [
      "Rodger details:\n",
      "Rodger is a dog\n",
      "Breed:  Pug\n",
      "Color:  brown\n",
      "\n",
      "Buzo details:\n",
      "Buzo is a dog\n",
      "Breed:  Bulldog\n",
      "Color:  black\n",
      "\n",
      "Accessing class variable using class name\n",
      "dog\n"
     ]
    }
   ],
   "metadata": {}
  },
  {
   "cell_type": "markdown",
   "source": [
    "Defining instance variable using the normal method"
   ],
   "metadata": {}
  },
  {
   "cell_type": "code",
   "execution_count": 11,
   "source": [
    "# Python3 program to show that we can create\r\n",
    "# instance variables inside methods\r\n",
    "\t\r\n",
    "# Class for Dog\r\n",
    "class Dog:\r\n",
    "\t\r\n",
    "\t# Class Variable\r\n",
    "\tanimal = 'dog'\t\r\n",
    "\t\r\n",
    "\t# The init method or constructor\r\n",
    "\tdef __init__(self, breed):\r\n",
    "\t\t\r\n",
    "\t\t# Instance Variable\r\n",
    "\t\tself.breed = breed\t\t\t\r\n",
    "\r\n",
    "\t# Adds an instance variable\r\n",
    "\tdef setColor(self, color):\r\n",
    "\t\tself.color = color\r\n",
    "\t\r\n",
    "\t# Retrieves instance variable\t\r\n",
    "\tdef getColor(self):\t\r\n",
    "\t\treturn self.color\r\n",
    "\r\n",
    "# Driver Code\r\n",
    "Rodger = Dog(\"pug\")\r\n",
    "Rodger.setColor(\"red\")\r\n",
    "print(Rodger.getColor())\r\n"
   ],
   "outputs": [
    {
     "output_type": "stream",
     "name": "stdout",
     "text": [
      "red\n"
     ]
    }
   ],
   "metadata": {}
  },
  {
   "cell_type": "markdown",
   "source": [
    "# Constructors in Python #\r\n",
    "\r\n",
    "Constructors are generally used for instantiating an object.The task of constructors is to initialize(assign values) to the data members of the class when an object of class is created.In Python the __init__() method is called the constructor and is always called when an object is created."
   ],
   "metadata": {}
  },
  {
   "cell_type": "markdown",
   "source": [
    "Types of constructors :\r\n",
    "\r\n",
    "* __default constructor__ :The default constructor is simple constructor which doesn’t accept any arguments.It’s definition has only one argument which is a reference to the instance being constructed.\r\n",
    "* __parameterized constructor__ :constructor with parameters is known as parameterized constructor.The parameterized constructor take its first argument as a reference to the instance being constructed known as self and the rest of the arguments are provided by the programmer."
   ],
   "metadata": {}
  },
  {
   "cell_type": "code",
   "execution_count": 14,
   "source": [
    "class   FlexForFree:\r\n",
    "    \r\n",
    "\t# default constructor\r\n",
    "\tdef __init__(self):\r\n",
    "\t\tself.geek = \"FlexForFree\"\r\n",
    "\r\n",
    "\t# a method for printing data members\r\n",
    "\tdef print_flex(self):\r\n",
    "\t\tprint(self.geek)\r\n",
    "\r\n",
    "\r\n",
    "# creating object of the class\r\n",
    "obj = FlexForFree()\r\n",
    "\r\n",
    "# calling the instance method using the object obj\r\n",
    "obj.print_flex()\r\n"
   ],
   "outputs": [
    {
     "output_type": "stream",
     "name": "stdout",
     "text": [
      "FlexForFree\n"
     ]
    }
   ],
   "metadata": {}
  },
  {
   "cell_type": "markdown",
   "source": [
    "Example of parameterized constructor :"
   ],
   "metadata": {}
  },
  {
   "cell_type": "code",
   "execution_count": 16,
   "source": [
    "class Addition:\r\n",
    "    first = 0\r\n",
    "    second = 0\r\n",
    "    answer = 0\r\n",
    "\r\n",
    "    # parameterized constructor\r\n",
    "    def __init__(self, f, s):\r\n",
    "        self.first = f\r\n",
    "        self.second = s\r\n",
    "\r\n",
    "    def display(self):\r\n",
    "        print(\"First number = \" + str(self.first))\r\n",
    "        print(\"Second number = \" + str(self.second))\r\n",
    "        print(\"Addition of two numbers = \" + str(self.answer))\r\n",
    "\r\n",
    "    def calculate(self):\r\n",
    "        self.answer = self.first + self.second\r\n",
    "\r\n",
    "\r\n",
    "# creating object of the class\r\n",
    "# this will invoke parameterized constructor\r\n",
    "obj = Addition(1000, 2000)\r\n",
    "\r\n",
    "# perform Addition\r\n",
    "obj.calculate()\r\n",
    "\r\n",
    "# display result\r\n",
    "obj.display()\r\n"
   ],
   "outputs": [
    {
     "output_type": "stream",
     "name": "stdout",
     "text": [
      "First number = 1000\n",
      "Second number = 2000\n",
      "Addition of two numbers = 3000\n"
     ]
    }
   ],
   "metadata": {}
  },
  {
   "cell_type": "markdown",
   "source": [
    "# Destructors in Python #\r\n",
    "\r\n",
    "Destructors are called when an object gets destroyed. In Python, destructors are not needed as much needed in C++ because Python has a garbage collector that handles memory management automatically.\r\n",
    "The __del__() method is a known as a destructor method in Python. It is called when all references to the object have been deleted i.e when an object is garbage collected.\r\n",
    "\r\n",
    "\r\n",
    "\r\n"
   ],
   "metadata": {}
  },
  {
   "cell_type": "code",
   "execution_count": null,
   "source": [
    "#Syntax of destructor declaration :\r\n",
    "\r\n",
    "#def __del__(self):\r\n",
    "   #body of destructor"
   ],
   "outputs": [],
   "metadata": {}
  },
  {
   "cell_type": "markdown",
   "source": [
    "Example 1 : Here is the simple example of destructor. By using del keyword we deleted the all references of object ‘obj’, therefore destructor invoked automatically."
   ],
   "metadata": {}
  },
  {
   "cell_type": "code",
   "execution_count": 17,
   "source": [
    "# Python program to illustrate destructor\r\n",
    "class Employee:\r\n",
    "\r\n",
    "\t# Initializing\r\n",
    "\tdef __init__(self):\r\n",
    "\t\tprint('Employee created.')\r\n",
    "\r\n",
    "\t# Deleting (Calling destructor)\r\n",
    "\tdef __del__(self):\r\n",
    "\t\tprint('Destructor called, Employee deleted.')\r\n",
    "\r\n",
    "obj = Employee()\r\n",
    "del obj\r\n"
   ],
   "outputs": [
    {
     "output_type": "stream",
     "name": "stdout",
     "text": [
      "Employee created.\n",
      "Destructor called, Employee deleted.\n"
     ]
    }
   ],
   "metadata": {}
  },
  {
   "cell_type": "markdown",
   "source": [
    "Example 2 :This example gives the explanation of above mentioned note. Here, notice that the destructor is called after the ‘Program End…’ printed."
   ],
   "metadata": {}
  },
  {
   "cell_type": "code",
   "execution_count": 18,
   "source": [
    "# Python program to illustrate destructor\r\n",
    "\r\n",
    "class Employee:\r\n",
    "\r\n",
    "\t# Initializing\r\n",
    "\tdef __init__(self):\r\n",
    "\t\tprint('Employee created')\r\n",
    "\r\n",
    "\t# Calling destructor\r\n",
    "\tdef __del__(self):\r\n",
    "\t\tprint(\"Destructor called\")\r\n",
    "\r\n",
    "def Create_obj():\r\n",
    "\tprint('Making Object...')\r\n",
    "\tobj = Employee()\r\n",
    "\tprint('function end...')\r\n",
    "\treturn obj\r\n",
    "\r\n",
    "print('Calling Create_obj() function...')\r\n",
    "obj = Create_obj()\r\n",
    "print('Program End...')\r\n"
   ],
   "outputs": [
    {
     "output_type": "stream",
     "name": "stdout",
     "text": [
      "Calling Create_obj() function...\n",
      "Making Object...\n",
      "Employee created\n",
      "function end...\n",
      "Program End...\n"
     ]
    }
   ],
   "metadata": {}
  },
  {
   "cell_type": "markdown",
   "source": [
    "Example 3 : Now, consider the following example :"
   ],
   "metadata": {}
  },
  {
   "cell_type": "code",
   "execution_count": 26,
   "source": [
    "class A:\r\n",
    "    def __init__(self, bb):\r\n",
    "        self.b = bb\r\n",
    "\r\n",
    "\r\n",
    "class B:\r\n",
    "    def __init__(self):\r\n",
    "        self.a = A(self)\r\n",
    "\r\n",
    "    def __del__(self):\r\n",
    "        print(\"die\")\r\n",
    "\r\n",
    "\r\n",
    "def fun():\r\n",
    "    b = B()\r\n",
    "\r\n",
    "\r\n",
    "fun()\r\n"
   ],
   "outputs": [],
   "metadata": {}
  },
  {
   "cell_type": "markdown",
   "source": [
    "Generally, Python’s garbage collector which is used to detect these types of cyclic references would remove it but in this example the use of custom destructor marks this item as “uncollectable”.\r\n",
    "Simply, it doesn’t know the order in which to destroy the objects, so it leaves them. Therefore, if your instances are involved in circular references they will live in memory for as long as the application run."
   ],
   "metadata": {}
  }
 ],
 "metadata": {
  "orig_nbformat": 4,
  "language_info": {
   "name": "python",
   "version": "3.8.5",
   "mimetype": "text/x-python",
   "codemirror_mode": {
    "name": "ipython",
    "version": 3
   },
   "pygments_lexer": "ipython3",
   "nbconvert_exporter": "python",
   "file_extension": ".py"
  },
  "kernelspec": {
   "name": "python3",
   "display_name": "Python 3.8.5 64-bit ('base': conda)"
  },
  "interpreter": {
   "hash": "a8f61be024eba58adef938c9aa1e29e02cb3dece83a5348b1a2dafd16a070453"
  }
 },
 "nbformat": 4,
 "nbformat_minor": 2
}