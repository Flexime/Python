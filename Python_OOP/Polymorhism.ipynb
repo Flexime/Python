{
 "cells": [
  {
   "cell_type": "markdown",
   "source": [
    "# Polymorphism in Python # \r\n",
    "\r\n",
    "What is Polymorphism : The word polymorphism means having many forms. In programming, polymorphism means same function name (but different signatures) being uses for different types.\r\n",
    "\r\n",
    "Example of inbuilt polymorphic functions :"
   ],
   "metadata": {}
  },
  {
   "cell_type": "code",
   "execution_count": 1,
   "source": [
    "# Python program to demonstrate in-built poly-\r\n",
    "# morphic functions\r\n",
    "\r\n",
    "# len() being used for a string\r\n",
    "print(len(\"geeks\"))\r\n",
    "\r\n",
    "# len() being used for a list\r\n",
    "print(len([10, 20, 30]))\r\n"
   ],
   "outputs": [
    {
     "output_type": "stream",
     "name": "stdout",
     "text": [
      "5\n",
      "3\n"
     ]
    }
   ],
   "metadata": {}
  },
  {
   "cell_type": "markdown",
   "source": [
    "Examples of used defined polymorphic functions :"
   ],
   "metadata": {}
  },
  {
   "cell_type": "code",
   "execution_count": 2,
   "source": [
    "# A simple Python function to demonstrate\r\n",
    "# Polymorphism\r\n",
    "\r\n",
    "def add(x, y, z = 0):\r\n",
    "\treturn x + y+z\r\n",
    "\r\n",
    "# Driver code\r\n",
    "print(add(2, 3))\r\n",
    "print(add(2, 3, 4))\r\n"
   ],
   "outputs": [
    {
     "output_type": "stream",
     "name": "stdout",
     "text": [
      "5\n",
      "9\n"
     ]
    }
   ],
   "metadata": {}
  },
  {
   "cell_type": "markdown",
   "source": [
    "# olymorphism with class methods: #\r\n",
    "Below code shows how python can use two different class types, in the same way. We create a for loop that iterates through a tuple of objects. Then call the methods without being concerned about which class type each object is. We assume that these methods actually exist in each class."
   ],
   "metadata": {}
  },
  {
   "cell_type": "code",
   "execution_count": 4,
   "source": [
    "class India():\r\n",
    "    def capital(self):\r\n",
    "        print(\"New Delhi is the capital of India.\")\r\n",
    "\r\n",
    "    def language(self):\r\n",
    "        print(\"Hindi is the most widely spoken language of India.\")\r\n",
    "\r\n",
    "    def type(self):\r\n",
    "        print(\"India is a developing country.\")\r\n",
    "\r\n",
    "\r\n",
    "class USA():\r\n",
    "    def capital(self):\r\n",
    "        print(\"Washington, D.C. is the capital of USA.\")\r\n",
    "\r\n",
    "    def language(self):\r\n",
    "        print(\"English is the primary language of USA.\")\r\n",
    "\r\n",
    "    def type(self):\r\n",
    "        print(\"USA is a developed country.\")\r\n",
    "\r\n",
    "\r\n",
    "obj_ind = India()\r\n",
    "obj_usa = USA()\r\n",
    "for country in (obj_ind, obj_usa):\r\n",
    "    country.capital()\r\n",
    "    country.language()\r\n",
    "    country.type()\r\n"
   ],
   "outputs": [
    {
     "output_type": "stream",
     "name": "stdout",
     "text": [
      "New Delhi is the capital of India.\n",
      "Hindi is the most widely spoken language of India.\n",
      "India is a developing country.\n",
      "Washington, D.C. is the capital of USA.\n",
      "English is the primary language of USA.\n",
      "USA is a developed country.\n"
     ]
    }
   ],
   "metadata": {}
  },
  {
   "cell_type": "markdown",
   "source": [
    "# Polymorphism with Inheritance: # \r\n",
    "In Python, Polymorphism lets us define methods in the child class that have the same name as the methods in the parent class. In inheritance, the child class inherits the methods from the parent class. However, it is possible to modify a method in a child class that it has inherited from the parent class. This is particularly useful in cases where the method inherited from the parent class doesn’t quite fit the child class. In such cases, we re-implement the method in the child class. This process of re-implementing a method in the child class is known as Method Overriding."
   ],
   "metadata": {}
  },
  {
   "cell_type": "code",
   "execution_count": 5,
   "source": [
    "class Bird:\r\n",
    "    def intro(self):\r\n",
    "\t    print(\"There are many types of birds.\")\r\n",
    "\t\r\n",
    "    def flight(self):\r\n",
    "\t    print(\"Most of the birds can fly but some cannot.\")\r\n",
    "\t\r\n",
    "class sparrow(Bird):\r\n",
    "    def flight(self):\r\n",
    "\t    print(\"Sparrows can fly.\")\r\n",
    "\t\r\n",
    "class ostrich(Bird):\r\n",
    "    def flight(self):\r\n",
    "\t    print(\"Ostriches cannot fly.\")\r\n",
    "\t\r\n",
    "obj_bird = Bird()\r\n",
    "obj_spr = sparrow()\r\n",
    "obj_ost = ostrich()\r\n",
    "\r\n",
    "obj_bird.intro()\r\n",
    "obj_bird.flight()\r\n",
    "\r\n",
    "obj_spr.intro()\r\n",
    "obj_spr.flight()\r\n",
    "\r\n",
    "obj_ost.intro()\r\n",
    "obj_ost.flight()\r\n"
   ],
   "outputs": [
    {
     "output_type": "stream",
     "name": "stdout",
     "text": [
      "There are many types of birds.\n",
      "Most of the birds can fly but some cannot.\n",
      "There are many types of birds.\n",
      "Sparrows can fly.\n",
      "There are many types of birds.\n",
      "Ostriches cannot fly.\n"
     ]
    }
   ],
   "metadata": {}
  },
  {
   "cell_type": "markdown",
   "source": [
    "# Polymorphism with a Function and objects: # \r\n",
    "It is also possible to create a function that can take any object, allowing for polymorphism. In this example, let’s create a function called “func()” which will take an object which we will name “obj”. Though we are using the name ‘obj’, any instantiated object will be able to be called into this function. Next, lets give the function something to do that uses the ‘obj’ object we passed to it. In this case lets call the three methods, viz., capital(), language() and type(), each of which is defined in the two classes ‘India’ and ‘USA’. Next, let’s create instantiations of both the ‘India’ and ‘USA’ classes if we don’t have them already. With those, we can call their action using the same func() function:"
   ],
   "metadata": {}
  },
  {
   "cell_type": "code",
   "execution_count": 8,
   "source": [
    "class India():\r\n",
    "    def capital(self):\r\n",
    "\t    print(\"New Delhi is the capital of India.\")\r\n",
    "\r\n",
    "    def language(self):\r\n",
    "\t\t    print(\"Hindi is the most widely spoken language of India.\")\r\n",
    "\r\n",
    "    def type(self):\r\n",
    "\t\t    print(\"India is a developing country.\")\r\n",
    "\r\n",
    "class USA():\r\n",
    "\tdef capital(self):\r\n",
    "\t\tprint(\"Washington, D.C. is the capital of USA.\")\r\n",
    "\r\n",
    "\tdef language(self):\r\n",
    "\t\tprint(\"English is the primary language of USA.\")\r\n",
    "\r\n",
    "\tdef type(self):\r\n",
    "\t\tprint(\"USA is a developed country.\")\r\n",
    "\r\n",
    "def func(obj):\r\n",
    "\tobj.capital()\r\n",
    "\tobj.language()\r\n",
    "\tobj.type()\r\n",
    "\r\n",
    "obj_ind = India()\r\n",
    "obj_usa = USA()\r\n",
    "\r\n",
    "func(obj_ind)\r\n",
    "func(obj_usa)\r\n"
   ],
   "outputs": [
    {
     "output_type": "stream",
     "name": "stdout",
     "text": [
      "New Delhi is the capital of India.\n",
      "Hindi is the most widely spoken language of India.\n",
      "India is a developing country.\n",
      "Washington, D.C. is the capital of USA.\n",
      "English is the primary language of USA.\n",
      "USA is a developed country.\n"
     ]
    }
   ],
   "metadata": {}
  }
 ],
 "metadata": {
  "orig_nbformat": 4,
  "language_info": {
   "name": "python",
   "version": "3.8.5",
   "mimetype": "text/x-python",
   "codemirror_mode": {
    "name": "ipython",
    "version": 3
   },
   "pygments_lexer": "ipython3",
   "nbconvert_exporter": "python",
   "file_extension": ".py"
  },
  "kernelspec": {
   "name": "python3",
   "display_name": "Python 3.8.5 64-bit ('base': conda)"
  },
  "interpreter": {
   "hash": "a8f61be024eba58adef938c9aa1e29e02cb3dece83a5348b1a2dafd16a070453"
  }
 },
 "nbformat": 4,
 "nbformat_minor": 2
}