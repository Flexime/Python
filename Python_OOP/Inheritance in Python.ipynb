{
 "cells": [
  {
   "cell_type": "markdown",
   "source": [
    "# Inheritance in Python #\r\n",
    "\r\n",
    "Inheritance is the capability of one class to derive or inherit the properties from another class. The benefits of inheritance are: \r\n",
    " \r\n",
    "\r\n",
    "* It represents real-world relationships well.\r\n",
    "* It provides reusability of a code. We don’t have to write the same code again and again. Also, it allows us to add more features to a class without modifying it.\r\n",
    "* It is transitive in nature, which means that if class B inherits from another class A, then all the subclasses of B would automatically inherit from class A."
   ],
   "metadata": {}
  },
  {
   "cell_type": "code",
   "execution_count": 2,
   "source": [
    "# A Python program to demonstrate inheritance\r\n",
    "\r\n",
    "# Base or Super class. Note object in bracket.\r\n",
    "# (Generally, object is made ancestor of all classes)\r\n",
    "# In Python 3.x \"class Person\" is\r\n",
    "# equivalent to \"class Person(object)\"\r\n",
    "class Person(object):\r\n",
    "\t\r\n",
    "\t# Constructor\r\n",
    "\tdef __init__(self, name):\r\n",
    "\t\tself.name = name\r\n",
    "\r\n",
    "\t# To get name\r\n",
    "\tdef getName(self):\r\n",
    "\t\treturn self.name\r\n",
    "\r\n",
    "\t# To check if this person is an employee\r\n",
    "\tdef isEmployee(self):\r\n",
    "\t\treturn False\r\n",
    "\r\n",
    "\r\n",
    "# Inherited or Subclass (Note Person in bracket)\r\n",
    "class Employee(Person):\r\n",
    "\r\n",
    "\t# Here we return true\r\n",
    "\tdef isEmployee(self):\r\n",
    "\t\treturn True\r\n",
    "\r\n",
    "# Driver code\r\n",
    "emp = Person(\"Artemida\") # An Object of Person\r\n",
    "print(emp.getName(), emp.isEmployee())\r\n",
    "\r\n",
    "emp = Employee(\"Flex\") # An Object of Employee\r\n",
    "print(emp.getName(), emp.isEmployee())\r\n"
   ],
   "outputs": [
    {
     "output_type": "stream",
     "name": "stdout",
     "text": [
      "Artemida False\n",
      "Flex True\n"
     ]
    }
   ],
   "metadata": {}
  },
  {
   "cell_type": "markdown",
   "source": [
    "What is object class? \r\n",
    "Like Java Object class, in Python (from version 3.x), object is root of all classes. \r\n",
    "In Python 3.x, “class Test(object)” and “class Test” are same. \r\n",
    "In Python 2.x, “class Test(object)” creates a class with object as parent (called new style class) and “class Test” creates old style class (without object parent). Refer this for more details.\r\n",
    "\r\n",
    "Subclassing (Calling constructor of parent class) \r\n",
    "A child class needs to identify which class is its parent class. This can be done by mentioning the parent class name in the definition of the child class. \r\n",
    "Eg: class subclass_name (superclass_name): \r\n"
   ],
   "metadata": {}
  },
  {
   "cell_type": "code",
   "execution_count": 4,
   "source": [
    "# Python code to demonstrate how parent constructors\r\n",
    "# are called.\r\n",
    "\r\n",
    "# parent class\r\n",
    "class Person( object ):\t\r\n",
    "\r\n",
    "\t\t# __init__ is known as the constructor\t\t\r\n",
    "\t\tdef __init__(self, name, idnumber):\r\n",
    "\t\t\t\tself.name = name\r\n",
    "\t\t\t\tself.idnumber = idnumber\r\n",
    "\t\tdef display(self):\r\n",
    "\t\t\t\tprint(self.name)\r\n",
    "\t\t\t\tprint(self.idnumber)\r\n",
    "\r\n",
    "# child class\r\n",
    "class Employee( Person ):\t\t\r\n",
    "\t\tdef __init__(self, name, idnumber, salary, post):\r\n",
    "\t\t\t\tself.salary = salary\r\n",
    "\t\t\t\tself.post = post\r\n",
    "\r\n",
    "\t\t\t\t# invoking the __init__ of the parent class\r\n",
    "\t\t\t\tPerson.__init__(self, name, idnumber)\r\n",
    "\r\n",
    "\t\t\t\t\r\n",
    "# creation of an object variable or an instance\r\n",
    "a = Employee('Askar', 26002, 200000, \"Intern\")\t\r\n",
    "\r\n",
    "# calling a function of the class Person using its instance\r\n",
    "a.display()\r\n"
   ],
   "outputs": [
    {
     "output_type": "stream",
     "name": "stdout",
     "text": [
      "Askar\n",
      "26002\n"
     ]
    }
   ],
   "metadata": {}
  },
  {
   "cell_type": "markdown",
   "source": [
    "‘a’ is the instance created for the class Person. It invokes the __init__() of the referred class. You can see ‘object’ written in the declaration of the class Person. In Python, every class inherits from a built-in basic class called ‘object’. The constructor i.e. the ‘__init__’ function of a class is invoked when we create an object variable or an instance of the class.\r\n",
    "\r\n",
    "The variables defined within __init__() are called as the instance variables or objects. Hence, ‘name’ and ‘idnumber’ are the objects of the class Person. Similarly, ‘salary’ and ‘post’ are the objects of the class Employee. Since the class Employee inherits from class Person, ‘name’ and ‘idnumber’ are also the objects of class Employee.\r\n",
    "If you forget to invoke the __init__() of the parent class then its instance variables would not be available to the child class. \r\n",
    "\r\n",
    "The following code produces an error for the same reason. "
   ],
   "metadata": {}
  },
  {
   "cell_type": "code",
   "execution_count": 5,
   "source": [
    "# Python program to demonstrate error if we\r\n",
    "# forget to invoke __init__() of the parent.\r\n",
    "\r\n",
    "class A:\r\n",
    "\tdef __init__(self, n = 'Rahul'):\r\n",
    "\t\t\tself.name = n\r\n",
    "class B(A):\r\n",
    "\tdef __init__(self, roll):\r\n",
    "\t\t\tself.roll = roll\r\n",
    "\r\n",
    "object = B(23)\r\n",
    "print (object.name)\r\n"
   ],
   "outputs": [
    {
     "output_type": "error",
     "ename": "AttributeError",
     "evalue": "'B' object has no attribute 'name'",
     "traceback": [
      "\u001b[1;31m---------------------------------------------------------------------------\u001b[0m",
      "\u001b[1;31mAttributeError\u001b[0m                            Traceback (most recent call last)",
      "\u001b[1;32m<ipython-input-5-75eb548bd47e>\u001b[0m in \u001b[0;36m<module>\u001b[1;34m\u001b[0m\n\u001b[0;32m     10\u001b[0m \u001b[1;33m\u001b[0m\u001b[0m\n\u001b[0;32m     11\u001b[0m \u001b[0mobject\u001b[0m \u001b[1;33m=\u001b[0m \u001b[0mB\u001b[0m\u001b[1;33m(\u001b[0m\u001b[1;36m23\u001b[0m\u001b[1;33m)\u001b[0m\u001b[1;33m\u001b[0m\u001b[1;33m\u001b[0m\u001b[0m\n\u001b[1;32m---> 12\u001b[1;33m \u001b[0mprint\u001b[0m \u001b[1;33m(\u001b[0m\u001b[0mobject\u001b[0m\u001b[1;33m.\u001b[0m\u001b[0mname\u001b[0m\u001b[1;33m)\u001b[0m\u001b[1;33m\u001b[0m\u001b[1;33m\u001b[0m\u001b[0m\n\u001b[0m",
      "\u001b[1;31mAttributeError\u001b[0m: 'B' object has no attribute 'name'"
     ]
    }
   ],
   "metadata": {}
  },
  {
   "cell_type": "markdown",
   "source": [
    "Different forms of Inheritance: \r\n",
    "1. Single inheritance: When a child class inherits from only one parent class, it is called single inheritance. We saw an example above.\r\n",
    "2. Multiple inheritance: When a child class inherits from multiple parent classes, it is called multiple inheritance. \r\n",
    "Unlike Java and like C++, Python supports multiple inheritance. We specify all parent classes as a comma-separated list in the bracket. "
   ],
   "metadata": {}
  },
  {
   "cell_type": "code",
   "execution_count": 2,
   "source": [
    "# Python example to show the working of multiple\r\n",
    "# inheritance\r\n",
    "class Base1(object):\r\n",
    "\tdef __init__(self):\r\n",
    "\t\tself.str1 = \"Flex1\"\r\n",
    "\t\tprint(\"Base1\")\r\n",
    "\r\n",
    "class Base2(object):\r\n",
    "\tdef __init__(self):\r\n",
    "\t\tself.str2 = \"Flex2\"\t\t\r\n",
    "\t\tprint(\"Base2\")\r\n",
    "\r\n",
    "class Derived(Base1, Base2):\r\n",
    "\tdef __init__(self):\r\n",
    "\t\t\r\n",
    "\t\t# Calling constructors of Base1\r\n",
    "\t\t# and Base2 classes\r\n",
    "\t\tBase1.__init__(self)\r\n",
    "\t\tBase2.__init__(self)\r\n",
    "\t\tprint(\"Derived\")\r\n",
    "\t\t\r\n",
    "\tdef printStrs(self):\r\n",
    "\t\tprint(self.str1, self.str2)\r\n",
    "\t\t\r\n",
    "\r\n",
    "ob = Derived()\r\n",
    "ob.printStrs()\r\n"
   ],
   "outputs": [
    {
     "output_type": "stream",
     "name": "stdout",
     "text": [
      "Base1\n",
      "Base2\n",
      "Derived\n",
      "Flex1 Flex2\n"
     ]
    }
   ],
   "metadata": {}
  },
  {
   "cell_type": "markdown",
   "source": [
    "3. Multilevel inheritance: When we have a child and grandchild relationship."
   ],
   "metadata": {}
  },
  {
   "cell_type": "code",
   "execution_count": 4,
   "source": [
    "# A Python program to demonstrate inheritance\r\n",
    "\r\n",
    "# Base or Super class. Note object in bracket.\r\n",
    "# (Generally, object is made ancestor of all classes)\r\n",
    "# In Python 3.x \"class Person\" is\r\n",
    "# equivalent to \"class Person(object)\"\r\n",
    "class Base(object):\r\n",
    "\t\r\n",
    "\t# Constructor\r\n",
    "\tdef __init__(self, name):\r\n",
    "\t\tself.name = name\r\n",
    "\r\n",
    "\t# To get name\r\n",
    "\tdef getName(self):\r\n",
    "\t\treturn self.name\r\n",
    "\r\n",
    "\r\n",
    "# Inherited or Sub class (Note Person in bracket)\r\n",
    "class Child(Base):\r\n",
    "\t\r\n",
    "\t# Constructor\r\n",
    "\tdef __init__(self, name, age):\r\n",
    "\t\tBase.__init__(self, name)\r\n",
    "\t\tself.age = age\r\n",
    "\r\n",
    "\t# To get name\r\n",
    "\tdef getAge(self):\r\n",
    "\t\treturn self.age\r\n",
    "\r\n",
    "# Inherited or Sub class (Note Person in bracket)\r\n",
    "class GrandChild(Child):\r\n",
    "\t\r\n",
    "\t# Constructor\r\n",
    "\tdef __init__(self, name, age, address):\r\n",
    "\t\tChild.__init__(self, name, age)\r\n",
    "\t\tself.address = address\r\n",
    "\r\n",
    "\t# To get address\r\n",
    "\tdef getAddress(self):\r\n",
    "\t\treturn self.address\t\t\r\n",
    "\r\n",
    "# Driver code\r\n",
    "g = GrandChild(\"Flex\", 23, \"Noida\")\r\n",
    "print(g.getName(), g.getAge(), g.getAddress())\r\n"
   ],
   "outputs": [
    {
     "output_type": "stream",
     "name": "stdout",
     "text": [
      "Flex 23 Noida\n"
     ]
    }
   ],
   "metadata": {}
  },
  {
   "cell_type": "markdown",
   "source": [
    "4. Hierarchical inheritance More than one derived classes are created from a single base.\r\n",
    "\r\n",
    "5. Hybrid inheritance: This form combines more than one form of inheritance. Basically, it is a blend of more than one type of inheritance.\r\n",
    "\r\n",
    "Private members of parent class \r\n",
    "We don’t always want the instance variables of the parent class to be inherited by the child class i.e. we can make some of the instance variables of the parent class private, which won’t be available to the child class. \r\n",
    "We can make an instance variable by adding double underscores before its name. For example,"
   ],
   "metadata": {}
  },
  {
   "cell_type": "code",
   "execution_count": 5,
   "source": [
    "# Python program to demonstrate private members\r\n",
    "# of the parent class\r\n",
    "class C(object):\r\n",
    "\tdef __init__(self):\r\n",
    "\t\t\tself.c = 21\r\n",
    "\r\n",
    "\t\t\t# d is private instance variable\r\n",
    "\t\t\tself.__d = 42\t\r\n",
    "class D(C):\r\n",
    "\tdef __init__(self):\r\n",
    "\t\t\tself.e = 84\r\n",
    "\t\t\tC.__init__(self)\r\n",
    "object1 = D()\r\n",
    "\r\n",
    "# produces an error as d is private instance variable\r\n",
    "print(object1.d)\t\t\t\t\t\r\n",
    "#Since ‘d’ is made private by those underscores, it is not available to the child class ‘D’ and hence the error."
   ],
   "outputs": [
    {
     "output_type": "error",
     "ename": "AttributeError",
     "evalue": "'D' object has no attribute 'd'",
     "traceback": [
      "\u001b[1;31m---------------------------------------------------------------------------\u001b[0m",
      "\u001b[1;31mAttributeError\u001b[0m                            Traceback (most recent call last)",
      "\u001b[1;32m<ipython-input-5-5d81b7cc1d5c>\u001b[0m in \u001b[0;36m<module>\u001b[1;34m\u001b[0m\n\u001b[0;32m     14\u001b[0m \u001b[1;33m\u001b[0m\u001b[0m\n\u001b[0;32m     15\u001b[0m \u001b[1;31m# produces an error as d is private instance variable\u001b[0m\u001b[1;33m\u001b[0m\u001b[1;33m\u001b[0m\u001b[1;33m\u001b[0m\u001b[0m\n\u001b[1;32m---> 16\u001b[1;33m \u001b[0mprint\u001b[0m\u001b[1;33m(\u001b[0m\u001b[0mobject1\u001b[0m\u001b[1;33m.\u001b[0m\u001b[0md\u001b[0m\u001b[1;33m)\u001b[0m\u001b[1;33m\u001b[0m\u001b[1;33m\u001b[0m\u001b[0m\n\u001b[0m",
      "\u001b[1;31mAttributeError\u001b[0m: 'D' object has no attribute 'd'"
     ]
    }
   ],
   "metadata": {}
  },
  {
   "cell_type": "markdown",
   "source": [
    "# Types of inheritance Python #\r\n",
    "Inheritance is defined as the capability of one class to derive or inherit the properties from some other class and use it whenever needed. Inheritance provides the following properties: \r\n",
    " \r\n",
    "\r\n",
    "* It represents real-world relationships well. \r\n",
    "* It provides reusability of code. We don’t have to write the same code again and again. Also, it allows us to add more features to a class without modifying it. \r\n",
    "* It is transitive in nature, which means that if class B inherits from another class A, then all the subclasses of B would automatically inherit from class A. \r\n"
   ],
   "metadata": {}
  },
  {
   "cell_type": "code",
   "execution_count": 2,
   "source": [
    "# A Python program to demonstrate\r\n",
    "# inheritance\r\n",
    "\r\n",
    "\r\n",
    "# Base class or Parent class\r\n",
    "class Child:\r\n",
    "\r\n",
    "\t# Constructor\r\n",
    "\tdef __init__(self, name):\r\n",
    "\t\tself.name = name\r\n",
    "\r\n",
    "\t# To get name\r\n",
    "\tdef getName(self):\r\n",
    "\t\treturn self.name\r\n",
    "\r\n",
    "\t# To check if this person is student\r\n",
    "\tdef isStudent(self):\r\n",
    "\t\treturn False\r\n",
    "\r\n",
    "# Derived class or Child class\r\n",
    "class Student(Child):\r\n",
    "\r\n",
    "\t# True is returned\r\n",
    "\tdef isStudent(self):\r\n",
    "\t\treturn True\r\n",
    "\r\n",
    "\r\n",
    "# Driver code\r\n",
    "# An Object of Child\r\n",
    "std = Child(\"child\")\r\n",
    "print(std.getName(), std.isStudent())\r\n",
    "\r\n",
    "# An Object of Student\r\n",
    "std = Student(\"student\")\r\n",
    "print(std.getName(), std.isStudent())\r\n"
   ],
   "outputs": [
    {
     "output_type": "stream",
     "name": "stdout",
     "text": [
      "child False\n",
      "student True\n"
     ]
    }
   ],
   "metadata": {}
  },
  {
   "cell_type": "markdown",
   "source": [
    "__Single Inheritance:__ Single inheritance enables a derived class to inherit properties from a single parent class, thus enabling code reusability and the addition of new features to existing code. \r\n",
    "\r\n",
    "![](https://media.geeksforgeeks.org/wp-content/uploads/20200108135809/inheritance11.png)\r\n"
   ],
   "metadata": {}
  },
  {
   "cell_type": "code",
   "execution_count": 3,
   "source": [
    "# Python program to demonstrate\r\n",
    "# single inheritance\r\n",
    "\r\n",
    "\r\n",
    "# Base class\r\n",
    "class Parent:\r\n",
    "\tdef func1(self):\r\n",
    "\t\tprint(\"This function is in parent class.\")\r\n",
    "\r\n",
    "# Derived class\r\n",
    "class Child(Parent):\r\n",
    "\tdef func2(self):\r\n",
    "\t\tprint(\"This function is in child class.\")\r\n",
    "\r\n",
    "# Driver's code\r\n",
    "object = Child()\r\n",
    "object.func1()\r\n",
    "object.func2()\r\n"
   ],
   "outputs": [
    {
     "output_type": "stream",
     "name": "stdout",
     "text": [
      "This function is in parent class.\n",
      "This function is in child class.\n"
     ]
    }
   ],
   "metadata": {}
  },
  {
   "cell_type": "markdown",
   "source": [
    "__Multiple Inheritance:__ When a class can be derived from more than one base class this type of inheritance is called multiple inheritance. In multiple inheritance, all the features of the base classes are inherited into the derived class.  \r\n",
    "\r\n",
    "![](https://media.geeksforgeeks.org/wp-content/uploads/20200108144424/multiple-inheritance1.png)\r\n"
   ],
   "metadata": {}
  },
  {
   "cell_type": "code",
   "execution_count": 5,
   "source": [
    "# Python program to demonstrate\r\n",
    "# multiple inheritance\r\n",
    "\r\n",
    "\r\n",
    "# Base class1\r\n",
    "class Mother:\r\n",
    "\tmothername = \"\"\r\n",
    "\tdef mother(self):\r\n",
    "\t\tprint(self.mothername)\r\n",
    "\r\n",
    "# Base class2\r\n",
    "class Father:\r\n",
    "\tfathername = \"\"\r\n",
    "\tdef father(self):\r\n",
    "\t\tprint(self.fathername)\r\n",
    "\r\n",
    "# Derived class\r\n",
    "class Son(Mother, Father):\r\n",
    "\tdef parents(self):\r\n",
    "\t\tprint(\"Father :\", self.fathername)\r\n",
    "\t\tprint(\"Mother :\", self.mothername)\r\n",
    "\r\n",
    "# Driver's code\r\n",
    "s1 = Son()\r\n",
    "s1.fathername = \"dadza\"\r\n",
    "s1.mothername = \"momza\"\r\n",
    "s1.parents()\r\n"
   ],
   "outputs": [
    {
     "output_type": "stream",
     "name": "stdout",
     "text": [
      "Father : dadza\n",
      "Mother : momza\n"
     ]
    }
   ],
   "metadata": {}
  },
  {
   "cell_type": "markdown",
   "source": [
    "__Multilevel Inheritance__\r\n",
    "In multilevel inheritance, features of the base class and the derived class are further inherited into the new derived class. This is similar to a relationship representing a child and grandfather. \r\n",
    "\r\n",
    "![](https://media.geeksforgeeks.org/wp-content/uploads/20200108144705/Multilevel-inheritance1.png)"
   ],
   "metadata": {}
  },
  {
   "cell_type": "code",
   "execution_count": 6,
   "source": [
    "# Python program to demonstrate\r\n",
    "# multilevel inheritance\r\n",
    "\r\n",
    "# Base class\r\n",
    "class Grandfather:\r\n",
    "\r\n",
    "\tdef __init__(self, grandfathername):\r\n",
    "\t\tself.grandfathername = grandfathername\r\n",
    "\r\n",
    "# Intermediate class\r\n",
    "class Father(Grandfather):\r\n",
    "\tdef __init__(self, fathername, grandfathername):\r\n",
    "\t\tself.fathername = fathername\r\n",
    "\r\n",
    "\t\t# invoking constructor of Grandfather class\r\n",
    "\t\tGrandfather.__init__(self, grandfathername)\r\n",
    "\r\n",
    "# Derived class\r\n",
    "class Son(Father):\r\n",
    "\tdef __init__(self,sonname, fathername, grandfathername):\r\n",
    "\t\tself.sonname = sonname\r\n",
    "\r\n",
    "\t\t# invoking constructor of Father class\r\n",
    "\t\tFather.__init__(self, fathername, grandfathername)\r\n",
    "\r\n",
    "\tdef print_name(self):\r\n",
    "\t\tprint('Grandfather name :', self.grandfathername)\r\n",
    "\t\tprint(\"Father name :\", self.fathername)\r\n",
    "\t\tprint(\"Son name :\", self.sonname)\r\n",
    "\r\n",
    "# Driver code\r\n",
    "s1 = Son('Prince', 'Rampal', 'Lal mani')\r\n",
    "print(s1.grandfathername)\r\n",
    "s1.print_name()\r\n"
   ],
   "outputs": [
    {
     "output_type": "stream",
     "name": "stdout",
     "text": [
      "Lal mani\n",
      "Grandfather name : Lal mani\n",
      "Father name : Rampal\n",
      "Son name : Prince\n"
     ]
    }
   ],
   "metadata": {}
  },
  {
   "cell_type": "markdown",
   "source": [
    "__Hierarchical Inheritance:__ When more than one derived classes are created from a single base this type of inheritance is called hierarchical inheritance. In this program, we have a parent (base) class and two child (derived) classes.\r\n",
    "\r\n",
    "![](https://media.geeksforgeeks.org/wp-content/uploads/20200108144949/Hierarchical-inheritance1.png)"
   ],
   "metadata": {}
  },
  {
   "cell_type": "code",
   "execution_count": 7,
   "source": [
    "# Python program to demonstrate\r\n",
    "# Hierarchical inheritance\r\n",
    "\r\n",
    "\r\n",
    "# Base class\r\n",
    "class Parent:\r\n",
    "\tdef func1(self):\r\n",
    "\t\tprint(\"This function is in parent class.\")\r\n",
    "\r\n",
    "# Derived class1\r\n",
    "class Child1(Parent):\r\n",
    "\tdef func2(self):\r\n",
    "\t\tprint(\"This function is in child 1.\")\r\n",
    "\r\n",
    "# Derivied class2\r\n",
    "class Child2(Parent):\r\n",
    "\tdef func3(self):\r\n",
    "\t\tprint(\"This function is in child 2.\")\r\n",
    "\r\n",
    "# Driver's code\r\n",
    "object1 = Child1()\r\n",
    "object2 = Child2()\r\n",
    "object1.func1()\r\n",
    "object1.func2()\r\n",
    "object2.func1()\r\n",
    "object2.func3()\r\n"
   ],
   "outputs": [
    {
     "output_type": "stream",
     "name": "stdout",
     "text": [
      "This function is in parent class.\n",
      "This function is in child 1.\n",
      "This function is in parent class.\n",
      "This function is in child 2.\n"
     ]
    }
   ],
   "metadata": {}
  },
  {
   "cell_type": "markdown",
   "source": [
    "__Hybrid Inheritance:__ Inheritance consisting of multiple types of inheritance is called hybrid inheritance."
   ],
   "metadata": {}
  },
  {
   "cell_type": "code",
   "execution_count": 8,
   "source": [
    "# Python program to demonstrate\r\n",
    "# hybrid inheritance\r\n",
    "\r\n",
    "\r\n",
    "class School:\r\n",
    "\tdef func1(self):\r\n",
    "\t\tprint(\"This function is in school.\")\r\n",
    "\r\n",
    "class Student1(School):\r\n",
    "\tdef func2(self):\r\n",
    "\t\tprint(\"This function is in student 1. \")\r\n",
    "\r\n",
    "class Student2(School):\r\n",
    "\tdef func3(self):\r\n",
    "\t\tprint(\"This function is in student 2.\")\r\n",
    "\r\n",
    "class Student3(Student1, School):\r\n",
    "\tdef func4(self):\r\n",
    "\t\tprint(\"This function is in student 3.\")\r\n",
    "\r\n",
    "# Driver's code\r\n",
    "object = Student3()\r\n",
    "object.func1()\r\n",
    "object.func2()\r\n"
   ],
   "outputs": [
    {
     "output_type": "stream",
     "name": "stdout",
     "text": [
      "This function is in school.\n",
      "This function is in student 1. \n"
     ]
    }
   ],
   "metadata": {}
  }
 ],
 "metadata": {
  "orig_nbformat": 4,
  "language_info": {
   "name": "python",
   "version": "3.9.1",
   "mimetype": "text/x-python",
   "codemirror_mode": {
    "name": "ipython",
    "version": 3
   },
   "pygments_lexer": "ipython3",
   "nbconvert_exporter": "python",
   "file_extension": ".py"
  },
  "kernelspec": {
   "name": "python3",
   "display_name": "Python 3.9.1 64-bit"
  },
  "interpreter": {
   "hash": "11f1dc213e07634baa4c5c321dec03c05dafae643c50f20e6d1a492290c05dc2"
  }
 },
 "nbformat": 4,
 "nbformat_minor": 2
}