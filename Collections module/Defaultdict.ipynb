{
 "cells": [
  {
   "cell_type": "markdown",
   "source": [
    "# Defaultdict #  \r\n",
    "Dictionary in Python is an unordered collection of data values that are used to store data values like a map. Unlike other Data Types that hold only single value as an element, the Dictionary holds key:value pair. In Dictionary, the key must be unique and immutable. This means that a Python Tuple can be a key whereas a Python List can not. A Dictionary can be created by placing a sequence of elements within curly {} braces, separated by ‘comma’."
   ],
   "metadata": {}
  },
  {
   "cell_type": "code",
   "execution_count": 4,
   "source": [
    "# Python program to demonstrate\r\n",
    "# dictionary\r\n",
    "\r\n",
    "\r\n",
    "Dict = {1: 'Geeks', 2: 'For', 3: 'Geeks'}\r\n",
    "print(\"Dictionary:\")\r\n",
    "print(Dict)\r\n",
    "print(Dict[4])\r\n",
    "\r\n",
    "# Uncommenting this print(Dict[4])\r\n",
    "# will raise a KeyError as the\r\n",
    "# 4 is not present in the dictionary\r\n"
   ],
   "outputs": [
    {
     "output_type": "stream",
     "name": "stdout",
     "text": [
      "Dictionary:\n",
      "{1: 'Geeks', 2: 'For', 3: 'Geeks'}\n"
     ]
    },
    {
     "output_type": "error",
     "ename": "KeyError",
     "evalue": "4",
     "traceback": [
      "\u001b[1;31m---------------------------------------------------------------------------\u001b[0m",
      "\u001b[1;31mKeyError\u001b[0m                                  Traceback (most recent call last)",
      "\u001b[1;32m<ipython-input-4-bbb71c8f383c>\u001b[0m in \u001b[0;36m<module>\u001b[1;34m\u001b[0m\n\u001b[0;32m      6\u001b[0m \u001b[0mprint\u001b[0m\u001b[1;33m(\u001b[0m\u001b[1;34m\"Dictionary:\"\u001b[0m\u001b[1;33m)\u001b[0m\u001b[1;33m\u001b[0m\u001b[1;33m\u001b[0m\u001b[0m\n\u001b[0;32m      7\u001b[0m \u001b[0mprint\u001b[0m\u001b[1;33m(\u001b[0m\u001b[0mDict\u001b[0m\u001b[1;33m)\u001b[0m\u001b[1;33m\u001b[0m\u001b[1;33m\u001b[0m\u001b[0m\n\u001b[1;32m----> 8\u001b[1;33m \u001b[0mprint\u001b[0m\u001b[1;33m(\u001b[0m\u001b[0mDict\u001b[0m\u001b[1;33m[\u001b[0m\u001b[1;36m4\u001b[0m\u001b[1;33m]\u001b[0m\u001b[1;33m)\u001b[0m\u001b[1;33m\u001b[0m\u001b[1;33m\u001b[0m\u001b[0m\n\u001b[0m\u001b[0;32m      9\u001b[0m \u001b[1;33m\u001b[0m\u001b[0m\n\u001b[0;32m     10\u001b[0m \u001b[1;31m# Uncommenting this print(Dict[4])\u001b[0m\u001b[1;33m\u001b[0m\u001b[1;33m\u001b[0m\u001b[1;33m\u001b[0m\u001b[0m\n",
      "\u001b[1;31mKeyError\u001b[0m: 4"
     ]
    }
   ],
   "metadata": {}
  },
  {
   "cell_type": "markdown",
   "source": [
    "Sometimes, when the KeyError is raised, it might become a problem. To overcome this Python introduces another dictionary like container known as Defaultdict which is present inside the collections module."
   ],
   "metadata": {}
  },
  {
   "cell_type": "markdown",
   "source": [
    "Defaultdict is a container like dictionaries present in the module collections. Defaultdict is a sub-class of the dict class that returns a dictionary-like object. The functionality of both dictionaries and defualtdict are almost same except for the fact that defualtdict never raises a KeyError. It provides a default value for the key that does not exists."
   ],
   "metadata": {}
  },
  {
   "cell_type": "code",
   "execution_count": null,
   "source": [
    "#Syntax: defaultdict(default_factory)\r\n",
    "#\r\n",
    "#Parameters:\r\n",
    "\r\n",
    "#default_factory: A function returning the default value for the dictionary defined. \r\n",
    "# If this argument is absent then the dictionary raises a KeyError."
   ],
   "outputs": [],
   "metadata": {}
  },
  {
   "cell_type": "code",
   "execution_count": 5,
   "source": [
    "# Python program to demonstrate\r\n",
    "# defaultdict\r\n",
    "\r\n",
    "\r\n",
    "from collections import defaultdict\r\n",
    "\r\n",
    "\r\n",
    "# Function to return a default\r\n",
    "# values for keys that is not\r\n",
    "# present\r\n",
    "def def_value():\r\n",
    "\treturn \"Not Present\"\r\n",
    "\t\r\n",
    "# Defining the dict\r\n",
    "d = defaultdict(def_value)\r\n",
    "d[\"a\"] = 1\r\n",
    "d[\"b\"] = 2\r\n",
    "\r\n",
    "print(d[\"a\"])\r\n",
    "print(d[\"b\"])\r\n",
    "print(d[\"c\"])\r\n"
   ],
   "outputs": [
    {
     "output_type": "stream",
     "name": "stdout",
     "text": [
      "1\n",
      "2\n",
      "Not Present\n"
     ]
    }
   ],
   "metadata": {}
  },
  {
   "cell_type": "markdown",
   "source": [
    "## Inner Working of defaultdict ##\r\n",
    "Defaultdict adds one writable instance variable and one method in addition to the standard dictionary operations. The instance variable is the default_factory parameter and the method provided is __missing__.\r\n",
    "\r\n",
    "* *Default_factory: It is a function returning the default value for the dictionary defined. If this argument is absent then the dictionary raises a KeyError."
   ],
   "metadata": {}
  },
  {
   "cell_type": "code",
   "execution_count": 6,
   "source": [
    "# Python program to demonstrate\r\n",
    "# default_factory argument of\r\n",
    "# defaultdict\r\n",
    "\r\n",
    "\r\n",
    "from collections import defaultdict\r\n",
    "\r\n",
    "\t\r\n",
    "# Defining the dict and passing\r\n",
    "# lambda as default_factory argument\r\n",
    "d = defaultdict(lambda: \"Not Present\")\r\n",
    "d[\"a\"] = 1\r\n",
    "d[\"b\"] = 2\r\n",
    "\r\n",
    "print(d[\"a\"])\r\n",
    "print(d[\"b\"])\r\n",
    "print(d[\"c\"])\r\n"
   ],
   "outputs": [
    {
     "output_type": "stream",
     "name": "stdout",
     "text": [
      "1\n",
      "2\n",
      "Not Present\n"
     ]
    }
   ],
   "metadata": {}
  },
  {
   "cell_type": "markdown",
   "source": [
    "* __missing__(): This function is used to provide the default value for the dictionary. This function takes default_factory as an argument and if this argument is None, a KeyError is raised otherwise it provides a default value for the given key. This method is basically called by the __getitem__() method of the dict class when the requested key is not found. __getitem__() raises or return the value returned by the __missing__(). method.\r\n",
    "Example:\r\n",
    "\r\n"
   ],
   "metadata": {}
  },
  {
   "cell_type": "code",
   "execution_count": 7,
   "source": [
    "# Python program to demonstrate\r\n",
    "# defaultdict\r\n",
    "\r\n",
    "\r\n",
    "from collections import defaultdict\r\n",
    "\r\n",
    "\t\r\n",
    "# Defining the dict\r\n",
    "d = defaultdict(lambda: \"Not Present\")\r\n",
    "d[\"a\"] = 1\r\n",
    "d[\"b\"] = 2\r\n",
    "\r\n",
    "# Provides the default value\r\n",
    "# for the key\r\n",
    "print(d.__missing__('a'))\r\n",
    "print(d.__missing__('d'))\r\n"
   ],
   "outputs": [
    {
     "output_type": "stream",
     "name": "stdout",
     "text": [
      "Not Present\n",
      "Not Present\n"
     ]
    }
   ],
   "metadata": {}
  },
  {
   "cell_type": "markdown",
   "source": [
    " ### Using List as default_factory ###\r\n",
    "When the list class is passed as the default_factory argument, then a defaultdict is created with the values that are list."
   ],
   "metadata": {}
  },
  {
   "cell_type": "code",
   "execution_count": 8,
   "source": [
    "# Python program to demonstrate\r\n",
    "# defaultdict\r\n",
    "\r\n",
    "\r\n",
    "from collections import defaultdict\r\n",
    "\r\n",
    "\r\n",
    "# Defining a dict\r\n",
    "d = defaultdict(list)\r\n",
    "\r\n",
    "for i in range(5):\r\n",
    "\td[i].append(i)\r\n",
    "\t\r\n",
    "print(\"Dictionary with values as list:\")\r\n",
    "print(d)\r\n"
   ],
   "outputs": [
    {
     "output_type": "stream",
     "name": "stdout",
     "text": [
      "Dictionary with values as list:\n",
      "defaultdict(<class 'list'>, {0: [0], 1: [1], 2: [2], 3: [3], 4: [4]})\n"
     ]
    }
   ],
   "metadata": {}
  },
  {
   "cell_type": "markdown",
   "source": [
    "# Using int as default_factory #\r\n",
    "When the int class is passed as the default_factory argument, then a defaultdict is created with default value as zero."
   ],
   "metadata": {}
  },
  {
   "cell_type": "code",
   "execution_count": null,
   "source": [
    "# Python program to demonstrate\r\n",
    "# defaultdict\r\n",
    "\r\n",
    "\r\n",
    "from collections import defaultdict\r\n",
    "\r\n",
    "\r\n",
    "# Defining the dict\r\n",
    "d = defaultdict(int)\r\n",
    "\r\n",
    "L = [1, 2, 3, 4, 2, 4, 1, 2]\r\n",
    "\r\n",
    "# Iterate through the list\r\n",
    "# for keeping the count\r\n",
    "for i in L:\r\n",
    "\t\r\n",
    "\t# The default value is 0\r\n",
    "\t# so there is no need to\r\n",
    "\t# enter the key first\r\n",
    "\td[i] += 1\r\n",
    "\t\r\n",
    "print(d)\r\n"
   ],
   "outputs": [],
   "metadata": {}
  }
 ],
 "metadata": {
  "orig_nbformat": 4,
  "language_info": {
   "name": "python",
   "version": "3.9.1",
   "mimetype": "text/x-python",
   "codemirror_mode": {
    "name": "ipython",
    "version": 3
   },
   "pygments_lexer": "ipython3",
   "nbconvert_exporter": "python",
   "file_extension": ".py"
  },
  "kernelspec": {
   "name": "python3",
   "display_name": "Python 3.9.1 64-bit"
  },
  "interpreter": {
   "hash": "11f1dc213e07634baa4c5c321dec03c05dafae643c50f20e6d1a492290c05dc2"
  }
 },
 "nbformat": 4,
 "nbformat_minor": 2
}