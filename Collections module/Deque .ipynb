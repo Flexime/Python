{
 "cells": [
  {
   "cell_type": "markdown",
   "source": [
    "# Deque  #\r\n",
    "\r\n",
    "Deque (Doubly Ended Queue) in Python is implemented using the module “collections“. Deque is preferred over list in the cases where we need quicker append and pop operations from both the ends of container, as deque provides an O(1) time complexity for append and pop operations as compared to list which provides O(n) time complexity.\r\n"
   ],
   "metadata": {}
  },
  {
   "cell_type": "code",
   "execution_count": 1,
   "source": [
    "# Python code to demonstrate deque\r\n",
    "\t\r\n",
    "\t\r\n",
    "from collections import deque\r\n",
    "\t\r\n",
    "# Declaring deque\r\n",
    "queue = deque(['name','age','DOB'])\r\n",
    "\t\r\n",
    "print(queue)\r\n"
   ],
   "outputs": [
    {
     "output_type": "stream",
     "name": "stdout",
     "text": [
      "deque(['name', 'age', 'DOB'])\n"
     ]
    }
   ],
   "metadata": {}
  },
  {
   "cell_type": "markdown",
   "source": [
    "Let’s see various Operations on deque : \r\n",
    "\r\n",
    "* append() :- This function is used to insert the value in its argument to the right end of deque.\r\n",
    "* appendleft() :- This function is used to insert the value in its argument to the left end of deque.\r\n",
    "* pop() :- This function is used to delete an argument from the right end of deque.\r\n",
    "* popleft() :- This function is used to delete an argument from the left end of deque. \r\n",
    " "
   ],
   "metadata": {}
  },
  {
   "cell_type": "code",
   "execution_count": null,
   "source": [
    "# Python code to demonstrate working of\r\n",
    "# append(), appendleft(), pop(), and popleft()\r\n",
    "\r\n",
    "# importing \"collections\" for deque operations\r\n",
    "import collections\r\n",
    "\r\n",
    "# initializing deque\r\n",
    "de = collections.deque([1,2,3])\r\n",
    "\r\n",
    "# using append() to insert element at right end\r\n",
    "# inserts 4 at the end of deque\r\n",
    "de.append(4)\r\n",
    "\r\n",
    "# printing modified deque\r\n",
    "print (\"The deque after appending at right is : \")\r\n",
    "print (de)\r\n",
    "\r\n",
    "# using appendleft() to insert element at left end\r\n",
    "# inserts 6 at the beginning of deque\r\n",
    "de.appendleft(6)\r\n",
    "\r\n",
    "# printing modified deque\r\n",
    "print (\"The deque after appending at left is : \")\r\n",
    "print (de)\r\n",
    "\r\n",
    "# using pop() to delete element from right end\r\n",
    "# deletes 4 from the right end of deque\r\n",
    "de.pop()\r\n",
    "\r\n",
    "# printing modified deque\r\n",
    "print (\"The deque after deleting from right is : \")\r\n",
    "print (de)\r\n",
    "\r\n",
    "# using popleft() to delete element from left end\r\n",
    "# deletes 6 from the left end of deque\r\n",
    "de.popleft()\r\n",
    "\r\n",
    "# printing modified deque\r\n",
    "print (\"The deque after deleting from left is : \")\r\n",
    "print (de)\r\n"
   ],
   "outputs": [],
   "metadata": {}
  },
  {
   "cell_type": "markdown",
   "source": [
    "* index(ele, beg, end) :- This function returns the first index of the value mentioned in arguments, starting searching from beg till end index.\r\n",
    "* insert(i, a) :- This function inserts the value mentioned in arguments(a) at index(i) specified in arguments.\r\n",
    "* remove() :- This function removes the first occurrence of value mentioned in arguments. \r\n",
    "* count() :- This function counts the number of occurrences of value mentioned in arguments. "
   ],
   "metadata": {}
  },
  {
   "cell_type": "code",
   "execution_count": 2,
   "source": [
    "# Python code to demonstrate working of\r\n",
    "# insert(), index(), remove(), count()\r\n",
    "\r\n",
    "# importing \"collections\" for deque operations\r\n",
    "import collections\r\n",
    "\r\n",
    "# initializing deque\r\n",
    "de = collections.deque([1, 2, 3, 3, 4, 2, 4])\r\n",
    "\r\n",
    "# using index() to print the first occurrence of 4\r\n",
    "print (\"The number 4 first occurs at a position : \")\r\n",
    "print (de.index(4,2,5))\r\n",
    "\r\n",
    "# using insert() to insert the value 3 at 5th position\r\n",
    "de.insert(4,3)\r\n",
    "\r\n",
    "# printing modified deque\r\n",
    "print (\"The deque after inserting 3 at 5th position is : \")\r\n",
    "print (de)\r\n",
    "\r\n",
    "# using count() to count the occurrences of 3\r\n",
    "print (\"The count of 3 in deque is : \")\r\n",
    "print (de.count(3))\r\n",
    "\r\n",
    "# using remove() to remove the first occurrence of 3\r\n",
    "de.remove(3)\r\n",
    "\r\n",
    "# printing modified deque\r\n",
    "print (\"The deque after deleting first occurrence of 3 is : \")\r\n",
    "print (de)\r\n"
   ],
   "outputs": [
    {
     "output_type": "stream",
     "name": "stdout",
     "text": [
      "The number 4 first occurs at a position : \n",
      "4\n",
      "The deque after inserting 3 at 5th position is : \n",
      "deque([1, 2, 3, 3, 3, 4, 2, 4])\n",
      "The count of 3 in deque is : \n",
      "3\n",
      "The deque after deleting first occurrence of 3 is : \n",
      "deque([1, 2, 3, 3, 4, 2, 4])\n"
     ]
    }
   ],
   "metadata": {}
  },
  {
   "cell_type": "markdown",
   "source": [
    "* extend(iterable) :- This function is used to add multiple values at the right end of deque. The argument passed is an iterable.\r\n",
    " \r\n",
    "* extendleft(iterable) :- This function is used to add multiple values at the left end of deque. The argument passed is an iterable. Order is reversed as a result of left appends.\r\n",
    " \r\n",
    "* reverse() :- This function is used to reverse order of deque elements.\r\n",
    " \r\n",
    "* rotate() :- This function rotates the deque by the number specified in arguments. If the number specified is negative, rotation occurs to left. Else rotation is to right.  "
   ],
   "metadata": {}
  },
  {
   "cell_type": "code",
   "execution_count": null,
   "source": [
    "# Python code to demonstrate working of\r\n",
    "# extend(), extendleft(), rotate(), reverse()\r\n",
    "\r\n",
    "# importing \"collections\" for deque operations\r\n",
    "import collections\r\n",
    "\r\n",
    "# initializing deque\r\n",
    "de = collections.deque([1, 2, 3,])\r\n",
    "\r\n",
    "# using extend() to add numbers to right end\r\n",
    "# adds 4,5,6 to right end\r\n",
    "de.extend([4,5,6])\r\n",
    "\r\n",
    "# printing modified deque\r\n",
    "print (\"The deque after extending deque at end is : \")\r\n",
    "print (de)\r\n",
    "\r\n",
    "# using extendleft() to add numbers to left end\r\n",
    "# adds 7,8,9 to right end\r\n",
    "de.extendleft([7,8,9])\r\n",
    "\r\n",
    "# printing modified deque\r\n",
    "print (\"The deque after extending deque at beginning is : \")\r\n",
    "print (de)\r\n",
    "\r\n",
    "# using rotate() to rotate the deque\r\n",
    "# rotates by 3 to left\r\n",
    "de.rotate(-3)\r\n",
    "\r\n",
    "# printing modified deque\r\n",
    "print (\"The deque after rotating deque is : \")\r\n",
    "print (de)\r\n",
    "\r\n",
    "# using reverse() to reverse the deque\r\n",
    "de.reverse()\r\n",
    "\r\n",
    "# printing modified deque\r\n",
    "print (\"The deque after reversing deque is : \")\r\n",
    "print (de)\r\n"
   ],
   "outputs": [],
   "metadata": {}
  }
 ],
 "metadata": {
  "orig_nbformat": 4,
  "language_info": {
   "name": "python",
   "version": "3.9.1",
   "mimetype": "text/x-python",
   "codemirror_mode": {
    "name": "ipython",
    "version": 3
   },
   "pygments_lexer": "ipython3",
   "nbconvert_exporter": "python",
   "file_extension": ".py"
  },
  "kernelspec": {
   "name": "python3",
   "display_name": "Python 3.9.1 64-bit"
  },
  "interpreter": {
   "hash": "11f1dc213e07634baa4c5c321dec03c05dafae643c50f20e6d1a492290c05dc2"
  }
 },
 "nbformat": 4,
 "nbformat_minor": 2
}