{
 "cells": [
  {
   "cell_type": "markdown",
   "source": [
    "# Namedtuple #\r\n",
    "Python supports a type of container like dictionaries called “namedtuple()” present in module, “collections“. Like dictionaries they contain keys that are hashed to a particular value. But on contrary, it supports both access from key value and iteration, the functionality that dictionaries lack.\r\n",
    "\r\n",
    "Example:"
   ],
   "metadata": {}
  },
  {
   "cell_type": "code",
   "execution_count": null,
   "source": [
    "# Python code to demonstrate namedtuple()\r\n",
    "\t\r\n",
    "from collections import namedtuple\r\n",
    "\t\r\n",
    "# Declaring namedtuple()\r\n",
    "Student = namedtuple('Student',['name','age','DOB'])\r\n",
    "\t\r\n",
    "# Adding values\r\n",
    "S = Student('Nandini','19','2541997')\r\n",
    "\t\r\n",
    "# Access using index\r\n",
    "print (\"The Student age using index is : \",end =\"\")\r\n",
    "print (S[1])\r\n",
    "\t\r\n",
    "# Access using name\r\n",
    "print (\"The Student name using keyname is : \",end =\"\")\r\n",
    "print (S.name)\r\n"
   ],
   "outputs": [],
   "metadata": {}
  },
  {
   "cell_type": "markdown",
   "source": [
    "# Access Operations # \r\n",
    "\r\n",
    "\r\n",
    "* Access by index : The attribute values of namedtuple() are ordered and can be accessed using the index number unlike dictionaries which are not accessible by index.\r\n",
    "\r\n",
    "* Access by keyname : Access by keyname is also allowed as in dictionaries.\r\n",
    "\r\n",
    "* using getattr() :- This is yet another way to access the value by giving namedtuple and key value as its argument."
   ],
   "metadata": {}
  },
  {
   "cell_type": "code",
   "execution_count": 1,
   "source": [
    "# Python code to demonstrate namedtuple() and\r\n",
    "# Access by name, index and getattr()\r\n",
    "\r\n",
    "# importing \"collections\" for namedtuple()\r\n",
    "import collections\r\n",
    "\r\n",
    "# Declaring namedtuple()\r\n",
    "Student = collections.namedtuple('Student',['name','age','DOB'])\r\n",
    "\r\n",
    "# Adding values\r\n",
    "S = Student('Nandini','19','2541997')\r\n",
    "\r\n",
    "# Access using index\r\n",
    "print (\"The Student age using index is : \",end =\"\")\r\n",
    "print (S[1])\r\n",
    "\r\n",
    "# Access using name\r\n",
    "print (\"The Student name using keyname is : \",end =\"\")\r\n",
    "print (S.name)\r\n",
    "\r\n",
    "# Access using getattr()\r\n",
    "print (\"The Student DOB using getattr() is : \",end =\"\")\r\n",
    "print (getattr(S,'DOB'))\r\n"
   ],
   "outputs": [
    {
     "output_type": "stream",
     "name": "stdout",
     "text": [
      "The Student age using index is : 19\n",
      "The Student name using keyname is : Nandini\n",
      "The Student DOB using getattr() is : 2541997\n"
     ]
    }
   ],
   "metadata": {}
  },
  {
   "cell_type": "markdown",
   "source": [
    "# Conversion Operations  # \r\n",
    "* _make() :- This function is used to return a namedtuple() from the iterable passed as argument.\r\n",
    "\r\n",
    "* _asdict() :- This function returns the OrderedDict() as constructed from the mapped values of namedtuple().\r\n",
    "\r\n",
    "* using “**” (double star) operator :- This function is used to convert a dictionary into the namedtuple()."
   ],
   "metadata": {}
  },
  {
   "cell_type": "code",
   "execution_count": 2,
   "source": [
    "# Python code to demonstrate namedtuple() and\r\n",
    "# _make(), _asdict() and \"**\" operator\r\n",
    "\r\n",
    "# importing \"collections\" for namedtuple()\r\n",
    "import collections\r\n",
    "\r\n",
    "# Declaring namedtuple()\r\n",
    "Student = collections.namedtuple('Student',['name','age','DOB'])\r\n",
    "\r\n",
    "# Adding values\r\n",
    "S = Student('Nandini','19','2541997')\r\n",
    "\r\n",
    "# initializing iterable\r\n",
    "li = ['Manjeet', '19', '411997' ]\r\n",
    "\r\n",
    "# initializing dict\r\n",
    "di = { 'name' : \"Nikhil\", 'age' : 19 , 'DOB' : '1391997' }\r\n",
    "\r\n",
    "# using _make() to return namedtuple()\r\n",
    "print (\"The namedtuple instance using iterable is : \")\r\n",
    "print (Student._make(li))\r\n",
    "\r\n",
    "# using _asdict() to return an OrderedDict()\r\n",
    "print (\"The OrderedDict instance using namedtuple is : \")\r\n",
    "print (S._asdict())\r\n",
    "\r\n",
    "# using ** operator to return namedtuple from dictionary\r\n",
    "print (\"The namedtuple instance from dict is : \")\r\n",
    "print (Student(**di))\r\n"
   ],
   "outputs": [
    {
     "output_type": "stream",
     "name": "stdout",
     "text": [
      "The namedtuple instance using iterable is : \n",
      "Student(name='Manjeet', age='19', DOB='411997')\n",
      "The OrderedDict instance using namedtuple is : \n",
      "{'name': 'Nandini', 'age': '19', 'DOB': '2541997'}\n",
      "The namedtuple instance from dict is : \n",
      "Student(name='Nikhil', age=19, DOB='1391997')\n"
     ]
    }
   ],
   "metadata": {}
  },
  {
   "cell_type": "markdown",
   "source": [
    "# Additional Operations #\r\n",
    "\r\n",
    "\r\n",
    "* _fields :- This function is used to return all the keynames of the namespace declared.\r\n",
    "\r\n",
    "* _replace() :- This function is used to change the values mapped with the passed keyname."
   ],
   "metadata": {}
  }
 ],
 "metadata": {
  "orig_nbformat": 4,
  "language_info": {
   "name": "python",
   "version": "3.9.1",
   "mimetype": "text/x-python",
   "codemirror_mode": {
    "name": "ipython",
    "version": 3
   },
   "pygments_lexer": "ipython3",
   "nbconvert_exporter": "python",
   "file_extension": ".py"
  },
  "kernelspec": {
   "name": "python3",
   "display_name": "Python 3.9.1 64-bit"
  },
  "interpreter": {
   "hash": "11f1dc213e07634baa4c5c321dec03c05dafae643c50f20e6d1a492290c05dc2"
  }
 },
 "nbformat": 4,
 "nbformat_minor": 2
}