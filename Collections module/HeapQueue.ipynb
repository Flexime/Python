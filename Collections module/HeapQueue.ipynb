{
 "cells": [
  {
   "cell_type": "markdown",
   "source": [
    "# Heap queue (or heapq) #\r\n",
    "\r\n",
    "Heap data structure is mainly used to represent a priority queue. In Python, it is available using “heapq” module. The property of this data structure in Python is that each time the smallest of heap element is popped(min heap). Whenever elements are pushed or popped, heap structure in maintained. The heap[0] element also returns the smallest element each time.\r\n",
    "\r\n",
    "Let’s see various Operations on heap :\r\n",
    "\r\n",
    "* heapify(iterable) :- This function is used to convert the iterable into a heap data structure. i.e. in heap order.\r\n",
    "\r\n",
    "* heappush(heap, ele) :- This function is used to insert the element mentioned in its arguments into heap. The order is adjusted, so as heap structure is maintained.\r\n",
    "\r\n",
    "\r\n",
    "\r\n",
    "* heappop(heap) :- This function is used to remove and return the smallest element from heap. The order is adjusted, so as heap structure is maintained.\r\n"
   ],
   "metadata": {}
  },
  {
   "cell_type": "code",
   "execution_count": 1,
   "source": [
    "# Python code to demonstrate working of\r\n",
    "# heapify(), heappush() and heappop()\r\n",
    "\r\n",
    "# importing \"heapq\" to implement heap queue\r\n",
    "import heapq\r\n",
    "\r\n",
    "# initializing list\r\n",
    "li = [5, 7, 9, 1, 3]\r\n",
    "\r\n",
    "# using heapify to convert list into heap\r\n",
    "heapq.heapify(li)\r\n",
    "\r\n",
    "# printing created heap\r\n",
    "print (\"The created heap is : \",end=\"\")\r\n",
    "print (list(li))\r\n",
    "\r\n",
    "# using heappush() to push elements into heap\r\n",
    "# pushes 4\r\n",
    "heapq.heappush(li,4)\r\n",
    "\r\n",
    "# printing modified heap\r\n",
    "print (\"The modified heap after push is : \",end=\"\")\r\n",
    "print (list(li))\r\n",
    "\r\n",
    "# using heappop() to pop smallest element\r\n",
    "print (\"The popped and smallest element is : \",end=\"\")\r\n",
    "print (heapq.heappop(li))\r\n"
   ],
   "outputs": [
    {
     "output_type": "stream",
     "name": "stdout",
     "text": [
      "The created heap is : [1, 3, 9, 7, 5]\n",
      "The modified heap after push is : [1, 3, 4, 7, 5, 9]\n",
      "The popped and smallest element is : 1\n"
     ]
    }
   ],
   "metadata": {}
  },
  {
   "cell_type": "markdown",
   "source": [
    "* heappushpop(heap, ele) :- This function combines the functioning of both push and pop operations in one statement, increasing efficiency. Heap order is maintained after this operation.\r\n",
    "\r\n",
    "* heapreplace(heap, ele) :- This function also inserts and pops element in one statement, but it is different from above function. In this, element is first popped, then the element is pushed.i.e, the value larger than the pushed value can be returned. heapreplace() returns the smallest value originally in heap regardless of the pushed element as opposed to heappushpop()."
   ],
   "metadata": {}
  },
  {
   "cell_type": "code",
   "execution_count": 2,
   "source": [
    "# Python code to demonstrate working of\r\n",
    "# heappushpop() and heapreplce()\r\n",
    "\r\n",
    "# importing \"heapq\" to implement heap queue\r\n",
    "import heapq\r\n",
    "\r\n",
    "# initializing list 1\r\n",
    "li1 = [5, 7, 9, 4, 3]\r\n",
    "\r\n",
    "# initializing list 2\r\n",
    "li2 = [5, 7, 9, 4, 3]\r\n",
    "\r\n",
    "# using heapify() to convert list into heap\r\n",
    "heapq.heapify(li1)\r\n",
    "heapq.heapify(li2)\r\n",
    "\r\n",
    "# using heappushpop() to push and pop items simultaneously\r\n",
    "# pops 2\r\n",
    "print (\"The popped item using heappushpop() is : \",end=\"\")\r\n",
    "print (heapq.heappushpop(li1, 2))\r\n",
    "\r\n",
    "# using heapreplace() to push and pop items simultaneously\r\n",
    "# pops 3\r\n",
    "print (\"The popped item using heapreplace() is : \",end=\"\")\r\n",
    "print (heapq.heapreplace(li2, 2))\r\n"
   ],
   "outputs": [
    {
     "output_type": "stream",
     "name": "stdout",
     "text": [
      "The popped item using heappushpop() is : 2\n",
      "The popped item using heapreplace() is : 3\n"
     ]
    }
   ],
   "metadata": {}
  },
  {
   "cell_type": "markdown",
   "source": [
    "* nlargest(k, iterable, key = fun) :- This function is used to return the k largest elements from the iterable specified and satisfying the key if mentioned.\r\n",
    "\r\n",
    "* nsmallest(k, iterable, key = fun) :- This function is used to return the k smallest elements from the iterable specified and satisfying the key if mentioned."
   ],
   "metadata": {}
  },
  {
   "cell_type": "code",
   "execution_count": 3,
   "source": [
    "# Python code to demonstrate working of\r\n",
    "# nlargest() and nsmallest()\r\n",
    "\r\n",
    "# importing \"heapq\" to implement heap queue\r\n",
    "import heapq\r\n",
    "\r\n",
    "# initializing list\r\n",
    "li1 = [6, 7, 9, 4, 3, 5, 8, 10, 1]\r\n",
    "\r\n",
    "# using heapify() to convert list into heap\r\n",
    "heapq.heapify(li1)\r\n",
    "\r\n",
    "# using nlargest to print 3 largest numbers\r\n",
    "# prints 10, 9 and 8\r\n",
    "print(\"The 3 largest numbers in list are : \",end=\"\")\r\n",
    "print(heapq.nlargest(3, li1))\r\n",
    "\r\n",
    "# using nsmallest to print 3 smallest numbers\r\n",
    "# prints 1, 3 and 4\r\n",
    "print(\"The 3 smallest numbers in list are : \",end=\"\")\r\n",
    "print(heapq.nsmallest(3, li1))\r\n"
   ],
   "outputs": [
    {
     "output_type": "stream",
     "name": "stdout",
     "text": [
      "The 3 largest numbers in list are : [10, 9, 8]\n",
      "The 3 smallest numbers in list are : [1, 3, 4]\n"
     ]
    }
   ],
   "metadata": {}
  }
 ],
 "metadata": {
  "orig_nbformat": 4,
  "language_info": {
   "name": "python",
   "version": "3.9.1",
   "mimetype": "text/x-python",
   "codemirror_mode": {
    "name": "ipython",
    "version": 3
   },
   "pygments_lexer": "ipython3",
   "nbconvert_exporter": "python",
   "file_extension": ".py"
  },
  "kernelspec": {
   "name": "python3",
   "display_name": "Python 3.9.1 64-bit"
  },
  "interpreter": {
   "hash": "11f1dc213e07634baa4c5c321dec03c05dafae643c50f20e6d1a492290c05dc2"
  }
 },
 "nbformat": 4,
 "nbformat_minor": 2
}