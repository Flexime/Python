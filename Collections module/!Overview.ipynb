{
 "cells": [
  {
   "cell_type": "markdown",
   "source": [
    "# Python Collections Module #\r\n",
    "The collection Module in Python provides different types of containers. A Container is an object that is used to store different objects and provide a way to access the contained objects and iterate over them. Some of the built-in containers are Tuple, List, Dictionary, etc. In this article, we will discuss the different containers provided by the collections module.\r\n",
    "\r\n",
    "Table of Content:\r\n",
    "\r\n",
    "* Counters\r\n",
    "* OrderedDict\r\n",
    "* DefaultDict\r\n",
    "* ChainMap\r\n",
    "* NamedTuple\r\n",
    "* DeQue\r\n",
    "* UserDict\r\n",
    "* UserList\r\n",
    "* UserString\r\n",
    "\r\n",
    "# Counters # \r\n",
    "A counter is a sub-class of the dictionary. It is used to keep the count of the elements in an iterable in the form of an unordered dictionary where the key represents the element in the iterable and value represents the count of that element in the iterable.\r\n",
    "\r\n",
    "Note: It is equivalent to bag or multiset of other languages.\r\n",
    "\r\n",
    "class collections.Counter([iterable-or-mapping])\r\n",
    "\r\n",
    "\r\n",
    "\r\n"
   ],
   "metadata": {}
  },
  {
   "cell_type": "markdown",
   "source": [
    "# Initializing Counter Objects #\r\n",
    "The counter object can be initialized using the counter() function and this function can be called in one of the following ways:\r\n",
    "\r\n",
    "* With a sequence of items\r\n",
    "* With a dictionary containing keys and counts\r\n",
    "* With keyword arguments mapping string names to counts"
   ],
   "metadata": {}
  },
  {
   "cell_type": "code",
   "execution_count": 1,
   "source": [
    "# A Python program to show different\r\n",
    "# ways to create Counter\r\n",
    "from collections import Counter\r\n",
    "\r\n",
    "# With sequence of items\r\n",
    "print(Counter(['B','B','A','B','C','A','B',\r\n",
    "\t\t\t'B','A','C']))\r\n",
    "\r\n",
    "# with dictionary\r\n",
    "print(Counter({'A':3, 'B':5, 'C':2}))\r\n",
    "\r\n",
    "# with keyword arguments\r\n",
    "print(Counter(A=3, B=5, C=2))\r\n"
   ],
   "outputs": [
    {
     "output_type": "stream",
     "name": "stdout",
     "text": [
      "Counter({'B': 5, 'A': 3, 'C': 2})\n",
      "Counter({'B': 5, 'A': 3, 'C': 2})\n",
      "Counter({'B': 5, 'A': 3, 'C': 2})\n"
     ]
    }
   ],
   "metadata": {}
  },
  {
   "cell_type": "markdown",
   "source": [
    "# <center>  OrderedDict  </center> #\r\n",
    "\r\n",
    "An OrderedDict is also a sub-class of dictionary but unlike dictionary, it remembers the order in which the keys were inserted. \r\n",
    "\r\n",
    "class collections.OrderDict()"
   ],
   "metadata": {}
  },
  {
   "cell_type": "code",
   "execution_count": 5,
   "source": [
    "# A Python program to demonstrate working\r\n",
    "# of OrderedDict\r\n",
    "\r\n",
    "from collections import OrderedDict\r\n",
    "\r\n",
    "print(\"This is a Dict:\\n\")\r\n",
    "d = {}\r\n",
    "d['a'] = 1\r\n",
    "d['b'] = 2\r\n",
    "d['c'] = 3\r\n",
    "d['d'] = 4\r\n",
    "\r\n",
    "for key, value in d.items():\r\n",
    "\tprint(key, value)\r\n",
    "\r\n",
    "print(\"\\nThis is an Ordered Dict:\\n\")\r\n",
    "od = OrderedDict()\r\n",
    "od['a'] = 1\r\n",
    "od['b'] = 2\r\n",
    "od['c'] = 3\r\n",
    "od['d'] = 4\r\n",
    "\r\n",
    "for key, value in od.items():\r\n",
    "\tprint(key, value)\r\n"
   ],
   "outputs": [
    {
     "output_type": "stream",
     "name": "stdout",
     "text": [
      "This is a Dict:\n",
      "\n",
      "a 1\n",
      "b 2\n",
      "c 3\n",
      "d 4\n",
      "\n",
      "This is an Ordered Dict:\n",
      "\n",
      "a 1\n",
      "b 2\n",
      "c 3\n",
      "d 4\n"
     ]
    }
   ],
   "metadata": {}
  },
  {
   "cell_type": "markdown",
   "source": [
    "While deleting and re-inserting the same key will push the key to the last to maintain the order of insertion of the key."
   ],
   "metadata": {}
  },
  {
   "cell_type": "code",
   "execution_count": 6,
   "source": [
    "# A Python program to demonstrate working\r\n",
    "# of OrderedDict\r\n",
    "\r\n",
    "from collections import OrderedDict\r\n",
    "\r\n",
    "\r\n",
    "od = OrderedDict()\r\n",
    "od['a'] = 1\r\n",
    "od['b'] = 2\r\n",
    "od['c'] = 3\r\n",
    "od['d'] = 4\r\n",
    "\r\n",
    "print('Before Deleting')\r\n",
    "for key, value in od.items():\r\n",
    "\tprint(key, value)\r\n",
    "\t\r\n",
    "# deleting element\r\n",
    "od.pop('a')\r\n",
    "\r\n",
    "# Re-inserting the same\r\n",
    "od['a'] = 1\r\n",
    "\r\n",
    "print('\\nAfter re-inserting')\r\n",
    "for key, value in od.items():\r\n",
    "\tprint(key, value)\r\n"
   ],
   "outputs": [
    {
     "output_type": "stream",
     "name": "stdout",
     "text": [
      "Before Deleting\n",
      "a 1\n",
      "b 2\n",
      "c 3\n",
      "d 4\n",
      "\n",
      "After re-inserting\n",
      "b 2\n",
      "c 3\n",
      "d 4\n",
      "a 1\n"
     ]
    }
   ],
   "metadata": {}
  },
  {
   "cell_type": "markdown",
   "source": [
    "# <center> DefaultDict </center>   #\r\n",
    "\r\n",
    "A DefaultDict is also a sub-class to dictionary. It is used to provide some default values for the key that does not exist and never raises a KeyError.\r\n",
    "\r\n",
    "\r\n",
    "class collections.defaultdict(default_factory)\r\n",
    "\r\n",
    "# Initializing DefaultDict Objects #\r\n",
    "DefaultDict objects can be initialized using DefaultDict() method by passing the data type as an argument.\r\n"
   ],
   "metadata": {}
  },
  {
   "cell_type": "code",
   "execution_count": 7,
   "source": [
    "# Python program to demonstrate\r\n",
    "# defaultdict\r\n",
    "\t\r\n",
    "\t\r\n",
    "from collections import defaultdict\r\n",
    "\t\r\n",
    "\t\r\n",
    "# Defining the dict\r\n",
    "d = defaultdict(int)\r\n",
    "\t\r\n",
    "L = [1, 2, 3, 4, 2, 4, 1, 2]\r\n",
    "\t\r\n",
    "# Iterate through the list\r\n",
    "# for keeping the count\r\n",
    "for i in L:\r\n",
    "\t\t\r\n",
    "\t# The default value is 0\r\n",
    "\t# so there is no need to\r\n",
    "\t# enter the key first\r\n",
    "\td[i] += 1\r\n",
    "\t\t\r\n",
    "print(d)\r\n"
   ],
   "outputs": [
    {
     "output_type": "stream",
     "name": "stdout",
     "text": [
      "defaultdict(<class 'int'>, {1: 2, 2: 3, 3: 1, 4: 2})\n"
     ]
    }
   ],
   "metadata": {}
  },
  {
   "cell_type": "code",
   "execution_count": 8,
   "source": [
    "# Python program to demonstrate\r\n",
    "# defaultdict\r\n",
    "\r\n",
    "\r\n",
    "from collections import defaultdict\r\n",
    "\r\n",
    "\r\n",
    "# Defining a dict\r\n",
    "d = defaultdict(list)\r\n",
    "\r\n",
    "for i in range(5):\r\n",
    "\td[i].append(i)\r\n",
    "\t\r\n",
    "print(\"Dictionary with values as list:\")\r\n",
    "print(d)\r\n"
   ],
   "outputs": [
    {
     "output_type": "stream",
     "name": "stdout",
     "text": [
      "Dictionary with values as list:\n",
      "defaultdict(<class 'list'>, {0: [0], 1: [1], 2: [2], 3: [3], 4: [4]})\n"
     ]
    }
   ],
   "metadata": {}
  },
  {
   "cell_type": "markdown",
   "source": [
    "# <center> ChainMap </center>   #\r\n",
    "\r\n",
    "A ChainMap encapsulates many dictionaries into a single unit and returns a list of dictionaries.\r\n",
    "\r\n",
    "\r\n",
    "class collections.ChainMap(dict1, dict2)"
   ],
   "metadata": {}
  },
  {
   "cell_type": "code",
   "execution_count": 9,
   "source": [
    "# Python program to demonstrate\r\n",
    "# ChainMap\r\n",
    "\t\r\n",
    "\t\r\n",
    "from collections import ChainMap\r\n",
    "\t\r\n",
    "\t\r\n",
    "d1 = {'a': 1, 'b': 2}\r\n",
    "d2 = {'c': 3, 'd': 4}\r\n",
    "d3 = {'e': 5, 'f': 6}\r\n",
    "\r\n",
    "# Defining the chainmap\r\n",
    "c = ChainMap(d1, d2, d3)\r\n",
    "\t\r\n",
    "print(c)\r\n"
   ],
   "outputs": [
    {
     "output_type": "stream",
     "name": "stdout",
     "text": [
      "ChainMap({'a': 1, 'b': 2}, {'c': 3, 'd': 4}, {'e': 5, 'f': 6})\n"
     ]
    }
   ],
   "metadata": {}
  },
  {
   "cell_type": "markdown",
   "source": [
    " # Accessing Keys and Values from ChainMap #\r\n",
    "Values from ChainMap can be accessed using the key name. They can also be accessed by using the keys() and values() method."
   ],
   "metadata": {}
  },
  {
   "cell_type": "code",
   "execution_count": 10,
   "source": [
    "# Python program to demonstrate\r\n",
    "# ChainMap\r\n",
    "\t\r\n",
    "\t\r\n",
    "from collections import ChainMap\r\n",
    "\t\r\n",
    "\t\r\n",
    "d1 = {'a': 1, 'b': 2}\r\n",
    "d2 = {'c': 3, 'd': 4}\r\n",
    "d3 = {'e': 5, 'f': 6}\r\n",
    "\r\n",
    "# Defining the chainmap\r\n",
    "c = ChainMap(d1, d2, d3)\r\n",
    "\t\r\n",
    "# Accessing Values using key name\r\n",
    "print(c['a'])\r\n",
    "\r\n",
    "# Accesing values using values()\r\n",
    "# method\r\n",
    "print(c.values())\r\n",
    "\r\n",
    "# Accessing keys using keys()\r\n",
    "# method\r\n",
    "print(c.keys())\r\n"
   ],
   "outputs": [
    {
     "output_type": "stream",
     "name": "stdout",
     "text": [
      "1\n",
      "ValuesView(ChainMap({'a': 1, 'b': 2}, {'c': 3, 'd': 4}, {'e': 5, 'f': 6}))\n",
      "KeysView(ChainMap({'a': 1, 'b': 2}, {'c': 3, 'd': 4}, {'e': 5, 'f': 6}))\n"
     ]
    }
   ],
   "metadata": {}
  },
  {
   "cell_type": "markdown",
   "source": [
    " # Adding new dictionary #\r\n",
    "A new dictionary can be added by using the new_child() method. The newly added dictionary is added at the beginning of the ChainMap. "
   ],
   "metadata": {}
  },
  {
   "cell_type": "code",
   "execution_count": 11,
   "source": [
    "# Python code to demonstrate ChainMap and\r\n",
    "# new_child()\r\n",
    "\r\n",
    "import collections\r\n",
    "\r\n",
    "# initializing dictionaries\r\n",
    "dic1 = { 'a' : 1, 'b' : 2 }\r\n",
    "dic2 = { 'b' : 3, 'c' : 4 }\r\n",
    "dic3 = { 'f' : 5 }\r\n",
    "\r\n",
    "# initializing ChainMap\r\n",
    "chain = collections.ChainMap(dic1, dic2)\r\n",
    "\r\n",
    "# printing chainMap\r\n",
    "print (\"All the ChainMap contents are : \")\r\n",
    "print (chain)\r\n",
    "\r\n",
    "# using new_child() to add new dictionary\r\n",
    "chain1 = chain.new_child(dic3)\r\n",
    "\r\n",
    "# printing chainMap\r\n",
    "print (\"Displaying new ChainMap : \")\r\n",
    "print (chain1)\r\n"
   ],
   "outputs": [
    {
     "output_type": "stream",
     "name": "stdout",
     "text": [
      "All the ChainMap contents are : \n",
      "ChainMap({'a': 1, 'b': 2}, {'b': 3, 'c': 4})\n",
      "Displaying new ChainMap : \n",
      "ChainMap({'f': 5}, {'a': 1, 'b': 2}, {'b': 3, 'c': 4})\n"
     ]
    }
   ],
   "metadata": {}
  },
  {
   "cell_type": "markdown",
   "source": [
    "# NamedTuple #\r\n",
    "A NamedTuple returns a tuple object with names for each position which the ordinary tuples lack. For example, consider a tuple names student where the first element represents fname, second represents lname and the third element represents the DOB. Suppose for calling fname instead of remembering the index position you can actually call the element by using the fname argument, then it will be really easy for accessing tuples element. This functionality is provided by the NamedTuple.\r\n",
    "\r\n",
    "class collections.namedtuple(typename, field_names)\r\n"
   ],
   "metadata": {}
  },
  {
   "cell_type": "code",
   "execution_count": 12,
   "source": [
    "# Python code to demonstrate namedtuple()\r\n",
    "\r\n",
    "from collections import namedtuple\r\n",
    "\r\n",
    "# Declaring namedtuple()\r\n",
    "Student = namedtuple('Student',['name','age','DOB'])\r\n",
    "\r\n",
    "# Adding values\r\n",
    "S = Student('Nandini','19','2541997')\r\n",
    "\r\n",
    "# Access using index\r\n",
    "print (\"The Student age using index is : \",end =\"\")\r\n",
    "print (S[1])\r\n",
    "\r\n",
    "# Access using name\r\n",
    "print (\"The Student name using keyname is : \",end =\"\")\r\n",
    "print (S.name)\r\n"
   ],
   "outputs": [
    {
     "output_type": "stream",
     "name": "stdout",
     "text": [
      "The Student age using index is : 19\n",
      "The Student name using keyname is : Nandini\n"
     ]
    }
   ],
   "metadata": {}
  },
  {
   "cell_type": "markdown",
   "source": [
    "# Conversion Operations #\r\n",
    "1. _make(): This function is used to return a namedtuple() from the iterable passed as argument.\r\n",
    "\r\n",
    "2. _asdict(): This function returns the OrdereDict() as constructed from the mapped values of namedtuple()."
   ],
   "metadata": {}
  },
  {
   "cell_type": "code",
   "execution_count": 13,
   "source": [
    "# Python code to demonstrate namedtuple() and\r\n",
    "# _make(), _asdict()\r\n",
    "\r\n",
    "\r\n",
    "from collections import namedtuple\r\n",
    "\r\n",
    "# Declaring namedtuple()\r\n",
    "Student = namedtuple('Student',['name','age','DOB'])\r\n",
    "\r\n",
    "# Adding values\r\n",
    "S = Student('Nandini','19','2541997')\r\n",
    "\r\n",
    "# initializing iterable\r\n",
    "li = ['Manjeet', '19', '411997' ]\r\n",
    "\r\n",
    "# initializing dict\r\n",
    "di = { 'name' : \"Nikhil\", 'age' : 19 , 'DOB' : '1391997' }\r\n",
    "\r\n",
    "# using _make() to return namedtuple()\r\n",
    "print (\"The namedtuple instance using iterable is : \")\r\n",
    "print (Student._make(li))\r\n",
    "\r\n",
    "# using _asdict() to return an OrderedDict()\r\n",
    "print (\"The OrderedDict instance using namedtuple is : \")\r\n",
    "print (S._asdict())\r\n"
   ],
   "outputs": [
    {
     "output_type": "stream",
     "name": "stdout",
     "text": [
      "The namedtuple instance using iterable is : \n",
      "Student(name='Manjeet', age='19', DOB='411997')\n",
      "The OrderedDict instance using namedtuple is : \n",
      "{'name': 'Nandini', 'age': '19', 'DOB': '2541997'}\n"
     ]
    }
   ],
   "metadata": {}
  },
  {
   "cell_type": "markdown",
   "source": [
    "# Deque #\r\n",
    "Deque (Doubly Ended Queue) is the optimized list for quicker append and pop operations from both sides of the container. It provides O(1) time complexity for append and pop operations as compared to list with O(n) time complexity.\r\n",
    "\r\n",
    "class collections.deque(list)\r\n"
   ],
   "metadata": {}
  },
  {
   "cell_type": "code",
   "execution_count": 14,
   "source": [
    "# Python code to demonstrate deque\r\n",
    "\r\n",
    "\r\n",
    "from collections import deque\r\n",
    "\r\n",
    "# Declaring deque\r\n",
    "queue = deque(['name','age','DOB'])\r\n",
    "\r\n",
    "print(queue)\r\n"
   ],
   "outputs": [
    {
     "output_type": "stream",
     "name": "stdout",
     "text": [
      "deque(['name', 'age', 'DOB'])\n"
     ]
    }
   ],
   "metadata": {}
  },
  {
   "cell_type": "markdown",
   "source": [
    "# Inserting Elements #\r\n",
    "Elements in deque can be inserted from both ends. To insert the elements from right append() method is used and to insert the elements from the left appendleft() method is used."
   ],
   "metadata": {}
  },
  {
   "cell_type": "code",
   "execution_count": 15,
   "source": [
    "# Python code to demonstrate working of\r\n",
    "# append(), appendleft()\r\n",
    "\r\n",
    "\r\n",
    "from collections import deque\r\n",
    "\r\n",
    "# initializing deque\r\n",
    "de = deque([1,2,3])\r\n",
    "\r\n",
    "# using append() to insert element at right end\r\n",
    "# inserts 4 at the end of deque\r\n",
    "de.append(4)\r\n",
    "\r\n",
    "# printing modified deque\r\n",
    "print (\"The deque after appending at right is : \")\r\n",
    "print (de)\r\n",
    "\r\n",
    "# using appendleft() to insert element at right end\r\n",
    "# inserts 6 at the beginning of deque\r\n",
    "de.appendleft(6)\r\n",
    "\r\n",
    "# printing modified deque\r\n",
    "print (\"The deque after appending at left is : \")\r\n",
    "print (de)\r\n"
   ],
   "outputs": [
    {
     "output_type": "stream",
     "name": "stdout",
     "text": [
      "The deque after appending at right is : \n",
      "deque([1, 2, 3, 4])\n",
      "The deque after appending at left is : \n",
      "deque([6, 1, 2, 3, 4])\n"
     ]
    }
   ],
   "metadata": {}
  },
  {
   "cell_type": "markdown",
   "source": [
    "# Removing Elements #\r\n",
    "Elements can also be removed from the deque from both the ends. To remove elements from right use pop() method and to remove elements from the left use popleft() method."
   ],
   "metadata": {}
  },
  {
   "cell_type": "code",
   "execution_count": 16,
   "source": [
    "# Python code to demonstrate working of\r\n",
    "# pop(), and popleft()\r\n",
    "\r\n",
    "from collections import deque\r\n",
    "\r\n",
    "# initializing deque\r\n",
    "de = deque([6, 1, 2, 3, 4])\r\n",
    "\r\n",
    "# using pop() to delete element from right end\r\n",
    "# deletes 4 from the right end of deque\r\n",
    "de.pop()\r\n",
    "\r\n",
    "# printing modified deque\r\n",
    "print (\"The deque after deleting from right is : \")\r\n",
    "print (de)\r\n",
    "\r\n",
    "# using popleft() to delete element from left end\r\n",
    "# deletes 6 from the left end of deque\r\n",
    "de.popleft()\r\n",
    "\r\n",
    "# printing modified deque\r\n",
    "print (\"The deque after deleting from left is : \")\r\n",
    "print (de)\r\n"
   ],
   "outputs": [
    {
     "output_type": "stream",
     "name": "stdout",
     "text": [
      "The deque after deleting from right is : \n",
      "deque([6, 1, 2, 3])\n",
      "The deque after deleting from left is : \n",
      "deque([1, 2, 3])\n"
     ]
    }
   ],
   "metadata": {}
  },
  {
   "cell_type": "markdown",
   "source": [
    "# UserDict #\r\n",
    "UserDict is a dictionary-like container that acts as a wrapper around the dictionary objects. This container is used when someone wants to create their own dictionary with some modified or new functionality. \r\n",
    "\r\n",
    "\r\n",
    "class collections.UserDict([initialdata])\r\n"
   ],
   "metadata": {}
  },
  {
   "cell_type": "code",
   "execution_count": 17,
   "source": [
    "# Python program to demonstrate\r\n",
    "# userdict\r\n",
    "\t\r\n",
    "\r\n",
    "from collections import UserDict\r\n",
    "\t\r\n",
    "\r\n",
    "# Creating a Dictionary where\r\n",
    "# deletion is not allowed\r\n",
    "class MyDict(UserDict):\r\n",
    "\t\r\n",
    "\t# Function to stop deletion\r\n",
    "\t# from dictionary\r\n",
    "\tdef __del__(self):\r\n",
    "\t\traise RuntimeError(\"Deletion not allowed\")\r\n",
    "\t\t\r\n",
    "\t# Function to stop pop from\r\n",
    "\t# dictionary\r\n",
    "\tdef pop(self, s = None):\r\n",
    "\t\traise RuntimeError(\"Deletion not allowed\")\r\n",
    "\t\t\r\n",
    "\t# Function to stop popitem\r\n",
    "\t# from Dictionary\r\n",
    "\tdef popitem(self, s = None):\r\n",
    "\t\traise RuntimeError(\"Deletion not allowed\")\r\n",
    "\t\r\n",
    "# Driver's code\r\n",
    "d = MyDict({'a':1,\r\n",
    "\t'b': 2,\r\n",
    "\t'c': 3})\r\n",
    "\r\n",
    "d.pop(1)\r\n"
   ],
   "outputs": [
    {
     "output_type": "error",
     "ename": "RuntimeError",
     "evalue": "Deletion not allowed",
     "traceback": [
      "\u001b[1;31m---------------------------------------------------------------------------\u001b[0m",
      "\u001b[1;31mRuntimeError\u001b[0m                              Traceback (most recent call last)",
      "\u001b[1;32m<ipython-input-17-32890a7b1d64>\u001b[0m in \u001b[0;36m<module>\u001b[1;34m\u001b[0m\n\u001b[0;32m     30\u001b[0m \t'c': 3})\n\u001b[0;32m     31\u001b[0m \u001b[1;33m\u001b[0m\u001b[0m\n\u001b[1;32m---> 32\u001b[1;33m \u001b[0md\u001b[0m\u001b[1;33m.\u001b[0m\u001b[0mpop\u001b[0m\u001b[1;33m(\u001b[0m\u001b[1;36m1\u001b[0m\u001b[1;33m)\u001b[0m\u001b[1;33m\u001b[0m\u001b[1;33m\u001b[0m\u001b[0m\n\u001b[0m",
      "\u001b[1;32m<ipython-input-17-32890a7b1d64>\u001b[0m in \u001b[0;36mpop\u001b[1;34m(self, s)\u001b[0m\n\u001b[0;32m     18\u001b[0m         \u001b[1;31m# dictionary\u001b[0m\u001b[1;33m\u001b[0m\u001b[1;33m\u001b[0m\u001b[1;33m\u001b[0m\u001b[0m\n\u001b[0;32m     19\u001b[0m         \u001b[1;32mdef\u001b[0m \u001b[0mpop\u001b[0m\u001b[1;33m(\u001b[0m\u001b[0mself\u001b[0m\u001b[1;33m,\u001b[0m \u001b[0ms\u001b[0m \u001b[1;33m=\u001b[0m \u001b[1;32mNone\u001b[0m\u001b[1;33m)\u001b[0m\u001b[1;33m:\u001b[0m\u001b[1;33m\u001b[0m\u001b[1;33m\u001b[0m\u001b[0m\n\u001b[1;32m---> 20\u001b[1;33m                 \u001b[1;32mraise\u001b[0m \u001b[0mRuntimeError\u001b[0m\u001b[1;33m(\u001b[0m\u001b[1;34m\"Deletion not allowed\"\u001b[0m\u001b[1;33m)\u001b[0m\u001b[1;33m\u001b[0m\u001b[1;33m\u001b[0m\u001b[0m\n\u001b[0m\u001b[0;32m     21\u001b[0m \u001b[1;33m\u001b[0m\u001b[0m\n\u001b[0;32m     22\u001b[0m         \u001b[1;31m# Function to stop popitem\u001b[0m\u001b[1;33m\u001b[0m\u001b[1;33m\u001b[0m\u001b[1;33m\u001b[0m\u001b[0m\n",
      "\u001b[1;31mRuntimeError\u001b[0m: Deletion not allowed"
     ]
    }
   ],
   "metadata": {}
  },
  {
   "cell_type": "markdown",
   "source": [
    "# UserList #\r\n",
    "UserList is a list like container that acts as a wrapper around the list objects. This is useful when someone wants to create their own list with some modified or additional functionality.\r\n",
    "\r\n",
    "class collections.UserList([list])\r\n"
   ],
   "metadata": {}
  },
  {
   "cell_type": "code",
   "execution_count": 18,
   "source": [
    "# Python program to demonstrate\r\n",
    "# userlist\r\n",
    "\t\r\n",
    "\r\n",
    "from collections import UserList\r\n",
    "\t\r\n",
    "\r\n",
    "# Creating a List where\r\n",
    "# deletion is not allowed\r\n",
    "class MyList(UserList):\r\n",
    "\t\r\n",
    "\t# Function to stop deletion\r\n",
    "\t# from List\r\n",
    "\tdef remove(self, s = None):\r\n",
    "\t\traise RuntimeError(\"Deletion not allowed\")\r\n",
    "\t\t\r\n",
    "\t# Function to stop pop from\r\n",
    "\t# List\r\n",
    "\tdef pop(self, s = None):\r\n",
    "\t\traise RuntimeError(\"Deletion not allowed\")\r\n",
    "\t\r\n",
    "# Driver's code\r\n",
    "L = MyList([1, 2, 3, 4])\r\n",
    "\r\n",
    "print(\"Original List\")\r\n",
    "\r\n",
    "# Inserting to List\"\r\n",
    "L.append(5)\r\n",
    "print(\"After Insertion\")\r\n",
    "print(L)\r\n",
    "\r\n",
    "# Deleting From List\r\n",
    "L.remove()\r\n"
   ],
   "outputs": [
    {
     "output_type": "stream",
     "name": "stdout",
     "text": [
      "Original List\n",
      "After Insertion\n",
      "[1, 2, 3, 4, 5]\n"
     ]
    },
    {
     "output_type": "error",
     "ename": "RuntimeError",
     "evalue": "Deletion not allowed",
     "traceback": [
      "\u001b[1;31m---------------------------------------------------------------------------\u001b[0m",
      "\u001b[1;31mRuntimeError\u001b[0m                              Traceback (most recent call last)",
      "\u001b[1;32m<ipython-input-18-62761abd30b3>\u001b[0m in \u001b[0;36m<module>\u001b[1;34m\u001b[0m\n\u001b[0;32m     31\u001b[0m \u001b[1;33m\u001b[0m\u001b[0m\n\u001b[0;32m     32\u001b[0m \u001b[1;31m# Deleting From List\u001b[0m\u001b[1;33m\u001b[0m\u001b[1;33m\u001b[0m\u001b[1;33m\u001b[0m\u001b[0m\n\u001b[1;32m---> 33\u001b[1;33m \u001b[0mL\u001b[0m\u001b[1;33m.\u001b[0m\u001b[0mremove\u001b[0m\u001b[1;33m(\u001b[0m\u001b[1;33m)\u001b[0m\u001b[1;33m\u001b[0m\u001b[1;33m\u001b[0m\u001b[0m\n\u001b[0m",
      "\u001b[1;32m<ipython-input-18-62761abd30b3>\u001b[0m in \u001b[0;36mremove\u001b[1;34m(self, s)\u001b[0m\n\u001b[0;32m     13\u001b[0m         \u001b[1;31m# from List\u001b[0m\u001b[1;33m\u001b[0m\u001b[1;33m\u001b[0m\u001b[1;33m\u001b[0m\u001b[0m\n\u001b[0;32m     14\u001b[0m         \u001b[1;32mdef\u001b[0m \u001b[0mremove\u001b[0m\u001b[1;33m(\u001b[0m\u001b[0mself\u001b[0m\u001b[1;33m,\u001b[0m \u001b[0ms\u001b[0m \u001b[1;33m=\u001b[0m \u001b[1;32mNone\u001b[0m\u001b[1;33m)\u001b[0m\u001b[1;33m:\u001b[0m\u001b[1;33m\u001b[0m\u001b[1;33m\u001b[0m\u001b[0m\n\u001b[1;32m---> 15\u001b[1;33m                 \u001b[1;32mraise\u001b[0m \u001b[0mRuntimeError\u001b[0m\u001b[1;33m(\u001b[0m\u001b[1;34m\"Deletion not allowed\"\u001b[0m\u001b[1;33m)\u001b[0m\u001b[1;33m\u001b[0m\u001b[1;33m\u001b[0m\u001b[0m\n\u001b[0m\u001b[0;32m     16\u001b[0m \u001b[1;33m\u001b[0m\u001b[0m\n\u001b[0;32m     17\u001b[0m         \u001b[1;31m# Function to stop pop from\u001b[0m\u001b[1;33m\u001b[0m\u001b[1;33m\u001b[0m\u001b[1;33m\u001b[0m\u001b[0m\n",
      "\u001b[1;31mRuntimeError\u001b[0m: Deletion not allowed"
     ]
    }
   ],
   "metadata": {}
  },
  {
   "cell_type": "markdown",
   "source": [
    "# UserString #\r\n",
    "UserString is a string like container and just like UserDict and UserList it acts as a wrapper around string objects. It is used when someone wants to create their own strings with some modified or additional functionality. \r\n",
    "\r\n",
    "class collections.UserString(seq)\r\n"
   ],
   "metadata": {}
  },
  {
   "cell_type": "code",
   "execution_count": null,
   "source": [
    "# Python program to demonstrate\r\n",
    "# userstring\r\n",
    "\t\r\n",
    "\r\n",
    "from collections import UserString\r\n",
    "\t\r\n",
    "\r\n",
    "# Creating a Mutable String\r\n",
    "class Mystring(UserString):\r\n",
    "\t\r\n",
    "\t# Function to append to\r\n",
    "\t# string\r\n",
    "\tdef append(self, s):\r\n",
    "\t\tself.data += s\r\n",
    "\t\t\r\n",
    "\t# Function to rmeove from\r\n",
    "\t# string\r\n",
    "\tdef remove(self, s):\r\n",
    "\t\tself.data = self.data.replace(s, \"\")\r\n",
    "\t\r\n",
    "# Driver's code\r\n",
    "s1 = Mystring(\"Geeks\")\r\n",
    "print(\"Original String:\", s1.data)\r\n",
    "\r\n",
    "# Appending to string\r\n",
    "s1.append(\"s\")\r\n",
    "print(\"String After Appending:\", s1.data)\r\n",
    "\r\n",
    "# Removing from string\r\n",
    "s1.remove(\"e\")\r\n",
    "print(\"String after Removing:\", s1.data)\r\n"
   ],
   "outputs": [],
   "metadata": {}
  }
 ],
 "metadata": {
  "orig_nbformat": 4,
  "language_info": {
   "name": "python",
   "version": "3.8.5",
   "mimetype": "text/x-python",
   "codemirror_mode": {
    "name": "ipython",
    "version": 3
   },
   "pygments_lexer": "ipython3",
   "nbconvert_exporter": "python",
   "file_extension": ".py"
  },
  "kernelspec": {
   "name": "python3",
   "display_name": "Python 3.8.5 64-bit ('base': conda)"
  },
  "interpreter": {
   "hash": "a8f61be024eba58adef938c9aa1e29e02cb3dece83a5348b1a2dafd16a070453"
  }
 },
 "nbformat": 4,
 "nbformat_minor": 2
}