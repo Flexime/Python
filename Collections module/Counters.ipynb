{
 "cells": [
  {
   "cell_type": "markdown",
   "source": [
    "Counter is a container included in the collections module. Now you all must be wondering what is a container. Don’t worry first let’s discuss about the container.\r\n",
    "\r\n",
    "\r\n",
    "\r\n",
    "# What is Container? # \r\n",
    "Containers are objects that hold objects. They provide a way to access the contained objects and iterate over them. Examples of built in containers are Tuple, list, and dictionary. Others are included in Collections module.\r\n",
    "\r\n",
    "A Counter is a subclass of dict. Therefore it is an unordered collection where elements and their respective count are stored as a dictionary. This is equivalent to a bag or multiset of other languages.\r\n",
    "\r\n",
    "class collections.Counter([iterable-or-mapping])\r\n",
    "\r\n",
    "Initialization :\r\n",
    "The constructor of counter can be called in any one of the following ways :\r\n",
    "\r\n",
    "\r\n",
    "\r\n",
    "* With sequence of items\r\n",
    "* With dictionary containing keys and counts\r\n",
    "* With keyword arguments mapping string names to counts\r\n",
    "Example of each type of initialization :"
   ],
   "metadata": {}
  },
  {
   "cell_type": "code",
   "execution_count": null,
   "source": [
    "# A Python program to show different ways to create\r\n",
    "# Counter\r\n",
    "from collections import Counter\r\n",
    "\r\n",
    "# With sequence of items\r\n",
    "print(Counter(['B','B','A','B','C','A','B','B','A','C']))\r\n",
    "\r\n",
    "# with dictionary\r\n",
    "print(Counter({'A':3, 'B':5, 'C':2}))\r\n",
    "\r\n",
    "# with keyword arguments\r\n",
    "print(Counter(A=3, B=5, C=2))\r\n"
   ],
   "outputs": [],
   "metadata": {}
  },
  {
   "cell_type": "code",
   "execution_count": 1,
   "source": [
    "# A Python program to demonstrate update()\r\n",
    "from collections import Counter\r\n",
    "coun = Counter()\r\n",
    "\r\n",
    "coun.update([1, 2, 3, 1, 2, 1, 1, 2])\r\n",
    "print(coun)\r\n",
    "\r\n",
    "coun.update([1, 2, 4])\r\n",
    "print(coun)\r\n"
   ],
   "outputs": [
    {
     "output_type": "stream",
     "name": "stdout",
     "text": [
      "Counter({1: 4, 2: 3, 3: 1})\n",
      "Counter({1: 5, 2: 4, 3: 1, 4: 1})\n"
     ]
    }
   ],
   "metadata": {}
  },
  {
   "cell_type": "markdown",
   "source": [
    "* Data can be provided in any of the three ways as mentioned in initialization and the counter’s data will be increased not replaced.\r\n",
    "* Counts can be zero and negative also"
   ],
   "metadata": {}
  },
  {
   "cell_type": "code",
   "execution_count": 2,
   "source": [
    "# Python program to demonstrate that counts in\r\n",
    "# Counter can be 0 and negative\r\n",
    "from collections import Counter\r\n",
    "\r\n",
    "c1 = Counter(A=4, B=3, C=10)\r\n",
    "c2 = Counter(A=10, B=3, C=4)\r\n",
    "\r\n",
    "c1.subtract(c2)\r\n",
    "print(c1)\r\n"
   ],
   "outputs": [
    {
     "output_type": "stream",
     "name": "stdout",
     "text": [
      "Counter({'C': 6, 'B': 0, 'A': -6})\n"
     ]
    }
   ],
   "metadata": {}
  },
  {
   "cell_type": "markdown",
   "source": [
    "* We can use Counter to count distinct elements of a list or other collections."
   ],
   "metadata": {}
  },
  {
   "cell_type": "code",
   "execution_count": 3,
   "source": [
    "\r\n",
    "# An example program where different list items are\r\n",
    "# counted using counter\r\n",
    "from collections import Counter\r\n",
    "  \r\n",
    "# Create a list\r\n",
    "z = ['blue', 'red', 'blue', 'yellow', 'blue', 'red']\r\n",
    "  \r\n",
    "# Count distinct elements and print Counter aboject\r\n",
    "print(Counter(z))"
   ],
   "outputs": [
    {
     "output_type": "stream",
     "name": "stdout",
     "text": [
      "Counter({'blue': 3, 'red': 2, 'yellow': 1})\n"
     ]
    }
   ],
   "metadata": {}
  }
 ],
 "metadata": {
  "orig_nbformat": 4,
  "language_info": {
   "name": "python",
   "version": "3.9.1",
   "mimetype": "text/x-python",
   "codemirror_mode": {
    "name": "ipython",
    "version": 3
   },
   "pygments_lexer": "ipython3",
   "nbconvert_exporter": "python",
   "file_extension": ".py"
  },
  "kernelspec": {
   "name": "python3",
   "display_name": "Python 3.9.1 64-bit"
  },
  "interpreter": {
   "hash": "11f1dc213e07634baa4c5c321dec03c05dafae643c50f20e6d1a492290c05dc2"
  }
 },
 "nbformat": 4,
 "nbformat_minor": 2
}