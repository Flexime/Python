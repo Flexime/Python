{
 "cells": [
  {
   "cell_type": "markdown",
   "source": [
    "# ChainMap #\r\n",
    "Python contains a container called “ChainMap” which encapsulates many dictionaries into one unit. ChainMap is member of module “collections“.\r\n",
    "Example: "
   ],
   "metadata": {}
  },
  {
   "cell_type": "code",
   "execution_count": null,
   "source": [
    "# Python program to demonstrate\r\n",
    "# ChainMap\r\n",
    "\t\r\n",
    "\t\r\n",
    "from collections import ChainMap\r\n",
    "\t\r\n",
    "\t\r\n",
    "d1 = {'a': 1, 'b': 2}\r\n",
    "d2 = {'c': 3, 'd': 4}\r\n",
    "d3 = {'e': 5, 'f': 6}\r\n",
    "\t\r\n",
    "# Defining the chainmap\r\n",
    "c = ChainMap(d1, d2, d3)\r\n",
    "\t\r\n",
    "print(c)\r\n"
   ],
   "outputs": [],
   "metadata": {}
  },
  {
   "cell_type": "markdown",
   "source": [
    "Access Operations\r\n",
    "\r\n",
    "\r\n",
    "* keys() :- This function is used to display all the keys of all the dictionaries in ChainMap.\r\n",
    "\r\n",
    "* values() :- This function is used to display values of all the dictionaries in ChainMap.\r\n",
    "\r\n",
    "* maps() :- This function is used to display keys with corresponding values of all the dictionaries in ChainMap."
   ],
   "metadata": {}
  },
  {
   "cell_type": "code",
   "execution_count": 1,
   "source": [
    "# Please select Python 3 for running this code in IDE\r\n",
    "# Python code to demonstrate ChainMap and\r\n",
    "# keys(), values() and maps\r\n",
    "\r\n",
    "# importing collections for ChainMap operations\r\n",
    "import collections\r\n",
    "\r\n",
    "# initializing dictionaries\r\n",
    "dic1 = { 'a' : 1, 'b' : 2 }\r\n",
    "dic2 = { 'b' : 3, 'c' : 4 }\r\n",
    "\r\n",
    "# initializing ChainMap\r\n",
    "chain = collections.ChainMap(dic1, dic2)\r\n",
    "\r\n",
    "# printing chainMap using maps\r\n",
    "print (\"All the ChainMap contents are : \")\r\n",
    "print (chain.maps)\r\n",
    "\r\n",
    "# printing keys using keys()\r\n",
    "print (\"All keys of ChainMap are : \")\r\n",
    "print (list(chain.keys()))\r\n",
    "\r\n",
    "# printing keys using keys()\r\n",
    "print (\"All values of ChainMap are : \")\r\n",
    "print (list(chain.values()))\r\n"
   ],
   "outputs": [
    {
     "output_type": "stream",
     "name": "stdout",
     "text": [
      "All the ChainMap contents are : \n",
      "[{'a': 1, 'b': 2}, {'b': 3, 'c': 4}]\n",
      "All keys of ChainMap are : \n",
      "['b', 'c', 'a']\n",
      "All values of ChainMap are : \n",
      "[2, 4, 1]\n"
     ]
    }
   ],
   "metadata": {}
  },
  {
   "cell_type": "markdown",
   "source": [
    "Note : Notice the key named “b” exists in both dictionaries, but only first dictionary key is taken as key value of “b”. Ordering is done as the dictionaries are passed in function.\r\n",
    "\r\n",
    "## Manipulating Operations ##\r\n",
    "* new_child() :- This function adds a new dictionary in the beginning of the ChainMap.\r\n",
    "\r\n",
    "* reversed() :- This function reverses the relative ordering of dictionaries in the ChainMap."
   ],
   "metadata": {}
  },
  {
   "cell_type": "code",
   "execution_count": 2,
   "source": [
    "# Please select Python 3 for running this code in IDE\r\n",
    "# Python code to demonstrate ChainMap and\r\n",
    "# reversed() and new_child()\r\n",
    "\r\n",
    "# importing collections for ChainMap operations\r\n",
    "import collections\r\n",
    "\r\n",
    "# initializing dictionaries\r\n",
    "dic1 = { 'a' : 1, 'b' : 2 }\r\n",
    "dic2 = { 'b' : 3, 'c' : 4 }\r\n",
    "dic3 = { 'f' : 5 }\r\n",
    "\r\n",
    "# initializing ChainMap\r\n",
    "chain = collections.ChainMap(dic1, dic2)\r\n",
    "\r\n",
    "# printing chainMap using map\r\n",
    "print (\"All the ChainMap contents are : \")\r\n",
    "print (chain.maps)\r\n",
    "\r\n",
    "# using new_child() to add new dictionary\r\n",
    "chain1 = chain.new_child(dic3)\r\n",
    "\r\n",
    "# printing chainMap using map\r\n",
    "print (\"Displaying new ChainMap : \")\r\n",
    "print (chain1.maps)\r\n",
    "\r\n",
    "# displaying value associated with b before reversing\r\n",
    "print (\"Value associated with b before reversing is : \",end=\"\")\r\n",
    "print (chain1['b'])\r\n",
    "\r\n",
    "# reversing the ChainMap\r\n",
    "chain1.maps = reversed(chain1.maps)\r\n",
    "\r\n",
    "# displaying value associated with b after reversing\r\n",
    "print (\"Value associated with b after reversing is : \",end=\"\")\r\n",
    "print (chain1['b'])\r\n"
   ],
   "outputs": [
    {
     "output_type": "stream",
     "name": "stdout",
     "text": [
      "All the ChainMap contents are : \n",
      "[{'a': 1, 'b': 2}, {'b': 3, 'c': 4}]\n",
      "Displaying new ChainMap : \n",
      "[{'f': 5}, {'a': 1, 'b': 2}, {'b': 3, 'c': 4}]\n",
      "Value associated with b before reversing is : 2\n",
      "Value associated with b after reversing is : 3\n"
     ]
    }
   ],
   "metadata": {}
  }
 ],
 "metadata": {
  "orig_nbformat": 4,
  "language_info": {
   "name": "python",
   "version": "3.9.1",
   "mimetype": "text/x-python",
   "codemirror_mode": {
    "name": "ipython",
    "version": 3
   },
   "pygments_lexer": "ipython3",
   "nbconvert_exporter": "python",
   "file_extension": ".py"
  },
  "kernelspec": {
   "name": "python3",
   "display_name": "Python 3.9.1 64-bit"
  },
  "interpreter": {
   "hash": "11f1dc213e07634baa4c5c321dec03c05dafae643c50f20e6d1a492290c05dc2"
  }
 },
 "nbformat": 4,
 "nbformat_minor": 2
}