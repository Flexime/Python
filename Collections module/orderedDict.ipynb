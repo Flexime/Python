{
 "cells": [
  {
   "cell_type": "markdown",
   "source": [
    "# OrderedDict # \r\n",
    "An OrderedDict is a dictionary subclass that remembers the order that keys were first inserted. The only difference between dict() and OrderedDict() is that:\r\n",
    "\r\n",
    "OrderedDict preserves the order in which the keys are inserted. A regular dict doesn’t track the insertion order, and iterating it gives the values in an arbitrary order. By contrast, the order the items are inserted is remembered by OrderedDict."
   ],
   "metadata": {}
  },
  {
   "cell_type": "code",
   "execution_count": 1,
   "source": [
    "# A Python program to demonstrate working of OrderedDict\r\n",
    "from collections import OrderedDict\r\n",
    "\r\n",
    "print(\"This is a Dict:\\n\")\r\n",
    "d = {}\r\n",
    "d['a'] = 1\r\n",
    "d['b'] = 2\r\n",
    "d['c'] = 3\r\n",
    "d['d'] = 4\r\n",
    "\r\n",
    "for key, value in d.items():\r\n",
    "\tprint(key, value)\r\n",
    "\r\n",
    "print(\"\\nThis is an Ordered Dict:\\n\")\r\n",
    "od = OrderedDict()\r\n",
    "od['a'] = 1\r\n",
    "od['b'] = 2\r\n",
    "od['c'] = 3\r\n",
    "od['d'] = 4\r\n",
    "\r\n",
    "for key, value in od.items():\r\n",
    "\tprint(key, value)\r\n"
   ],
   "outputs": [
    {
     "output_type": "stream",
     "name": "stdout",
     "text": [
      "This is a Dict:\n",
      "\n",
      "a 1\n",
      "b 2\n",
      "c 3\n",
      "d 4\n",
      "\n",
      "This is an Ordered Dict:\n",
      "\n",
      "a 1\n",
      "b 2\n",
      "c 3\n",
      "d 4\n"
     ]
    }
   ],
   "metadata": {}
  },
  {
   "cell_type": "markdown",
   "source": [
    " __Important Points:__\r\n",
    "\r\n",
    "Key value Change: If the value of a certain key is changed, the position of the key remains unchanged in OrderedDict."
   ],
   "metadata": {}
  },
  {
   "cell_type": "code",
   "execution_count": 2,
   "source": [
    "# A Python program to demonstrate working of key\r\n",
    "# value change in OrderedDict\r\n",
    "from collections import OrderedDict\r\n",
    "\r\n",
    "print(\"Before:\\n\")\r\n",
    "od = OrderedDict()\r\n",
    "od['a'] = 1\r\n",
    "od['b'] = 2\r\n",
    "od['c'] = 3\r\n",
    "od['d'] = 4\r\n",
    "for key, value in od.items():\r\n",
    "\tprint(key, value)\r\n",
    "\r\n",
    "print(\"\\nAfter:\\n\")\r\n",
    "od['c'] = 5\r\n",
    "for key, value in od.items():\r\n",
    "\tprint(key, value)\r\n"
   ],
   "outputs": [
    {
     "output_type": "stream",
     "name": "stdout",
     "text": [
      "Before:\n",
      "\n",
      "a 1\n",
      "b 2\n",
      "c 3\n",
      "d 4\n",
      "\n",
      "After:\n",
      "\n",
      "a 1\n",
      "b 2\n",
      "c 5\n",
      "d 4\n"
     ]
    }
   ],
   "metadata": {}
  },
  {
   "cell_type": "markdown",
   "source": [
    "* Deletion and Re-Inserting: Deleting and re-inserting the same key will push it to the back as OrderedDict however maintains the order of insertion."
   ],
   "metadata": {}
  },
  {
   "cell_type": "code",
   "execution_count": 3,
   "source": [
    "# A Python program to demonstrate working of deletion\r\n",
    "# re-inserion in OrderedDict\r\n",
    "from collections import OrderedDict\r\n",
    "\r\n",
    "print(\"Before deleting:\\n\")\r\n",
    "od = OrderedDict()\r\n",
    "od['a'] = 1\r\n",
    "od['b'] = 2\r\n",
    "od['c'] = 3\r\n",
    "od['d'] = 4\r\n",
    "\r\n",
    "for key, value in od.items():\r\n",
    "\tprint(key, value)\r\n",
    "\r\n",
    "print(\"\\nAfter deleting:\\n\")\r\n",
    "od.pop('c')\r\n",
    "for key, value in od.items():\r\n",
    "\tprint(key, value)\r\n",
    "\r\n",
    "print(\"\\nAfter re-inserting:\\n\")\r\n",
    "od['c'] = 3\r\n",
    "for key, value in od.items():\r\n",
    "\tprint(key, value)\r\n"
   ],
   "outputs": [
    {
     "output_type": "stream",
     "name": "stdout",
     "text": [
      "Before deleting:\n",
      "\n",
      "a 1\n",
      "b 2\n",
      "c 3\n",
      "d 4\n",
      "\n",
      "After deleting:\n",
      "\n",
      "a 1\n",
      "b 2\n",
      "d 4\n",
      "\n",
      "After re-inserting:\n",
      "\n",
      "a 1\n",
      "b 2\n",
      "d 4\n",
      "c 3\n"
     ]
    }
   ],
   "metadata": {}
  },
  {
   "cell_type": "markdown",
   "source": [
    "# Other Considerations:\r\n",
    "\r\n",
    "* Ordered dict in Python version 2.7 consumes more memory than normal dict. This is due to the underlying Doubly Linked List implementation for keeping the order. In Python 2.7 Ordered Dict is not dict subclass, it’s a specialized container from collections module.\r\n",
    "* Starting from Python 3.7, insertion order of Python dictionaries is guaranteed.\r\n",
    "* Ordered Dict can be used as a stack with the help of popitem function. Try implementing LRU cache with Ordered Dict."
   ],
   "metadata": {}
  }
 ],
 "metadata": {
  "orig_nbformat": 4,
  "language_info": {
   "name": "python",
   "version": "3.9.1",
   "mimetype": "text/x-python",
   "codemirror_mode": {
    "name": "ipython",
    "version": 3
   },
   "pygments_lexer": "ipython3",
   "nbconvert_exporter": "python",
   "file_extension": ".py"
  },
  "kernelspec": {
   "name": "python3",
   "display_name": "Python 3.9.1 64-bit"
  },
  "interpreter": {
   "hash": "11f1dc213e07634baa4c5c321dec03c05dafae643c50f20e6d1a492290c05dc2"
  }
 },
 "nbformat": 4,
 "nbformat_minor": 2
}