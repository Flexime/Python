{
 "cells": [
  {
   "cell_type": "markdown",
   "source": [
    "\r\n",
    "\r\n",
    "<img src=\"https://user-images.githubusercontent.com/7065401/39118381-910eb0c2-46e9-11e8-81f1-a5b897401c23.jpeg\"\r\n",
    "    style=\"width:300px; float: right; margin: 0 40px 40px 40px;\"></img>\r\n",
    "\r\n",
    "\r\n",
    "\r\n",
    "# Numpy: Numeric computing library\r\n",
    "\r\n",
    "NumPy (Numerical Python) is one of the core packages for numerical computing in Python. Pandas, Matplotlib, Statmodels and many other Scientific libraries rely on NumPy.\r\n",
    "\r\n",
    "NumPy major contributions are:\r\n",
    "\r\n",
    "* Efficient numeric computation with C primitives\r\n",
    "* Efficient collections with vectorized operations\r\n",
    "* An integrated and natural Linear Algebra API\r\n",
    "* A C API for connecting NumPy with libraries written in C, C++, or FORTRAN.\r\n",
    "\r\n",
    "Let's develop on efficiency. In Python, **everything is an object**, which means that even simple ints are also objects, with all the required machinery to make object work. We call them \"Boxed Ints\". In contrast, NumPy uses primitive numeric types (floats, ints) which makes storing and computation efficient.\r\n"
   ],
   "metadata": {}
  },
  {
   "cell_type": "markdown",
   "source": [
    "<img src=\"https://docs.google.com/drawings/d/e/2PACX-1vTkDtKYMUVdpfVb3TTpr_8rrVtpal2dOknUUEOu85wJ1RitzHHf5nsJqz1O0SnTt8BwgJjxXMYXyIqs/pub?w=726&h=396\" />\n"
   ],
   "metadata": {}
  },
  {
   "cell_type": "markdown",
   "source": [
    "![purple-divider](https://user-images.githubusercontent.com/7065401/52071927-c1cd7100-2562-11e9-908a-dde91ba14e59.png)\r\n",
    "\r\n",
    "## Hands on! "
   ],
   "metadata": {}
  },
  {
   "cell_type": "code",
   "execution_count": 1,
   "source": [
    "import sys\r\n",
    "import numpy as np"
   ],
   "outputs": [],
   "metadata": {}
  },
  {
   "cell_type": "markdown",
   "source": [
    "## Basic Numpy Arrays"
   ],
   "metadata": {}
  },
  {
   "cell_type": "code",
   "execution_count": 2,
   "source": [
    "np.array([1, 2, 3, 4])"
   ],
   "outputs": [
    {
     "output_type": "execute_result",
     "data": {
      "text/plain": [
       "array([1, 2, 3, 4])"
      ]
     },
     "metadata": {},
     "execution_count": 2
    }
   ],
   "metadata": {}
  },
  {
   "cell_type": "code",
   "execution_count": 3,
   "source": [
    "a = np.array([1, 2, 3, 4])"
   ],
   "outputs": [],
   "metadata": {}
  },
  {
   "cell_type": "code",
   "execution_count": 4,
   "source": [
    "b = np.array([0, .5, 1, 1.5, 2])"
   ],
   "outputs": [],
   "metadata": {}
  },
  {
   "cell_type": "code",
   "execution_count": 5,
   "source": [
    "a[0], a[1]"
   ],
   "outputs": [
    {
     "output_type": "execute_result",
     "data": {
      "text/plain": [
       "(1, 2)"
      ]
     },
     "metadata": {},
     "execution_count": 5
    }
   ],
   "metadata": {}
  },
  {
   "cell_type": "code",
   "execution_count": 6,
   "source": [
    "a[0:]"
   ],
   "outputs": [
    {
     "output_type": "execute_result",
     "data": {
      "text/plain": [
       "array([1, 2, 3, 4])"
      ]
     },
     "metadata": {},
     "execution_count": 6
    }
   ],
   "metadata": {}
  },
  {
   "cell_type": "code",
   "execution_count": 7,
   "source": [
    "a[1:3]"
   ],
   "outputs": [
    {
     "output_type": "execute_result",
     "data": {
      "text/plain": [
       "array([2, 3])"
      ]
     },
     "metadata": {},
     "execution_count": 7
    }
   ],
   "metadata": {}
  },
  {
   "cell_type": "code",
   "execution_count": 8,
   "source": [
    "a[1:-1]"
   ],
   "outputs": [
    {
     "output_type": "execute_result",
     "data": {
      "text/plain": [
       "array([2, 3])"
      ]
     },
     "metadata": {},
     "execution_count": 8
    }
   ],
   "metadata": {
    "scrolled": true
   }
  },
  {
   "cell_type": "code",
   "execution_count": 9,
   "source": [
    "a[::2]"
   ],
   "outputs": [
    {
     "output_type": "execute_result",
     "data": {
      "text/plain": [
       "array([1, 3])"
      ]
     },
     "metadata": {},
     "execution_count": 9
    }
   ],
   "metadata": {}
  },
  {
   "cell_type": "code",
   "execution_count": 10,
   "source": [
    "b"
   ],
   "outputs": [
    {
     "output_type": "execute_result",
     "data": {
      "text/plain": [
       "array([0. , 0.5, 1. , 1.5, 2. ])"
      ]
     },
     "metadata": {},
     "execution_count": 10
    }
   ],
   "metadata": {}
  },
  {
   "cell_type": "code",
   "execution_count": 11,
   "source": [
    "b[0], b[2], b[-1] "
   ],
   "outputs": [
    {
     "output_type": "execute_result",
     "data": {
      "text/plain": [
       "(0.0, 1.0, 2.0)"
      ]
     },
     "metadata": {},
     "execution_count": 11
    }
   ],
   "metadata": {
    "scrolled": true
   }
  },
  {
   "cell_type": "code",
   "execution_count": 12,
   "source": [
    "b[[0, 2, -1]] # multy indexing "
   ],
   "outputs": [
    {
     "output_type": "execute_result",
     "data": {
      "text/plain": [
       "array([0., 1., 2.])"
      ]
     },
     "metadata": {},
     "execution_count": 12
    }
   ],
   "metadata": {}
  },
  {
   "cell_type": "markdown",
   "source": [
    "![green-divider](https://user-images.githubusercontent.com/7065401/52071924-c003ad80-2562-11e9-8297-1c6595f8a7ff.png)\n",
    "\n",
    "## Array Types"
   ],
   "metadata": {}
  },
  {
   "cell_type": "code",
   "execution_count": 13,
   "source": [
    "a"
   ],
   "outputs": [
    {
     "output_type": "execute_result",
     "data": {
      "text/plain": [
       "array([1, 2, 3, 4])"
      ]
     },
     "metadata": {},
     "execution_count": 13
    }
   ],
   "metadata": {}
  },
  {
   "cell_type": "code",
   "execution_count": 14,
   "source": [
    "a.dtype"
   ],
   "outputs": [
    {
     "output_type": "execute_result",
     "data": {
      "text/plain": [
       "dtype('int32')"
      ]
     },
     "metadata": {},
     "execution_count": 14
    }
   ],
   "metadata": {}
  },
  {
   "cell_type": "code",
   "execution_count": 15,
   "source": [
    "b"
   ],
   "outputs": [
    {
     "output_type": "execute_result",
     "data": {
      "text/plain": [
       "array([0. , 0.5, 1. , 1.5, 2. ])"
      ]
     },
     "metadata": {},
     "execution_count": 15
    }
   ],
   "metadata": {}
  },
  {
   "cell_type": "code",
   "execution_count": 16,
   "source": [
    "b.dtype"
   ],
   "outputs": [
    {
     "output_type": "execute_result",
     "data": {
      "text/plain": [
       "dtype('float64')"
      ]
     },
     "metadata": {},
     "execution_count": 16
    }
   ],
   "metadata": {}
  },
  {
   "cell_type": "code",
   "execution_count": 17,
   "source": [
    "np.array([1, 2, 3, 4], dtype=np.float)"
   ],
   "outputs": [
    {
     "output_type": "execute_result",
     "data": {
      "text/plain": [
       "array([1., 2., 3., 4.])"
      ]
     },
     "metadata": {},
     "execution_count": 17
    }
   ],
   "metadata": {
    "scrolled": true
   }
  },
  {
   "cell_type": "code",
   "execution_count": 18,
   "source": [
    "np.array([1, 2, 3, 4], dtype=np.int8)"
   ],
   "outputs": [
    {
     "output_type": "execute_result",
     "data": {
      "text/plain": [
       "array([1, 2, 3, 4], dtype=int8)"
      ]
     },
     "metadata": {},
     "execution_count": 18
    }
   ],
   "metadata": {
    "scrolled": true
   }
  },
  {
   "cell_type": "code",
   "execution_count": 19,
   "source": [
    "c = np.array(['a', 'b', 'c'])"
   ],
   "outputs": [],
   "metadata": {}
  },
  {
   "cell_type": "code",
   "execution_count": 20,
   "source": [
    "c.dtype"
   ],
   "outputs": [
    {
     "output_type": "execute_result",
     "data": {
      "text/plain": [
       "dtype('<U1')"
      ]
     },
     "metadata": {},
     "execution_count": 20
    }
   ],
   "metadata": {}
  },
  {
   "cell_type": "code",
   "execution_count": 21,
   "source": [
    "d = np.array([{'a': 1}, sys])"
   ],
   "outputs": [],
   "metadata": {}
  },
  {
   "cell_type": "code",
   "execution_count": 22,
   "source": [
    "d.dtype"
   ],
   "outputs": [
    {
     "output_type": "execute_result",
     "data": {
      "text/plain": [
       "dtype('O')"
      ]
     },
     "metadata": {},
     "execution_count": 22
    }
   ],
   "metadata": {}
  },
  {
   "cell_type": "markdown",
   "source": [
    "![green-divider](https://user-images.githubusercontent.com/7065401/52071924-c003ad80-2562-11e9-8297-1c6595f8a7ff.png)\n",
    "\n",
    "## Dimensions and shapes"
   ],
   "metadata": {}
  },
  {
   "cell_type": "code",
   "execution_count": 23,
   "source": [
    "A = np.array([\r\n",
    "    [1, 2, 3],\r\n",
    "    [4, 5, 6]\r\n",
    "])"
   ],
   "outputs": [],
   "metadata": {}
  },
  {
   "cell_type": "code",
   "execution_count": 24,
   "source": [
    "A.shape"
   ],
   "outputs": [
    {
     "output_type": "execute_result",
     "data": {
      "text/plain": [
       "(2, 3)"
      ]
     },
     "metadata": {},
     "execution_count": 24
    }
   ],
   "metadata": {}
  },
  {
   "cell_type": "code",
   "execution_count": 25,
   "source": [
    "A.ndim # how many dimensions "
   ],
   "outputs": [
    {
     "output_type": "execute_result",
     "data": {
      "text/plain": [
       "2"
      ]
     },
     "metadata": {},
     "execution_count": 25
    }
   ],
   "metadata": {}
  },
  {
   "cell_type": "code",
   "execution_count": 26,
   "source": [
    "A.size #total number of elems "
   ],
   "outputs": [
    {
     "output_type": "execute_result",
     "data": {
      "text/plain": [
       "6"
      ]
     },
     "metadata": {},
     "execution_count": 26
    }
   ],
   "metadata": {}
  },
  {
   "cell_type": "code",
   "execution_count": 27,
   "source": [
    "B = np.array([\r\n",
    "    [\r\n",
    "        [12, 11, 10],\r\n",
    "        [9, 8, 7],\r\n",
    "    ],\r\n",
    "    [\r\n",
    "        [6, 5, 4],\r\n",
    "        [3, 2, 1]\r\n",
    "    ]\r\n",
    "])"
   ],
   "outputs": [],
   "metadata": {}
  },
  {
   "cell_type": "code",
   "execution_count": 28,
   "source": [
    "B"
   ],
   "outputs": [
    {
     "output_type": "execute_result",
     "data": {
      "text/plain": [
       "array([[[12, 11, 10],\n",
       "        [ 9,  8,  7]],\n",
       "\n",
       "       [[ 6,  5,  4],\n",
       "        [ 3,  2,  1]]])"
      ]
     },
     "metadata": {},
     "execution_count": 28
    }
   ],
   "metadata": {}
  },
  {
   "cell_type": "code",
   "execution_count": 29,
   "source": [
    "B.shape"
   ],
   "outputs": [
    {
     "output_type": "execute_result",
     "data": {
      "text/plain": [
       "(2, 2, 3)"
      ]
     },
     "metadata": {},
     "execution_count": 29
    }
   ],
   "metadata": {}
  },
  {
   "cell_type": "code",
   "execution_count": 30,
   "source": [
    "B.ndim"
   ],
   "outputs": [
    {
     "output_type": "execute_result",
     "data": {
      "text/plain": [
       "3"
      ]
     },
     "metadata": {},
     "execution_count": 30
    }
   ],
   "metadata": {}
  },
  {
   "cell_type": "code",
   "execution_count": 31,
   "source": [
    "B.size"
   ],
   "outputs": [
    {
     "output_type": "execute_result",
     "data": {
      "text/plain": [
       "12"
      ]
     },
     "metadata": {},
     "execution_count": 31
    }
   ],
   "metadata": {}
  },
  {
   "cell_type": "markdown",
   "source": [
    "If the shape isn't consistent, it'll just fall back to regular Python objects:"
   ],
   "metadata": {}
  },
  {
   "cell_type": "code",
   "execution_count": 32,
   "source": [
    "C = np.array([\r\n",
    "    [\r\n",
    "        [12, 11, 10],\r\n",
    "        [9, 8, 7],\r\n",
    "    ],\r\n",
    "    [\r\n",
    "        [6, 5, 4]\r\n",
    "    ]\r\n",
    "])"
   ],
   "outputs": [
    {
     "output_type": "stream",
     "name": "stderr",
     "text": [
      "<ipython-input-32-39b57e6bbad9>:1: VisibleDeprecationWarning: Creating an ndarray from ragged nested sequences (which is a list-or-tuple of lists-or-tuples-or ndarrays with different lengths or shapes) is deprecated. If you meant to do this, you must specify 'dtype=object' when creating the ndarray\n",
      "  C = np.array([\n"
     ]
    }
   ],
   "metadata": {}
  },
  {
   "cell_type": "code",
   "execution_count": 33,
   "source": [
    "C.dtype"
   ],
   "outputs": [
    {
     "output_type": "execute_result",
     "data": {
      "text/plain": [
       "dtype('O')"
      ]
     },
     "metadata": {},
     "execution_count": 33
    }
   ],
   "metadata": {}
  },
  {
   "cell_type": "code",
   "execution_count": 34,
   "source": [
    "C.shape"
   ],
   "outputs": [
    {
     "output_type": "execute_result",
     "data": {
      "text/plain": [
       "(2,)"
      ]
     },
     "metadata": {},
     "execution_count": 34
    }
   ],
   "metadata": {}
  },
  {
   "cell_type": "code",
   "execution_count": 35,
   "source": [
    "C.size"
   ],
   "outputs": [
    {
     "output_type": "execute_result",
     "data": {
      "text/plain": [
       "2"
      ]
     },
     "metadata": {},
     "execution_count": 35
    }
   ],
   "metadata": {}
  },
  {
   "cell_type": "code",
   "execution_count": 36,
   "source": [
    "type(C[0])"
   ],
   "outputs": [
    {
     "output_type": "execute_result",
     "data": {
      "text/plain": [
       "list"
      ]
     },
     "metadata": {},
     "execution_count": 36
    }
   ],
   "metadata": {}
  },
  {
   "cell_type": "markdown",
   "source": [
    "![green-divider](https://user-images.githubusercontent.com/7065401/52071924-c003ad80-2562-11e9-8297-1c6595f8a7ff.png)\n",
    "\n",
    "## Indexing and Slicing of Matrices"
   ],
   "metadata": {}
  },
  {
   "cell_type": "code",
   "execution_count": 37,
   "source": [
    "# Square matrix\r\n",
    "A = np.array([\r\n",
    "#.   0. 1. 2\r\n",
    "    [1, 2, 3], # 0\r\n",
    "    [4, 5, 6], # 1\r\n",
    "    [7, 8, 9]  # 2\r\n",
    "])"
   ],
   "outputs": [],
   "metadata": {}
  },
  {
   "cell_type": "code",
   "execution_count": 38,
   "source": [
    "A[1]"
   ],
   "outputs": [
    {
     "output_type": "execute_result",
     "data": {
      "text/plain": [
       "array([4, 5, 6])"
      ]
     },
     "metadata": {},
     "execution_count": 38
    }
   ],
   "metadata": {}
  },
  {
   "cell_type": "code",
   "execution_count": 39,
   "source": [
    "A[1][0]"
   ],
   "outputs": [
    {
     "output_type": "execute_result",
     "data": {
      "text/plain": [
       "4"
      ]
     },
     "metadata": {},
     "execution_count": 39
    }
   ],
   "metadata": {}
  },
  {
   "cell_type": "code",
   "execution_count": 40,
   "source": [
    "# A[d1, d2, d3, d4]"
   ],
   "outputs": [],
   "metadata": {}
  },
  {
   "cell_type": "code",
   "execution_count": 41,
   "source": [
    "A[1, 0]"
   ],
   "outputs": [
    {
     "output_type": "execute_result",
     "data": {
      "text/plain": [
       "4"
      ]
     },
     "metadata": {},
     "execution_count": 41
    }
   ],
   "metadata": {}
  },
  {
   "cell_type": "code",
   "execution_count": 42,
   "source": [
    "A[0:2]"
   ],
   "outputs": [
    {
     "output_type": "execute_result",
     "data": {
      "text/plain": [
       "array([[1, 2, 3],\n",
       "       [4, 5, 6]])"
      ]
     },
     "metadata": {},
     "execution_count": 42
    }
   ],
   "metadata": {
    "scrolled": true
   }
  },
  {
   "cell_type": "code",
   "execution_count": 43,
   "source": [
    "A[:, :2]"
   ],
   "outputs": [
    {
     "output_type": "execute_result",
     "data": {
      "text/plain": [
       "array([[1, 2],\n",
       "       [4, 5],\n",
       "       [7, 8]])"
      ]
     },
     "metadata": {},
     "execution_count": 43
    }
   ],
   "metadata": {}
  },
  {
   "cell_type": "code",
   "execution_count": 44,
   "source": [
    "A[:2, :2]"
   ],
   "outputs": [
    {
     "output_type": "execute_result",
     "data": {
      "text/plain": [
       "array([[1, 2],\n",
       "       [4, 5]])"
      ]
     },
     "metadata": {},
     "execution_count": 44
    }
   ],
   "metadata": {}
  },
  {
   "cell_type": "code",
   "execution_count": 45,
   "source": [
    "A[:2, 2:]"
   ],
   "outputs": [
    {
     "output_type": "execute_result",
     "data": {
      "text/plain": [
       "array([[3],\n",
       "       [6]])"
      ]
     },
     "metadata": {},
     "execution_count": 45
    }
   ],
   "metadata": {}
  },
  {
   "cell_type": "code",
   "execution_count": 46,
   "source": [
    "A"
   ],
   "outputs": [
    {
     "output_type": "execute_result",
     "data": {
      "text/plain": [
       "array([[1, 2, 3],\n",
       "       [4, 5, 6],\n",
       "       [7, 8, 9]])"
      ]
     },
     "metadata": {},
     "execution_count": 46
    }
   ],
   "metadata": {}
  },
  {
   "cell_type": "code",
   "execution_count": 47,
   "source": [
    "A[1] = np.array([10, 10, 10])"
   ],
   "outputs": [],
   "metadata": {}
  },
  {
   "cell_type": "code",
   "execution_count": 48,
   "source": [
    "A"
   ],
   "outputs": [
    {
     "output_type": "execute_result",
     "data": {
      "text/plain": [
       "array([[ 1,  2,  3],\n",
       "       [10, 10, 10],\n",
       "       [ 7,  8,  9]])"
      ]
     },
     "metadata": {},
     "execution_count": 48
    }
   ],
   "metadata": {}
  },
  {
   "cell_type": "code",
   "execution_count": 49,
   "source": [
    "A[2] = 99 # expand operaation s"
   ],
   "outputs": [],
   "metadata": {}
  },
  {
   "cell_type": "code",
   "execution_count": 50,
   "source": [
    "A"
   ],
   "outputs": [
    {
     "output_type": "execute_result",
     "data": {
      "text/plain": [
       "array([[ 1,  2,  3],\n",
       "       [10, 10, 10],\n",
       "       [99, 99, 99]])"
      ]
     },
     "metadata": {},
     "execution_count": 50
    }
   ],
   "metadata": {}
  },
  {
   "cell_type": "markdown",
   "source": [
    "![green-divider](https://user-images.githubusercontent.com/7065401/52071924-c003ad80-2562-11e9-8297-1c6595f8a7ff.png)\n",
    "\n",
    "## Summary statistics"
   ],
   "metadata": {}
  },
  {
   "cell_type": "code",
   "execution_count": 51,
   "source": [
    "a = np.array([1, 2, 3, 4])"
   ],
   "outputs": [],
   "metadata": {}
  },
  {
   "cell_type": "code",
   "execution_count": 52,
   "source": [
    "a.sum()"
   ],
   "outputs": [
    {
     "output_type": "execute_result",
     "data": {
      "text/plain": [
       "10"
      ]
     },
     "metadata": {},
     "execution_count": 52
    }
   ],
   "metadata": {}
  },
  {
   "cell_type": "code",
   "execution_count": 53,
   "source": [
    "a.mean()"
   ],
   "outputs": [
    {
     "output_type": "execute_result",
     "data": {
      "text/plain": [
       "2.5"
      ]
     },
     "metadata": {},
     "execution_count": 53
    }
   ],
   "metadata": {}
  },
  {
   "cell_type": "code",
   "execution_count": 54,
   "source": [
    "a.std()"
   ],
   "outputs": [
    {
     "output_type": "execute_result",
     "data": {
      "text/plain": [
       "1.118033988749895"
      ]
     },
     "metadata": {},
     "execution_count": 54
    }
   ],
   "metadata": {}
  },
  {
   "cell_type": "code",
   "execution_count": 55,
   "source": [
    "a.var()"
   ],
   "outputs": [
    {
     "output_type": "execute_result",
     "data": {
      "text/plain": [
       "1.25"
      ]
     },
     "metadata": {},
     "execution_count": 55
    }
   ],
   "metadata": {}
  },
  {
   "cell_type": "code",
   "execution_count": 56,
   "source": [
    "A = np.array([\r\n",
    "#.  0   1   2 \r\n",
    "    [1, 2, 3], # 0\r\n",
    "    [4, 5, 6], # 1\r\n",
    "    [7, 8, 9]  # 2\r\n",
    "])"
   ],
   "outputs": [],
   "metadata": {}
  },
  {
   "cell_type": "code",
   "execution_count": 57,
   "source": [
    "A.sum()"
   ],
   "outputs": [
    {
     "output_type": "execute_result",
     "data": {
      "text/plain": [
       "45"
      ]
     },
     "metadata": {},
     "execution_count": 57
    }
   ],
   "metadata": {}
  },
  {
   "cell_type": "code",
   "execution_count": 58,
   "source": [
    "A.mean()"
   ],
   "outputs": [
    {
     "output_type": "execute_result",
     "data": {
      "text/plain": [
       "5.0"
      ]
     },
     "metadata": {},
     "execution_count": 58
    }
   ],
   "metadata": {}
  },
  {
   "cell_type": "code",
   "execution_count": 59,
   "source": [
    "A.std()"
   ],
   "outputs": [
    {
     "output_type": "execute_result",
     "data": {
      "text/plain": [
       "2.581988897471611"
      ]
     },
     "metadata": {},
     "execution_count": 59
    }
   ],
   "metadata": {}
  },
  {
   "cell_type": "code",
   "execution_count": 60,
   "source": [
    "A.sum(axis=0)"
   ],
   "outputs": [
    {
     "output_type": "execute_result",
     "data": {
      "text/plain": [
       "array([12, 15, 18])"
      ]
     },
     "metadata": {},
     "execution_count": 60
    }
   ],
   "metadata": {}
  },
  {
   "cell_type": "code",
   "execution_count": 61,
   "source": [
    "A.sum(axis=1)"
   ],
   "outputs": [
    {
     "output_type": "execute_result",
     "data": {
      "text/plain": [
       "array([ 6, 15, 24])"
      ]
     },
     "metadata": {},
     "execution_count": 61
    }
   ],
   "metadata": {}
  },
  {
   "cell_type": "code",
   "execution_count": 62,
   "source": [
    "A.mean(axis=0)"
   ],
   "outputs": [
    {
     "output_type": "execute_result",
     "data": {
      "text/plain": [
       "array([4., 5., 6.])"
      ]
     },
     "metadata": {},
     "execution_count": 62
    }
   ],
   "metadata": {
    "scrolled": true
   }
  },
  {
   "cell_type": "code",
   "execution_count": 63,
   "source": [
    "A.mean(axis=1)"
   ],
   "outputs": [
    {
     "output_type": "execute_result",
     "data": {
      "text/plain": [
       "array([2., 5., 8.])"
      ]
     },
     "metadata": {},
     "execution_count": 63
    }
   ],
   "metadata": {}
  },
  {
   "cell_type": "code",
   "execution_count": 64,
   "source": [
    "A.std(axis=0)"
   ],
   "outputs": [
    {
     "output_type": "execute_result",
     "data": {
      "text/plain": [
       "array([2.44948974, 2.44948974, 2.44948974])"
      ]
     },
     "metadata": {},
     "execution_count": 64
    }
   ],
   "metadata": {}
  },
  {
   "cell_type": "code",
   "execution_count": 65,
   "source": [
    "A.std(axis=1)"
   ],
   "outputs": [
    {
     "output_type": "execute_result",
     "data": {
      "text/plain": [
       "array([0.81649658, 0.81649658, 0.81649658])"
      ]
     },
     "metadata": {},
     "execution_count": 65
    }
   ],
   "metadata": {
    "scrolled": true
   }
  },
  {
   "cell_type": "markdown",
   "source": [
    "And [many more](https://docs.scipy.org/doc/numpy-1.13.0/reference/arrays.ndarray.html#array-methods)..."
   ],
   "metadata": {}
  },
  {
   "cell_type": "markdown",
   "source": [
    "![green-divider](https://user-images.githubusercontent.com/7065401/52071924-c003ad80-2562-11e9-8297-1c6595f8a7ff.png)\n",
    "\n",
    "## Broadcasting and Vectorized operations"
   ],
   "metadata": {}
  },
  {
   "cell_type": "code",
   "execution_count": 66,
   "source": [
    "a = np.arange(4)"
   ],
   "outputs": [],
   "metadata": {}
  },
  {
   "cell_type": "code",
   "execution_count": 67,
   "source": [
    "a"
   ],
   "outputs": [
    {
     "output_type": "execute_result",
     "data": {
      "text/plain": [
       "array([0, 1, 2, 3])"
      ]
     },
     "metadata": {},
     "execution_count": 67
    }
   ],
   "metadata": {}
  },
  {
   "cell_type": "code",
   "execution_count": 68,
   "source": [
    "a + 10 # apply to each element"
   ],
   "outputs": [
    {
     "output_type": "execute_result",
     "data": {
      "text/plain": [
       "array([10, 11, 12, 13])"
      ]
     },
     "metadata": {},
     "execution_count": 68
    }
   ],
   "metadata": {}
  },
  {
   "cell_type": "code",
   "execution_count": 69,
   "source": [
    "a * 10"
   ],
   "outputs": [
    {
     "output_type": "execute_result",
     "data": {
      "text/plain": [
       "array([ 0, 10, 20, 30])"
      ]
     },
     "metadata": {},
     "execution_count": 69
    }
   ],
   "metadata": {}
  },
  {
   "cell_type": "code",
   "execution_count": 70,
   "source": [
    "a"
   ],
   "outputs": [
    {
     "output_type": "execute_result",
     "data": {
      "text/plain": [
       "array([0, 1, 2, 3])"
      ]
     },
     "metadata": {},
     "execution_count": 70
    }
   ],
   "metadata": {}
  },
  {
   "cell_type": "code",
   "execution_count": 71,
   "source": [
    "a += 100"
   ],
   "outputs": [],
   "metadata": {}
  },
  {
   "cell_type": "code",
   "execution_count": 72,
   "source": [
    "a"
   ],
   "outputs": [
    {
     "output_type": "execute_result",
     "data": {
      "text/plain": [
       "array([100, 101, 102, 103])"
      ]
     },
     "metadata": {},
     "execution_count": 72
    }
   ],
   "metadata": {}
  },
  {
   "cell_type": "code",
   "execution_count": 73,
   "source": [
    "l = [0, 1, 2, 3]"
   ],
   "outputs": [],
   "metadata": {}
  },
  {
   "cell_type": "code",
   "execution_count": 142,
   "source": [
    "[i * 10 for i in l]"
   ],
   "outputs": [
    {
     "output_type": "execute_result",
     "data": {
      "text/plain": [
       "[0,\n",
       " 10,\n",
       " 20,\n",
       " 30,\n",
       " 40,\n",
       " 50,\n",
       " 60,\n",
       " 70,\n",
       " 80,\n",
       " 90,\n",
       " 100,\n",
       " 110,\n",
       " 120,\n",
       " 130,\n",
       " 140,\n",
       " 150,\n",
       " 160,\n",
       " 170,\n",
       " 180,\n",
       " 190,\n",
       " 200,\n",
       " 210,\n",
       " 220,\n",
       " 230,\n",
       " 240,\n",
       " 250,\n",
       " 260,\n",
       " 270,\n",
       " 280,\n",
       " 290,\n",
       " 300,\n",
       " 310,\n",
       " 320,\n",
       " 330,\n",
       " 340,\n",
       " 350,\n",
       " 360,\n",
       " 370,\n",
       " 380,\n",
       " 390,\n",
       " 400,\n",
       " 410,\n",
       " 420,\n",
       " 430,\n",
       " 440,\n",
       " 450,\n",
       " 460,\n",
       " 470,\n",
       " 480,\n",
       " 490,\n",
       " 500,\n",
       " 510,\n",
       " 520,\n",
       " 530,\n",
       " 540,\n",
       " 550,\n",
       " 560,\n",
       " 570,\n",
       " 580,\n",
       " 590,\n",
       " 600,\n",
       " 610,\n",
       " 620,\n",
       " 630,\n",
       " 640,\n",
       " 650,\n",
       " 660,\n",
       " 670,\n",
       " 680,\n",
       " 690,\n",
       " 700,\n",
       " 710,\n",
       " 720,\n",
       " 730,\n",
       " 740,\n",
       " 750,\n",
       " 760,\n",
       " 770,\n",
       " 780,\n",
       " 790,\n",
       " 800,\n",
       " 810,\n",
       " 820,\n",
       " 830,\n",
       " 840,\n",
       " 850,\n",
       " 860,\n",
       " 870,\n",
       " 880,\n",
       " 890,\n",
       " 900,\n",
       " 910,\n",
       " 920,\n",
       " 930,\n",
       " 940,\n",
       " 950,\n",
       " 960,\n",
       " 970,\n",
       " 980,\n",
       " 990,\n",
       " 1000,\n",
       " 1010,\n",
       " 1020,\n",
       " 1030,\n",
       " 1040,\n",
       " 1050,\n",
       " 1060,\n",
       " 1070,\n",
       " 1080,\n",
       " 1090,\n",
       " 1100,\n",
       " 1110,\n",
       " 1120,\n",
       " 1130,\n",
       " 1140,\n",
       " 1150,\n",
       " 1160,\n",
       " 1170,\n",
       " 1180,\n",
       " 1190,\n",
       " 1200,\n",
       " 1210,\n",
       " 1220,\n",
       " 1230,\n",
       " 1240,\n",
       " 1250,\n",
       " 1260,\n",
       " 1270,\n",
       " 1280,\n",
       " 1290,\n",
       " 1300,\n",
       " 1310,\n",
       " 1320,\n",
       " 1330,\n",
       " 1340,\n",
       " 1350,\n",
       " 1360,\n",
       " 1370,\n",
       " 1380,\n",
       " 1390,\n",
       " 1400,\n",
       " 1410,\n",
       " 1420,\n",
       " 1430,\n",
       " 1440,\n",
       " 1450,\n",
       " 1460,\n",
       " 1470,\n",
       " 1480,\n",
       " 1490,\n",
       " 1500,\n",
       " 1510,\n",
       " 1520,\n",
       " 1530,\n",
       " 1540,\n",
       " 1550,\n",
       " 1560,\n",
       " 1570,\n",
       " 1580,\n",
       " 1590,\n",
       " 1600,\n",
       " 1610,\n",
       " 1620,\n",
       " 1630,\n",
       " 1640,\n",
       " 1650,\n",
       " 1660,\n",
       " 1670,\n",
       " 1680,\n",
       " 1690,\n",
       " 1700,\n",
       " 1710,\n",
       " 1720,\n",
       " 1730,\n",
       " 1740,\n",
       " 1750,\n",
       " 1760,\n",
       " 1770,\n",
       " 1780,\n",
       " 1790,\n",
       " 1800,\n",
       " 1810,\n",
       " 1820,\n",
       " 1830,\n",
       " 1840,\n",
       " 1850,\n",
       " 1860,\n",
       " 1870,\n",
       " 1880,\n",
       " 1890,\n",
       " 1900,\n",
       " 1910,\n",
       " 1920,\n",
       " 1930,\n",
       " 1940,\n",
       " 1950,\n",
       " 1960,\n",
       " 1970,\n",
       " 1980,\n",
       " 1990,\n",
       " 2000,\n",
       " 2010,\n",
       " 2020,\n",
       " 2030,\n",
       " 2040,\n",
       " 2050,\n",
       " 2060,\n",
       " 2070,\n",
       " 2080,\n",
       " 2090,\n",
       " 2100,\n",
       " 2110,\n",
       " 2120,\n",
       " 2130,\n",
       " 2140,\n",
       " 2150,\n",
       " 2160,\n",
       " 2170,\n",
       " 2180,\n",
       " 2190,\n",
       " 2200,\n",
       " 2210,\n",
       " 2220,\n",
       " 2230,\n",
       " 2240,\n",
       " 2250,\n",
       " 2260,\n",
       " 2270,\n",
       " 2280,\n",
       " 2290,\n",
       " 2300,\n",
       " 2310,\n",
       " 2320,\n",
       " 2330,\n",
       " 2340,\n",
       " 2350,\n",
       " 2360,\n",
       " 2370,\n",
       " 2380,\n",
       " 2390,\n",
       " 2400,\n",
       " 2410,\n",
       " 2420,\n",
       " 2430,\n",
       " 2440,\n",
       " 2450,\n",
       " 2460,\n",
       " 2470,\n",
       " 2480,\n",
       " 2490,\n",
       " 2500,\n",
       " 2510,\n",
       " 2520,\n",
       " 2530,\n",
       " 2540,\n",
       " 2550,\n",
       " 2560,\n",
       " 2570,\n",
       " 2580,\n",
       " 2590,\n",
       " 2600,\n",
       " 2610,\n",
       " 2620,\n",
       " 2630,\n",
       " 2640,\n",
       " 2650,\n",
       " 2660,\n",
       " 2670,\n",
       " 2680,\n",
       " 2690,\n",
       " 2700,\n",
       " 2710,\n",
       " 2720,\n",
       " 2730,\n",
       " 2740,\n",
       " 2750,\n",
       " 2760,\n",
       " 2770,\n",
       " 2780,\n",
       " 2790,\n",
       " 2800,\n",
       " 2810,\n",
       " 2820,\n",
       " 2830,\n",
       " 2840,\n",
       " 2850,\n",
       " 2860,\n",
       " 2870,\n",
       " 2880,\n",
       " 2890,\n",
       " 2900,\n",
       " 2910,\n",
       " 2920,\n",
       " 2930,\n",
       " 2940,\n",
       " 2950,\n",
       " 2960,\n",
       " 2970,\n",
       " 2980,\n",
       " 2990,\n",
       " 3000,\n",
       " 3010,\n",
       " 3020,\n",
       " 3030,\n",
       " 3040,\n",
       " 3050,\n",
       " 3060,\n",
       " 3070,\n",
       " 3080,\n",
       " 3090,\n",
       " 3100,\n",
       " 3110,\n",
       " 3120,\n",
       " 3130,\n",
       " 3140,\n",
       " 3150,\n",
       " 3160,\n",
       " 3170,\n",
       " 3180,\n",
       " 3190,\n",
       " 3200,\n",
       " 3210,\n",
       " 3220,\n",
       " 3230,\n",
       " 3240,\n",
       " 3250,\n",
       " 3260,\n",
       " 3270,\n",
       " 3280,\n",
       " 3290,\n",
       " 3300,\n",
       " 3310,\n",
       " 3320,\n",
       " 3330,\n",
       " 3340,\n",
       " 3350,\n",
       " 3360,\n",
       " 3370,\n",
       " 3380,\n",
       " 3390,\n",
       " 3400,\n",
       " 3410,\n",
       " 3420,\n",
       " 3430,\n",
       " 3440,\n",
       " 3450,\n",
       " 3460,\n",
       " 3470,\n",
       " 3480,\n",
       " 3490,\n",
       " 3500,\n",
       " 3510,\n",
       " 3520,\n",
       " 3530,\n",
       " 3540,\n",
       " 3550,\n",
       " 3560,\n",
       " 3570,\n",
       " 3580,\n",
       " 3590,\n",
       " 3600,\n",
       " 3610,\n",
       " 3620,\n",
       " 3630,\n",
       " 3640,\n",
       " 3650,\n",
       " 3660,\n",
       " 3670,\n",
       " 3680,\n",
       " 3690,\n",
       " 3700,\n",
       " 3710,\n",
       " 3720,\n",
       " 3730,\n",
       " 3740,\n",
       " 3750,\n",
       " 3760,\n",
       " 3770,\n",
       " 3780,\n",
       " 3790,\n",
       " 3800,\n",
       " 3810,\n",
       " 3820,\n",
       " 3830,\n",
       " 3840,\n",
       " 3850,\n",
       " 3860,\n",
       " 3870,\n",
       " 3880,\n",
       " 3890,\n",
       " 3900,\n",
       " 3910,\n",
       " 3920,\n",
       " 3930,\n",
       " 3940,\n",
       " 3950,\n",
       " 3960,\n",
       " 3970,\n",
       " 3980,\n",
       " 3990,\n",
       " 4000,\n",
       " 4010,\n",
       " 4020,\n",
       " 4030,\n",
       " 4040,\n",
       " 4050,\n",
       " 4060,\n",
       " 4070,\n",
       " 4080,\n",
       " 4090,\n",
       " 4100,\n",
       " 4110,\n",
       " 4120,\n",
       " 4130,\n",
       " 4140,\n",
       " 4150,\n",
       " 4160,\n",
       " 4170,\n",
       " 4180,\n",
       " 4190,\n",
       " 4200,\n",
       " 4210,\n",
       " 4220,\n",
       " 4230,\n",
       " 4240,\n",
       " 4250,\n",
       " 4260,\n",
       " 4270,\n",
       " 4280,\n",
       " 4290,\n",
       " 4300,\n",
       " 4310,\n",
       " 4320,\n",
       " 4330,\n",
       " 4340,\n",
       " 4350,\n",
       " 4360,\n",
       " 4370,\n",
       " 4380,\n",
       " 4390,\n",
       " 4400,\n",
       " 4410,\n",
       " 4420,\n",
       " 4430,\n",
       " 4440,\n",
       " 4450,\n",
       " 4460,\n",
       " 4470,\n",
       " 4480,\n",
       " 4490,\n",
       " 4500,\n",
       " 4510,\n",
       " 4520,\n",
       " 4530,\n",
       " 4540,\n",
       " 4550,\n",
       " 4560,\n",
       " 4570,\n",
       " 4580,\n",
       " 4590,\n",
       " 4600,\n",
       " 4610,\n",
       " 4620,\n",
       " 4630,\n",
       " 4640,\n",
       " 4650,\n",
       " 4660,\n",
       " 4670,\n",
       " 4680,\n",
       " 4690,\n",
       " 4700,\n",
       " 4710,\n",
       " 4720,\n",
       " 4730,\n",
       " 4740,\n",
       " 4750,\n",
       " 4760,\n",
       " 4770,\n",
       " 4780,\n",
       " 4790,\n",
       " 4800,\n",
       " 4810,\n",
       " 4820,\n",
       " 4830,\n",
       " 4840,\n",
       " 4850,\n",
       " 4860,\n",
       " 4870,\n",
       " 4880,\n",
       " 4890,\n",
       " 4900,\n",
       " 4910,\n",
       " 4920,\n",
       " 4930,\n",
       " 4940,\n",
       " 4950,\n",
       " 4960,\n",
       " 4970,\n",
       " 4980,\n",
       " 4990,\n",
       " 5000,\n",
       " 5010,\n",
       " 5020,\n",
       " 5030,\n",
       " 5040,\n",
       " 5050,\n",
       " 5060,\n",
       " 5070,\n",
       " 5080,\n",
       " 5090,\n",
       " 5100,\n",
       " 5110,\n",
       " 5120,\n",
       " 5130,\n",
       " 5140,\n",
       " 5150,\n",
       " 5160,\n",
       " 5170,\n",
       " 5180,\n",
       " 5190,\n",
       " 5200,\n",
       " 5210,\n",
       " 5220,\n",
       " 5230,\n",
       " 5240,\n",
       " 5250,\n",
       " 5260,\n",
       " 5270,\n",
       " 5280,\n",
       " 5290,\n",
       " 5300,\n",
       " 5310,\n",
       " 5320,\n",
       " 5330,\n",
       " 5340,\n",
       " 5350,\n",
       " 5360,\n",
       " 5370,\n",
       " 5380,\n",
       " 5390,\n",
       " 5400,\n",
       " 5410,\n",
       " 5420,\n",
       " 5430,\n",
       " 5440,\n",
       " 5450,\n",
       " 5460,\n",
       " 5470,\n",
       " 5480,\n",
       " 5490,\n",
       " 5500,\n",
       " 5510,\n",
       " 5520,\n",
       " 5530,\n",
       " 5540,\n",
       " 5550,\n",
       " 5560,\n",
       " 5570,\n",
       " 5580,\n",
       " 5590,\n",
       " 5600,\n",
       " 5610,\n",
       " 5620,\n",
       " 5630,\n",
       " 5640,\n",
       " 5650,\n",
       " 5660,\n",
       " 5670,\n",
       " 5680,\n",
       " 5690,\n",
       " 5700,\n",
       " 5710,\n",
       " 5720,\n",
       " 5730,\n",
       " 5740,\n",
       " 5750,\n",
       " 5760,\n",
       " 5770,\n",
       " 5780,\n",
       " 5790,\n",
       " 5800,\n",
       " 5810,\n",
       " 5820,\n",
       " 5830,\n",
       " 5840,\n",
       " 5850,\n",
       " 5860,\n",
       " 5870,\n",
       " 5880,\n",
       " 5890,\n",
       " 5900,\n",
       " 5910,\n",
       " 5920,\n",
       " 5930,\n",
       " 5940,\n",
       " 5950,\n",
       " 5960,\n",
       " 5970,\n",
       " 5980,\n",
       " 5990,\n",
       " 6000,\n",
       " 6010,\n",
       " 6020,\n",
       " 6030,\n",
       " 6040,\n",
       " 6050,\n",
       " 6060,\n",
       " 6070,\n",
       " 6080,\n",
       " 6090,\n",
       " 6100,\n",
       " 6110,\n",
       " 6120,\n",
       " 6130,\n",
       " 6140,\n",
       " 6150,\n",
       " 6160,\n",
       " 6170,\n",
       " 6180,\n",
       " 6190,\n",
       " 6200,\n",
       " 6210,\n",
       " 6220,\n",
       " 6230,\n",
       " 6240,\n",
       " 6250,\n",
       " 6260,\n",
       " 6270,\n",
       " 6280,\n",
       " 6290,\n",
       " 6300,\n",
       " 6310,\n",
       " 6320,\n",
       " 6330,\n",
       " 6340,\n",
       " 6350,\n",
       " 6360,\n",
       " 6370,\n",
       " 6380,\n",
       " 6390,\n",
       " 6400,\n",
       " 6410,\n",
       " 6420,\n",
       " 6430,\n",
       " 6440,\n",
       " 6450,\n",
       " 6460,\n",
       " 6470,\n",
       " 6480,\n",
       " 6490,\n",
       " 6500,\n",
       " 6510,\n",
       " 6520,\n",
       " 6530,\n",
       " 6540,\n",
       " 6550,\n",
       " 6560,\n",
       " 6570,\n",
       " 6580,\n",
       " 6590,\n",
       " 6600,\n",
       " 6610,\n",
       " 6620,\n",
       " 6630,\n",
       " 6640,\n",
       " 6650,\n",
       " 6660,\n",
       " 6670,\n",
       " 6680,\n",
       " 6690,\n",
       " 6700,\n",
       " 6710,\n",
       " 6720,\n",
       " 6730,\n",
       " 6740,\n",
       " 6750,\n",
       " 6760,\n",
       " 6770,\n",
       " 6780,\n",
       " 6790,\n",
       " 6800,\n",
       " 6810,\n",
       " 6820,\n",
       " 6830,\n",
       " 6840,\n",
       " 6850,\n",
       " 6860,\n",
       " 6870,\n",
       " 6880,\n",
       " 6890,\n",
       " 6900,\n",
       " 6910,\n",
       " 6920,\n",
       " 6930,\n",
       " 6940,\n",
       " 6950,\n",
       " 6960,\n",
       " 6970,\n",
       " 6980,\n",
       " 6990,\n",
       " 7000,\n",
       " 7010,\n",
       " 7020,\n",
       " 7030,\n",
       " 7040,\n",
       " 7050,\n",
       " 7060,\n",
       " 7070,\n",
       " 7080,\n",
       " 7090,\n",
       " 7100,\n",
       " 7110,\n",
       " 7120,\n",
       " 7130,\n",
       " 7140,\n",
       " 7150,\n",
       " 7160,\n",
       " 7170,\n",
       " 7180,\n",
       " 7190,\n",
       " 7200,\n",
       " 7210,\n",
       " 7220,\n",
       " 7230,\n",
       " 7240,\n",
       " 7250,\n",
       " 7260,\n",
       " 7270,\n",
       " 7280,\n",
       " 7290,\n",
       " 7300,\n",
       " 7310,\n",
       " 7320,\n",
       " 7330,\n",
       " 7340,\n",
       " 7350,\n",
       " 7360,\n",
       " 7370,\n",
       " 7380,\n",
       " 7390,\n",
       " 7400,\n",
       " 7410,\n",
       " 7420,\n",
       " 7430,\n",
       " 7440,\n",
       " 7450,\n",
       " 7460,\n",
       " 7470,\n",
       " 7480,\n",
       " 7490,\n",
       " 7500,\n",
       " 7510,\n",
       " 7520,\n",
       " 7530,\n",
       " 7540,\n",
       " 7550,\n",
       " 7560,\n",
       " 7570,\n",
       " 7580,\n",
       " 7590,\n",
       " 7600,\n",
       " 7610,\n",
       " 7620,\n",
       " 7630,\n",
       " 7640,\n",
       " 7650,\n",
       " 7660,\n",
       " 7670,\n",
       " 7680,\n",
       " 7690,\n",
       " 7700,\n",
       " 7710,\n",
       " 7720,\n",
       " 7730,\n",
       " 7740,\n",
       " 7750,\n",
       " 7760,\n",
       " 7770,\n",
       " 7780,\n",
       " 7790,\n",
       " 7800,\n",
       " 7810,\n",
       " 7820,\n",
       " 7830,\n",
       " 7840,\n",
       " 7850,\n",
       " 7860,\n",
       " 7870,\n",
       " 7880,\n",
       " 7890,\n",
       " 7900,\n",
       " 7910,\n",
       " 7920,\n",
       " 7930,\n",
       " 7940,\n",
       " 7950,\n",
       " 7960,\n",
       " 7970,\n",
       " 7980,\n",
       " 7990,\n",
       " 8000,\n",
       " 8010,\n",
       " 8020,\n",
       " 8030,\n",
       " 8040,\n",
       " 8050,\n",
       " 8060,\n",
       " 8070,\n",
       " 8080,\n",
       " 8090,\n",
       " 8100,\n",
       " 8110,\n",
       " 8120,\n",
       " 8130,\n",
       " 8140,\n",
       " 8150,\n",
       " 8160,\n",
       " 8170,\n",
       " 8180,\n",
       " 8190,\n",
       " 8200,\n",
       " 8210,\n",
       " 8220,\n",
       " 8230,\n",
       " 8240,\n",
       " 8250,\n",
       " 8260,\n",
       " 8270,\n",
       " 8280,\n",
       " 8290,\n",
       " 8300,\n",
       " 8310,\n",
       " 8320,\n",
       " 8330,\n",
       " 8340,\n",
       " 8350,\n",
       " 8360,\n",
       " 8370,\n",
       " 8380,\n",
       " 8390,\n",
       " 8400,\n",
       " 8410,\n",
       " 8420,\n",
       " 8430,\n",
       " 8440,\n",
       " 8450,\n",
       " 8460,\n",
       " 8470,\n",
       " 8480,\n",
       " 8490,\n",
       " 8500,\n",
       " 8510,\n",
       " 8520,\n",
       " 8530,\n",
       " 8540,\n",
       " 8550,\n",
       " 8560,\n",
       " 8570,\n",
       " 8580,\n",
       " 8590,\n",
       " 8600,\n",
       " 8610,\n",
       " 8620,\n",
       " 8630,\n",
       " 8640,\n",
       " 8650,\n",
       " 8660,\n",
       " 8670,\n",
       " 8680,\n",
       " 8690,\n",
       " 8700,\n",
       " 8710,\n",
       " 8720,\n",
       " 8730,\n",
       " 8740,\n",
       " 8750,\n",
       " 8760,\n",
       " 8770,\n",
       " 8780,\n",
       " 8790,\n",
       " 8800,\n",
       " 8810,\n",
       " 8820,\n",
       " 8830,\n",
       " 8840,\n",
       " 8850,\n",
       " 8860,\n",
       " 8870,\n",
       " 8880,\n",
       " 8890,\n",
       " 8900,\n",
       " 8910,\n",
       " 8920,\n",
       " 8930,\n",
       " 8940,\n",
       " 8950,\n",
       " 8960,\n",
       " 8970,\n",
       " 8980,\n",
       " 8990,\n",
       " 9000,\n",
       " 9010,\n",
       " 9020,\n",
       " 9030,\n",
       " 9040,\n",
       " 9050,\n",
       " 9060,\n",
       " 9070,\n",
       " 9080,\n",
       " 9090,\n",
       " 9100,\n",
       " 9110,\n",
       " 9120,\n",
       " 9130,\n",
       " 9140,\n",
       " 9150,\n",
       " 9160,\n",
       " 9170,\n",
       " 9180,\n",
       " 9190,\n",
       " 9200,\n",
       " 9210,\n",
       " 9220,\n",
       " 9230,\n",
       " 9240,\n",
       " 9250,\n",
       " 9260,\n",
       " 9270,\n",
       " 9280,\n",
       " 9290,\n",
       " 9300,\n",
       " 9310,\n",
       " 9320,\n",
       " 9330,\n",
       " 9340,\n",
       " 9350,\n",
       " 9360,\n",
       " 9370,\n",
       " 9380,\n",
       " 9390,\n",
       " 9400,\n",
       " 9410,\n",
       " 9420,\n",
       " 9430,\n",
       " 9440,\n",
       " 9450,\n",
       " 9460,\n",
       " 9470,\n",
       " 9480,\n",
       " 9490,\n",
       " 9500,\n",
       " 9510,\n",
       " 9520,\n",
       " 9530,\n",
       " 9540,\n",
       " 9550,\n",
       " 9560,\n",
       " 9570,\n",
       " 9580,\n",
       " 9590,\n",
       " 9600,\n",
       " 9610,\n",
       " 9620,\n",
       " 9630,\n",
       " 9640,\n",
       " 9650,\n",
       " 9660,\n",
       " 9670,\n",
       " 9680,\n",
       " 9690,\n",
       " 9700,\n",
       " 9710,\n",
       " 9720,\n",
       " 9730,\n",
       " 9740,\n",
       " 9750,\n",
       " 9760,\n",
       " 9770,\n",
       " 9780,\n",
       " 9790,\n",
       " 9800,\n",
       " 9810,\n",
       " 9820,\n",
       " 9830,\n",
       " 9840,\n",
       " 9850,\n",
       " 9860,\n",
       " 9870,\n",
       " 9880,\n",
       " 9890,\n",
       " 9900,\n",
       " 9910,\n",
       " 9920,\n",
       " 9930,\n",
       " 9940,\n",
       " 9950,\n",
       " 9960,\n",
       " 9970,\n",
       " 9980,\n",
       " 9990,\n",
       " ...]"
      ]
     },
     "metadata": {},
     "execution_count": 142
    }
   ],
   "metadata": {}
  },
  {
   "cell_type": "code",
   "execution_count": 143,
   "source": [
    "a = np.arange(4)"
   ],
   "outputs": [],
   "metadata": {}
  },
  {
   "cell_type": "code",
   "execution_count": 76,
   "source": [
    "a"
   ],
   "outputs": [
    {
     "output_type": "execute_result",
     "data": {
      "text/plain": [
       "array([0, 1, 2, 3])"
      ]
     },
     "metadata": {},
     "execution_count": 76
    }
   ],
   "metadata": {}
  },
  {
   "cell_type": "code",
   "execution_count": 77,
   "source": [
    "b = np.array([10, 10, 10, 10])"
   ],
   "outputs": [],
   "metadata": {}
  },
  {
   "cell_type": "code",
   "execution_count": 78,
   "source": [
    "b"
   ],
   "outputs": [
    {
     "output_type": "execute_result",
     "data": {
      "text/plain": [
       "array([10, 10, 10, 10])"
      ]
     },
     "metadata": {},
     "execution_count": 78
    }
   ],
   "metadata": {}
  },
  {
   "cell_type": "code",
   "execution_count": 79,
   "source": [
    "a + b"
   ],
   "outputs": [
    {
     "output_type": "execute_result",
     "data": {
      "text/plain": [
       "array([10, 11, 12, 13])"
      ]
     },
     "metadata": {},
     "execution_count": 79
    }
   ],
   "metadata": {}
  },
  {
   "cell_type": "code",
   "execution_count": 80,
   "source": [
    "a * b"
   ],
   "outputs": [
    {
     "output_type": "execute_result",
     "data": {
      "text/plain": [
       "array([ 0, 10, 20, 30])"
      ]
     },
     "metadata": {},
     "execution_count": 80
    }
   ],
   "metadata": {}
  },
  {
   "cell_type": "markdown",
   "source": [
    "![green-divider](https://user-images.githubusercontent.com/7065401/52071924-c003ad80-2562-11e9-8297-1c6595f8a7ff.png)\r\n",
    "\r\n",
    "## Boolean arrays\r\n",
    "_(Also called masks)_"
   ],
   "metadata": {}
  },
  {
   "cell_type": "code",
   "execution_count": 81,
   "source": [
    "a = np.arange(4)"
   ],
   "outputs": [],
   "metadata": {}
  },
  {
   "cell_type": "code",
   "execution_count": 82,
   "source": [
    "a"
   ],
   "outputs": [
    {
     "output_type": "execute_result",
     "data": {
      "text/plain": [
       "array([0, 1, 2, 3])"
      ]
     },
     "metadata": {},
     "execution_count": 82
    }
   ],
   "metadata": {}
  },
  {
   "cell_type": "code",
   "execution_count": 83,
   "source": [
    "a[0], a[-1]"
   ],
   "outputs": [
    {
     "output_type": "execute_result",
     "data": {
      "text/plain": [
       "(0, 3)"
      ]
     },
     "metadata": {},
     "execution_count": 83
    }
   ],
   "metadata": {}
  },
  {
   "cell_type": "code",
   "execution_count": 84,
   "source": [
    "a[[0, -1]]"
   ],
   "outputs": [
    {
     "output_type": "execute_result",
     "data": {
      "text/plain": [
       "array([0, 3])"
      ]
     },
     "metadata": {},
     "execution_count": 84
    }
   ],
   "metadata": {}
  },
  {
   "cell_type": "code",
   "execution_count": 85,
   "source": [
    "a[[True, False, False, True]]"
   ],
   "outputs": [
    {
     "output_type": "execute_result",
     "data": {
      "text/plain": [
       "array([0, 3])"
      ]
     },
     "metadata": {},
     "execution_count": 85
    }
   ],
   "metadata": {}
  },
  {
   "cell_type": "code",
   "execution_count": 86,
   "source": [
    "a"
   ],
   "outputs": [
    {
     "output_type": "execute_result",
     "data": {
      "text/plain": [
       "array([0, 1, 2, 3])"
      ]
     },
     "metadata": {},
     "execution_count": 86
    }
   ],
   "metadata": {}
  },
  {
   "cell_type": "code",
   "execution_count": 87,
   "source": [
    "a >= 2"
   ],
   "outputs": [
    {
     "output_type": "execute_result",
     "data": {
      "text/plain": [
       "array([False, False,  True,  True])"
      ]
     },
     "metadata": {},
     "execution_count": 87
    }
   ],
   "metadata": {}
  },
  {
   "cell_type": "code",
   "execution_count": 88,
   "source": [
    "a[a >= 2]"
   ],
   "outputs": [
    {
     "output_type": "execute_result",
     "data": {
      "text/plain": [
       "array([2, 3])"
      ]
     },
     "metadata": {},
     "execution_count": 88
    }
   ],
   "metadata": {}
  },
  {
   "cell_type": "code",
   "execution_count": 89,
   "source": [
    "a.mean()"
   ],
   "outputs": [
    {
     "output_type": "execute_result",
     "data": {
      "text/plain": [
       "1.5"
      ]
     },
     "metadata": {},
     "execution_count": 89
    }
   ],
   "metadata": {}
  },
  {
   "cell_type": "code",
   "execution_count": 90,
   "source": [
    "a[a > a.mean()]"
   ],
   "outputs": [
    {
     "output_type": "execute_result",
     "data": {
      "text/plain": [
       "array([2, 3])"
      ]
     },
     "metadata": {},
     "execution_count": 90
    }
   ],
   "metadata": {
    "scrolled": true
   }
  },
  {
   "cell_type": "code",
   "execution_count": 91,
   "source": [
    "a[~(a > a.mean())] # ~ not"
   ],
   "outputs": [
    {
     "output_type": "execute_result",
     "data": {
      "text/plain": [
       "array([0, 1])"
      ]
     },
     "metadata": {},
     "execution_count": 91
    }
   ],
   "metadata": {}
  },
  {
   "cell_type": "code",
   "execution_count": 92,
   "source": [
    "a[(a == 0) | (a == 1)]"
   ],
   "outputs": [
    {
     "output_type": "execute_result",
     "data": {
      "text/plain": [
       "array([0, 1])"
      ]
     },
     "metadata": {},
     "execution_count": 92
    }
   ],
   "metadata": {}
  },
  {
   "cell_type": "code",
   "execution_count": 93,
   "source": [
    "a[(a <= 2) & (a % 2 == 0)]"
   ],
   "outputs": [
    {
     "output_type": "execute_result",
     "data": {
      "text/plain": [
       "array([0, 2])"
      ]
     },
     "metadata": {},
     "execution_count": 93
    }
   ],
   "metadata": {}
  },
  {
   "cell_type": "code",
   "execution_count": 94,
   "source": [
    "A = np.random.randint(100, size=(3, 3))"
   ],
   "outputs": [],
   "metadata": {}
  },
  {
   "cell_type": "code",
   "execution_count": 95,
   "source": [
    "A"
   ],
   "outputs": [
    {
     "output_type": "execute_result",
     "data": {
      "text/plain": [
       "array([[64, 55, 20],\n",
       "       [52, 37, 61],\n",
       "       [53, 41,  1]])"
      ]
     },
     "metadata": {},
     "execution_count": 95
    }
   ],
   "metadata": {}
  },
  {
   "cell_type": "code",
   "execution_count": 96,
   "source": [
    "A[np.array([\r\n",
    "    [True, False, True],\r\n",
    "    [False, True, False],\r\n",
    "    [True, False, True]\r\n",
    "])]"
   ],
   "outputs": [
    {
     "output_type": "execute_result",
     "data": {
      "text/plain": [
       "array([64, 20, 37, 53,  1])"
      ]
     },
     "metadata": {},
     "execution_count": 96
    }
   ],
   "metadata": {}
  },
  {
   "cell_type": "code",
   "execution_count": 97,
   "source": [
    "A > 30"
   ],
   "outputs": [
    {
     "output_type": "execute_result",
     "data": {
      "text/plain": [
       "array([[ True,  True, False],\n",
       "       [ True,  True,  True],\n",
       "       [ True,  True, False]])"
      ]
     },
     "metadata": {},
     "execution_count": 97
    }
   ],
   "metadata": {}
  },
  {
   "cell_type": "code",
   "execution_count": 98,
   "source": [
    "A[A > 30]"
   ],
   "outputs": [
    {
     "output_type": "execute_result",
     "data": {
      "text/plain": [
       "array([64, 55, 52, 37, 61, 53, 41])"
      ]
     },
     "metadata": {},
     "execution_count": 98
    }
   ],
   "metadata": {}
  },
  {
   "cell_type": "markdown",
   "source": [
    "![green-divider](https://user-images.githubusercontent.com/7065401/52071924-c003ad80-2562-11e9-8297-1c6595f8a7ff.png)\n",
    "\n",
    "## Linear Algebra"
   ],
   "metadata": {}
  },
  {
   "cell_type": "code",
   "execution_count": 99,
   "source": [
    "A = np.array([\r\n",
    "    [1, 2, 3],\r\n",
    "    [4, 5, 6],\r\n",
    "    [7, 8, 9]\r\n",
    "])"
   ],
   "outputs": [],
   "metadata": {}
  },
  {
   "cell_type": "code",
   "execution_count": 100,
   "source": [
    "B = np.array([\r\n",
    "    [6, 5],\r\n",
    "    [4, 3],\r\n",
    "    [2, 1]\r\n",
    "])"
   ],
   "outputs": [],
   "metadata": {}
  },
  {
   "cell_type": "code",
   "execution_count": 101,
   "source": [
    "A.dot(B)"
   ],
   "outputs": [
    {
     "output_type": "execute_result",
     "data": {
      "text/plain": [
       "array([[20, 14],\n",
       "       [56, 41],\n",
       "       [92, 68]])"
      ]
     },
     "metadata": {},
     "execution_count": 101
    }
   ],
   "metadata": {}
  },
  {
   "cell_type": "code",
   "execution_count": 102,
   "source": [
    "A @ B"
   ],
   "outputs": [
    {
     "output_type": "execute_result",
     "data": {
      "text/plain": [
       "array([[20, 14],\n",
       "       [56, 41],\n",
       "       [92, 68]])"
      ]
     },
     "metadata": {},
     "execution_count": 102
    }
   ],
   "metadata": {}
  },
  {
   "cell_type": "code",
   "execution_count": 103,
   "source": [
    "B.T"
   ],
   "outputs": [
    {
     "output_type": "execute_result",
     "data": {
      "text/plain": [
       "array([[6, 4, 2],\n",
       "       [5, 3, 1]])"
      ]
     },
     "metadata": {},
     "execution_count": 103
    }
   ],
   "metadata": {}
  },
  {
   "cell_type": "code",
   "execution_count": 104,
   "source": [
    "A"
   ],
   "outputs": [
    {
     "output_type": "execute_result",
     "data": {
      "text/plain": [
       "array([[1, 2, 3],\n",
       "       [4, 5, 6],\n",
       "       [7, 8, 9]])"
      ]
     },
     "metadata": {},
     "execution_count": 104
    }
   ],
   "metadata": {}
  },
  {
   "cell_type": "code",
   "execution_count": 105,
   "source": [
    "B.T @ A"
   ],
   "outputs": [
    {
     "output_type": "execute_result",
     "data": {
      "text/plain": [
       "array([[36, 48, 60],\n",
       "       [24, 33, 42]])"
      ]
     },
     "metadata": {},
     "execution_count": 105
    }
   ],
   "metadata": {
    "scrolled": true
   }
  },
  {
   "cell_type": "markdown",
   "source": [
    "![green-divider](https://user-images.githubusercontent.com/7065401/52071924-c003ad80-2562-11e9-8297-1c6595f8a7ff.png)\n",
    "\n",
    "## Size of objects in Memory"
   ],
   "metadata": {}
  },
  {
   "cell_type": "markdown",
   "source": [
    "### Int, floats"
   ],
   "metadata": {}
  },
  {
   "cell_type": "code",
   "execution_count": 106,
   "source": [
    "# An integer in Python is > 24bytes\r\n",
    "sys.getsizeof(1)"
   ],
   "outputs": [
    {
     "output_type": "execute_result",
     "data": {
      "text/plain": [
       "28"
      ]
     },
     "metadata": {},
     "execution_count": 106
    }
   ],
   "metadata": {}
  },
  {
   "cell_type": "code",
   "execution_count": 107,
   "source": [
    "# Longs are even larger\r\n",
    "sys.getsizeof(10**100)"
   ],
   "outputs": [
    {
     "output_type": "execute_result",
     "data": {
      "text/plain": [
       "72"
      ]
     },
     "metadata": {},
     "execution_count": 107
    }
   ],
   "metadata": {
    "scrolled": true
   }
  },
  {
   "cell_type": "code",
   "execution_count": 108,
   "source": [
    "# Numpy size is much smaller\r\n",
    "np.dtype(int).itemsize"
   ],
   "outputs": [
    {
     "output_type": "execute_result",
     "data": {
      "text/plain": [
       "4"
      ]
     },
     "metadata": {},
     "execution_count": 108
    }
   ],
   "metadata": {
    "scrolled": true
   }
  },
  {
   "cell_type": "code",
   "execution_count": 109,
   "source": [
    "# Numpy size is much smaller\r\n",
    "np.dtype(np.int8).itemsize"
   ],
   "outputs": [
    {
     "output_type": "execute_result",
     "data": {
      "text/plain": [
       "1"
      ]
     },
     "metadata": {},
     "execution_count": 109
    }
   ],
   "metadata": {
    "scrolled": true
   }
  },
  {
   "cell_type": "code",
   "execution_count": 110,
   "source": [
    "np.dtype(float).itemsize"
   ],
   "outputs": [
    {
     "output_type": "execute_result",
     "data": {
      "text/plain": [
       "8"
      ]
     },
     "metadata": {},
     "execution_count": 110
    }
   ],
   "metadata": {
    "scrolled": true
   }
  },
  {
   "cell_type": "markdown",
   "source": [
    "### Lists are even larger"
   ],
   "metadata": {}
  },
  {
   "cell_type": "code",
   "execution_count": 111,
   "source": [
    "# A one-element list\r\n",
    "sys.getsizeof([1])"
   ],
   "outputs": [
    {
     "output_type": "execute_result",
     "data": {
      "text/plain": [
       "64"
      ]
     },
     "metadata": {},
     "execution_count": 111
    }
   ],
   "metadata": {}
  },
  {
   "cell_type": "code",
   "execution_count": 112,
   "source": [
    "# An array of one element in numpy\r\n",
    "np.array([1]).nbytes"
   ],
   "outputs": [
    {
     "output_type": "execute_result",
     "data": {
      "text/plain": [
       "4"
      ]
     },
     "metadata": {},
     "execution_count": 112
    }
   ],
   "metadata": {
    "scrolled": true
   }
  },
  {
   "cell_type": "markdown",
   "source": [
    "### And performance is also important"
   ],
   "metadata": {}
  },
  {
   "cell_type": "code",
   "execution_count": 113,
   "source": [
    "l = list(range(100000))"
   ],
   "outputs": [],
   "metadata": {}
  },
  {
   "cell_type": "code",
   "execution_count": 114,
   "source": [
    "a = np.arange(100000)"
   ],
   "outputs": [],
   "metadata": {}
  },
  {
   "cell_type": "code",
   "execution_count": 115,
   "source": [
    "%time np.sum(a ** 2)"
   ],
   "outputs": [
    {
     "output_type": "stream",
     "name": "stdout",
     "text": [
      "Wall time: 0 ns\n"
     ]
    },
    {
     "output_type": "execute_result",
     "data": {
      "text/plain": [
       "216474736"
      ]
     },
     "metadata": {},
     "execution_count": 115
    }
   ],
   "metadata": {
    "scrolled": true
   }
  },
  {
   "cell_type": "code",
   "execution_count": 116,
   "source": [
    "%time sum([x ** 2 for x in l])"
   ],
   "outputs": [
    {
     "output_type": "stream",
     "name": "stdout",
     "text": [
      "Wall time: 34 ms\n"
     ]
    },
    {
     "output_type": "execute_result",
     "data": {
      "text/plain": [
       "333328333350000"
      ]
     },
     "metadata": {},
     "execution_count": 116
    }
   ],
   "metadata": {
    "scrolled": true
   }
  },
  {
   "cell_type": "markdown",
   "source": [
    "![green-divider](https://user-images.githubusercontent.com/7065401/52071924-c003ad80-2562-11e9-8297-1c6595f8a7ff.png)\n",
    "\n",
    "## Useful Numpy functions"
   ],
   "metadata": {}
  },
  {
   "cell_type": "markdown",
   "source": [
    "### `random` "
   ],
   "metadata": {}
  },
  {
   "cell_type": "code",
   "execution_count": 117,
   "source": [
    "np.random.random(size=2)"
   ],
   "outputs": [
    {
     "output_type": "execute_result",
     "data": {
      "text/plain": [
       "array([0.0395934 , 0.24055093])"
      ]
     },
     "metadata": {},
     "execution_count": 117
    }
   ],
   "metadata": {}
  },
  {
   "cell_type": "code",
   "execution_count": 118,
   "source": [
    "np.random.normal(size=2)"
   ],
   "outputs": [
    {
     "output_type": "execute_result",
     "data": {
      "text/plain": [
       "array([-1.01272733, -0.45904363])"
      ]
     },
     "metadata": {},
     "execution_count": 118
    }
   ],
   "metadata": {}
  },
  {
   "cell_type": "code",
   "execution_count": 119,
   "source": [
    "np.random.rand(2, 4)"
   ],
   "outputs": [
    {
     "output_type": "execute_result",
     "data": {
      "text/plain": [
       "array([[0.64542557, 0.29971627, 0.89588781, 0.01868617],\n",
       "       [0.62372583, 0.96818283, 0.88458049, 0.8399033 ]])"
      ]
     },
     "metadata": {},
     "execution_count": 119
    }
   ],
   "metadata": {}
  },
  {
   "cell_type": "markdown",
   "source": [
    "---\n",
    "### `arange`"
   ],
   "metadata": {}
  },
  {
   "cell_type": "code",
   "execution_count": 120,
   "source": [
    "np.arange(10)"
   ],
   "outputs": [
    {
     "output_type": "execute_result",
     "data": {
      "text/plain": [
       "array([0, 1, 2, 3, 4, 5, 6, 7, 8, 9])"
      ]
     },
     "metadata": {},
     "execution_count": 120
    }
   ],
   "metadata": {}
  },
  {
   "cell_type": "code",
   "execution_count": 121,
   "source": [
    "np.arange(5, 10)"
   ],
   "outputs": [
    {
     "output_type": "execute_result",
     "data": {
      "text/plain": [
       "array([5, 6, 7, 8, 9])"
      ]
     },
     "metadata": {},
     "execution_count": 121
    }
   ],
   "metadata": {}
  },
  {
   "cell_type": "code",
   "execution_count": 122,
   "source": [
    "np.arange(0, 1, .1)"
   ],
   "outputs": [
    {
     "output_type": "execute_result",
     "data": {
      "text/plain": [
       "array([0. , 0.1, 0.2, 0.3, 0.4, 0.5, 0.6, 0.7, 0.8, 0.9])"
      ]
     },
     "metadata": {},
     "execution_count": 122
    }
   ],
   "metadata": {}
  },
  {
   "cell_type": "markdown",
   "source": [
    "---\n",
    "### `reshape`"
   ],
   "metadata": {}
  },
  {
   "cell_type": "code",
   "execution_count": 123,
   "source": [
    "np.arange(10).reshape(2, 5)"
   ],
   "outputs": [
    {
     "output_type": "execute_result",
     "data": {
      "text/plain": [
       "array([[0, 1, 2, 3, 4],\n",
       "       [5, 6, 7, 8, 9]])"
      ]
     },
     "metadata": {},
     "execution_count": 123
    }
   ],
   "metadata": {}
  },
  {
   "cell_type": "code",
   "execution_count": 124,
   "source": [
    "np.arange(10).reshape(5, 2)"
   ],
   "outputs": [
    {
     "output_type": "execute_result",
     "data": {
      "text/plain": [
       "array([[0, 1],\n",
       "       [2, 3],\n",
       "       [4, 5],\n",
       "       [6, 7],\n",
       "       [8, 9]])"
      ]
     },
     "metadata": {},
     "execution_count": 124
    }
   ],
   "metadata": {}
  },
  {
   "cell_type": "markdown",
   "source": [
    "---\n",
    "### `linspace`"
   ],
   "metadata": {}
  },
  {
   "cell_type": "code",
   "execution_count": 125,
   "source": [
    "np.linspace(0, 1, 5)"
   ],
   "outputs": [
    {
     "output_type": "execute_result",
     "data": {
      "text/plain": [
       "array([0.  , 0.25, 0.5 , 0.75, 1.  ])"
      ]
     },
     "metadata": {},
     "execution_count": 125
    }
   ],
   "metadata": {}
  },
  {
   "cell_type": "code",
   "execution_count": 126,
   "source": [
    "np.linspace(0, 1, 20)"
   ],
   "outputs": [
    {
     "output_type": "execute_result",
     "data": {
      "text/plain": [
       "array([0.        , 0.05263158, 0.10526316, 0.15789474, 0.21052632,\n",
       "       0.26315789, 0.31578947, 0.36842105, 0.42105263, 0.47368421,\n",
       "       0.52631579, 0.57894737, 0.63157895, 0.68421053, 0.73684211,\n",
       "       0.78947368, 0.84210526, 0.89473684, 0.94736842, 1.        ])"
      ]
     },
     "metadata": {},
     "execution_count": 126
    }
   ],
   "metadata": {}
  },
  {
   "cell_type": "code",
   "execution_count": 127,
   "source": [
    "np.linspace(0, 1, 20, False)"
   ],
   "outputs": [
    {
     "output_type": "execute_result",
     "data": {
      "text/plain": [
       "array([0.  , 0.05, 0.1 , 0.15, 0.2 , 0.25, 0.3 , 0.35, 0.4 , 0.45, 0.5 ,\n",
       "       0.55, 0.6 , 0.65, 0.7 , 0.75, 0.8 , 0.85, 0.9 , 0.95])"
      ]
     },
     "metadata": {},
     "execution_count": 127
    }
   ],
   "metadata": {
    "scrolled": true
   }
  },
  {
   "cell_type": "markdown",
   "source": [
    "---\n",
    "### `zeros`, `ones`, `empty`"
   ],
   "metadata": {}
  },
  {
   "cell_type": "code",
   "execution_count": 128,
   "source": [
    "np.zeros(5)"
   ],
   "outputs": [
    {
     "output_type": "execute_result",
     "data": {
      "text/plain": [
       "array([0., 0., 0., 0., 0.])"
      ]
     },
     "metadata": {},
     "execution_count": 128
    }
   ],
   "metadata": {}
  },
  {
   "cell_type": "code",
   "execution_count": 129,
   "source": [
    "np.zeros((3, 3))"
   ],
   "outputs": [
    {
     "output_type": "execute_result",
     "data": {
      "text/plain": [
       "array([[0., 0., 0.],\n",
       "       [0., 0., 0.],\n",
       "       [0., 0., 0.]])"
      ]
     },
     "metadata": {},
     "execution_count": 129
    }
   ],
   "metadata": {
    "scrolled": true
   }
  },
  {
   "cell_type": "code",
   "execution_count": 130,
   "source": [
    "np.zeros((3, 3), dtype=np.int)"
   ],
   "outputs": [
    {
     "output_type": "execute_result",
     "data": {
      "text/plain": [
       "array([[0, 0, 0],\n",
       "       [0, 0, 0],\n",
       "       [0, 0, 0]])"
      ]
     },
     "metadata": {},
     "execution_count": 130
    }
   ],
   "metadata": {
    "scrolled": true
   }
  },
  {
   "cell_type": "code",
   "execution_count": 131,
   "source": [
    "np.ones(5)"
   ],
   "outputs": [
    {
     "output_type": "execute_result",
     "data": {
      "text/plain": [
       "array([1., 1., 1., 1., 1.])"
      ]
     },
     "metadata": {},
     "execution_count": 131
    }
   ],
   "metadata": {}
  },
  {
   "cell_type": "code",
   "execution_count": 132,
   "source": [
    "np.ones((3, 3))"
   ],
   "outputs": [
    {
     "output_type": "execute_result",
     "data": {
      "text/plain": [
       "array([[1., 1., 1.],\n",
       "       [1., 1., 1.],\n",
       "       [1., 1., 1.]])"
      ]
     },
     "metadata": {},
     "execution_count": 132
    }
   ],
   "metadata": {}
  },
  {
   "cell_type": "code",
   "execution_count": 133,
   "source": [
    "np.empty(5)"
   ],
   "outputs": [
    {
     "output_type": "execute_result",
     "data": {
      "text/plain": [
       "array([1., 1., 1., 1., 1.])"
      ]
     },
     "metadata": {},
     "execution_count": 133
    }
   ],
   "metadata": {}
  },
  {
   "cell_type": "code",
   "execution_count": 134,
   "source": [
    "np.empty((2, 2))"
   ],
   "outputs": [
    {
     "output_type": "execute_result",
     "data": {
      "text/plain": [
       "array([[0.25, 0.5 ],\n",
       "       [0.75, 1.  ]])"
      ]
     },
     "metadata": {},
     "execution_count": 134
    }
   ],
   "metadata": {
    "scrolled": true
   }
  },
  {
   "cell_type": "markdown",
   "source": [
    "---\n",
    "### `identity` and `eye`"
   ],
   "metadata": {}
  },
  {
   "cell_type": "code",
   "execution_count": 135,
   "source": [
    "np.identity(3)"
   ],
   "outputs": [
    {
     "output_type": "execute_result",
     "data": {
      "text/plain": [
       "array([[1., 0., 0.],\n",
       "       [0., 1., 0.],\n",
       "       [0., 0., 1.]])"
      ]
     },
     "metadata": {},
     "execution_count": 135
    }
   ],
   "metadata": {}
  },
  {
   "cell_type": "code",
   "execution_count": 136,
   "source": [
    "np.eye(3, 3)"
   ],
   "outputs": [
    {
     "output_type": "execute_result",
     "data": {
      "text/plain": [
       "array([[1., 0., 0.],\n",
       "       [0., 1., 0.],\n",
       "       [0., 0., 1.]])"
      ]
     },
     "metadata": {},
     "execution_count": 136
    }
   ],
   "metadata": {}
  },
  {
   "cell_type": "code",
   "execution_count": 137,
   "source": [
    "np.eye(8, 4)"
   ],
   "outputs": [
    {
     "output_type": "execute_result",
     "data": {
      "text/plain": [
       "array([[1., 0., 0., 0.],\n",
       "       [0., 1., 0., 0.],\n",
       "       [0., 0., 1., 0.],\n",
       "       [0., 0., 0., 1.],\n",
       "       [0., 0., 0., 0.],\n",
       "       [0., 0., 0., 0.],\n",
       "       [0., 0., 0., 0.],\n",
       "       [0., 0., 0., 0.]])"
      ]
     },
     "metadata": {},
     "execution_count": 137
    }
   ],
   "metadata": {}
  },
  {
   "cell_type": "code",
   "execution_count": 138,
   "source": [
    "np.eye(8, 4, k=1)"
   ],
   "outputs": [
    {
     "output_type": "execute_result",
     "data": {
      "text/plain": [
       "array([[0., 1., 0., 0.],\n",
       "       [0., 0., 1., 0.],\n",
       "       [0., 0., 0., 1.],\n",
       "       [0., 0., 0., 0.],\n",
       "       [0., 0., 0., 0.],\n",
       "       [0., 0., 0., 0.],\n",
       "       [0., 0., 0., 0.],\n",
       "       [0., 0., 0., 0.]])"
      ]
     },
     "metadata": {},
     "execution_count": 138
    }
   ],
   "metadata": {
    "scrolled": true
   }
  },
  {
   "cell_type": "code",
   "execution_count": 139,
   "source": [
    "np.eye(8, 4, k=-3)"
   ],
   "outputs": [
    {
     "output_type": "execute_result",
     "data": {
      "text/plain": [
       "array([[0., 0., 0., 0.],\n",
       "       [0., 0., 0., 0.],\n",
       "       [0., 0., 0., 0.],\n",
       "       [1., 0., 0., 0.],\n",
       "       [0., 1., 0., 0.],\n",
       "       [0., 0., 1., 0.],\n",
       "       [0., 0., 0., 1.],\n",
       "       [0., 0., 0., 0.]])"
      ]
     },
     "metadata": {},
     "execution_count": 139
    }
   ],
   "metadata": {}
  },
  {
   "cell_type": "code",
   "execution_count": 141,
   "source": [
    "\"Hello World\"[6]"
   ],
   "outputs": [
    {
     "output_type": "execute_result",
     "data": {
      "text/plain": [
       "'W'"
      ]
     },
     "metadata": {},
     "execution_count": 141
    }
   ],
   "metadata": {
    "scrolled": true
   }
  },
  {
   "cell_type": "markdown",
   "source": [
    "![purple-divider](https://user-images.githubusercontent.com/7065401/52071927-c1cd7100-2562-11e9-908a-dde91ba14e59.png)"
   ],
   "metadata": {}
  }
 ],
 "metadata": {
  "kernelspec": {
   "name": "python3",
   "display_name": "Python 3.9.1 64-bit"
  },
  "language_info": {
   "codemirror_mode": {
    "name": "ipython",
    "version": 3
   },
   "file_extension": ".py",
   "mimetype": "text/x-python",
   "name": "python",
   "nbconvert_exporter": "python",
   "pygments_lexer": "ipython3",
   "version": "3.9.1"
  },
  "interpreter": {
   "hash": "11f1dc213e07634baa4c5c321dec03c05dafae643c50f20e6d1a492290c05dc2"
  }
 },
 "nbformat": 4,
 "nbformat_minor": 4
}