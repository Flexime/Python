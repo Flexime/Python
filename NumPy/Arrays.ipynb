{
 "cells": [
  {
   "cell_type": "markdown",
   "source": [
    " # Arrays in Numpy #\r\n",
    "Array in Numpy is a table of elements (usually numbers), all of the same type, indexed by a tuple of positive integers. In Numpy, number of dimensions of the array is called rank of the array.A tuple of integers giving the size of the array along each dimension is known as shape of the array. An array class in Numpy is called as ndarray. Elements in Numpy arrays are accessed by using square brackets and can be initialized by using nested Python Lists.\r\n",
    "\r\n",
    "# Creating a Numpy Array # \r\n",
    "Arrays in Numpy can be created by multiple ways, with various number of Ranks, defining the size of the Array. Arrays can also be created with the use of various data types such as lists, tuples, etc. The type of the resultant array is deduced from the type of the elements in the sequences.\r\n",
    "Note: Type of array can be explicitly defined while creating the array.\r\n"
   ],
   "metadata": {}
  },
  {
   "cell_type": "code",
   "execution_count": 24,
   "source": [
    "# Python program for\r\n",
    "# Creation of Arrays\r\n",
    "import numpy as np\r\n",
    " \r\n",
    "# Creating a rank 1 Array\r\n",
    "arr = np.array([1, 2, 3])\r\n",
    "print(\"Array with Rank 1: \\n\",arr)\r\n",
    " \r\n",
    "# Creating a rank 2 Array\r\n",
    "arr = np.array([[1, 2, 3],\r\n",
    "                [4, 5, 6]])\r\n",
    "print(\"Array with Rank 2: \\n\", arr)\r\n",
    " \r\n",
    "# Creating an array from tuple\r\n",
    "arr = np.array((1, 3, 2))\r\n",
    "print(\"\\nArray created using \"\r\n",
    "      \"passed tuple:\\n\", arr)"
   ],
   "outputs": [
    {
     "output_type": "stream",
     "name": "stdout",
     "text": [
      "Array with Rank 1: \n",
      " [1 2 3]\n",
      "Array with Rank 2: \n",
      " [[1 2 3]\n",
      " [4 5 6]]\n",
      "\n",
      "Array created using passed tuple:\n",
      " [1 3 2]\n"
     ]
    }
   ],
   "metadata": {}
  },
  {
   "cell_type": "markdown",
   "source": [
    " \r\n",
    "# Accessing the array Index #\r\n",
    "In a numpy array, indexing or accessing the array index can be done in multiple ways. To print a range of an array, slicing is done. Slicing of an array is defining a range in a new array which is used to print a range of elements from the original array. Since, sliced array holds a range of elements of the original array, modifying content with the help of sliced array modifies the original array content."
   ],
   "metadata": {}
  },
  {
   "cell_type": "code",
   "execution_count": 25,
   "source": [
    "# Python program to demonstrate\r\n",
    "# indexing in numpy array\r\n",
    "import numpy as np\r\n",
    " \r\n",
    "# Initial Array\r\n",
    "arr = np.array([[-1, 2, 0, 4],\r\n",
    "                [4, -0.5, 6, 0],\r\n",
    "                [2.6, 0, 7, 8],\r\n",
    "                [3, -7, 4, 2.0]])\r\n",
    "print(\"Initial Array: \")\r\n",
    "print(arr)\r\n",
    " \r\n",
    "# Printing a range of Array\r\n",
    "# with the use of slicing method\r\n",
    "sliced_arr = arr[:2, ::2]\r\n",
    "print (\"Array with first 2 rows and\"\r\n",
    "    \" alternate columns(0 and 2):\\n\", sliced_arr)\r\n",
    " \r\n",
    "# Printing elements at\r\n",
    "# specific Indices\r\n",
    "Index_arr = arr[[1, 1, 0, 3], \r\n",
    "                [3, 2, 1, 0]]\r\n",
    "print (\"\\nElements at indices (1, 3), \"\r\n",
    "    \"(1, 2), (0, 1), (3, 0):\\n\", Index_arr)"
   ],
   "outputs": [
    {
     "output_type": "stream",
     "name": "stdout",
     "text": [
      "Initial Array: \n",
      "[[-1.   2.   0.   4. ]\n",
      " [ 4.  -0.5  6.   0. ]\n",
      " [ 2.6  0.   7.   8. ]\n",
      " [ 3.  -7.   4.   2. ]]\n",
      "Array with first 2 rows and alternate columns(0 and 2):\n",
      " [[-1.  0.]\n",
      " [ 4.  6.]]\n",
      "\n",
      "Elements at indices (1, 3), (1, 2), (0, 1), (3, 0):\n",
      " [0. 6. 2. 3.]\n"
     ]
    }
   ],
   "metadata": {}
  },
  {
   "cell_type": "markdown",
   "source": [
    " # Basic Array Operations # \r\n",
    "In numpy, arrays allow a wide range of operations which can be performed on a particular array or a combination of Arrays. These operation include some basic Mathematical operation as well as Unary and Binary operations."
   ],
   "metadata": {}
  },
  {
   "cell_type": "code",
   "execution_count": 58,
   "source": [
    "\r\n",
    "# Python program to demonstrate\r\n",
    "# basic operations on single array\r\n",
    "import numpy as np\r\n",
    " \r\n",
    "# Defining Array 1\r\n",
    "a = np.array([[1, 2],\r\n",
    "              [3, 4]])\r\n",
    " \r\n",
    "# Defining Array 2\r\n",
    "b = np.array([[4, 3],\r\n",
    "              [2, 1]])\r\n",
    "               \r\n",
    "# Adding 1 to every element\r\n",
    "print (\"Adding 1 to every element:\", a + 1)\r\n",
    " \r\n",
    "# Subtracting 2 from each element\r\n",
    "print (\"\\nSubtracting 2 from each element:\", b - 2)\r\n",
    " \r\n",
    "# sum of array elements\r\n",
    "# Performing Unary operations\r\n",
    "print (\"\\nSum of all array \"\r\n",
    "       \"elements: \", a.sum())\r\n",
    " \r\n",
    "# Adding two arrays\r\n",
    "# Performing Binary operations\r\n",
    "print (\"\\nArray sum:\\n\", a + b)\r\n",
    "\r\n",
    "\r\n",
    "\r\n",
    "a = np.array([1, 2, 5, 3])\r\n",
    " \r\n",
    "# add 1 to every element\r\n",
    "print (\"Adding 1 to every element:\", a+1)\r\n",
    " \r\n",
    "# subtract 3 from each element\r\n",
    "print (\"Subtracting 3 from each element:\", a-3)\r\n",
    " \r\n",
    "# multiply each element by 10\r\n",
    "print (\"Multiplying each element by 10:\", a*10)\r\n",
    " \r\n",
    "# square each element\r\n",
    "print (\"Squaring each element:\", a**2)\r\n",
    " \r\n",
    "# modify existing array\r\n",
    "a *= 2\r\n",
    "print (\"Doubled each element of original array:\", a)\r\n",
    " \r\n",
    "# transpose of array\r\n",
    "a = np.array([[1, 2, 3], [3, 4, 5], [9, 6, 0]])\r\n",
    " \r\n",
    "print (\"\\nOriginal array:\\n\", a)\r\n",
    "print (\"Transpose of array:\\n\", a.T)\r\n",
    "\r\n"
   ],
   "outputs": [
    {
     "output_type": "stream",
     "name": "stdout",
     "text": [
      "Adding 1 to every element: [[2 3]\n",
      " [4 5]]\n",
      "\n",
      "Subtracting 2 from each element: [[ 2  1]\n",
      " [ 0 -1]]\n",
      "\n",
      "Sum of all array elements:  10\n",
      "\n",
      "Array sum:\n",
      " [[5 5]\n",
      " [5 5]]\n",
      "Adding 1 to every element: [2 3 6 4]\n",
      "Subtracting 3 from each element: [-2 -1  2  0]\n",
      "Multiplying each element by 10: [10 20 50 30]\n",
      "Squaring each element: [ 1  4 25  9]\n",
      "Doubled each element of original array: [ 2  4 10  6]\n",
      "\n",
      "Original array:\n",
      " [[1 2 3]\n",
      " [3 4 5]\n",
      " [9 6 0]]\n",
      "Transpose of array:\n",
      " [[1 3 9]\n",
      " [2 4 6]\n",
      " [3 5 0]]\n"
     ]
    }
   ],
   "metadata": {}
  },
  {
   "cell_type": "markdown",
   "source": [
    "* Unary operators: Many unary operations are provided as a method of ndarray class. This includes sum, min, max, etc. These functions can also be applied row-wise or column-wise by setting an axis parameter."
   ],
   "metadata": {}
  },
  {
   "cell_type": "code",
   "execution_count": 59,
   "source": [
    "# Python program to demonstrate\r\n",
    "# unary operators in numpy\r\n",
    "import numpy as np\r\n",
    " \r\n",
    "arr = np.array([[1, 5, 6],\r\n",
    "                [4, 7, 2],\r\n",
    "                [3, 1, 9]])\r\n",
    " \r\n",
    "# maximum element of array\r\n",
    "print (\"Largest element is:\", arr.max())\r\n",
    "print (\"Row-wise maximum elements:\",\r\n",
    "                    arr.max(axis = 1))\r\n",
    " \r\n",
    "# minimum element of array\r\n",
    "print (\"Column-wise minimum elements:\",\r\n",
    "                        arr.min(axis = 0))\r\n",
    " \r\n",
    "# sum of array elements\r\n",
    "print (\"Sum of all array elements:\",\r\n",
    "                            arr.sum())\r\n",
    " \r\n",
    "# cumulative sum along each row\r\n",
    "print (\"Cumulative sum along each row:\\n\",\r\n",
    "                        arr.cumsum(axis = 1))"
   ],
   "outputs": [
    {
     "output_type": "stream",
     "name": "stdout",
     "text": [
      "Largest element is: 9\n",
      "Row-wise maximum elements: [6 7 9]\n",
      "Column-wise minimum elements: [1 1 2]\n",
      "Sum of all array elements: 38\n",
      "Cumulative sum along each row:\n",
      " [[ 1  6 12]\n",
      " [ 4 11 13]\n",
      " [ 3  4 13]]\n"
     ]
    }
   ],
   "metadata": {}
  },
  {
   "cell_type": "markdown",
   "source": [
    "Binary operators: These operations apply on array elementwise and a new array is created. You can use all basic arithmetic operators like +, -, /, , etc. In case of +=, -=, = operators, the exsisting array is modified."
   ],
   "metadata": {}
  },
  {
   "cell_type": "code",
   "execution_count": 60,
   "source": [
    "# Python program to demonstrate\r\n",
    "# binary operators in Numpy\r\n",
    "import numpy as np\r\n",
    " \r\n",
    "a = np.array([[1, 2],\r\n",
    "            [3, 4]])\r\n",
    "b = np.array([[4, 3],\r\n",
    "            [2, 1]])\r\n",
    " \r\n",
    "# add arrays\r\n",
    "print (\"Array sum:\\n\", a + b)\r\n",
    " \r\n",
    "# multiply arrays (elementwise multiplication)\r\n",
    "print (\"Array multiplication:\\n\", a*b)\r\n",
    " \r\n",
    "# matrix multiplication\r\n",
    "print (\"Matrix multiplication:\\n\", a.dot(b))"
   ],
   "outputs": [
    {
     "output_type": "stream",
     "name": "stdout",
     "text": [
      "Array sum:\n",
      " [[5 5]\n",
      " [5 5]]\n",
      "Array multiplication:\n",
      " [[4 6]\n",
      " [6 4]]\n",
      "Matrix multiplication:\n",
      " [[ 8  5]\n",
      " [20 13]]\n"
     ]
    }
   ],
   "metadata": {}
  },
  {
   "cell_type": "markdown",
   "source": [
    "* Universal functions (ufunc): NumPy provides familiar mathematical functions such as sin, cos, exp, etc. These functions also operate elementwise on an array, producing an array as output.\r\n",
    "Note: All the operations we did above using overloaded operators can be done using ufuncs like np.add, np.subtract, np.multiply, np.divide, np.sum, etc."
   ],
   "metadata": {}
  },
  {
   "cell_type": "code",
   "execution_count": 62,
   "source": [
    "# Python program to demonstrate\r\n",
    "# universal functions in numpy\r\n",
    "import numpy as np\r\n",
    " \r\n",
    "# create an array of sine values\r\n",
    "a = np.array([0, np.pi/2, np.pi])\r\n",
    "print (\"Sine values of array elements:\", np.sin(a))\r\n",
    " \r\n",
    "# exponential values\r\n",
    "a = np.array([0, 1, 2, 3])\r\n",
    "print (\"Exponent of array elements:\", np.exp(a))\r\n",
    " \r\n",
    "# square root of array values\r\n",
    "print (\"Square root of array elements:\", np.sqrt(a))"
   ],
   "outputs": [
    {
     "output_type": "stream",
     "name": "stdout",
     "text": [
      "Sine values of array elements: [0.0000000e+00 1.0000000e+00 1.2246468e-16]\n",
      "Exponent of array elements: [ 1.          2.71828183  7.3890561  20.08553692]\n",
      "Square root of array elements: [0.         1.         1.41421356 1.73205081]\n"
     ]
    }
   ],
   "metadata": {}
  },
  {
   "cell_type": "markdown",
   "source": [
    "# Data Types in Numpy #\r\n",
    "Every Numpy array is a table of elements (usually numbers), all of the same type, indexed by a tuple of positive integers. Every ndarray has an associated data type (dtype) object. This data type object (dtype) provides information about the layout of the array. The values of an ndarray are stored in a buffer which can be thought of as a contiguous block of memory bytes which can be interpreted by the dtype object. Numpy provides a large set of numeric datatypes that can be used to construct arrays. At the time of Array creation, Numpy tries to guess a datatype, but functions that construct arrays usually also include an optional argument to explicitly specify the datatype.\r\n",
    "\r\n",
    "# Constructing a Datatype Object #\r\n",
    "In Numpy, datatypes of Arrays need not to be defined unless a specific datatype is required. Numpy tries to guess the datatype for Arrays which are not predefined in the constructor function."
   ],
   "metadata": {}
  },
  {
   "cell_type": "code",
   "execution_count": 27,
   "source": [
    "# Python Program to create\r\n",
    "# a data type object\r\n",
    "import numpy as np\r\n",
    " \r\n",
    "# Integer datatype\r\n",
    "# guessed by Numpy\r\n",
    "x = np.array([1, 2])  \r\n",
    "print(\"Integer Datatype: \")\r\n",
    "print(x.dtype)         \r\n",
    " \r\n",
    "# Float datatype\r\n",
    "# guessed by Numpy\r\n",
    "x = np.array([1.0, 2.0]) \r\n",
    "print(\"\\nFloat Datatype: \")\r\n",
    "print(x.dtype)  \r\n",
    " \r\n",
    "# Forced Datatype\r\n",
    "x = np.array([1, 2], dtype = np.int64)   \r\n",
    "print(\"\\nForcing a Datatype: \")\r\n",
    "print(x.dtype)"
   ],
   "outputs": [
    {
     "output_type": "stream",
     "name": "stdout",
     "text": [
      "Integer Datatype: \n",
      "int32\n",
      "\n",
      "Float Datatype: \n",
      "float64\n",
      "\n",
      "Forcing a Datatype: \n",
      "int64\n"
     ]
    }
   ],
   "metadata": {}
  },
  {
   "cell_type": "markdown",
   "source": [
    "# Data Type ndarray  #\r\n",
    "\r\n",
    "Every ndarray has an associated data type (dtype) object. This data type object (dtype) informs us about the layout of the array. This means it gives us information about :\r\n",
    "\r\n",
    "* Type of the data (integer, float, Python object etc.)\r\n",
    "* Size of the data (number of bytes)\r\n",
    "* Byte order of the data (little-endian or big-endian)\r\n",
    "* If the data type is a sub-array, what is its shape and data type.\r\n",
    "The values of a ndarray are stored in a buffer which can be thought of as a contiguous block of memory bytes. So how these bytes will be interpreted is given by the dtype object.\r\n",
    "Every Numpy array is a table of elements (usually numbers), all of the same type, indexed by a tuple of positive integers. Every ndarray has an associated data type (dtype) object.\r\n",
    "This data type object (dtype) provides information about the layout of the array. The vaues of an ndarray are stored in a buffer which can be thought of as a contiguous block of memory bytes which can be interpreted by the dtype object. Numpy provides a large set of numeric datatypes that can be used to construct arrays.\r\n",
    "At the time of Array creation, Numpy tries to guess a datatype, but functions that construct arrays usually also include an optional argument to explicitly specify the datatype."
   ],
   "metadata": {}
  },
  {
   "cell_type": "code",
   "execution_count": 63,
   "source": [
    "# np.int16 is converted into a data type object.\r\n",
    "print(np.dtype(np.int16))\r\n",
    "\r\n",
    "\r\n",
    "\r\n",
    "# i4 represents integer of size 4 byte\r\n",
    "# > represents big-endian byte ordering and\r\n",
    "# < represents little-endian encoding.\r\n",
    "# dt is a dtype object\r\n",
    "dt = np.dtype('>i4')\r\n",
    " \r\n",
    "print(\"Byte order is:\",dt.byteorder)\r\n",
    " \r\n",
    "print(\"Size is:\",dt.itemsize)\r\n",
    " \r\n",
    "print(\"Data type is:\",dt.name)\r\n"
   ],
   "outputs": [
    {
     "output_type": "stream",
     "name": "stdout",
     "text": [
      "int16\n",
      "Byte order is: >\n",
      "Size is: 4\n",
      "Data type is: int32\n"
     ]
    }
   ],
   "metadata": {}
  },
  {
   "cell_type": "markdown",
   "source": [
    "# Math Operations on DataType array #\r\n",
    "In Numpy arrays, basic mathematical operations are performed element-wise on the array. These operations are applied both as operator overloads and as functions. Many useful functions are provided in Numpy for performing computations on Arrays such as sum: for addition of Array elements, T: for Transpose of elements, etc."
   ],
   "metadata": {}
  },
  {
   "cell_type": "code",
   "execution_count": 28,
   "source": [
    "# Python Program to create\r\n",
    "# a data type object\r\n",
    "import numpy as np\r\n",
    " \r\n",
    "# First Array\r\n",
    "arr1 = np.array([[4, 7], [2, 6]], \r\n",
    "                 dtype = np.float64)\r\n",
    "                  \r\n",
    "# Second Array\r\n",
    "arr2 = np.array([[3, 6], [2, 8]], \r\n",
    "                 dtype = np.float64) \r\n",
    " \r\n",
    "# Addition of two Arrays\r\n",
    "Sum = np.add(arr1, arr2)\r\n",
    "print(\"Addition of Two Arrays: \")\r\n",
    "print(Sum)\r\n",
    " \r\n",
    "# Addition of all Array elements\r\n",
    "# using predefined sum method\r\n",
    "Sum1 = np.sum(arr1)\r\n",
    "print(\"\\nAddition of Array elements: \")\r\n",
    "print(Sum1)\r\n",
    " \r\n",
    "# Square root of Array\r\n",
    "Sqrt = np.sqrt(arr1)\r\n",
    "print(\"\\nSquare root of Array1 elements: \")\r\n",
    "print(Sqrt)\r\n",
    " \r\n",
    "# Transpose of Array\r\n",
    "# using In-built function 'T'\r\n",
    "Trans_arr = arr1.T\r\n",
    "print(\"\\nTranspose of Array: \")\r\n",
    "print(Trans_arr)"
   ],
   "outputs": [
    {
     "output_type": "stream",
     "name": "stdout",
     "text": [
      "Addition of Two Arrays: \n",
      "[[ 7. 13.]\n",
      " [ 4. 14.]]\n",
      "\n",
      "Addition of Array elements: \n",
      "19.0\n",
      "\n",
      "Square root of Array1 elements: \n",
      "[[2.         2.64575131]\n",
      " [1.41421356 2.44948974]]\n",
      "\n",
      "Transpose of Array: \n",
      "[[4. 2.]\n",
      " [7. 6.]]\n"
     ]
    }
   ],
   "metadata": {}
  },
  {
   "cell_type": "markdown",
   "source": [
    "Python lists are a substitute for arrays, but they fail to deliver the performance required while computing large sets of numerical data. To address this issue we use a python library called NumPy. The word NumPy stands for Numerical Python. NumPy offers an array object called ndarray. They are similar to standard python sequences but differ in certain key factors.\r\n",
    "\r\n",
    "# NumPy arrays vs inbuilt Python sequences #\r\n",
    "Unlike lists, NumPy arrays are of fixed size, and changing the size of an array will lead to the creation of a new array while the original array will be deleted.\r\n",
    "All the elements in an array are of the same type.\r\n",
    "Numpy arrays are faster, more efficient, and require less syntax than standard python sequences.\r\n",
    "Note: Various scientific and mathematical Python-based packages use Numpy. They might take input as an inbuilt Python sequence but they are likely to convert the data into a NumPy array in order to attain faster processing. This explains the need to understand NumPy.\r\n",
    "\r\n",
    "# Why is Numpy so fast? #\r\n",
    "Numpy arrays are written mostly in C language. Being written in C, the NumPy arrays are stored in contiguous memory locations which makes them accessible and easier to manipulate. This means that you can get the performance level of a C code with the ease of writing a python program.\r\n",
    "\r\n",
    "# Using Numpy Arrays #\r\n",
    "If you don’t have NumPy installed in your system, you can do so by following these steps. After installing NumPy you can import it in your program like this"
   ],
   "metadata": {}
  },
  {
   "cell_type": "markdown",
   "source": [
    "Numpy array from a list\r\n",
    "You can use the np alias to create ndarray of a list using the array() method.\r\n",
    "\r\n",
    "li = [1,2,3,4]\r\n",
    "numpyArr = np.array(li)\r\n",
    "\r\n",
    "or\r\n",
    "\r\n",
    "numpyArr = np.array([1,2,3,4])\r\n",
    "\r\n",
    "The list is passed to the array() method which then returns a NumPy array with the same elements.\r\n",
    "\r\n",
    "Example:\r\n",
    "\r\n",
    "The following example shows how to initialize a NumPy array from a list. \r\n"
   ],
   "metadata": {}
  },
  {
   "cell_type": "code",
   "execution_count": 29,
   "source": [
    "import numpy as np\r\n",
    "\r\n",
    "li = [1, 2, 3, 4]\r\n",
    "numpyArr = np.array(li)\r\n",
    "print(numpyArr)\r\n"
   ],
   "outputs": [
    {
     "output_type": "stream",
     "name": "stdout",
     "text": [
      "[1 2 3 4]\n"
     ]
    }
   ],
   "metadata": {}
  },
  {
   "cell_type": "markdown",
   "source": [
    "Example: Let’s take an example to check whether the numpyArr is a NumPy object or not."
   ],
   "metadata": {}
  },
  {
   "cell_type": "code",
   "execution_count": 30,
   "source": [
    "import numpy as np\r\n",
    "\r\n",
    "li = [1, 2, 3, 4]\r\n",
    "numpyArr = np.array(li)\r\n",
    "\r\n",
    "print(\"li =\", li, \"and type(li) =\", type(li))\r\n",
    "print(\"numpyArr =\", numpyArr, \"and type(numpyArr) =\", type(numpyArr))\r\n"
   ],
   "outputs": [
    {
     "output_type": "stream",
     "name": "stdout",
     "text": [
      "li = [1, 2, 3, 4] and type(li) = <class 'list'>\n",
      "numpyArr = [1 2 3 4] and type(numpyArr) = <class 'numpy.ndarray'>\n"
     ]
    }
   ],
   "metadata": {}
  },
  {
   "cell_type": "markdown",
   "source": [
    "As you can see li is a list object whereas numpyArr is an array object of NumPy.\r\n",
    "\r\n",
    "NumPy array from a tuple\r\n",
    "You can make ndarray from a tuple using similar syntax."
   ],
   "metadata": {}
  },
  {
   "cell_type": "code",
   "execution_count": 31,
   "source": [
    "import numpy as np\r\n",
    "\r\n",
    "tup = (1, 2, 3, 4)\r\n",
    "numpyArr = np.array(tup)\r\n",
    "\r\n",
    "print(\"tup =\", tup, \"and type(tup) =\", type(tup))\r\n",
    "print(\"numpyArr =\", numpyArr, \"and type(numpyArr) =\", type(numpyArr))\r\n"
   ],
   "outputs": [
    {
     "output_type": "stream",
     "name": "stdout",
     "text": [
      "tup = (1, 2, 3, 4) and type(tup) = <class 'tuple'>\n",
      "numpyArr = [1 2 3 4] and type(numpyArr) = <class 'numpy.ndarray'>\n"
     ]
    }
   ],
   "metadata": {}
  },
  {
   "cell_type": "markdown",
   "source": [
    "Note that the value of numpyArr remains the same for either of the two conversions."
   ],
   "metadata": {}
  },
  {
   "cell_type": "markdown",
   "source": [
    "Types of Array:\r\n",
    "\r\n",
    "1) One Dimensional Array\r\n",
    "2) Multi-Dimensional Array\r\n",
    "One Dimensional Array:\r\n",
    "A one-dimensional array is a type of linear array.\r\n",
    "\r\n",
    "\r\n",
    "One Dimensional Array"
   ],
   "metadata": {}
  },
  {
   "cell_type": "code",
   "execution_count": 32,
   "source": [
    "# importing numpy module\r\n",
    "import numpy as np\r\n",
    "\r\n",
    "# creating list\r\n",
    "list = [1, 2, 3, 4]\r\n",
    "\r\n",
    "# creating numpy array\r\n",
    "sample_array = np.array(list)\r\n",
    "\r\n",
    "print(\"List in python : \", list)\r\n",
    "\r\n",
    "print(\"Numpy Array in python :\",\r\n",
    "\tsample_array)\r\n",
    "\r\n",
    "print(type(list))\r\n",
    "\r\n",
    "print(type(sample_array))\r\n",
    "\r\n"
   ],
   "outputs": [
    {
     "output_type": "stream",
     "name": "stdout",
     "text": [
      "List in python :  [1, 2, 3, 4]\n",
      "Numpy Array in python : [1 2 3 4]\n",
      "<class 'list'>\n",
      "<class 'numpy.ndarray'>\n"
     ]
    }
   ],
   "metadata": {}
  },
  {
   "cell_type": "markdown",
   "source": [
    "Multi-Dimensional Array:\r\n",
    "Data in multidimensional arrays are stored in tabular form."
   ],
   "metadata": {}
  },
  {
   "cell_type": "code",
   "execution_count": 33,
   "source": [
    "# importing numpy module\r\n",
    "import numpy as np\r\n",
    "\r\n",
    "# creating list\r\n",
    "list_1 = [1, 2, 3, 4]\r\n",
    "list_2 = [5, 6, 7, 8]\r\n",
    "list_3 = [9, 10, 11, 12]\r\n",
    "\r\n",
    "# creating numpy array\r\n",
    "sample_array = np.array([list_1,\r\n",
    "\t\t\t\t\t\tlist_2,\r\n",
    "\t\t\t\t\t\tlist_3])\r\n",
    "\r\n",
    "print(\"Numpy multi dimensional array in python\\n\",\r\n",
    "\tsample_array)\r\n"
   ],
   "outputs": [
    {
     "output_type": "stream",
     "name": "stdout",
     "text": [
      "Numpy multi dimensional array in python\n",
      " [[ 1  2  3  4]\n",
      " [ 5  6  7  8]\n",
      " [ 9 10 11 12]]\n"
     ]
    }
   ],
   "metadata": {}
  },
  {
   "cell_type": "markdown",
   "source": [
    "\r\n",
    "Anatomy of an array :\r\n",
    "1) Axis: The Axis of an array describes the order of the indexing into the array.\r\n",
    "\r\n",
    "Axis 0 = one dimensional\r\n",
    "\r\n",
    "Axis 1 = Two dimensional\r\n",
    "\r\n",
    "Axis 2 = Three dimensional\r\n",
    "\r\n",
    "\r\n",
    "2. Shape: The number of elements along with each axis. It is from a tuple.\r\n",
    "\r\n",
    "Example:"
   ],
   "metadata": {}
  },
  {
   "cell_type": "code",
   "execution_count": 34,
   "source": [
    "# importing numpy module\r\n",
    "import numpy as np\r\n",
    "\r\n",
    "# creating list\r\n",
    "list_1 = [1, 2, 3, 4]\r\n",
    "list_2 = [5, 6, 7, 8]\r\n",
    "list_3 = [9, 10, 11, 12]\r\n",
    "\r\n",
    "# creating numpy array\r\n",
    "sample_array = np.array([list_1,\r\n",
    "\t\t\t\t\t\tlist_2,\r\n",
    "\t\t\t\t\t\tlist_3])\r\n",
    "\r\n",
    "print(\"Numpy array :\")\r\n",
    "print(sample_array)\r\n",
    "\r\n",
    "# print shape of the array\r\n",
    "print(\"Shape of the array :\",\r\n",
    "\tsample_array.shape)\r\n"
   ],
   "outputs": [
    {
     "output_type": "stream",
     "name": "stdout",
     "text": [
      "Numpy array :\n",
      "[[ 1  2  3  4]\n",
      " [ 5  6  7  8]\n",
      " [ 9 10 11 12]]\n",
      "Shape of the array : (3, 4)\n"
     ]
    }
   ],
   "metadata": {}
  },
  {
   "cell_type": "code",
   "execution_count": 35,
   "source": [
    "import numpy as np\r\n",
    "\r\n",
    "sample_array = np.array([[0, 4, 2],\r\n",
    "\t\t\t\t\t[3, 4, 5],\r\n",
    "\t\t\t\t\t[23, 4, 5],\r\n",
    "\t\t\t\t\t[2, 34, 5],\r\n",
    "\t\t\t\t\t[5, 6, 7]])\r\n",
    "\r\n",
    "print(\"shape of the array :\",\r\n",
    "\tsample_array.shape)\r\n"
   ],
   "outputs": [
    {
     "output_type": "stream",
     "name": "stdout",
     "text": [
      "shape of the array : (5, 3)\n"
     ]
    }
   ],
   "metadata": {}
  },
  {
   "cell_type": "markdown",
   "source": [
    "3. Rank: The rank of an array is simply the number of axes (or dimensions) it has.\r\n",
    "\r\n",
    "The one-dimensional array has rank 1.\r\n",
    "\r\n",
    "\r\n",
    "The two-dimensional array has rank 2.\r\n",
    "\r\n",
    "\r\n",
    "\r\n",
    "4. Data type objects (dtype): Data type objects (dtype) is an instance of numpy.dtype class. It describes how the bytes in the fixed-size block of memory corresponding to an array item should be interpreted."
   ],
   "metadata": {}
  },
  {
   "cell_type": "code",
   "execution_count": 36,
   "source": [
    "# Import module\r\n",
    "import numpy as np\r\n",
    "\r\n",
    "# Creating the array\r\n",
    "sample_array_1 = np.array([[0, 4, 2]])\r\n",
    "\r\n",
    "sample_array_2 = np.array([0.2, 0.4, 2.4])\r\n",
    "\r\n",
    "# display data type\r\n",
    "print(\"Data type of the array 1 :\",\r\n",
    "\tsample_array_1.dtype)\r\n",
    "\r\n",
    "print(\"Data type of array 2 :\",\r\n",
    "\tsample_array_2.dtype)\r\n"
   ],
   "outputs": [
    {
     "output_type": "stream",
     "name": "stdout",
     "text": [
      "Data type of the array 1 : int32\n",
      "Data type of array 2 : float64\n"
     ]
    }
   ],
   "metadata": {}
  },
  {
   "cell_type": "markdown",
   "source": [
    "Some different way of creating Numpy Array :\r\n",
    "\r\n",
    "\r\n",
    "\r\n",
    "1. numpy.array(): The Numpy array object in Numpy is called ndarray. We can create ndarray using numpy.array() function."
   ],
   "metadata": {}
  },
  {
   "cell_type": "code",
   "execution_count": 37,
   "source": [
    "# import module\r\n",
    "import numpy as np\r\n",
    "\r\n",
    "#creating a array\r\n",
    "\r\n",
    "arr = np.array([3,4,5,5])\r\n",
    "\r\n",
    "print(\"Array :\",arr)\r\n"
   ],
   "outputs": [
    {
     "output_type": "stream",
     "name": "stdout",
     "text": [
      "Array : [3 4 5 5]\n"
     ]
    }
   ],
   "metadata": {}
  },
  {
   "cell_type": "markdown",
   "source": [
    "2. numpy.fromiter(): The fromiter() function create a new one-dimensional array from an iterable object."
   ],
   "metadata": {}
  },
  {
   "cell_type": "code",
   "execution_count": 38,
   "source": [
    "#Import numpy module\r\n",
    "import numpy as np\r\n",
    "\r\n",
    "# iterable\r\n",
    "iterable = (a*a for a in range(8))\r\n",
    "\r\n",
    "arr = np.fromiter(iterable, float)\r\n",
    "\r\n",
    "print(\"fromiter() array :\",arr)\r\n"
   ],
   "outputs": [
    {
     "output_type": "stream",
     "name": "stdout",
     "text": [
      "fromiter() array : [ 0.  1.  4.  9. 16. 25. 36. 49.]\n"
     ]
    }
   ],
   "metadata": {}
  },
  {
   "cell_type": "code",
   "execution_count": 39,
   "source": [
    "import numpy as np\r\n",
    "\r\n",
    "var = \"Flexime\"\r\n",
    "\r\n",
    "arr = np.fromiter(var, dtype = 'U2')\r\n",
    "\r\n",
    "print(\"fromiter() array :\",\r\n",
    "\tarr)\r\n"
   ],
   "outputs": [
    {
     "output_type": "stream",
     "name": "stdout",
     "text": [
      "fromiter() array : ['F' 'l' 'e' 'x' 'i' 'm' 'e']\n"
     ]
    }
   ],
   "metadata": {}
  },
  {
   "cell_type": "markdown",
   "source": [
    "3) numpy.arange(): This is an inbuilt NumPy function that returns evenly spaced values within a given interval."
   ],
   "metadata": {}
  },
  {
   "cell_type": "code",
   "execution_count": 40,
   "source": [
    "import numpy as np\r\n",
    "\r\n",
    "np.arange(1, 20 , 2,\r\n",
    "\t\tdtype = np.float32)\r\n"
   ],
   "outputs": [
    {
     "output_type": "execute_result",
     "data": {
      "text/plain": [
       "array([ 1.,  3.,  5.,  7.,  9., 11., 13., 15., 17., 19.], dtype=float32)"
      ]
     },
     "metadata": {},
     "execution_count": 40
    }
   ],
   "metadata": {}
  },
  {
   "cell_type": "markdown",
   "source": [
    "4. numpy.linspace(): This function returns evenly spaced numbers over a specified between two limits."
   ],
   "metadata": {}
  },
  {
   "cell_type": "code",
   "execution_count": 41,
   "source": [
    "import numpy as np\r\n",
    "\r\n",
    "np.linspace(3.5, 10, 3)\r\n",
    "\r\n"
   ],
   "outputs": [
    {
     "output_type": "execute_result",
     "data": {
      "text/plain": [
       "array([ 3.5 ,  6.75, 10.  ])"
      ]
     },
     "metadata": {},
     "execution_count": 41
    }
   ],
   "metadata": {}
  },
  {
   "cell_type": "code",
   "execution_count": 42,
   "source": [
    "np.linspace(3.5, 10, 3,\r\n",
    "\t\t\tdtype = np.int32)"
   ],
   "outputs": [
    {
     "output_type": "execute_result",
     "data": {
      "text/plain": [
       "array([ 3,  6, 10])"
      ]
     },
     "metadata": {},
     "execution_count": 42
    }
   ],
   "metadata": {}
  },
  {
   "cell_type": "markdown",
   "source": [
    "5. numpy.empty(): This function create a new array of given shape and type, without initializing value."
   ],
   "metadata": {}
  },
  {
   "cell_type": "code",
   "execution_count": 43,
   "source": [
    "import numpy as np\r\n",
    "\r\n",
    "np.empty([4, 3],\r\n",
    "\t\tdtype = np.int32,\r\n",
    "\t\torder = 'f')\r\n"
   ],
   "outputs": [
    {
     "output_type": "execute_result",
     "data": {
      "text/plain": [
       "array([[ 1,  5,  9],\n",
       "       [ 2,  6, 10],\n",
       "       [ 3,  7, 11],\n",
       "       [ 4,  8, 12]])"
      ]
     },
     "metadata": {},
     "execution_count": 43
    }
   ],
   "metadata": {}
  },
  {
   "cell_type": "markdown",
   "source": [
    "6. numpy.ones(): This function is used to get a new array of given shape and type, filled with ones(1)."
   ],
   "metadata": {}
  },
  {
   "cell_type": "code",
   "execution_count": 44,
   "source": [
    "import numpy as np\r\n",
    "\r\n",
    "np.ones([4, 3],\r\n",
    "\t\tdtype = np.int32,\r\n",
    "\t\torder = 'f')\r\n"
   ],
   "outputs": [
    {
     "output_type": "execute_result",
     "data": {
      "text/plain": [
       "array([[1, 1, 1],\n",
       "       [1, 1, 1],\n",
       "       [1, 1, 1],\n",
       "       [1, 1, 1]])"
      ]
     },
     "metadata": {},
     "execution_count": 44
    }
   ],
   "metadata": {}
  },
  {
   "cell_type": "markdown",
   "source": [
    "7. numpy.zeros(): This function is used to get a new array of given shape and type, filled with zeros(0)."
   ],
   "metadata": {}
  },
  {
   "cell_type": "code",
   "execution_count": 45,
   "source": [
    "import numpy as np\r\n",
    "np.zeros([4, 3],\r\n",
    "\t\tdtype = np.int32,\r\n",
    "\t\torder = 'f')\r\n"
   ],
   "outputs": [
    {
     "output_type": "execute_result",
     "data": {
      "text/plain": [
       "array([[0, 0, 0],\n",
       "       [0, 0, 0],\n",
       "       [0, 0, 0],\n",
       "       [0, 0, 0]])"
      ]
     },
     "metadata": {},
     "execution_count": 45
    }
   ],
   "metadata": {}
  },
  {
   "cell_type": "markdown",
   "source": [
    "# Python Lists VS Numpy Arrays #\r\n",
    "\r\n",
    "NumPy is the fundamental package for scientific computing in Python. NumPy arrays facilitate advanced mathematical and other types of operations on large numbers of data. Typically, such operations are executed more efficiently and with less code than is possible using Python’s built-in sequences. NumPy is not another programming language but a Python extension module. It provides fast and efficient operations on arrays of homogeneous data.\r\n",
    "\r\n",
    "Some important points about Numpy arrays:\r\n",
    "\r\n",
    "* We can create a N-dimensional array in python using numpy.array().\r\n",
    "* Array are by default Homogeneous, which means data inside an array must be of the same Datatype. (Note you can also create a structured array in python)\r\n",
    "* Element wise operation is possible.\r\n",
    "* Numpy array has the various function, methods, and variables, to ease our task of matrix computation.\r\n",
    "* Elements of an array are stored contiguously in memory. For example, all rows of a two dimensioned array must have the same number of columns. Or a three dimensioned array must have the same number of rows and columns on each card.\r\n",
    "\r\n",
    "\r\n"
   ],
   "metadata": {}
  },
  {
   "cell_type": "markdown",
   "source": [
    "Representation of Numpy array:\r\n",
    "\r\n",
    "* Single Dimensional Numpy Array;"
   ],
   "metadata": {}
  },
  {
   "cell_type": "code",
   "execution_count": 50,
   "source": [
    "import numpy as np\r\n",
    "\r\n",
    "a = np.array([1, 2, 3])\r\n",
    "print(a,'\\n')\r\n",
    "\r\n",
    "b = np.array([(1, 2, 3), (4, 5, 6)])\r\n",
    "print(b)"
   ],
   "outputs": [
    {
     "output_type": "stream",
     "name": "stdout",
     "text": [
      "[1 2 3] \n",
      "\n",
      "[[1 2 3]\n",
      " [4 5 6]]\n"
     ]
    }
   ],
   "metadata": {}
  },
  {
   "cell_type": "markdown",
   "source": [
    "# Advantages of using Numpy Arrays Over Python Lists: #\r\n",
    "\r\n",
    "* consumes less memory.\r\n",
    "* fast as compared to the python List.\r\n",
    "* convenient to use.\r\n",
    "List: A list is a collection which is ordered and changeable. In Python, lists are written with square brackets.\r\n",
    "\r\n",
    "Some important points about Python Lists:\r\n",
    "\r\n",
    "* The list can be homogeneous or heterogeneous.\r\n",
    "* Element wise operation is not possible on the list.\r\n",
    "* Python list is by default 1 dimensional. But we can create an N-Dimensional list. But then too it will be 1 D list storing another 1D list\r\n",
    "* Elements of a list need not be contiguous in memory.\r\n",
    "Below are some examples which clearly demonstrate how Numpy arrays are better than Python lists by analyzing the memory consumption, execution time comparison, and operations supported by both of them.\r\n",
    "\r\n",
    "Example 1: Memory consumption between Numpy array and lists\r\n",
    "In this example, a Python list and a Numpy array of size 1000 will be created. The size of each element and then the whole size of both the containers will be calculated and comparison will be done in terms of memory consumption.\r\n",
    "\r\n",
    "Below is the implementation."
   ],
   "metadata": {}
  },
  {
   "cell_type": "code",
   "execution_count": 51,
   "source": [
    "# importing numpy package\r\n",
    "import numpy as np\r\n",
    "\r\n",
    "# importing system module\r\n",
    "import sys\r\n",
    "\r\n",
    "# declaring a list of 1000 elements\r\n",
    "S= range(1000)\r\n",
    "\r\n",
    "# printing size of each element of the list\r\n",
    "print(\"Size of each element of list in bytes: \",sys.getsizeof(S))\r\n",
    "\r\n",
    "# printing size of the whole list\r\n",
    "print(\"Size of the whole list in bytes: \",sys.getsizeof(S)*len(S))\r\n",
    "\r\n",
    "# declaring a Numpy array of 1000 elements\r\n",
    "D= np.arange(1000)\r\n",
    "\r\n",
    "# printing size of each element of the Numpy array\r\n",
    "print(\"Size of each element of the Numpy array in bytes: \",D.itemsize)\r\n",
    "\r\n",
    "# printing size of the whole Numpy array\r\n",
    "print(\"Size of the whole Numpy array in bytes: \",D.size*D.itemsize)\r\n"
   ],
   "outputs": [
    {
     "output_type": "stream",
     "name": "stdout",
     "text": [
      "Size of each element of list in bytes:  48\n",
      "Size of the whole list in bytes:  48000\n",
      "Size of each element of the Numpy array in bytes:  4\n",
      "Size of the whole Numpy array in bytes:  4000\n"
     ]
    }
   ],
   "metadata": {}
  },
  {
   "cell_type": "markdown",
   "source": [
    "Example 2: Time comparison between Numpy array and Python lists\r\n",
    "In this example, 2 Python lists and 2 Numpy arrays will be created and each container has 1000000 elements. Multiplication of elements in both the lists and Numpy arrays respectively will be carried out and the difference in time needed for the execution for both the containers will be analyzed to determine which one takes less time to perform the operation.\r\n",
    "\r\n",
    "\r\n",
    "\r\n",
    "Below is the implementation."
   ],
   "metadata": {}
  },
  {
   "cell_type": "code",
   "execution_count": 52,
   "source": [
    "# importing required packages\r\n",
    "import numpy\r\n",
    "import time\r\n",
    "\r\n",
    "# size of arrays and lists\r\n",
    "size = 1000000\r\n",
    "\r\n",
    "# declaring lists\r\n",
    "list1 = range(size)\r\n",
    "list2 = range(size)\r\n",
    "\r\n",
    "# declaring arrays\r\n",
    "array1 = numpy.arange(size)\r\n",
    "array2 = numpy.arange(size)\r\n",
    "\r\n",
    "# capturing time before the multiplication of Python lists\r\n",
    "initialTime = time.time()\r\n",
    "\r\n",
    "# multiplying elements of both the lists and stored in another list\r\n",
    "resultantList = [(a * b) for a, b in zip(list1, list2)]\r\n",
    "\r\n",
    "# calculating execution time\r\n",
    "print(\"Time taken by Lists to perform multiplication:\",\r\n",
    "\t(time.time() - initialTime),\r\n",
    "\t\"seconds\")\r\n",
    "\r\n",
    "# capturing time before the multiplication of Numpy arrays\r\n",
    "initialTime = time.time()\r\n",
    "\r\n",
    "# multiplying elements of both the Numpy arrays and stored in another Numpy array\r\n",
    "resultantArray = array1 * array2\r\n",
    "\r\n",
    "# calculating execution time\r\n",
    "print(\"Time taken by NumPy Arrays to perform multiplication:\",\r\n",
    "\t(time.time() - initialTime),\r\n",
    "\t\"seconds\")\r\n"
   ],
   "outputs": [
    {
     "output_type": "stream",
     "name": "stdout",
     "text": [
      "Time taken by Lists to perform multiplication: 0.16189932823181152 seconds\n",
      "Time taken by NumPy Arrays to perform multiplication: 0.0019991397857666016 seconds\n"
     ]
    }
   ],
   "metadata": {}
  },
  {
   "cell_type": "markdown",
   "source": [
    "Example 3: Effect of operations on Numpy array and Python Lists\r\n",
    "In this example, the incapability of the Python list to carry out a basic operation is demonstrated. A Python list and a Numpy array having the same elements will be declared and an integer will be added to increment each element of the container by that integer value without looping statements. The effect of this operation on the Numpy array and Python list will be analyzed.\r\n",
    "\r\n",
    "Below is the implementation."
   ],
   "metadata": {}
  },
  {
   "cell_type": "code",
   "execution_count": 53,
   "source": [
    "# importing Numpy package\r\n",
    "import numpy as np\r\n",
    "\r\n",
    "# declaring a list\r\n",
    "ls =[1, 2, 3]\r\n",
    "\r\n",
    "# converting the list into a Numpy array\r\n",
    "arr = np.array(ls)\r\n",
    "\r\n",
    "try:\r\n",
    "\t# adding 4 to each element of list\r\n",
    "\tls = ls + 4\r\n",
    "\t\r\n",
    "except(TypeError):\r\n",
    "\tprint(\"Lists don't support list + int\")\r\n",
    "\r\n",
    "# now on array\r\n",
    "try:\r\n",
    "\t# adding 4 to each element of Numpy array\r\n",
    "\tarr = arr + 4\r\n",
    "\r\n",
    "\t# printing the Numpy array\r\n",
    "\tprint(\"Modified Numpy array: \",arr)\r\n",
    "\t\r\n",
    "except(TypeError):\r\n",
    "\tprint(\"Numpy arrays don't support list + int\")\r\n"
   ],
   "outputs": [
    {
     "output_type": "stream",
     "name": "stdout",
     "text": [
      "Lists don't support list + int\n",
      "Modified Numpy array:  [5 6 7]\n"
     ]
    }
   ],
   "metadata": {}
  },
  {
   "cell_type": "markdown",
   "source": [
    "ndarray\r\n",
    "\r\n",
    "N-Dimensional array(ndarray) in Numpy\r\n",
    "Array in Numpy is a table of elements (usually numbers), all of the same type, indexed by a tuple of positive integers. In Numpy, number of dimensions of the array is called rank of the array.A tuple of integers giving the size of the array along each dimension is known as shape of the array. An array class in Numpy is called as ndarray. Elements in Numpy arrays are accessed by using square brackets and can be initialized by using nested Python Lists.\r\n",
    "\r\n",
    "Example :\r\n"
   ],
   "metadata": {}
  },
  {
   "cell_type": "code",
   "execution_count": 54,
   "source": [
    "# Python program to demonstrate \r\n",
    "# basic array characteristics\r\n",
    "import numpy as np\r\n",
    " \r\n",
    "# Creating array object\r\n",
    "arr = np.array( [[ 1, 2, 3],\r\n",
    "                 [ 4, 2, 5]] )\r\n",
    " \r\n",
    "# Printing type of arr object\r\n",
    "print(\"Array is of type: \", type(arr))\r\n",
    " \r\n",
    "# Printing array dimensions (axes)\r\n",
    "print(\"No. of dimensions: \", arr.ndim)\r\n",
    " \r\n",
    "# Printing shape of array\r\n",
    "print(\"Shape of array: \", arr.shape)\r\n",
    " \r\n",
    "# Printing size (total number of elements) of array\r\n",
    "print(\"Size of array: \", arr.size)\r\n",
    " \r\n",
    "# Printing type of elements in array\r\n",
    "print(\"Array stores elements of type: \", arr.dtype)"
   ],
   "outputs": [
    {
     "output_type": "stream",
     "name": "stdout",
     "text": [
      "Array is of type:  <class 'numpy.ndarray'>\n",
      "No. of dimensions:  2\n",
      "Shape of array:  (2, 3)\n",
      "Size of array:  6\n",
      "Array stores elements of type:  int32\n"
     ]
    }
   ],
   "metadata": {}
  },
  {
   "cell_type": "markdown",
   "source": [
    "Array Creation\r\n",
    "\r\n",
    "\r\n",
    "There are various ways to create arrays in NumPy.\r\n",
    "\r\n",
    "* For example, you can create an array from a regular Python list or tuple using the array function. The type of the resulting array is deduced from the type of the elements in the sequences.\r\n",
    "* Often, the elements of an array are originally unknown, but its size is known. Hence, NumPy offers several functions to create arrays with initial placeholder content. These minimize the necessity of growing arrays, an expensive operation.\r\n",
    "* For example: np.zeros, np.ones, np.full, np.empty, etc.\r\n",
    "* To create sequences of numbers, NumPy provides a function analogous to range that returns arrays instead of lists.\r\n",
    "* arange: returns evenly spaced values within a given interval. step size is specified.\r\n",
    "* linspace: returns evenly spaced values within a given interval. num no. of elements are returned.\r\n",
    "* Reshaping array: We can use reshape method to reshape an array. Consider an array with shape (a1, a2, a3, …, aN). We can reshape and convert it into another array with shape (b1, b2, b3, …, bM). The only required condition is:\r\n",
    "a1 x a2 x a3 … x aN = b1 x b2 x b3 … x bM . (i.e original size of array remains unchanged.)\r\n",
    "* Flatten array: We can use flatten method to get a copy of array collapsed into one dimension. It accepts order argument. Default value is ‘C’ (for row-major order). Use ‘F’ for column major order.\r\n",
    "Note: Type of array can be explicitly defined while creating array."
   ],
   "metadata": {}
  },
  {
   "cell_type": "code",
   "execution_count": 55,
   "source": [
    "# Python program to demonstrate\r\n",
    "# array creation techniques\r\n",
    "import numpy as np\r\n",
    " \r\n",
    "# Creating array from list with type float\r\n",
    "a = np.array([[1, 2, 4], [5, 8, 7]], dtype = 'float')\r\n",
    "print (\"Array created using passed list:\\n\", a)\r\n",
    " \r\n",
    "# Creating array from tuple\r\n",
    "b = np.array((1 , 3, 2))\r\n",
    "print (\"\\nArray created using passed tuple:\\n\", b)\r\n",
    " \r\n",
    "# Creating a 3X4 array with all zeros\r\n",
    "c = np.zeros((3, 4))\r\n",
    "print (\"\\nAn array initialized with all zeros:\\n\", c)\r\n",
    " \r\n",
    "# Create a constant value array of complex type\r\n",
    "d = np.full((3, 3), 6, dtype = 'complex')\r\n",
    "print (\"\\nAn array initialized with all 6s.\"\r\n",
    "            \"Array type is complex:\\n\", d)"
   ],
   "outputs": [
    {
     "output_type": "stream",
     "name": "stdout",
     "text": [
      "Array created using passed list:\n",
      " [[1. 2. 4.]\n",
      " [5. 8. 7.]]\n",
      "\n",
      "Array created using passed tuple:\n",
      " [1 3 2]\n",
      "\n",
      "An array initialized with all zeros:\n",
      " [[0. 0. 0. 0.]\n",
      " [0. 0. 0. 0.]\n",
      " [0. 0. 0. 0.]]\n",
      "\n",
      "An array initialized with all 6s.Array type is complex:\n",
      " [[6.+0.j 6.+0.j 6.+0.j]\n",
      " [6.+0.j 6.+0.j 6.+0.j]\n",
      " [6.+0.j 6.+0.j 6.+0.j]]\n"
     ]
    }
   ],
   "metadata": {}
  },
  {
   "cell_type": "markdown",
   "source": [
    "Array Indexing\r\n",
    "\r\n",
    "Knowing the basics of array indexing is important for analysing and manipulating the array object. NumPy offers many ways to do array indexing.\r\n",
    "\r\n",
    "* Slicing: Just like lists in python, NumPy arrays can be sliced. As arrays can be multidimensional, you need to specify a slice for each dimension of the array.\r\n",
    "* Integer array indexing: In this method, lists are passed for indexing for each dimension. One to one mapping of corresponding elements is done to construct a new arbitrary array.\r\n",
    "* Boolean array indexing: This method is used when we want to pick elements from array which satisfy some condition."
   ],
   "metadata": {}
  },
  {
   "cell_type": "code",
   "execution_count": 56,
   "source": [
    "# Python program to demonstrate\r\n",
    "# indexing in numpy\r\n",
    "import numpy as np\r\n",
    " \r\n",
    "# An exemplar array\r\n",
    "arr = np.array([[-1, 2, 0, 4],\r\n",
    "                [4, -0.5, 6, 0],\r\n",
    "                [2.6, 0, 7, 8],\r\n",
    "                [3, -7, 4, 2.0]])\r\n",
    " \r\n",
    "# Slicing array\r\n",
    "temp = arr[:2, ::2]\r\n",
    "print (\"Array with first 2 rows and alternate\"\r\n",
    "                    \"columns(0 and 2):\\n\", temp)\r\n",
    " \r\n",
    "# Integer array indexing example\r\n",
    "temp = arr[[0, 1, 2, 3], [3, 2, 1, 0]]\r\n",
    "print (\"\\nElements at indices (0, 3), (1, 2), (2, 1),\"\r\n",
    "                                    \"(3, 0):\\n\", temp)\r\n",
    " \r\n",
    "# boolean array indexing example\r\n",
    "cond = arr > 0 # cond is a boolean array\r\n",
    "temp = arr[cond]\r\n",
    "print (\"\\nElements greater than 0:\\n\", temp)"
   ],
   "outputs": [
    {
     "output_type": "stream",
     "name": "stdout",
     "text": [
      "Array with first 2 rows and alternatecolumns(0 and 2):\n",
      " [[-1.  0.]\n",
      " [ 4.  6.]]\n",
      "\n",
      "Elements at indices (0, 3), (1, 2), (2, 1),(3, 0):\n",
      " [4. 6. 0. 3.]\n",
      "\n",
      "Elements greater than 0:\n",
      " [2.  4.  4.  6.  2.6 7.  8.  3.  4.  2. ]\n"
     ]
    }
   ],
   "metadata": {}
  },
  {
   "cell_type": "markdown",
   "source": [
    "# Data type Object (dtype) in NumPy Python  #\r\n",
    "\r\n",
    "Every ndarray has an associated data type (dtype) object. This data type object (dtype) informs us about the layout of the array. This means it gives us information about :\r\n",
    "\r\n",
    "* Type of the data (integer, float, Python object etc.)\r\n",
    "* Size of the data (number of bytes)\r\n",
    "* Byte order of the data (little-endian or big-endian)\r\n",
    "* If the data type is a sub-array, what is its shape and data type.\r\n",
    "The values of an ndarray are stored in a buffer which can be thought of as a contiguous block of memory bytes. So how these bytes will be interpreted is given by the dtype object.  \r\n",
    "\r\n",
    "1) Constructing a data type (dtype) object : Data type object is an instance of numpy.dtype class and it can be created using numpy.dtype.\r\n",
    "Parameters:\r\n",
    "\r\n",
    "* obj: Object to be converted to a data type object.\r\n",
    "* align : bool, optional\r\n",
    "Add padding to the fields to match what a C compiler would output for a similar C-struct.\r\n",
    "* copy : bool, optional\r\n",
    "Make a new copy of the data-type object. If False, the result may just be a reference to a built-in data-type object.\r\n",
    "\r\n",
    "\r\n",
    "\r\n"
   ],
   "metadata": {}
  },
  {
   "cell_type": "code",
   "execution_count": null,
   "source": [
    "# Python Program to create a data type object\r\n",
    "import numpy as np\r\n",
    "\r\n",
    "# np.int16 is converted into a data type object.\r\n",
    "print(np.dtype(np.int16))\r\n"
   ],
   "outputs": [],
   "metadata": {}
  },
  {
   "cell_type": "code",
   "execution_count": 64,
   "source": [
    "# Python Program to create a data type object\r\n",
    "# containing a 32 bit big-endian integer\r\n",
    "import numpy as np\r\n",
    "\r\n",
    "# i4 represents integer of size 4 byte\r\n",
    "# > represents big-endian byte ordering and < represents little-endian encoding.\r\n",
    "# dt is a dtype object\r\n",
    "dt = np.dtype('>i4')\r\n",
    "\r\n",
    "print(\"Byte order is:\",dt.byteorder)\r\n",
    "\r\n",
    "print(\"Size is:\",dt.itemsize)\r\n",
    "\r\n",
    "print(\"Data type is:\",dt.name)\r\n"
   ],
   "outputs": [
    {
     "output_type": "stream",
     "name": "stdout",
     "text": [
      "Byte order is: >\n",
      "Size is: 4\n",
      "Data type is: int32\n"
     ]
    }
   ],
   "metadata": {}
  },
  {
   "cell_type": "markdown",
   "source": [
    "The type specifier (i4 in above case) can take different forms:\r\n",
    "\r\n",
    "1) b1, i1, i2, i4, i8, u1, u2, u4, u8, f2, f4, f8, c8, c16, a\r\n",
    "   (representing bytes, ints, unsigned ints, floats, complex and\r\n",
    "    fixed length strings of specified byte lengths)\r\n",
    "2) int8,…,uint8,…,float16, float32, float64, complex64, complex128\r\n",
    "   (this time with bit sizes)"
   ],
   "metadata": {}
  },
  {
   "cell_type": "code",
   "execution_count": 66,
   "source": [
    "# Python program to differentiate\r\n",
    "# between type and dtype.\r\n",
    "\r\n",
    "\r\n",
    "a = np.array([1])\r\n",
    "\r\n",
    "print(\"type is: \",type(a))\r\n",
    "print(\"dtype is: \",a.dtype)"
   ],
   "outputs": [
    {
     "output_type": "stream",
     "name": "stdout",
     "text": [
      "type is:  <class 'numpy.ndarray'>\n",
      "dtype is:  int32\n"
     ]
    }
   ],
   "metadata": {}
  },
  {
   "cell_type": "markdown",
   "source": [
    "2) Data type Objects with Structured Arrays : Data type objects are useful for creating structured arrays.  A structured array is the one which contains different types of data. Structured arrays can be accessed with the help of fields.\r\n",
    "A field is like specifying a name to the object. In case of structured arrays the dtype object will also be structured. "
   ],
   "metadata": {}
  },
  {
   "cell_type": "code",
   "execution_count": 67,
   "source": [
    "# Python program for demonstrating\r\n",
    "# the use of fields\r\n",
    "import numpy as np\r\n",
    "\r\n",
    "# A structured data type containing a 16-character string (in field ‘name’)\r\n",
    "# and a sub-array of two 64-bit floating-point number (in field ‘grades’):\r\n",
    "\r\n",
    "dt = np.dtype([('name', np.unicode_, 16), ('grades', np.float64, (2,))])\r\n",
    "\r\n",
    "# Data type of object with field grades\r\n",
    "print(dt['grades'])\r\n",
    "\r\n",
    "# Data type of object with field name\r\n",
    "print(dt['name'])\r\n"
   ],
   "outputs": [
    {
     "output_type": "stream",
     "name": "stdout",
     "text": [
      "('<f8', (2,))\n",
      "<U16\n"
     ]
    }
   ],
   "metadata": {}
  },
  {
   "cell_type": "code",
   "execution_count": 68,
   "source": [
    "# Python program to demonstrate\r\n",
    "# the use of data type object with structured array.\r\n",
    "import numpy as np\r\n",
    "\r\n",
    "dt = np.dtype([('name', np.unicode_, 16), ('grades', np.float64, (2,))])\r\n",
    "\r\n",
    "# x is a structured array with names and marks of students.\r\n",
    "# Data type of name of the student is np.unicode_ and\r\n",
    "# data type of marks is np.float(64)\r\n",
    "x = np.array([('Sarah', (8.0, 7.0)), ('John', (6.0, 7.0))], dtype=dt)\r\n",
    "\r\n",
    "print(x[1])\r\n",
    "print(\"Grades of John are: \",x[1]['grades'])\r\n",
    "print(\"Names are: \",x['name'])\r\n"
   ],
   "outputs": [
    {
     "output_type": "stream",
     "name": "stdout",
     "text": [
      "('John', [6., 7.])\n",
      "Grades of John are:  [6. 7.]\n",
      "Names are:  ['Sarah' 'John']\n"
     ]
    }
   ],
   "metadata": {}
  }
 ],
 "metadata": {
  "orig_nbformat": 4,
  "language_info": {
   "name": "python",
   "version": "3.9.1",
   "mimetype": "text/x-python",
   "codemirror_mode": {
    "name": "ipython",
    "version": 3
   },
   "pygments_lexer": "ipython3",
   "nbconvert_exporter": "python",
   "file_extension": ".py"
  },
  "kernelspec": {
   "name": "python3",
   "display_name": "Python 3.9.1 64-bit"
  },
  "interpreter": {
   "hash": "11f1dc213e07634baa4c5c321dec03c05dafae643c50f20e6d1a492290c05dc2"
  }
 },
 "nbformat": 4,
 "nbformat_minor": 2
}