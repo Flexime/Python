{
 "cells": [
  {
   "cell_type": "markdown",
   "source": [
    "NumPy in Python | Set 1 (Introduction)\r\n",
    "\r\n",
    "What is NumPy?\r\n",
    "NumPy is a general-purpose array-processing package. It provides a high-performance multidimensional array object, and tools for working with these arrays.\r\n",
    "\r\n",
    "It is the fundamental package for scientific computing with Python. It contains various features including these important ones:\r\n",
    "\r\n",
    "* A powerful N-dimensional array object\r\n",
    "* Sophisticated (broadcasting) functions\r\n",
    "* Tools for integrating C/C++ and Fortran code\r\n",
    "* Useful linear algebra, Fourier transform, and random number capabilities\r\n",
    "Besides its obvious scientific uses, NumPy can also be used as an efficient multi-dimensional container of generic data.\r\n",
    "Arbitrary data-types can be defined using Numpy which allows NumPy to seamlessly and speedily integrate with a wide variety of databases.\r\n",
    "\r\n",
    "Installation:\r\n",
    "\r\n",
    "\r\n"
   ],
   "metadata": {}
  },
  {
   "cell_type": "markdown",
   "source": [
    "1. Arrays in NumPy: NumPy’s main object is the homogeneous multidimensional array.\r\n",
    "\r\n",
    "* It is a table of elements (usually numbers), all of the same type, indexed by a tuple of positive integers.\r\n",
    "* In NumPy dimensions are called axes. The number of axes is rank.\r\n",
    "* NumPy’s array class is called ndarray. It is also known by the alias array.\r\n",
    "\r\n",
    "[[ 1, 2, 3],\r\n",
    "[ 4, 2, 5]]\r\n",
    "\r\n",
    "Here,\r\n",
    "rank = 2 (as it is 2-dimensional or it has 2 axes)\r\n",
    "first dimension(axis) length = 2, second dimension has length = 3\r\n",
    "overall shape can be expressed as: (2, 3)\r\n"
   ],
   "metadata": {}
  },
  {
   "cell_type": "code",
   "execution_count": 1,
   "source": [
    "# Python program to demonstrate\r\n",
    "# basic array characteristics\r\n",
    "import numpy as np\r\n",
    "\r\n",
    "# Creating array object\r\n",
    "arr = np.array( [[ 1, 2, 3],\r\n",
    "\t\t\t\t[ 4, 2, 5]] )\r\n",
    "\r\n",
    "# Printing type of arr object\r\n",
    "print(\"Array is of type: \", type(arr))\r\n",
    "\r\n",
    "# Printing array dimensions (axes)\r\n",
    "print(\"No. of dimensions: \", arr.ndim)\r\n",
    "\r\n",
    "# Printing shape of array\r\n",
    "print(\"Shape of array: \", arr.shape)\r\n",
    "\r\n",
    "# Printing size (total number of elements) of array\r\n",
    "print(\"Size of array: \", arr.size)\r\n",
    "\r\n",
    "# Printing type of elements in array\r\n",
    "print(\"Array stores elements of type: \", arr.dtype)\r\n"
   ],
   "outputs": [
    {
     "output_type": "stream",
     "name": "stdout",
     "text": [
      "Array is of type:  <class 'numpy.ndarray'>\n",
      "No. of dimensions:  2\n",
      "Shape of array:  (2, 3)\n",
      "Size of array:  6\n",
      "Array stores elements of type:  int32\n"
     ]
    }
   ],
   "metadata": {}
  },
  {
   "cell_type": "markdown",
   "source": [
    "2. Array creation: There are various ways to create arrays in NumPy.\r\n",
    "\r\n",
    "* For example, you can create an array from a regular Python list or tuple using the array function. The type of the resulting array is deduced from the type of the elements in the sequences.\r\n",
    "* Often, the elements of an array are originally unknown, but its size is known. Hence, NumPy offers several functions to create arrays with initial placeholder content. These minimize the necessity of growing arrays, an expensive operation.\r\n",
    "* For example: np.zeros, np.ones, np.full, np.empty, etc.\r\n",
    "* To create sequences of numbers, NumPy provides a function analogous to range that returns arrays instead of lists.\r\n",
    "* arange: returns evenly spaced values within a given interval. step size is specified.\r\n",
    "* linspace: returns evenly spaced values within a given interval. num no. of elements are returned.\r\n",
    "* Reshaping array: We can use reshape method to reshape an array. Consider an array with shape (a1, a2, a3, …, aN). We can reshape and convert it into another array with shape (b1, b2, b3, …, bM). The only required condition is:\r\n",
    "a1 x a2 x a3 … x aN = b1 x b2 x b3 … x bM . (i.e original size of array remains unchanged.)\r\n",
    "* Flatten array: We can use flatten method to get a copy of array collapsed into one dimension. It accepts order argument. Default value is ‘C’ (for row-major order). Use ‘F’ for column major order."
   ],
   "metadata": {}
  },
  {
   "cell_type": "code",
   "execution_count": 2,
   "source": [
    "# Python program to demonstrate\r\n",
    "# array creation techniques\r\n",
    "import numpy as np\r\n",
    "\r\n",
    "# Creating array from list with type float\r\n",
    "a = np.array([[1, 2, 4], [5, 8, 7]], dtype = 'float')\r\n",
    "print (\"Array created using passed list:\\n\", a)\r\n",
    "\r\n",
    "# Creating array from tuple\r\n",
    "b = np.array((1 , 3, 2))\r\n",
    "print (\"\\nArray created using passed tuple:\\n\", b)\r\n",
    "\r\n",
    "# Creating a 3X4 array with all zeros\r\n",
    "c = np.zeros((3, 4))\r\n",
    "print (\"\\nAn array initialized with all zeros:\\n\", c)\r\n",
    "\r\n",
    "# Create a constant value array of complex type\r\n",
    "d = np.full((3, 3), 6, dtype = 'complex')\r\n",
    "print (\"\\nAn array initialized with all 6s.\"\r\n",
    "\t\t\t\"Array type is complex:\\n\", d)\r\n",
    "\r\n",
    "# Create an array with random values\r\n",
    "e = np.random.random((2, 2))\r\n",
    "print (\"\\nA random array:\\n\", e)\r\n",
    "\r\n",
    "# Create a sequence of integers\r\n",
    "# from 0 to 30 with steps of 5\r\n",
    "f = np.arange(0, 30, 5)\r\n",
    "print (\"\\nA sequential array with steps of 5:\\n\", f)\r\n",
    "\r\n",
    "# Create a sequence of 10 values in range 0 to 5\r\n",
    "g = np.linspace(0, 5, 10)\r\n",
    "print (\"\\nA sequential array with 10 values between\"\r\n",
    "\t\t\t\t\t\t\t\t\t\t\"0 and 5:\\n\", g)\r\n",
    "\r\n",
    "# Reshaping 3X4 array to 2X2X3 array\r\n",
    "arr = np.array([[1, 2, 3, 4],\r\n",
    "\t\t\t\t[5, 2, 4, 2],\r\n",
    "\t\t\t\t[1, 2, 0, 1]])\r\n",
    "\r\n",
    "newarr = arr.reshape(2, 2, 3)\r\n",
    "\r\n",
    "print (\"\\nOriginal array:\\n\", arr)\r\n",
    "print (\"Reshaped array:\\n\", newarr)\r\n",
    "\r\n",
    "# Flatten array\r\n",
    "arr = np.array([[1, 2, 3], [4, 5, 6]])\r\n",
    "flarr = arr.flatten()\r\n",
    "\r\n",
    "print (\"\\nOriginal array:\\n\", arr)\r\n",
    "print (\"Fattened array:\\n\", flarr)\r\n"
   ],
   "outputs": [
    {
     "output_type": "stream",
     "name": "stdout",
     "text": [
      "Array created using passed list:\n",
      " [[1. 2. 4.]\n",
      " [5. 8. 7.]]\n",
      "\n",
      "Array created using passed tuple:\n",
      " [1 3 2]\n",
      "\n",
      "An array initialized with all zeros:\n",
      " [[0. 0. 0. 0.]\n",
      " [0. 0. 0. 0.]\n",
      " [0. 0. 0. 0.]]\n",
      "\n",
      "An array initialized with all 6s.Array type is complex:\n",
      " [[6.+0.j 6.+0.j 6.+0.j]\n",
      " [6.+0.j 6.+0.j 6.+0.j]\n",
      " [6.+0.j 6.+0.j 6.+0.j]]\n",
      "\n",
      "A random array:\n",
      " [[0.76658095 0.15238444]\n",
      " [0.42369798 0.82806123]]\n",
      "\n",
      "A sequential array with steps of 5:\n",
      " [ 0  5 10 15 20 25]\n",
      "\n",
      "A sequential array with 10 values between0 and 5:\n",
      " [0.         0.55555556 1.11111111 1.66666667 2.22222222 2.77777778\n",
      " 3.33333333 3.88888889 4.44444444 5.        ]\n",
      "\n",
      "Original array:\n",
      " [[1 2 3 4]\n",
      " [5 2 4 2]\n",
      " [1 2 0 1]]\n",
      "Reshaped array:\n",
      " [[[1 2 3]\n",
      "  [4 5 2]]\n",
      "\n",
      " [[4 2 1]\n",
      "  [2 0 1]]]\n",
      "\n",
      "Original array:\n",
      " [[1 2 3]\n",
      " [4 5 6]]\n",
      "Fattened array:\n",
      " [1 2 3 4 5 6]\n"
     ]
    }
   ],
   "metadata": {}
  },
  {
   "cell_type": "markdown",
   "source": [
    "3. Array Indexing: Knowing the basics of array indexing is important for analysing and manipulating the array object. NumPy offers many ways to do array indexing.\r\n",
    "\r\n",
    "\r\n",
    "\r\n",
    "* Slicing: Just like lists in python, NumPy arrays can be sliced. As arrays can be multidimensional, you need to specify a slice for each dimension of the array.\r\n",
    "* Integer array indexing: In this method, lists are passed for indexing for each dimension. One to one mapping of corresponding elements is done to construct a new arbitrary array.\r\n",
    "* Boolean array indexing: This method is used when we want to pick elements from array which satisfy some condition."
   ],
   "metadata": {}
  },
  {
   "cell_type": "code",
   "execution_count": null,
   "source": [
    "# Python program to demonstrate\r\n",
    "# indexing in numpy\r\n",
    "import numpy as np\r\n",
    "\r\n",
    "# An exemplar array\r\n",
    "arr = np.array([[-1, 2, 0, 4],\r\n",
    "\t\t\t\t[4, -0.5, 6, 0],\r\n",
    "\t\t\t\t[2.6, 0, 7, 8],\r\n",
    "\t\t\t\t[3, -7, 4, 2.0]])\r\n",
    "\r\n",
    "# Slicing array\r\n",
    "temp = arr[:2, ::2]\r\n",
    "print (\"Array with first 2 rows and alternate\"\r\n",
    "\t\t\t\t\t\"columns(0 and 2):\\n\", temp)\r\n",
    "\r\n",
    "# Integer array indexing example\r\n",
    "temp = arr[[0, 1, 2, 3], [3, 2, 1, 0]]\r\n",
    "print (\"\\nElements at indices (0, 3), (1, 2), (2, 1),\"\r\n",
    "\t\t\t\t\t\t\t\t\t\"(3, 0):\\n\", temp)\r\n",
    "\r\n",
    "# boolean array indexing example\r\n",
    "cond = arr > 0 # cond is a boolean array\r\n",
    "temp = arr[cond]\r\n",
    "print (\"\\nElements greater than 0:\\n\", temp)"
   ],
   "outputs": [],
   "metadata": {}
  },
  {
   "cell_type": "markdown",
   "source": [
    "4. Basic operations: Plethora of built-in arithmetic functions are provided in NumPy.\r\n",
    "\r\n",
    "* Operations on single array: We can use overloaded arithmetic operators to do element-wise operation on array to create a new array. In case of +=, -=, *= operators, the exsisting array is modified."
   ],
   "metadata": {}
  },
  {
   "cell_type": "code",
   "execution_count": 3,
   "source": [
    "# Python program to demonstrate\r\n",
    "# basic operations on single array\r\n",
    "import numpy as np\r\n",
    "\r\n",
    "a = np.array([1, 2, 5, 3])\r\n",
    "\r\n",
    "# add 1 to every element\r\n",
    "print (\"Adding 1 to every element:\", a+1)\r\n",
    "\r\n",
    "# subtract 3 from each element\r\n",
    "print (\"Subtracting 3 from each element:\", a-3)\r\n",
    "\r\n",
    "# multiply each element by 10\r\n",
    "print (\"Multiplying each element by 10:\", a*10)\r\n",
    "\r\n",
    "# square each element\r\n",
    "print (\"Squaring each element:\", a**2)\r\n",
    "\r\n",
    "# modify existing array\r\n",
    "a *= 2\r\n",
    "print (\"Doubled each element of original array:\", a)\r\n",
    "\r\n",
    "# transpose of array\r\n",
    "a = np.array([[1, 2, 3], [3, 4, 5], [9, 6, 0]])\r\n",
    "\r\n",
    "print (\"\\nOriginal array:\\n\", a)\r\n",
    "print (\"Transpose of array:\\n\", a.T)\r\n"
   ],
   "outputs": [
    {
     "output_type": "stream",
     "name": "stdout",
     "text": [
      "Adding 1 to every element: [2 3 6 4]\n",
      "Subtracting 3 from each element: [-2 -1  2  0]\n",
      "Multiplying each element by 10: [10 20 50 30]\n",
      "Squaring each element: [ 1  4 25  9]\n",
      "Doubled each element of original array: [ 2  4 10  6]\n",
      "\n",
      "Original array:\n",
      " [[1 2 3]\n",
      " [3 4 5]\n",
      " [9 6 0]]\n",
      "Transpose of array:\n",
      " [[1 3 9]\n",
      " [2 4 6]\n",
      " [3 5 0]]\n"
     ]
    }
   ],
   "metadata": {}
  },
  {
   "cell_type": "markdown",
   "source": [
    "* Unary operators: Many unary operations are provided as a method of ndarray class. This includes sum, min, max, etc. These functions can also be applied row-wise or column-wise by setting an axis parameter.\r\n"
   ],
   "metadata": {}
  },
  {
   "cell_type": "code",
   "execution_count": 4,
   "source": [
    "# Python program to demonstrate\r\n",
    "# unary operators in numpy\r\n",
    "import numpy as np\r\n",
    "\r\n",
    "arr = np.array([[1, 5, 6],\r\n",
    "\t\t\t\t[4, 7, 2],\r\n",
    "\t\t\t\t[3, 1, 9]])\r\n",
    "\r\n",
    "# maximum element of array\r\n",
    "print (\"Largest element is:\", arr.max())\r\n",
    "print (\"Row-wise maximum elements:\",\r\n",
    "\t\t\t\t\tarr.max(axis = 1))\r\n",
    "\r\n",
    "# minimum element of array\r\n",
    "print (\"Column-wise minimum elements:\",\r\n",
    "\t\t\t\t\t\tarr.min(axis = 0))\r\n",
    "\r\n",
    "# sum of array elements\r\n",
    "print (\"Sum of all array elements:\",\r\n",
    "\t\t\t\t\t\t\tarr.sum())\r\n",
    "\r\n",
    "# cumulative sum along each row\r\n",
    "print (\"Cumulative sum along each row:\\n\",\r\n",
    "\t\t\t\t\t\tarr.cumsum(axis = 1))\r\n"
   ],
   "outputs": [
    {
     "output_type": "stream",
     "name": "stdout",
     "text": [
      "Largest element is: 9\n",
      "Row-wise maximum elements: [6 7 9]\n",
      "Column-wise minimum elements: [1 1 2]\n",
      "Sum of all array elements: 38\n",
      "Cumulative sum along each row:\n",
      " [[ 1  6 12]\n",
      " [ 4 11 13]\n",
      " [ 3  4 13]]\n"
     ]
    }
   ],
   "metadata": {}
  },
  {
   "cell_type": "markdown",
   "source": [
    "Binary operators: These operations apply on array elementwise and a new array is created. You can use all basic arithmetic operators like +, -, /, , etc. In case of +=, -=, = operators, the exsisting array is modified.\r\n"
   ],
   "metadata": {}
  },
  {
   "cell_type": "code",
   "execution_count": 5,
   "source": [
    "# Python program to demonstrate\r\n",
    "# binary operators in Numpy\r\n",
    "import numpy as np\r\n",
    "\r\n",
    "a = np.array([[1, 2],\r\n",
    "\t\t\t[3, 4]])\r\n",
    "b = np.array([[4, 3],\r\n",
    "\t\t\t[2, 1]])\r\n",
    "\r\n",
    "# add arrays\r\n",
    "print (\"Array sum:\\n\", a + b)\r\n",
    "\r\n",
    "# multiply arrays (elementwise multiplication)\r\n",
    "print (\"Array multiplication:\\n\", a*b)\r\n",
    "\r\n",
    "# matrix multiplication\r\n",
    "print (\"Matrix multiplication:\\n\", a.dot(b))\r\n"
   ],
   "outputs": [
    {
     "output_type": "stream",
     "name": "stdout",
     "text": [
      "Array sum:\n",
      " [[5 5]\n",
      " [5 5]]\n",
      "Array multiplication:\n",
      " [[4 6]\n",
      " [6 4]]\n",
      "Matrix multiplication:\n",
      " [[ 8  5]\n",
      " [20 13]]\n"
     ]
    }
   ],
   "metadata": {}
  },
  {
   "cell_type": "markdown",
   "source": [
    "* Universal functions (ufunc): NumPy provides familiar mathematical functions such as sin, cos, exp, etc. These functions also operate elementwise on an array, producing an array as output.\r\n",
    "* Note: All the operations we did above using overloaded operators can be done using ufuncs like np.add, np.subtract, np.multiply, np.divide, np.sum, etc."
   ],
   "metadata": {}
  },
  {
   "cell_type": "code",
   "execution_count": null,
   "source": [
    "Universal functions (ufunc): NumPy provides familiar mathematical functions such as sin, cos, exp, etc. These functions also operate elementwise on an array, producing an array as output.\r\n",
    "Note: All the operations we did above using overloaded operators can be done using ufuncs like np.add, np.subtract, np.multiply, np.divide, np.sum, etc."
   ],
   "outputs": [],
   "metadata": {}
  },
  {
   "cell_type": "code",
   "execution_count": 6,
   "source": [
    "# Python program to demonstrate\r\n",
    "# universal functions in numpy\r\n",
    "import numpy as np\r\n",
    "\r\n",
    "# create an array of sine values\r\n",
    "a = np.array([0, np.pi/2, np.pi])\r\n",
    "print (\"Sine values of array elements:\", np.sin(a))\r\n",
    "\r\n",
    "# exponential values\r\n",
    "a = np.array([0, 1, 2, 3])\r\n",
    "print (\"Exponent of array elements:\", np.exp(a))\r\n",
    "\r\n",
    "# square root of array values\r\n",
    "print (\"Square root of array elements:\", np.sqrt(a))\r\n"
   ],
   "outputs": [
    {
     "output_type": "stream",
     "name": "stdout",
     "text": [
      "Sine values of array elements: [0.0000000e+00 1.0000000e+00 1.2246468e-16]\n",
      "Exponent of array elements: [ 1.          2.71828183  7.3890561  20.08553692]\n",
      "Square root of array elements: [0.         1.         1.41421356 1.73205081]\n"
     ]
    }
   ],
   "metadata": {}
  },
  {
   "cell_type": "markdown",
   "source": [
    "4. Sorting array: There is a simple np.sort method for sorting NumPy arrays. Let’s explore it a bit."
   ],
   "metadata": {}
  },
  {
   "cell_type": "code",
   "execution_count": 7,
   "source": [
    "# Python program to demonstrate sorting in numpy\r\n",
    "import numpy as np\r\n",
    "\r\n",
    "a = np.array([[1, 4, 2],\r\n",
    "\t\t\t\t[3, 4, 6],\r\n",
    "\t\t\t[0, -1, 5]])\r\n",
    "\r\n",
    "# sorted array\r\n",
    "print (\"Array elements in sorted order:\\n\",\r\n",
    "\t\t\t\t\tnp.sort(a, axis = None))\r\n",
    "\r\n",
    "# sort array row-wise\r\n",
    "print (\"Row-wise sorted array:\\n\",\r\n",
    "\t\t\t\tnp.sort(a, axis = 1))\r\n",
    "\r\n",
    "# specify sort algorithm\r\n",
    "print (\"Column wise sort by applying merge-sort:\\n\",\r\n",
    "\t\t\tnp.sort(a, axis = 0, kind = 'mergesort'))\r\n",
    "\r\n",
    "# Example to show sorting of structured array\r\n",
    "# set alias names for dtypes\r\n",
    "dtypes = [('name', 'S10'), ('grad_year', int), ('cgpa', float)]\r\n",
    "\r\n",
    "# Values to be put in array\r\n",
    "values = [('Hrithik', 2009, 8.5), ('Ajay', 2008, 8.7),\r\n",
    "\t\t('Pankaj', 2008, 7.9), ('Aakash', 2009, 9.0)]\r\n",
    "\t\t\t\r\n",
    "# Creating array\r\n",
    "arr = np.array(values, dtype = dtypes)\r\n",
    "print (\"\\nArray sorted by names:\\n\",\r\n",
    "\t\t\tnp.sort(arr, order = 'name'))\r\n",
    "\t\t\t\r\n",
    "print (\"Array sorted by grauation year and then cgpa:\\n\",\r\n",
    "\t\t\t\tnp.sort(arr, order = ['grad_year', 'cgpa']))"
   ],
   "outputs": [
    {
     "output_type": "stream",
     "name": "stdout",
     "text": [
      "Array elements in sorted order:\n",
      " [-1  0  1  2  3  4  4  5  6]\n",
      "Row-wise sorted array:\n",
      " [[ 1  2  4]\n",
      " [ 3  4  6]\n",
      " [-1  0  5]]\n",
      "Column wise sort by applying merge-sort:\n",
      " [[ 0 -1  2]\n",
      " [ 1  4  5]\n",
      " [ 3  4  6]]\n",
      "\n",
      "Array sorted by names:\n",
      " [(b'Aakash', 2009, 9. ) (b'Ajay', 2008, 8.7) (b'Hrithik', 2009, 8.5)\n",
      " (b'Pankaj', 2008, 7.9)]\n",
      "Array sorted by grauation year and then cgpa:\n",
      " [(b'Pankaj', 2008, 7.9) (b'Ajay', 2008, 8.7) (b'Hrithik', 2009, 8.5)\n",
      " (b'Aakash', 2009, 9. )]\n"
     ]
    }
   ],
   "metadata": {}
  }
 ],
 "metadata": {
  "orig_nbformat": 4,
  "language_info": {
   "name": "python",
   "version": "3.9.1",
   "mimetype": "text/x-python",
   "codemirror_mode": {
    "name": "ipython",
    "version": 3
   },
   "pygments_lexer": "ipython3",
   "nbconvert_exporter": "python",
   "file_extension": ".py"
  },
  "kernelspec": {
   "name": "python3",
   "display_name": "Python 3.9.1 64-bit"
  },
  "interpreter": {
   "hash": "11f1dc213e07634baa4c5c321dec03c05dafae643c50f20e6d1a492290c05dc2"
  }
 },
 "nbformat": 4,
 "nbformat_minor": 2
}