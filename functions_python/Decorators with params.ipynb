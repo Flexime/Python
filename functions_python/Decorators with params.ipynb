{
 "cells": [
  {
   "cell_type": "markdown",
   "source": [
    "# Decorators with parameters in Python #\r\n",
    "\r\n",
    "We know Decorators are a very powerful and useful tool in Python since it allows programmers to modify the behavior of function or class. In this article, we will learn about the Decorators with Parameters with help of multiple examples. \r\n",
    "Python functions are First Class citizens which means that functions can be treated similarly to objects. \r\n",
    " \r\n",
    "\r\n",
    "* Function can be assigned to a variable i.e they can be referenced.\r\n",
    "* Function can be passed as an argument to another function.\r\n",
    "* Function can be returned from a function.\r\n",
    "Decorators with parameters is similar to normal decorators."
   ],
   "metadata": {}
  },
  {
   "cell_type": "code",
   "execution_count": null,
   "source": [],
   "outputs": [],
   "metadata": {}
  },
  {
   "cell_type": "code",
   "execution_count": 1,
   "source": [
    "#'''The syntax for decorators with parameters :\r\n",
    "#\r\n",
    "#@decorator(params)\r\n",
    "def func_name():\r\n",
    "    ''' Function implementation'''\r\n",
    "\r\n",
    "\r\n",
    "#The above code is equivalent to \r\n",
    "\r\n",
    "#@decorator(params)\r\n",
    "def func_name():\r\n",
    "    ''' Function implementation''' "
   ],
   "outputs": [
    {
     "output_type": "error",
     "ename": "SyntaxError",
     "evalue": "invalid syntax (<ipython-input-1-9a60a5cabdd1>, line 5)",
     "traceback": [
      "\u001b[1;36m  File \u001b[1;32m\"<ipython-input-1-9a60a5cabdd1>\"\u001b[1;36m, line \u001b[1;32m5\u001b[0m\n\u001b[1;33m    ''' Function implementation'''\u001b[0m\n\u001b[1;37m        ^\u001b[0m\n\u001b[1;31mSyntaxError\u001b[0m\u001b[1;31m:\u001b[0m invalid syntax\n"
     ]
    }
   ],
   "metadata": {}
  },
  {
   "cell_type": "markdown",
   "source": [
    "As the execution starts from left to right decorator(params) is called which returns a function object fun_obj. Using the fun_obj the call fun_obj(fun_name) is made. Inside the inner function, required operations are performed and the actual function reference is returned which will be assigned to func_name. Now, func_name() can be used to call the function with decorator applied on it."
   ],
   "metadata": {}
  },
  {
   "cell_type": "code",
   "execution_count": 3,
   "source": [
    "#def decorators(*args, **kwargs):\r\n",
    "#\tdef inner(func):\r\n",
    "#\t\t'''\r\n",
    "#\t\tdo operations with func\r\n",
    "#\t\t'''\r\n",
    "#\t\treturn func\r\n",
    "#\treturn inner #this is the fun_obj mentioned in the above content\r\n",
    "#\r\n",
    "#@decorators(params)\r\n",
    "#def func():\r\n",
    "#\t\"\"\"\r\n",
    "#\t\tfunction implementation\r\n",
    "#\t\"\"\"\r\n",
    "#"
   ],
   "outputs": [],
   "metadata": {}
  },
  {
   "cell_type": "code",
   "execution_count": null,
   "source": [
    "# Python code to illustrate\r\n",
    "# Decorators basic in Python\r\n",
    "\r\n",
    "def decorator_fun(func):\r\n",
    "    print(\"Inside decorator\")\r\n",
    "\r\n",
    "\r\n",
    "def inner(*args, **kwargs):\r\n",
    "    print(\"Inside inner function\")\r\n",
    "    print(\"Decorated the function\")\r\n",
    "    # do operations with func\r\n",
    "\r\n",
    "    func()\r\n",
    "\r\n",
    "\r\n",
    "    return inner\r\n",
    "\r\n",
    "\r\n",
    "@decorator_fun\r\n",
    "def func_to():\r\n",
    "    print(\"Inside actual function\")\r\n",
    "\r\n",
    "\r\n",
    "func_to()\r\n"
   ],
   "outputs": [],
   "metadata": {}
  },
  {
   "cell_type": "code",
   "execution_count": 7,
   "source": [
    "# Python code to illustrate\r\n",
    "# Decorators with parameters in Python\r\n",
    "\r\n",
    "def decorator_fun(func):\r\n",
    "    print(\"Inside decorator\")\r\n",
    "\r\n",
    "\r\n",
    "def inner(*args, **kwargs):\r\n",
    "\tprint(\"Inside inner function\")\r\n",
    "\tprint(\"Decorated the function\")\r\n",
    "\r\n",
    "\tfunc()\r\n",
    "\r\n",
    "        return inner\r\n",
    "\r\n",
    "\r\n",
    "def func_to():\r\n",
    "\tprint(\"Inside actual function\")\r\n",
    "\r\n",
    "# another way of using decorators\r\n",
    "decorator_fun(func_to)()\r\n"
   ],
   "outputs": [
    {
     "output_type": "error",
     "ename": "TabError",
     "evalue": "inconsistent use of tabs and spaces in indentation (<ipython-input-7-ee7fac7f6e75>, line 14)",
     "traceback": [
      "\u001b[1;36m  File \u001b[1;32m\"<ipython-input-7-ee7fac7f6e75>\"\u001b[1;36m, line \u001b[1;32m14\u001b[0m\n\u001b[1;33m    return inner\u001b[0m\n\u001b[1;37m                ^\u001b[0m\n\u001b[1;31mTabError\u001b[0m\u001b[1;31m:\u001b[0m inconsistent use of tabs and spaces in indentation\n"
     ]
    }
   ],
   "metadata": {}
  },
  {
   "cell_type": "code",
   "execution_count": 9,
   "source": [
    "# Python code to illustrate\r\n",
    "# Decorators with parameters in Python\r\n",
    "\r\n",
    "def decorator(*args, **kwargs):\r\n",
    "\tprint(\"Inside decorator\")\r\n",
    "\t\r\n",
    "\tdef inner(func):\r\n",
    "\t\t\r\n",
    "\t\t# code functionality here\r\n",
    "\t\tprint(\"Inside inner function\")\r\n",
    "\t\tprint(\"I like\", kwargs['like'])\r\n",
    "\t\t\r\n",
    "\t\tfunc()\r\n",
    "\t\t\r\n",
    "\t# reurning inner function\r\n",
    "\treturn inner\r\n",
    "\r\n",
    "@decorator(like = \"decorator\")\r\n",
    "def my_func():\r\n",
    "\tprint(\"Inside actual function\")\r\n"
   ],
   "outputs": [
    {
     "output_type": "stream",
     "name": "stdout",
     "text": [
      "Inside decorator\n",
      "Inside inner function\n",
      "I like decorator\n",
      "Inside actual function\n"
     ]
    }
   ],
   "metadata": {}
  },
  {
   "cell_type": "code",
   "execution_count": 11,
   "source": [
    "# Python code to illustrate\r\n",
    "# Decorators with parameters in Python\r\n",
    "\r\n",
    "def decorator_func(x, y):\r\n",
    "\r\n",
    "\tdef Inner(func):\r\n",
    "\r\n",
    "\t\tdef wrapper(*args, **kwargs):\r\n",
    "\t\t\tprint(\"wrapper\")\r\n",
    "\t\t\tprint(\"Summation of values - {}\".format(x+y) )\r\n",
    "\r\n",
    "\t\t\tfunc(*args, **kwargs)\r\n",
    "\t\t\t\r\n",
    "\t\treturn wrapper\r\n",
    "\treturn Inner\r\n",
    "\r\n",
    "\r\n",
    "# Not using decorator\r\n",
    "def my_fun(*args):\r\n",
    "\tfor ele in args:\r\n",
    "\t\tprint(ele)\r\n",
    "\r\n",
    "# another way of using decorators\r\n",
    "decorator_func(12, 15)(my_fun)('Flex','not', 'having', 'fun')\r\n"
   ],
   "outputs": [
    {
     "output_type": "stream",
     "name": "stdout",
     "text": [
      "wrapper\n",
      "Summation of values - 27\n",
      "Flex\n",
      "not\n",
      "having\n",
      "fun\n"
     ]
    }
   ],
   "metadata": {}
  },
  {
   "cell_type": "markdown",
   "source": [
    "This example also tells us that Outer function parameters can be accessed by the enclosed inner function."
   ],
   "metadata": {}
  },
  {
   "cell_type": "code",
   "execution_count": 17,
   "source": [
    "# Python code to illustrate\r\n",
    "# Decorators with parameters in Python (Multi-level Decorators)\r\n",
    "\r\n",
    "\r\n",
    "def decodecorator(dataType, message1, message2):\r\n",
    "\tdef decorator(fun):\r\n",
    "\t\tprint(message1)\r\n",
    "\t\tdef wrapper(*args, **kwargs):\r\n",
    "\t\t\tprint(message2)\r\n",
    "\t\t\tif all([type(arg) == dataType for arg in args]):\r\n",
    "\t\t\t\treturn fun(*args, **kwargs)\r\n",
    "\t\t\treturn \"Invalid Input\"\r\n",
    "\t\treturn wrapper\r\n",
    "\treturn decorator\r\n",
    "\r\n",
    "\r\n",
    "@decodecorator(str, \"Decorator for 'stringJoin'\", \"stringJoin started ...\")\r\n",
    "def stringJoin(*args):\r\n",
    "\tst = ''\r\n",
    "\tfor i in args:\r\n",
    "\t\tst += i\r\n",
    "\treturn st\r\n",
    "\r\n",
    "\r\n",
    "@decodecorator(int, \"Decorator for 'summation'\\n\", \"summation started ...\")\r\n",
    "def summation(*args):\r\n",
    "\tsumm = 0\r\n",
    "\tfor arg in args:\r\n",
    "\t\tsumm += arg\r\n",
    "\treturn summ\r\n",
    "\r\n",
    "\r\n",
    "print(stringJoin('Flex ','not ', 'having ', 'fun '))\r\n",
    "print()\r\n",
    "print(summation(19, 2, 8, 533, 67, 981, 119))\r\n"
   ],
   "outputs": [
    {
     "output_type": "stream",
     "name": "stdout",
     "text": [
      "Decorator for 'stringJoin'\n",
      "Decorator for 'summation'\n",
      "\n",
      "stringJoin started ...\n",
      "Flex not having fun \n",
      "\n",
      "summation started ...\n",
      "1729\n"
     ]
    }
   ],
   "metadata": {}
  },
  {
   "cell_type": "markdown",
   "source": [
    "## Memoization using decorators in Python ##\r\n",
    "\r\n",
    "\r\n",
    "Recursion is a programming technique where a function calls itself repeatedly till a termination condition is met. Some of the examples where recursion is used are: calculation of fibonacci series, factorial etc. But the issue with them is that in the recursion tree, there can be chances that the sub-problem that is already solved is being solved again, which adds to an overhead.\r\n",
    "\r\n",
    "Memoization is a technique of recording the intermediate results so that it can be used to avoid repeated calculations and speed up the programs. It can be used to optimize the programs that use recursion. In Python, memoization can be done with the help of function decorators."
   ],
   "metadata": {}
  },
  {
   "cell_type": "code",
   "execution_count": 18,
   "source": [
    "# Simple recursive program to find factorial\r\n",
    "def facto(num):\r\n",
    "\tif num == 1:\r\n",
    "\t\treturn 1\r\n",
    "\telse:\r\n",
    "\t\treturn num * facto(num-1)\r\n",
    "\t\t\r\n",
    "\r\n",
    "print(facto(5))\r\n"
   ],
   "outputs": [
    {
     "output_type": "stream",
     "name": "stdout",
     "text": [
      "120\n"
     ]
    }
   ],
   "metadata": {}
  },
  {
   "cell_type": "code",
   "execution_count": null,
   "source": [
    "# Factorial program with memoization using\r\n",
    "# decorators.\r\n",
    "\r\n",
    "# A decorator function for function 'f' passed\r\n",
    "# as parameter\r\n",
    "def memoize_factorial(f):\r\n",
    "\tmemory = {}\r\n",
    "\r\n",
    "\t# This inner function has access to memory\r\n",
    "\t# and 'f'\r\n",
    "\tdef inner(num):\r\n",
    "\t\tif num not in memory:\t\t\r\n",
    "\t\t\tmemory[num] = f(num)\r\n",
    "\t\treturn memory[num]\r\n",
    "\r\n",
    "\treturn inner\r\n",
    "\t\r\n",
    "@memoize_factorial\r\n",
    "def facto(num):\r\n",
    "\tif num == 1:\r\n",
    "\t\treturn 1\r\n",
    "\telse:\r\n",
    "\t\treturn num * facto(num-1)\r\n",
    "\r\n",
    "print(facto(5))\r\n"
   ],
   "outputs": [],
   "metadata": {}
  },
  {
   "cell_type": "markdown",
   "source": [
    "Explanation:\r\n",
    "* 1. A function called memoize_factorial has been defined. It’s main purpose is to store the intermediate results in the variable called memory.\r\n",
    "* 2. The second function called facto is the function to calculate the factorial. It has been annotated by a decorator(the function memoize_factorial). The facto has access to the memory variable as a result of the concept of closures.The annotation is equivalent to writing,"
   ],
   "metadata": {}
  }
 ],
 "metadata": {
  "orig_nbformat": 4,
  "language_info": {
   "name": "python",
   "version": "3.8.5",
   "mimetype": "text/x-python",
   "codemirror_mode": {
    "name": "ipython",
    "version": 3
   },
   "pygments_lexer": "ipython3",
   "nbconvert_exporter": "python",
   "file_extension": ".py"
  },
  "kernelspec": {
   "name": "python3",
   "display_name": "Python 3.8.5 64-bit ('base': conda)"
  },
  "interpreter": {
   "hash": "a8f61be024eba58adef938c9aa1e29e02cb3dece83a5348b1a2dafd16a070453"
  }
 },
 "nbformat": 4,
 "nbformat_minor": 2
}