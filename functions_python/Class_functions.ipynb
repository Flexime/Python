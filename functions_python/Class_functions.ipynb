{
 "cells": [
  {
   "cell_type": "markdown",
   "source": [
    " # First Class functions in Python #\r\n",
    " "
   ],
   "metadata": {}
  },
  {
   "cell_type": "markdown",
   "source": [
    "First class objects in a language are handled uniformly throughout. They may be stored in data structures, passed as arguments, or used in control structures. A programming language is said to support first-class functions if it treats functions as first-class objects. Python supports the concept of First Class functions."
   ],
   "metadata": {}
  },
  {
   "cell_type": "markdown",
   "source": [
    "Properties of first class functions:\r\n",
    "\r\n",
    "* A function is an instance of the Object type.\r\n",
    "* You can store the function in a variable.\r\n",
    "* You can pass the function as a parameter to another function.\r\n",
    "* You can return the function from a function.\r\n",
    "* You can store them in data structures such as hash tables, lists, …"
   ],
   "metadata": {}
  },
  {
   "cell_type": "markdown",
   "source": [
    " 1. Functions are objects: Python functions are first class objects. In the example below, we are assigning function to a variable. This assignment doesn’t call the function. It takes the function object referenced by shout and creates a second name pointing to it, yell.\r\n"
   ],
   "metadata": {}
  },
  {
   "cell_type": "code",
   "execution_count": 1,
   "source": [
    "# Python program to illustrate functions\r\n",
    "# can be treated as objects\r\n",
    "def shout(text):\r\n",
    "\treturn text.upper()\r\n",
    "\r\n",
    "print (shout('Hello'))\r\n",
    "\r\n",
    "yell = shout\r\n",
    "\r\n",
    "print (yell('Hello'))\r\n"
   ],
   "outputs": [
    {
     "output_type": "stream",
     "name": "stdout",
     "text": [
      "HELLO\n",
      "HELLO\n"
     ]
    }
   ],
   "metadata": {}
  },
  {
   "cell_type": "markdown",
   "source": [
    "2. Functions can be passed as arguments to other functions: Because functions are objects we can pass them as arguments to other functions. Functions that can accept other functions as arguments are also called higher-order functions. In the example below, we have created a function greet which takes a function as an argument."
   ],
   "metadata": {}
  },
  {
   "cell_type": "code",
   "execution_count": 2,
   "source": [
    "# Python program to illustrate functions\r\n",
    "# can be passed as arguments to other functions\r\n",
    "def shout(text):\r\n",
    "\treturn text.upper()\r\n",
    "\r\n",
    "def whisper(text):\r\n",
    "\treturn text.lower()\r\n",
    "\r\n",
    "def greet(func):\r\n",
    "\t# storing the function in a variable\r\n",
    "\tgreeting = func(\"\"\"Hi, I am created by a function\r\n",
    "\t\t\t\t\tpassed as an argument.\"\"\")\r\n",
    "\tprint (greeting)\r\n",
    "\r\n",
    "greet(shout)\r\n",
    "greet(whisper)\r\n"
   ],
   "outputs": [
    {
     "output_type": "stream",
     "name": "stdout",
     "text": [
      "HI, I AM CREATED BY A FUNCTION\n",
      "\t\t\t\t\tPASSED AS AN ARGUMENT.\n",
      "hi, i am created by a function\n",
      "\t\t\t\t\tpassed as an argument.\n"
     ]
    }
   ],
   "metadata": {}
  },
  {
   "cell_type": "markdown",
   "source": [
    "3. Functions can return another function: Because functions are objects we can return a function from another function. In the below example, the create_adder function returns adder function."
   ],
   "metadata": {}
  },
  {
   "cell_type": "code",
   "execution_count": 3,
   "source": [
    "# Python program to illustrate functions\r\n",
    "# Functions can return another function\r\n",
    "\r\n",
    "def create_adder(x):\r\n",
    "\tdef adder(y):\r\n",
    "\t\treturn x+y\r\n",
    "\r\n",
    "\treturn adder\r\n",
    "\r\n",
    "add_15 = create_adder(15)\r\n",
    "\r\n",
    "print (add_15(10))\r\n"
   ],
   "outputs": [
    {
     "output_type": "stream",
     "name": "stdout",
     "text": [
      "25\n"
     ]
    }
   ],
   "metadata": {}
  },
  {
   "cell_type": "code",
   "execution_count": null,
   "source": [],
   "outputs": [],
   "metadata": {}
  }
 ],
 "metadata": {
  "orig_nbformat": 4,
  "language_info": {
   "name": "python",
   "version": "3.8.5",
   "mimetype": "text/x-python",
   "codemirror_mode": {
    "name": "ipython",
    "version": 3
   },
   "pygments_lexer": "ipython3",
   "nbconvert_exporter": "python",
   "file_extension": ".py"
  },
  "kernelspec": {
   "name": "python3",
   "display_name": "Python 3.8.5 64-bit ('base': conda)"
  },
  "interpreter": {
   "hash": "a8f61be024eba58adef938c9aa1e29e02cb3dece83a5348b1a2dafd16a070453"
  }
 },
 "nbformat": 4,
 "nbformat_minor": 2
}