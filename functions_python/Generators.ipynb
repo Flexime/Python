{
 "cells": [
  {
   "cell_type": "markdown",
   "source": [
    "Generator-Function : A generator-function is defined like a normal function, but whenever it needs to generate a value, it does so with the yield keyword rather than return. If the body of a def contains yield, the function automatically becomes a generator function."
   ],
   "metadata": {}
  },
  {
   "cell_type": "code",
   "execution_count": null,
   "source": [
    "# A generator function that yields 1 for first time,\r\n",
    "# 2 second time and 3 third time\r\n",
    "def simpleGeneratorFun():\r\n",
    "\tyield 1\t\t\t\r\n",
    "\tyield 2\t\t\t\r\n",
    "\tyield 3\t\t\t\r\n",
    "\r\n",
    "# Driver code to check above generator function\r\n",
    "for value in simpleGeneratorFun():\r\n",
    "\tprint(value)\r\n"
   ],
   "outputs": [],
   "metadata": {}
  },
  {
   "cell_type": "markdown",
   "source": [
    "Generator-Object : Generator functions return a generator object. Generator objects are used either by calling the next method on the generator object or using the generator object in a “for in” loop (as shown in the above program)."
   ],
   "metadata": {}
  },
  {
   "cell_type": "code",
   "execution_count": 2,
   "source": [
    "# A simple generator for Fibonacci Numbers\r\n",
    "def fib(limit):\r\n",
    "\t\r\n",
    "\t# Initialize first two Fibonacci Numbers\r\n",
    "\ta, b = 0, 1\r\n",
    "\r\n",
    "\t# One by one yield next Fibonacci Number\r\n",
    "\twhile a < limit:\r\n",
    "\t\tyield a\r\n",
    "\t\ta, b = b, a + b\r\n",
    "\r\n",
    "# Create a generator object\r\n",
    "x = fib(5)\r\n",
    "\r\n",
    "# Iterating over the generator object using next\r\n",
    "# In Python 3, __next__()\r\n",
    "print(x.__next__())\r\n",
    "print(x.__next__())\r\n",
    "print(x.__next__())\r\n",
    "print(x.__next__())\r\n",
    "print(x.__next__())\r\n",
    "\r\n",
    "# Iterating over the generator object using for\r\n",
    "# in loop.\r\n",
    "print(\"\\nUsing for in loop\")\r\n",
    "for i in fib(5):\r\n",
    "\tprint(i)\r\n"
   ],
   "outputs": [
    {
     "output_type": "stream",
     "name": "stdout",
     "text": [
      "0\n",
      "1\n",
      "1\n",
      "2\n",
      "3\n",
      "\n",
      "Using for in loop\n",
      "0\n",
      "1\n",
      "1\n",
      "2\n",
      "3\n"
     ]
    }
   ],
   "metadata": {}
  }
 ],
 "metadata": {
  "orig_nbformat": 4,
  "language_info": {
   "name": "python",
   "version": "3.8.5",
   "mimetype": "text/x-python",
   "codemirror_mode": {
    "name": "ipython",
    "version": 3
   },
   "pygments_lexer": "ipython3",
   "nbconvert_exporter": "python",
   "file_extension": ".py"
  },
  "kernelspec": {
   "name": "python3",
   "display_name": "Python 3.8.5 64-bit ('base': conda)"
  },
  "interpreter": {
   "hash": "a8f61be024eba58adef938c9aa1e29e02cb3dece83a5348b1a2dafd16a070453"
  }
 },
 "nbformat": 4,
 "nbformat_minor": 2
}