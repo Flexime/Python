{
 "cells": [
  {
   "cell_type": "markdown",
   "source": [
    "## Global and Local Variables in Python ##\r\n",
    "\r\n",
    "Global variables are the one that is defined and declared outside a function and we need to use them inside a function. "
   ],
   "metadata": {}
  },
  {
   "cell_type": "markdown",
   "source": [
    "The variable s is defined as the string “I'm gloabal yo” before we call the function f(). The only statement in f() is the “print s” statement. As there are no locals, the value from the globals will be used. "
   ],
   "metadata": {}
  },
  {
   "cell_type": "code",
   "execution_count": 1,
   "source": [
    "# This function uses global variable s\r\n",
    "def f():\r\n",
    "\tprint(s)\r\n",
    "\r\n",
    "# Global scope\r\n",
    "s = \"I'm gloabal yo\"\r\n",
    "f()\r\n"
   ],
   "outputs": [
    {
     "output_type": "stream",
     "name": "stdout",
     "text": [
      "I'm gloabal yo\n"
     ]
    }
   ],
   "metadata": {}
  },
  {
   "cell_type": "markdown",
   "source": [
    "If a variable with the same name is defined inside the scope of function as well then it will print the value given inside the function only and not the global value."
   ],
   "metadata": {}
  },
  {
   "cell_type": "code",
   "execution_count": 3,
   "source": [
    "# This function has a variable with\r\n",
    "# name same as s.\r\n",
    "def f():\r\n",
    "\ts = \"Me too.\"\r\n",
    "\tprint(s)\r\n",
    "\r\n",
    "# Global scope\r\n",
    "s = \"I'm gloabal yo\"\r\n",
    "f()\r\n",
    "print(s)\r\n"
   ],
   "outputs": [
    {
     "output_type": "stream",
     "name": "stdout",
     "text": [
      "Me too.\n",
      "I'm gloabal yo\n"
     ]
    }
   ],
   "metadata": {}
  },
  {
   "cell_type": "markdown",
   "source": [
    "To make the above program work, we need to use the “global” keyword. We only need to use the global keyword in a function if we want to do assignments / change them. global is not needed for printing and accessing. Why? Python “assumes” that we want a local variable due to the assignment to s inside of f(), so the first print statement throws this error message. Any variable which is changed or created inside of a function is local if it hasn’t been declared as a global variable. To tell Python, that we want to use the global variable, we have to use the keyword “global”, as can be seen in the following example: "
   ],
   "metadata": {}
  },
  {
   "cell_type": "code",
   "execution_count": 6,
   "source": [
    "a = 1\r\n",
    "\r\n",
    "# Uses global because there is no local 'a'\r\n",
    "def f():\r\n",
    "\tprint('Inside f() : ', a)\r\n",
    "\r\n",
    "# Variable 'a' is redefined as a local\r\n",
    "def g():\r\n",
    "\ta = 2\r\n",
    "\tprint('Inside g() : ', a)\r\n",
    "\r\n",
    "# Uses global keyword to modify global 'a'\r\n",
    "def h():\r\n",
    "\tglobal a\r\n",
    "\ta = 3\r\n",
    "\tprint('Inside h() : ', a)\r\n",
    "\r\n",
    "# Global scope\r\n",
    "print('global : ',a)\r\n",
    "f()\r\n",
    "print('global : ',a)\r\n",
    "g()\r\n",
    "print('global : ',a)\r\n",
    "h()\r\n",
    "print('global : ',a)\r\n",
    "\r\n"
   ],
   "outputs": [
    {
     "output_type": "stream",
     "name": "stdout",
     "text": [
      "global :  1\n",
      "Inside f() :  1\n",
      "global :  1\n",
      "Inside g() :  2\n",
      "global :  1\n",
      "Inside h() :  3\n",
      "global :  3\n"
     ]
    }
   ],
   "metadata": {}
  },
  {
   "cell_type": "markdown",
   "source": [
    "## Global keyword in Python ##\r\n",
    "Global keyword is a keyword that allows a user to modify a variable outside of the current scope. It is used to create global variables from a non-global scope i.e inside a function. Global keyword is used inside a function only when we want to do assignments or when we want to change a variable. Global is not needed for printing and accessing.\r\n",
    "\r\n",
    "Rules of global keyword:\r\n",
    "\r\n",
    "* If a variable is assigned a value anywhere within the function’s body, it’s assumed to be a local unless explicitly declared as global.\r\n",
    "* Variables that are only referenced inside a function are implicitly global.\r\n",
    "* We Use global keyword to use a global variable inside a function.\r\n",
    "* There is no need to use global keyword outside a function.\r\n",
    "\r\n",
    "Use of global keyword:\r\n",
    "To access a global variable inside a function there is no need to use global keyword.\r\n"
   ],
   "metadata": {}
  },
  {
   "cell_type": "code",
   "execution_count": 7,
   "source": [
    "# Python program showing no need to\r\n",
    "# use global keyword for accessing\r\n",
    "# a global value\r\n",
    "\r\n",
    "# global variable\r\n",
    "a = 15\r\n",
    "b = 10\r\n",
    "\r\n",
    "# function to perform addition\r\n",
    "def add():\r\n",
    "\tc = a + b\r\n",
    "\tprint(c)\r\n",
    "\r\n",
    "# calling a function\r\n",
    "add()\r\n"
   ],
   "outputs": [
    {
     "output_type": "stream",
     "name": "stdout",
     "text": [
      "25\n"
     ]
    }
   ],
   "metadata": {}
  },
  {
   "cell_type": "markdown",
   "source": [
    "If we need to assign a new value to a global variable then we can do that by declaring the variable as global.\r\n",
    "Code 2: Without global keyword"
   ],
   "metadata": {}
  },
  {
   "cell_type": "code",
   "execution_count": 9,
   "source": [
    "# Python program to modify a global\r\n",
    "# value inside a function\r\n",
    "\r\n",
    "x = 15\r\n",
    "def change():\r\n",
    "\r\n",
    "\t# using a global keyword\r\n",
    "\tglobal x\r\n",
    "\r\n",
    "\t# increment value of a by 5\r\n",
    "\tx = x + 5\r\n",
    "\tprint(\"Value of x inside a function :\", x)\r\n",
    "change()\r\n",
    "print(\"Value of x outside a function :\", x)\r\n",
    "\r\n"
   ],
   "outputs": [
    {
     "output_type": "stream",
     "name": "stdout",
     "text": [
      "Value of x inside a function : 20\n",
      "Value of x outside a function : 20\n"
     ]
    }
   ],
   "metadata": {}
  },
  {
   "cell_type": "markdown",
   "source": [
    "In the above example, we first define x as global keyword inside the function change(). The value of x is then incremented by 5, ie. x=x+5 and hence we get the output as 20.\r\n",
    "As we can see by changing the value inside the function change(), the change is also reflected in the value outside the global variable."
   ],
   "metadata": {}
  },
  {
   "cell_type": "markdown",
   "source": [
    "# Global variables across python modules : # \r\n",
    "The best way to share global variables across different modules within the same program is to create a special module (often named config or cfg). Import the config module in all modules of your application; the module then becomes available as a global name. There is only one instance of each module and so any changes made to the module object get reflected everywhere. For Example, sharing global variables across modules"
   ],
   "metadata": {}
  },
  {
   "cell_type": "markdown",
   "source": [
    "Global in Nested functions\r\n",
    "In order to use global inside a nested functions, we have to declare a variable with global keyword inside a nested function"
   ],
   "metadata": {}
  },
  {
   "cell_type": "code",
   "execution_count": 10,
   "source": [
    "# Python program showing a use of\r\n",
    "# global in nested function\r\n",
    "\r\n",
    "def add():\r\n",
    "\tx = 15\r\n",
    "\t\r\n",
    "\tdef change():\r\n",
    "\t\tglobal x\r\n",
    "\t\tx = 20\r\n",
    "\tprint(\"Before making changing: \", x)\r\n",
    "\tprint(\"Making change\")\r\n",
    "\tchange()\r\n",
    "\tprint(\"After making change: \", x)\r\n",
    "\r\n",
    "add()\r\n",
    "print(\"value of x\",x)\r\n"
   ],
   "outputs": [],
   "metadata": {}
  }
 ],
 "metadata": {
  "orig_nbformat": 4,
  "language_info": {
   "name": "python",
   "version": "3.8.5",
   "mimetype": "text/x-python",
   "codemirror_mode": {
    "name": "ipython",
    "version": 3
   },
   "pygments_lexer": "ipython3",
   "nbconvert_exporter": "python",
   "file_extension": ".py"
  },
  "kernelspec": {
   "name": "python3",
   "display_name": "Python 3.8.5 64-bit ('base': conda)"
  },
  "interpreter": {
   "hash": "a8f61be024eba58adef938c9aa1e29e02cb3dece83a5348b1a2dafd16a070453"
  }
 },
 "nbformat": 4,
 "nbformat_minor": 2
}