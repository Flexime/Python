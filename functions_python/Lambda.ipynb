{
 "cells": [
  {
   "cell_type": "markdown",
   "source": [
    "# Python lambda #"
   ],
   "metadata": {}
  },
  {
   "cell_type": "markdown",
   "source": [
    "In Python, anonymous function means that a function is without a name. As we already know that def keyword is used to define the normal functions and the lambda keyword is used to create anonymous functions. It has the following syntax:\r\n",
    "\r\n",
    "Syntax:\r\n",
    "    lambda arguments : expression\r\n",
    "\r\n",
    "* This function can have any number of arguments but only one expression, which is evaluated and returned.\r\n",
    "* One is free to use lambda functions wherever function objects are required.\r\n",
    "* You need to keep in your knowledge that lambda functions are syntactically restricted to a single expression.\r\n",
    "* It has various uses in particular fields of programming besides other types of expressions in functions."
   ],
   "metadata": {}
  },
  {
   "cell_type": "code",
   "execution_count": 1,
   "source": [
    "\r\n",
    "\r\n",
    "string ='stringi'\r\n",
    "\r\n",
    "# lambda returns a function object\r\n",
    "print(lambda string : string)\r\n"
   ],
   "outputs": [
    {
     "output_type": "stream",
     "name": "stdout",
     "text": [
      "<function <lambda> at 0x00000236464BB160>\n"
     ]
    }
   ],
   "metadata": {}
  },
  {
   "cell_type": "code",
   "execution_count": 3,
   "source": [
    "x = \"sald\"\r\n",
    "(lambda x : print(x))(x)"
   ],
   "outputs": [
    {
     "output_type": "stream",
     "name": "stdout",
     "text": [
      "sald\n"
     ]
    }
   ],
   "metadata": {}
  },
  {
   "cell_type": "markdown",
   "source": [
    "showing difference between def() and lambda()."
   ],
   "metadata": {}
  },
  {
   "cell_type": "code",
   "execution_count": 4,
   "source": [
    "\r\n",
    "def cube(y):\r\n",
    "\treturn y*y*y;\r\n",
    "\t\r\n",
    "g = lambda x: x*x*x\r\n",
    "print(g(7))\r\n",
    "\t\r\n",
    "print(cube(5))\r\n"
   ],
   "outputs": [
    {
     "output_type": "stream",
     "name": "stdout",
     "text": [
      "343\n",
      "125\n"
     ]
    }
   ],
   "metadata": {}
  },
  {
   "cell_type": "markdown",
   "source": [
    "The lambda function gets more helpful when used inside a function."
   ],
   "metadata": {}
  },
  {
   "cell_type": "code",
   "execution_count": 5,
   "source": [
    "\r\n",
    "# lambda functions\r\n",
    "\r\n",
    "\r\n",
    "def power(n):\r\n",
    "\treturn lambda a : a ** n\r\n",
    "\r\n",
    "# base = lambda a : a**2 get\r\n",
    "# returned to base\r\n",
    "base = power(2)\r\n",
    "\r\n",
    "print(\"Now power is set to 2\")\r\n",
    "\r\n",
    "# when calling base it gets\r\n",
    "# executed with already set with 2\r\n",
    "print(\"8 powerof 2 = \", base(8))\r\n",
    "\r\n",
    "# base = lambda a : a**5 get\r\n",
    "# returned to base\r\n",
    "base = power(5)\r\n",
    "print(\"Now power is set to 5\")\r\n",
    "\r\n",
    "# when calling base it gets executed\r\n",
    "# with already set with newly 2\r\n",
    "print(\"8 powerof 5 = \", base(8))\r\n"
   ],
   "outputs": [
    {
     "output_type": "stream",
     "name": "stdout",
     "text": [
      "Now power is set to 2\n",
      "8 powerof 2 =  64\n",
      "Now power is set to 5\n",
      "8 powerof 5 =  32768\n"
     ]
    }
   ],
   "metadata": {}
  },
  {
   "cell_type": "markdown",
   "source": [
    "We can also replace list comprehension with Lamba by using a map() method, not only it is a fast but efficient too and let’s also see how to use lambda in the filter()."
   ],
   "metadata": {}
  },
  {
   "cell_type": "code",
   "execution_count": null,
   "source": [
    "\r\n",
    "# lambda functions inside map()\r\n",
    "# and filter()\r\n",
    "  \r\n",
    "  \r\n",
    "a = [100, 2, 8, 60, 5, 4, 3, 31, 10, 11]\r\n",
    "  \r\n",
    "# in filter either we use assignment or \r\n",
    "# conditional operator, the pass actual \r\n",
    "# parameter will get return\r\n",
    "filtered = filter (lambda x: x % 2 == 0, a) \r\n",
    "print(list(filtered))\r\n",
    "  \r\n",
    "# in map either we use assignment or\r\n",
    "# conditional operator, the result of \r\n",
    "# the value will get returned\r\n",
    "maped = map (lambda x: x % 2 == 0, a) \r\n",
    "print(list(maped))"
   ],
   "outputs": [],
   "metadata": {}
  }
 ],
 "metadata": {
  "orig_nbformat": 4,
  "language_info": {
   "name": "python",
   "version": "3.8.5",
   "mimetype": "text/x-python",
   "codemirror_mode": {
    "name": "ipython",
    "version": 3
   },
   "pygments_lexer": "ipython3",
   "nbconvert_exporter": "python",
   "file_extension": ".py"
  },
  "kernelspec": {
   "name": "python3",
   "display_name": "Python 3.8.5 64-bit ('base': conda)"
  },
  "interpreter": {
   "hash": "a8f61be024eba58adef938c9aa1e29e02cb3dece83a5348b1a2dafd16a070453"
  }
 },
 "nbformat": 4,
 "nbformat_minor": 2
}