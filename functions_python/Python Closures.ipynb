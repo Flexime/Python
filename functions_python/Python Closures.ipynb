{
 "cells": [
  {
   "cell_type": "markdown",
   "source": [
    "# Python Closures #\r\n",
    "Before seeing what a closure is, we have to first understand what nested functions and non-local variables are. "
   ],
   "metadata": {}
  },
  {
   "cell_type": "markdown",
   "source": [
    " # Nested functions in Python #\r\n",
    "\r\n",
    "A function that is defined inside another function is known as a nested function. Nested functions are able to access variables of the enclosing scope. \r\n",
    "In Python, these non-local variables can be accessed only within their scope and not outside their scope. This can be illustrated by the following example: \r\n"
   ],
   "metadata": {}
  },
  {
   "cell_type": "code",
   "execution_count": 2,
   "source": [
    "# Python program to illustrate\r\n",
    "# nested functions\r\n",
    "def outerFunction(text):\r\n",
    "\ttext = text\r\n",
    "\r\n",
    "\tdef innerFunction():\r\n",
    "\t\tprint(text)\r\n",
    "\r\n",
    "\tinnerFunction()\r\n",
    "\r\n",
    "if __name__ == '__main__':\r\n",
    "\touterFunction('Hey!')\r\n"
   ],
   "outputs": [
    {
     "output_type": "stream",
     "name": "stdout",
     "text": [
      "sr\n"
     ]
    }
   ],
   "metadata": {}
  },
  {
   "cell_type": "markdown",
   "source": [
    "As we can see innerFunction() can easily be accessed inside the outerFunction body but not outside of it’s body. Hence, here, innerFunction() is treated as nested Function which uses text as non-local variable."
   ],
   "metadata": {}
  },
  {
   "cell_type": "markdown",
   "source": [
    "# Python Closures # \r\n",
    "\r\n",
    "A Closure is a function object that remembers values in enclosing scopes even if they are not present in memory. \r\n",
    " \r\n",
    "\r\n",
    "* It is a record that stores a function together with an environment: a mapping associating each free variable of the function (variables that are used locally but defined in an enclosing scope) with the value or reference to which the name was bound when the closure was created.\r\n",
    "* A closure—unlike a plain function—allows the function to access those captured variables through the closure’s copies of their values or references, even when the function is invoked outside their scope.\r\n"
   ],
   "metadata": {}
  },
  {
   "cell_type": "code",
   "execution_count": 3,
   "source": [
    "# Python program to illustrate\r\n",
    "# closures\r\n",
    "def outerFunction(text):\r\n",
    "\ttext = text\r\n",
    "\r\n",
    "\tdef innerFunction():\r\n",
    "\t\tprint(text)\r\n",
    "\r\n",
    "\t# Note we are returning function\r\n",
    "\t# WITHOUT parenthesis\r\n",
    "\treturn innerFunction\r\n",
    "\r\n",
    "if __name__ == '__main__':\r\n",
    "\tmyFunction = outerFunction('Hey!')\r\n",
    "\tmyFunction()\r\n"
   ],
   "outputs": [
    {
     "output_type": "stream",
     "name": "stdout",
     "text": [
      "Hey!\n"
     ]
    }
   ],
   "metadata": {}
  },
  {
   "cell_type": "code",
   "execution_count": 4,
   "source": [
    "# Python program to illustrate\r\n",
    "# closures\r\n",
    "import logging\r\n",
    "logging.basicConfig(filename='example.log',\r\n",
    "\t\t\t\t\tlevel=logging.INFO)\r\n",
    "\r\n",
    "\r\n",
    "def logger(func):\r\n",
    "\tdef log_func(*args):\r\n",
    "\t\tlogging.info(\r\n",
    "\t\t\t'Running \"{}\" with arguments {}'.format(func.__name__,\r\n",
    "\t\t\t\t\t\t\t\t\t\t\t\t\targs))\r\n",
    "\t\tprint(func(*args))\r\n",
    "\t\t\r\n",
    "\t# Necessary for closure to\r\n",
    "\t# work (returning WITHOUT parenthesis)\r\n",
    "\treturn log_func\t\t\t\r\n",
    "\r\n",
    "def add(x, y):\r\n",
    "\treturn x+y\r\n",
    "\r\n",
    "def sub(x, y):\r\n",
    "\treturn x-y\r\n",
    "\r\n",
    "add_logger = logger(add)\r\n",
    "sub_logger = logger(sub)\r\n",
    "\r\n",
    "add_logger(3, 3)\r\n",
    "add_logger(4, 5)\r\n",
    "\r\n",
    "sub_logger(10, 5)\r\n",
    "sub_logger(20, 10)\r\n"
   ],
   "outputs": [
    {
     "output_type": "stream",
     "name": "stdout",
     "text": [
      "6\n",
      "9\n",
      "5\n",
      "10\n"
     ]
    }
   ],
   "metadata": {}
  },
  {
   "cell_type": "markdown",
   "source": [
    "* As observed from the above code, closures help to invoke functions outside their scope.\r\n",
    "* The function innerFunction has its scope only inside the outerFunction. But with the use of closures, we can easily extend its scope to invoke a function outside its scope."
   ],
   "metadata": {}
  }
 ],
 "metadata": {
  "orig_nbformat": 4,
  "language_info": {
   "name": "python",
   "version": "3.8.5",
   "mimetype": "text/x-python",
   "codemirror_mode": {
    "name": "ipython",
    "version": 3
   },
   "pygments_lexer": "ipython3",
   "nbconvert_exporter": "python",
   "file_extension": ".py"
  },
  "kernelspec": {
   "name": "python3",
   "display_name": "Python 3.8.5 64-bit ('base': conda)"
  },
  "interpreter": {
   "hash": "a8f61be024eba58adef938c9aa1e29e02cb3dece83a5348b1a2dafd16a070453"
  }
 },
 "nbformat": 4,
 "nbformat_minor": 2
}