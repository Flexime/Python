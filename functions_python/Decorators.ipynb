{
 "cells": [
  {
   "cell_type": "markdown",
   "source": [
    "# Decorators in Python # \r\n",
    "\r\n",
    "Decorators are very powerful and useful tool in Python since it allows programmers to modify the behavior of function or class. Decorators allow us to wrap another function in order to extend the behavior of the wrapped function, without permanently modifying it. But before diving deep into decorators let us understand some concepts that will come in handy in learning the decorators."
   ],
   "metadata": {}
  },
  {
   "cell_type": "markdown",
   "source": [
    "# First Class Objects #\r\n",
    "In Python, functions are first class objects that means that functions in Python can be used or passed as arguments.\r\n",
    "\r\n",
    "Properties of first class functions:\r\n",
    "\r\n",
    "* A function is an instance of the Object type.\r\n",
    "* You can store the function in a variable.\r\n",
    "* You can pass the function as a parameter to another function.\r\n",
    "* You can return the function from a function.\r\n",
    "* You can store them in data structures such as hash tables, lists, …"
   ],
   "metadata": {}
  },
  {
   "cell_type": "code",
   "execution_count": 1,
   "source": [
    "# Python program to illustrate functions\r\n",
    "# can be treated as objects\r\n",
    "def shout(text):\r\n",
    "\treturn text.upper()\r\n",
    "\r\n",
    "print(shout('Hello'))\r\n",
    "\r\n",
    "yell = shout\r\n",
    "\r\n",
    "print(yell('Hello'))\r\n"
   ],
   "outputs": [
    {
     "output_type": "stream",
     "name": "stdout",
     "text": [
      "HELLO\n",
      "HELLO\n"
     ]
    }
   ],
   "metadata": {}
  },
  {
   "cell_type": "markdown",
   "source": [
    "In the above example, we have assigned the function shout to a variable. This will not call the function instead it takes the function object referenced by shout and creates a second name pointing to it, yell."
   ],
   "metadata": {}
  },
  {
   "cell_type": "code",
   "execution_count": 2,
   "source": [
    "# Python program to illustrate functions\r\n",
    "# can be passed as arguments to other functions\r\n",
    "def shout(text):\r\n",
    "\treturn text.upper()\r\n",
    "\r\n",
    "def whisper(text):\r\n",
    "\treturn text.lower()\r\n",
    "\r\n",
    "def greet(func):\r\n",
    "\t# storing the function in a variable\r\n",
    "\tgreeting = func(\"\"\"Hi, I am created by a function passed as an argument.\"\"\")\r\n",
    "\tprint (greeting)\r\n",
    "\r\n",
    "greet(shout)\r\n",
    "greet(whisper)\r\n"
   ],
   "outputs": [
    {
     "output_type": "stream",
     "name": "stdout",
     "text": [
      "HI, I AM CREATED BY A FUNCTION PASSED AS AN ARGUMENT.\n",
      "hi, i am created by a function passed as an argument.\n"
     ]
    }
   ],
   "metadata": {}
  },
  {
   "cell_type": "markdown",
   "source": [
    "In the above example, the greet function takes another function as a parameter (shout and whisper in this case). The function passed as argument is then called inside the function greet."
   ],
   "metadata": {}
  },
  {
   "cell_type": "code",
   "execution_count": 3,
   "source": [
    "# Python program to illustrate functions\r\n",
    "# Functions can return another function\r\n",
    "\r\n",
    "def create_adder(x):\r\n",
    "\tdef adder(y):\r\n",
    "\t\treturn x+y\r\n",
    "\r\n",
    "\treturn adder\r\n",
    "\r\n",
    "add_15 = create_adder(15)\r\n",
    "\r\n",
    "print(add_15(10))\r\n"
   ],
   "outputs": [
    {
     "output_type": "stream",
     "name": "stdout",
     "text": [
      "25\n"
     ]
    }
   ],
   "metadata": {}
  },
  {
   "cell_type": "markdown",
   "source": [
    "The above three examples depict the important concepts that are needed to understand decorators. After going through them let us now dive deep into decorators."
   ],
   "metadata": {}
  },
  {
   "cell_type": "markdown",
   "source": [
    "# Decorators #\r\n",
    "As stated above the decorators are used to modify the behavior of function or class. In Decorators, functions are taken as the argument into another function and then called inside the wrapper function."
   ],
   "metadata": {}
  },
  {
   "cell_type": "markdown",
   "source": [
    "Syntax for Decorator:\r\n",
    "\r\n",
    "@gfg_decorator\r\n",
    "def hello_decorator():\r\n",
    "    print(\"Gfg\")\r\n",
    "\r\n",
    "  Above code is equivalent to -\r\n",
    "\r\n",
    "def hello_decorator():\r\n",
    "    print(\"Gfg\")\r\n",
    "    \r\n",
    "hello_decorator = gfg_decorator(hello_decorator)"
   ],
   "metadata": {}
  },
  {
   "cell_type": "code",
   "execution_count": 4,
   "source": [
    " # defining a decorator\r\n",
    "def hello_decorator(func):\r\n",
    "\r\n",
    "\t# inner1 is a Wrapper function in\r\n",
    "\t# which the argument is called\r\n",
    "\t\r\n",
    "\t# inner function can access the outer local\r\n",
    "\t# functions like in this case \"func\"\r\n",
    "\tdef inner1():\r\n",
    "\t\tprint(\"Hello, this is before function execution\")\r\n",
    "\r\n",
    "\t\t# calling the actual function now\r\n",
    "\t\t# inside the wrapper function.\r\n",
    "\t\tfunc()\r\n",
    "\r\n",
    "\t\tprint(\"This is after function execution\")\r\n",
    "\t\t\r\n",
    "\treturn inner1\r\n",
    "\r\n",
    "\r\n",
    "# defining a function, to be called inside wrapper\r\n",
    "def function_to_be_used():\r\n",
    "\tprint(\"This is inside the function !!\")\r\n",
    "\r\n",
    "\r\n",
    "# passing 'function_to_be_used' inside the\r\n",
    "# decorator to control its behavior\r\n",
    "function_to_be_used = hello_decorator(function_to_be_used)\r\n",
    "\r\n",
    "\r\n",
    "# calling the function\r\n",
    "function_to_be_used()\r\n"
   ],
   "outputs": [
    {
     "output_type": "stream",
     "name": "stdout",
     "text": [
      "Hello, this is before function execution\n",
      "This is inside the function !!\n",
      "This is after function execution\n"
     ]
    }
   ],
   "metadata": {}
  },
  {
   "cell_type": "markdown",
   "source": [
    "Let’s jump to another example where we can easily find out the execution time of a function using a decorator."
   ],
   "metadata": {}
  },
  {
   "cell_type": "code",
   "execution_count": 5,
   "source": [
    "# importing libraries\r\n",
    "import time\r\n",
    "import math\r\n",
    "\r\n",
    "# decorator to calculate duration\r\n",
    "# taken by any function.\r\n",
    "def calculate_time(func):\r\n",
    "\t\r\n",
    "\t# added arguments inside the inner1,\r\n",
    "\t# if function takes any arguments,\r\n",
    "\t# can be added like this.\r\n",
    "\tdef inner1(*args, **kwargs):\r\n",
    "\r\n",
    "\t\t# storing time before function execution\r\n",
    "\t\tbegin = time.time()\r\n",
    "\t\t\r\n",
    "\t\tfunc(*args, **kwargs)\r\n",
    "\r\n",
    "\t\t# storing time after function execution\r\n",
    "\t\tend = time.time()\r\n",
    "\t\tprint(\"Total time taken in : \", func.__name__, end - begin)\r\n",
    "\r\n",
    "\treturn inner1\r\n",
    "\r\n",
    "\r\n",
    "\r\n",
    "# this can be added to any function present,\r\n",
    "# in this case to calculate a factorial\r\n",
    "@calculate_time\r\n",
    "def factorial(num):\r\n",
    "\r\n",
    "\t# sleep 2 seconds because it takes very less time\r\n",
    "\t# so that you can see the actual difference\r\n",
    "\ttime.sleep(2)\r\n",
    "\tprint(math.factorial(num))\r\n",
    "\r\n",
    "# calling the function.\r\n",
    "factorial(10)\r\n"
   ],
   "outputs": [
    {
     "output_type": "stream",
     "name": "stdout",
     "text": [
      "3628800\n",
      "Total time taken in :  factorial 2.0129292011260986\n"
     ]
    }
   ],
   "metadata": {}
  },
  {
   "cell_type": "markdown",
   "source": [
    "What if a function returns something or an argument is passed to the function?\r\n",
    "In all the above examples the functions didn’t return anything so there wasn’t any issue, but one may need the returned value."
   ],
   "metadata": {}
  },
  {
   "cell_type": "code",
   "execution_count": 18,
   "source": [
    "def hello_decorator(func):\r\n",
    "    def inner1(*args, **kwargs):\r\n",
    "\r\n",
    "        print(\"before Execution\")\r\n",
    "\r\n",
    "    # getting the returned value\r\n",
    "        returned_value = func(*args, **kwargs)\r\n",
    "        print(\"after Execution\")\r\n",
    "\r\n",
    "    # returning the value to the original frame\r\n",
    "        return returned_value\r\n",
    "\r\n",
    "    return inner1\r\n",
    "\r\n",
    "# adding decorator to the function\r\n",
    "\r\n",
    "\r\n",
    "@hello_decorator\r\n",
    "def sum_two_numbers(a, b):\r\n",
    "    print(\"Inside the function\")\r\n",
    "    return a + b\r\n",
    "\r\n",
    "\r\n",
    "a, b = 1, 2\r\n",
    "\r\n",
    "# getting the value through return of the function\r\n",
    "print(\"Sum =\", sum_two_numbers(a, b))\r\n"
   ],
   "outputs": [
    {
     "output_type": "stream",
     "name": "stdout",
     "text": [
      "before Execution\n",
      "Inside the function\n",
      "after Execution\n",
      "Sum = 3\n"
     ]
    }
   ],
   "metadata": {}
  },
  {
   "cell_type": "markdown",
   "source": [
    "In the above example, you may notice a keen difference in the parameters of the inner function. The inner function takes the argument as *args and **kwargs which means that a tuple of positional arguments or a dictionary of keyword arguments can be passed of any length. This makes it a general decorator that can decorate a function having any number of arguments.\r\n",
    "\r\n",
    "# Chaining Decorators #\r\n",
    "In simpler terms chaining decorators means decorating a function with multiple decorators."
   ],
   "metadata": {}
  },
  {
   "cell_type": "code",
   "execution_count": 19,
   "source": [
    "# code for testing decorator chaining\r\n",
    "def decor1(func):\r\n",
    "\tdef inner():\r\n",
    "\t\tx = func()\r\n",
    "\t\treturn x * x\r\n",
    "\treturn inner\r\n",
    "\r\n",
    "def decor(func):\r\n",
    "\tdef inner():\r\n",
    "\t\tx = func()\r\n",
    "\t\treturn 2 * x\r\n",
    "\treturn inner\r\n",
    "\r\n",
    "@decor1\r\n",
    "@decor\r\n",
    "def num():\r\n",
    "\treturn 10\r\n",
    "\r\n",
    "print(num())\r\n",
    "\r\n",
    "\r\n",
    "decor1(decor(num))"
   ],
   "outputs": [
    {
     "output_type": "stream",
     "name": "stdout",
     "text": [
      "400\n"
     ]
    }
   ],
   "metadata": {}
  }
 ],
 "metadata": {
  "orig_nbformat": 4,
  "language_info": {
   "name": "python",
   "version": "3.9.1",
   "mimetype": "text/x-python",
   "codemirror_mode": {
    "name": "ipython",
    "version": 3
   },
   "pygments_lexer": "ipython3",
   "nbconvert_exporter": "python",
   "file_extension": ".py"
  },
  "kernelspec": {
   "name": "python3",
   "display_name": "Python 3.9.1 64-bit"
  },
  "interpreter": {
   "hash": "11f1dc213e07634baa4c5c321dec03c05dafae643c50f20e6d1a492290c05dc2"
  }
 },
 "nbformat": 4,
 "nbformat_minor": 2
}