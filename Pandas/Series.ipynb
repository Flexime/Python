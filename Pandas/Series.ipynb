{
 "cells": [
  {
   "cell_type": "markdown",
   "source": [
    "# Pandas Series # \r\n",
    "\r\n",
    "Pandas Series is a one-dimensional labeled array capable of holding data of any type (integer, string, float, python objects, etc.). The axis labels are collectively called index. Pandas Series is nothing but a column in an excel sheet.\r\n",
    "Labels need not be unique but must be a hashable type. The object supports both integer and label-based indexing and provides a host of methods for performing operations involving the index.\r\n",
    "\r\n",
    "\r\n",
    "\r\n",
    "<img src=\"https://media.geeksforgeeks.org/wp-content/uploads/dataSER-1.png\r\n",
    "\" alt=\"drawing\" style=\"width:500px;\"/>\r\n",
    "\r\n",
    "\r\n"
   ],
   "metadata": {}
  },
  {
   "cell_type": "markdown",
   "source": [
    "# Creating a Pandas Series # \r\n",
    "In the real world, a Pandas Series will be created by loading the datasets from existing storage, storage can be SQL Database, CSV file, and Excel file. Pandas Series can be created from the lists, dictionary, and from a scalar value etc. Series can be created in different ways, here are some ways by which we create a series:\r\n",
    "\r\n",
    "Creating a series from array: In order to create a series from array, we have to import a numpy module and have to use array() function."
   ],
   "metadata": {}
  },
  {
   "cell_type": "code",
   "execution_count": 3,
   "source": [
    "# import pandas as pd\r\n",
    "import pandas as pd\r\n",
    " \r\n",
    "# import numpy as np\r\n",
    "import numpy as np\r\n",
    " \r\n",
    "# simple array\r\n",
    "data = np.array(['f', 'l', 'e', 'k', 's'])\r\n",
    " \r\n",
    "ser = pd.Series(data)\r\n",
    "print(ser)"
   ],
   "outputs": [
    {
     "output_type": "stream",
     "name": "stdout",
     "text": [
      "0    f\n",
      "1    l\n",
      "2    e\n",
      "3    k\n",
      "4    s\n",
      "dtype: object\n"
     ]
    }
   ],
   "metadata": {}
  },
  {
   "cell_type": "markdown",
   "source": [
    "\r\n",
    "Creating a series from Lists: \\ \r\n",
    "In order to create a series from list, we have to first create a list after that we can create a series from list."
   ],
   "metadata": {}
  },
  {
   "cell_type": "code",
   "execution_count": 4,
   "source": [
    "\r\n",
    " \r\n",
    "# a simple list\r\n",
    "list = ['f', 'l', 'e', 'k', 's']\r\n",
    "  \r\n",
    "# create series form a list\r\n",
    "ser = pd.Series(list)\r\n",
    "print(ser)"
   ],
   "outputs": [
    {
     "output_type": "stream",
     "name": "stdout",
     "text": [
      "0    f\n",
      "1    l\n",
      "2    e\n",
      "3    k\n",
      "4    s\n",
      "dtype: object\n"
     ]
    }
   ],
   "metadata": {}
  },
  {
   "cell_type": "markdown",
   "source": [
    "# Accessing element of Series # \r\n",
    "There are two ways through which we can access element of series, they are :\r\n",
    "\r\n",
    "* Accessing Element from Series with Position\r\n",
    "* Accessing Element Using Label (index)\r\n",
    "\r\n",
    "Accessing Element from Series with Position : In order to access the series element refers to the index number. Use the index operator [ ] to access an element in a series. The index must be an integer. In order to access multiple elements from a series, we use Slice operation.\r\n",
    "\r\n",
    "Accessing first 5 elements of Series"
   ],
   "metadata": {}
  },
  {
   "cell_type": "code",
   "execution_count": 7,
   "source": [
    "\r\n",
    "# creating simple array\r\n",
    "data = np.array(['f','l','e','k','s','f', 'o','r','f','l','e','k','s'])\r\n",
    "ser = pd.Series(data)\r\n",
    "  \r\n",
    "  \r\n",
    "#retrieve the first element\r\n",
    "print(ser[:5])"
   ],
   "outputs": [
    {
     "output_type": "stream",
     "name": "stdout",
     "text": [
      "0    f\n",
      "1    l\n",
      "2    e\n",
      "3    k\n",
      "4    s\n",
      "dtype: object\n"
     ]
    }
   ],
   "metadata": {}
  },
  {
   "cell_type": "markdown",
   "source": [
    " \r\n",
    "Accessing Element Using Label (index) : \\\r\n",
    "In order to access an element from series, we have to set values by index label. A Series is like a fixed-size dictionary in that you can get and set values by index label.\r\n",
    "\r\n",
    "Accessing a single element using index label\r\n",
    "\r\n",
    "\r\n"
   ],
   "metadata": {}
  },
  {
   "cell_type": "code",
   "execution_count": 8,
   "source": [
    "\r\n",
    "ser = pd.Series(data,index=[10,11,12,13,14,15,16,17,18,19,20,21,22])\r\n",
    "  \r\n",
    "  \r\n",
    "# accessing a element using index element\r\n",
    "print(ser[16])"
   ],
   "outputs": [
    {
     "output_type": "stream",
     "name": "stdout",
     "text": [
      "o\n"
     ]
    }
   ],
   "metadata": {}
  },
  {
   "cell_type": "markdown",
   "source": [
    "# Indexing and Selecting Data in Series # \r\n",
    "Indexing in pandas means simply selecting particular data from a Series. Indexing could mean selecting all the data, some of the data from particular columns. Indexing can also be known as Subset Selection.\r\n",
    "\r\n",
    "Indexing a Series using indexing operator [] :\r\n",
    "Indexing operator is used to refer to the square brackets following an object. The .loc and .iloc indexers also use the indexing operator to make selections. In this indexing operator to refer to df[ ]."
   ],
   "metadata": {}
  },
  {
   "cell_type": "code",
   "execution_count": 9,
   "source": [
    "df = pd.read_csv(\"D:/Python/input/nba.csv\")  \r\n",
    "   \r\n",
    "ser = pd.Series(df['Name']) \r\n",
    "data = ser.head(10)\r\n",
    "data \r\n",
    "\r\n",
    "# using indexing operator\r\n",
    "data[3:6] \r\n",
    "\r\n"
   ],
   "outputs": [
    {
     "output_type": "execute_result",
     "data": {
      "text/plain": [
       "0    Avery Bradley\n",
       "1      Jae Crowder\n",
       "2     John Holland\n",
       "3      R.J. Hunter\n",
       "4    Jonas Jerebko\n",
       "5     Amir Johnson\n",
       "6    Jordan Mickey\n",
       "7     Kelly Olynyk\n",
       "8     Terry Rozier\n",
       "9     Marcus Smart\n",
       "Name: Name, dtype: object"
      ]
     },
     "metadata": {},
     "execution_count": 9
    }
   ],
   "metadata": {}
  },
  {
   "cell_type": "markdown",
   "source": [
    "\r\n",
    "Indexing a Series using .loc[ ] : \\ \r\n",
    "This function selects data by refering the explicit index . The df.loc indexer selects data in a different way than just the indexing operator. It can select subsets of data."
   ],
   "metadata": {}
  },
  {
   "cell_type": "code",
   "execution_count": 10,
   "source": [
    "  \r\n",
    "ser = pd.Series(df['Name']) \r\n",
    "data = ser.head(10)\r\n",
    "data "
   ],
   "outputs": [
    {
     "output_type": "execute_result",
     "data": {
      "text/plain": [
       "0    Avery Bradley\n",
       "1      Jae Crowder\n",
       "2     John Holland\n",
       "3      R.J. Hunter\n",
       "4    Jonas Jerebko\n",
       "5     Amir Johnson\n",
       "6    Jordan Mickey\n",
       "7     Kelly Olynyk\n",
       "8     Terry Rozier\n",
       "9     Marcus Smart\n",
       "Name: Name, dtype: object"
      ]
     },
     "metadata": {},
     "execution_count": 10
    }
   ],
   "metadata": {}
  },
  {
   "cell_type": "markdown",
   "source": [
    "Now we access the element of series using .loc[] function."
   ],
   "metadata": {}
  },
  {
   "cell_type": "code",
   "execution_count": 11,
   "source": [
    "data.loc[3:6]"
   ],
   "outputs": [
    {
     "output_type": "execute_result",
     "data": {
      "text/plain": [
       "3      R.J. Hunter\n",
       "4    Jonas Jerebko\n",
       "5     Amir Johnson\n",
       "6    Jordan Mickey\n",
       "Name: Name, dtype: object"
      ]
     },
     "metadata": {},
     "execution_count": 11
    }
   ],
   "metadata": {}
  },
  {
   "cell_type": "markdown",
   "source": [
    "Indexing a Series using .iloc[ ] : \\ \r\n",
    "This function allows us to retrieve data by position. In order to do that, we’ll need to specify the positions of the data that we want. The df.iloc indexer is very similar to df.loc but only uses integer locations to make its selections."
   ],
   "metadata": {}
  },
  {
   "cell_type": "code",
   "execution_count": 13,
   "source": [
    "ser = pd.Series(df['Name']) \r\n",
    "data = ser.head(10)\r\n",
    "data "
   ],
   "outputs": [
    {
     "output_type": "execute_result",
     "data": {
      "text/plain": [
       "0    Avery Bradley\n",
       "1      Jae Crowder\n",
       "2     John Holland\n",
       "3      R.J. Hunter\n",
       "4    Jonas Jerebko\n",
       "5     Amir Johnson\n",
       "6    Jordan Mickey\n",
       "7     Kelly Olynyk\n",
       "8     Terry Rozier\n",
       "9     Marcus Smart\n",
       "Name: Name, dtype: object"
      ]
     },
     "metadata": {},
     "execution_count": 13
    }
   ],
   "metadata": {}
  },
  {
   "cell_type": "markdown",
   "source": [
    "Now we access the element of Series using .iloc[] function."
   ],
   "metadata": {}
  },
  {
   "cell_type": "code",
   "execution_count": 14,
   "source": [
    "# using .iloc[] function\r\n",
    "data.iloc[3:6]"
   ],
   "outputs": [
    {
     "output_type": "execute_result",
     "data": {
      "text/plain": [
       "3      R.J. Hunter\n",
       "4    Jonas Jerebko\n",
       "5     Amir Johnson\n",
       "Name: Name, dtype: object"
      ]
     },
     "metadata": {},
     "execution_count": 14
    }
   ],
   "metadata": {}
  },
  {
   "cell_type": "markdown",
   "source": [
    " ## Binary Operation on Series ##\r\n",
    "We can perform binary operation on series like addition, subtraction and many other operation. In order to perform binary operation on series we have to use some function like .add(),.sub() etc..\r\n",
    "Code #1:"
   ],
   "metadata": {}
  },
  {
   "cell_type": "code",
   "execution_count": 15,
   "source": [
    "data = pd.Series([5, 2, 3,7], index=['a', 'b', 'c', 'd'])\r\n",
    " \r\n",
    "# creating a series\r\n",
    "data1 = pd.Series([1, 6, 4, 9], index=['a', 'b', 'd', 'e'])\r\n",
    " \r\n",
    "print(data, \"\\n\\n\", data1)"
   ],
   "outputs": [
    {
     "output_type": "stream",
     "name": "stdout",
     "text": [
      "a    5\n",
      "b    2\n",
      "c    3\n",
      "d    7\n",
      "dtype: int64 \n",
      "\n",
      " a    1\n",
      "b    6\n",
      "d    4\n",
      "e    9\n",
      "dtype: int64\n"
     ]
    }
   ],
   "metadata": {}
  },
  {
   "cell_type": "markdown",
   "source": [
    "Now we add two series using .add() function."
   ],
   "metadata": {}
  },
  {
   "cell_type": "code",
   "execution_count": 16,
   "source": [
    "data.add(data1, fill_value=0)"
   ],
   "outputs": [
    {
     "output_type": "execute_result",
     "data": {
      "text/plain": [
       "a     6.0\n",
       "b     8.0\n",
       "c     3.0\n",
       "d    11.0\n",
       "e     9.0\n",
       "dtype: float64"
      ]
     },
     "metadata": {},
     "execution_count": 16
    }
   ],
   "metadata": {}
  },
  {
   "cell_type": "markdown",
   "source": [
    "Code #2:"
   ],
   "metadata": {}
  },
  {
   "cell_type": "code",
   "execution_count": 17,
   "source": [
    "data = pd.Series([5, 2, 3,7], index=['a', 'b', 'c', 'd'])\r\n",
    " \r\n",
    "# creating a series\r\n",
    "data1 = pd.Series([1, 6, 4, 9], index=['a', 'b', 'd', 'e'])\r\n",
    " \r\n",
    "print(data, \"\\n\\n\", data1)"
   ],
   "outputs": [
    {
     "output_type": "stream",
     "name": "stdout",
     "text": [
      "a    5\n",
      "b    2\n",
      "c    3\n",
      "d    7\n",
      "dtype: int64 \n",
      "\n",
      " a    1\n",
      "b    6\n",
      "d    4\n",
      "e    9\n",
      "dtype: int64\n"
     ]
    }
   ],
   "metadata": {}
  },
  {
   "cell_type": "markdown",
   "source": [
    "Now we subtract two series using .sub function."
   ],
   "metadata": {}
  },
  {
   "cell_type": "code",
   "execution_count": 18,
   "source": [
    "# subtracting two series using\r\n",
    "# .sub\r\n",
    "data.sub(data1, fill_value=0)"
   ],
   "outputs": [
    {
     "output_type": "execute_result",
     "data": {
      "text/plain": [
       "a    4.0\n",
       "b   -4.0\n",
       "c    3.0\n",
       "d    3.0\n",
       "e   -9.0\n",
       "dtype: float64"
      ]
     },
     "metadata": {},
     "execution_count": 18
    }
   ],
   "metadata": {}
  },
  {
   "cell_type": "markdown",
   "source": [
    "# Conversion Operation on Series #\r\n",
    "In conversion operation we perform various operation like changing datatype of series, changing a series to list etc. In order to perform conversion operation we have various function which help in conversion like .astype(), .tolist() etc.\r\n",
    "Code #1:"
   ],
   "metadata": {}
  },
  {
   "cell_type": "code",
   "execution_count": 20,
   "source": [
    "data =  pd.read_csv(\"D:/Python/input/nba.csv\")  \r\n",
    "# dropping null value columns to avoid errors \r\n",
    "data.dropna(inplace = True) \r\n",
    "   \r\n",
    "# storing dtype before converting \r\n",
    "before = data.dtypes \r\n",
    "   \r\n",
    "# converting dtypes using astype \r\n",
    "data[\"Salary\"]= data[\"Salary\"].astype(int) \r\n",
    "data[\"Number\"]= data[\"Number\"].astype(str) \r\n",
    "   \r\n",
    "# storing dtype after converting \r\n",
    "after = data.dtypes \r\n",
    "   \r\n",
    "# printing to compare \r\n",
    "print(\"BEFORE CONVERSION\\n\", before, \"\\n\") \r\n",
    "print(\"AFTER CONVERSION\\n\", after, \"\\n\") "
   ],
   "outputs": [
    {
     "output_type": "stream",
     "name": "stdout",
     "text": [
      "BEFORE CONVERSION\n",
      " Name         object\n",
      "Team         object\n",
      "Number      float64\n",
      "Position     object\n",
      "Age         float64\n",
      "Height       object\n",
      "Weight      float64\n",
      "College      object\n",
      "Salary      float64\n",
      "dtype: object \n",
      "\n",
      "AFTER CONVERSION\n",
      " Name         object\n",
      "Team         object\n",
      "Number       object\n",
      "Position     object\n",
      "Age         float64\n",
      "Height       object\n",
      "Weight      float64\n",
      "College      object\n",
      "Salary        int32\n",
      "dtype: object \n",
      "\n"
     ]
    }
   ],
   "metadata": {}
  },
  {
   "cell_type": "markdown",
   "source": [
    "Code #2:"
   ],
   "metadata": {}
  },
  {
   "cell_type": "code",
   "execution_count": 21,
   "source": [
    "# Python program converting\r\n",
    "# a series into list\r\n",
    " \r\n",
    "# importing pandas module  \r\n",
    " \r\n",
    "   \r\n",
    "# importing regex module \r\n",
    "import re \r\n",
    "      \r\n",
    "     \r\n",
    "# removing null values to avoid errors  \r\n",
    "data.dropna(inplace = True)  \r\n",
    "   \r\n",
    "# storing dtype before operation \r\n",
    "dtype_before = type(data[\"Salary\"]) \r\n",
    "   \r\n",
    "# converting to list \r\n",
    "salary_list = data[\"Salary\"].tolist() \r\n",
    "   \r\n",
    "# storing dtype after operation \r\n",
    "dtype_after = type(salary_list) \r\n",
    "   \r\n",
    "# printing dtype \r\n",
    "print(\"Data type before converting = {}\\nData type after converting = {}\"\r\n",
    "      .format(dtype_before, dtype_after)) \r\n",
    "   \r\n",
    "# displaying list \r\n",
    "salary_list "
   ],
   "outputs": [
    {
     "output_type": "stream",
     "name": "stdout",
     "text": [
      "Data type before converting = <class 'pandas.core.series.Series'>\n",
      "Data type after converting = <class 'list'>\n"
     ]
    },
    {
     "output_type": "execute_result",
     "data": {
      "text/plain": [
       "[7730337,\n",
       " 6796117,\n",
       " 1148640,\n",
       " 1170960,\n",
       " 2165160,\n",
       " 1824360,\n",
       " 3431040,\n",
       " 2569260,\n",
       " 6912869,\n",
       " 3425510,\n",
       " 1749840,\n",
       " 2616975,\n",
       " 845059,\n",
       " 1500000,\n",
       " 1335480,\n",
       " 6300000,\n",
       " 134215,\n",
       " 1500000,\n",
       " 19689000,\n",
       " 1140240,\n",
       " 947276,\n",
       " 981348,\n",
       " 947276,\n",
       " 947276,\n",
       " 11235955,\n",
       " 8000000,\n",
       " 1635476,\n",
       " 22875000,\n",
       " 845059,\n",
       " 845059,\n",
       " 1572360,\n",
       " 12650000,\n",
       " 3750000,\n",
       " 1636842,\n",
       " 4000000,\n",
       " 167406,\n",
       " 947276,\n",
       " 1000000,\n",
       " 4626960,\n",
       " 845059,\n",
       " 1074169,\n",
       " 6500000,\n",
       " 2144772,\n",
       " 525093,\n",
       " 3457800,\n",
       " 4582680,\n",
       " 947276,\n",
       " 2869440,\n",
       " 947276,\n",
       " 525093,\n",
       " 13600000,\n",
       " 10050000,\n",
       " 2500000,\n",
       " 7000000,\n",
       " 12000000,\n",
       " 6268675,\n",
       " 650000,\n",
       " 3553917,\n",
       " 245177,\n",
       " 1509360,\n",
       " 3873398,\n",
       " 13800000,\n",
       " 947276,\n",
       " 11370786,\n",
       " 2008748,\n",
       " 14260870,\n",
       " 11710456,\n",
       " 1131960,\n",
       " 845059,\n",
       " 1270964,\n",
       " 3815000,\n",
       " 15501000,\n",
       " 1100602,\n",
       " 111444,\n",
       " 5675000,\n",
       " 525093,\n",
       " 9650000,\n",
       " 18907726,\n",
       " 1100602,\n",
       " 19689000,\n",
       " 947276,\n",
       " 21468695,\n",
       " 3376000,\n",
       " 7085000,\n",
       " 3110796,\n",
       " 1159680,\n",
       " 3000000,\n",
       " 845059,\n",
       " 700000,\n",
       " 845059,\n",
       " 15592217,\n",
       " 1724250,\n",
       " 1155600,\n",
       " 3132240,\n",
       " 5103120,\n",
       " 981348,\n",
       " 947276,\n",
       " 5219169,\n",
       " 13500000,\n",
       " 2127840,\n",
       " 206192,\n",
       " 1160160,\n",
       " 981348,\n",
       " 13500000,\n",
       " 3807120,\n",
       " 1035000,\n",
       " 55722,\n",
       " 947276,\n",
       " 5500000,\n",
       " 2041080,\n",
       " 83397,\n",
       " 981348,\n",
       " 1015421,\n",
       " 1449187,\n",
       " 3398280,\n",
       " 5013559,\n",
       " 15851950,\n",
       " 947276,\n",
       " 525093,\n",
       " 12403101,\n",
       " 7700000,\n",
       " 3156600,\n",
       " 845059,\n",
       " 9500000,\n",
       " 845059,\n",
       " 2250000,\n",
       " 16407500,\n",
       " 4500000,\n",
       " 8500000,\n",
       " 947276,\n",
       " 2380440,\n",
       " 1015421,\n",
       " 13400000,\n",
       " 1391160,\n",
       " 20093064,\n",
       " 1535880,\n",
       " 1147276,\n",
       " 8193029,\n",
       " 16407501,\n",
       " 947276,\n",
       " 947276,\n",
       " 1276000,\n",
       " 19689000,\n",
       " 111196,\n",
       " 8988765,\n",
       " 14260870,\n",
       " 2100000,\n",
       " 2500000,\n",
       " 6500000,\n",
       " 2170465,\n",
       " 111444,\n",
       " 1252440,\n",
       " 2891760,\n",
       " 845059,\n",
       " 3272091,\n",
       " 16000000,\n",
       " 600000,\n",
       " 13913044,\n",
       " 2841960,\n",
       " 6270000,\n",
       " 5000000,\n",
       " 3000000,\n",
       " 4050000,\n",
       " 1007026,\n",
       " 17120106,\n",
       " 8000000,\n",
       " 4000000,\n",
       " 1358880,\n",
       " 211744,\n",
       " 1100000,\n",
       " 7000000,\n",
       " 2357760,\n",
       " 845059,\n",
       " 1007026,\n",
       " 3000000,\n",
       " 2399040,\n",
       " 947276,\n",
       " 1662360,\n",
       " 2943221,\n",
       " 8000000,\n",
       " 14700000,\n",
       " 16407500,\n",
       " 295327,\n",
       " 845059,\n",
       " 5152440,\n",
       " 2109294,\n",
       " 6600000,\n",
       " 1733040,\n",
       " 1449000,\n",
       " 4290000,\n",
       " 1100602,\n",
       " 3950313,\n",
       " 4053446,\n",
       " 2085671,\n",
       " 16407500,\n",
       " 1270964,\n",
       " 15361500,\n",
       " 845059,\n",
       " 947276,\n",
       " 5378974,\n",
       " 8193030,\n",
       " 306527,\n",
       " 6486486,\n",
       " 8229375,\n",
       " 1646400,\n",
       " 200600,\n",
       " 15756438,\n",
       " 1000000,\n",
       " 2489530,\n",
       " 3189794,\n",
       " 947276,\n",
       " 1404600,\n",
       " 5158539,\n",
       " 5000000,\n",
       " 3542500,\n",
       " 4088019,\n",
       " 9588426,\n",
       " 700902,\n",
       " 845059,\n",
       " 1201440,\n",
       " 1230840,\n",
       " 9638555,\n",
       " 9000000,\n",
       " 5464000,\n",
       " 8500000,\n",
       " 1100602,\n",
       " 3036927,\n",
       " 2850000,\n",
       " 7070730,\n",
       " 169883,\n",
       " 1164858,\n",
       " 845059,\n",
       " 10734586,\n",
       " 845059,\n",
       " 1320000,\n",
       " 15514031,\n",
       " 1015421,\n",
       " 10595507,\n",
       " 55722,\n",
       " 3382023,\n",
       " 19689000,\n",
       " 1142880,\n",
       " 947276,\n",
       " 5250000,\n",
       " 10000000,\n",
       " 16407500,\n",
       " 200600,\n",
       " 250750,\n",
       " 3578947,\n",
       " 525093,\n",
       " 1499187,\n",
       " 2000000,\n",
       " 1304520,\n",
       " 2854940,\n",
       " 12000000,\n",
       " 1000000,\n",
       " 5746479,\n",
       " 18671659,\n",
       " 947276,\n",
       " 525093,\n",
       " 3333333,\n",
       " 8000000,\n",
       " 947276,\n",
       " 189455,\n",
       " 947276,\n",
       " 525093,\n",
       " 6110034,\n",
       " 2612520,\n",
       " 6331404,\n",
       " 3034356,\n",
       " 5675000,\n",
       " 2139000,\n",
       " 12000000,\n",
       " 7000000,\n",
       " 4204200,\n",
       " 22192730,\n",
       " 10151612,\n",
       " 2854940,\n",
       " 261894,\n",
       " 845059,\n",
       " 5543725,\n",
       " 525093,\n",
       " 20000000,\n",
       " 981348,\n",
       " 2481720,\n",
       " 947276,\n",
       " 4171680,\n",
       " 845059,\n",
       " 1294440,\n",
       " 2380593,\n",
       " 5192520,\n",
       " 2505720,\n",
       " 4300000,\n",
       " 11250000,\n",
       " 5000000,\n",
       " 4000000,\n",
       " 5694674,\n",
       " 4375000,\n",
       " 561716,\n",
       " 3300000,\n",
       " 273038,\n",
       " 8000000,\n",
       " 1920240,\n",
       " 4662960,\n",
       " 2170465,\n",
       " 1100602,\n",
       " 200600,\n",
       " 15851950,\n",
       " 2814000,\n",
       " 3000000,\n",
       " 3533333,\n",
       " 10449438,\n",
       " 11235955,\n",
       " 1584480,\n",
       " 947276,\n",
       " 4345000,\n",
       " 258489,\n",
       " 1474440,\n",
       " 1282080,\n",
       " 2148360,\n",
       " 2056920,\n",
       " 1938840,\n",
       " 947276,\n",
       " 5703600,\n",
       " 5758680,\n",
       " 2279040,\n",
       " 3750000,\n",
       " 20158622,\n",
       " 3135000,\n",
       " 1140240,\n",
       " 16407500,\n",
       " 1463040,\n",
       " 222888,\n",
       " 3344000,\n",
       " 2021520,\n",
       " 1210800,\n",
       " 4500000,\n",
       " 5138430,\n",
       " 16744218,\n",
       " 525093,\n",
       " 8042895,\n",
       " 625093,\n",
       " 947276,\n",
       " 6980802,\n",
       " 2894059,\n",
       " 6000000,\n",
       " 5016000,\n",
       " 3075880,\n",
       " 4236287,\n",
       " 2525160,\n",
       " 525093,\n",
       " 1415520,\n",
       " 2854940,\n",
       " 2637720,\n",
       " 4775000,\n",
       " 2658240,\n",
       " 9463484,\n",
       " 12000000,\n",
       " 15409570,\n",
       " 1348440,\n",
       " 981348,\n",
       " 2239800,\n",
       " 2433333,\n",
       " 947276]"
      ]
     },
     "metadata": {},
     "execution_count": 21
    }
   ],
   "metadata": {}
  },
  {
   "cell_type": "markdown",
   "source": [
    "Binary operation methods on series:\r\n",
    "\r\n",
    "<table class=\"series-table\"><tbody><tr><th style=\"background-color:gray\">Function</th><th style=\"background-color:gray\">Description</th></tr><tr><td><strong><a href=\"https://www.geeksforgeeks.org/python-pandas-series-add/\" rel=\"noopener\" target=\"_blank\">add()</a></strong></td><td>Method is used to add series or list like objects with same length to the caller series</td></tr><tr><td><strong><a href=\"https://www.geeksforgeeks.org/python-pandas-series-sub/\" rel=\"noopener\" target=\"_blank\">sub()</a></strong></td><td>Method is used to subtract series or list like objects with same length from the caller series</td></tr><tr><td><strong><a href=\"https://www.geeksforgeeks.org/python-pandas-series-mul/\" rel=\"noopener\" target=\"_blank\">mul()</a></strong></td><td>Method is used to multiply series or list like objects with same length with the caller series</td></tr><tr><td><strong><a href=\"https://www.geeksforgeeks.org/python-pandas-series-div/\" rel=\"noopener\" target=\"_blank\">div()</a></strong></td><td>Method is used to divide series or list like objects with same length by the caller series</td></tr><tr><td><strong><a href=\"https://www.geeksforgeeks.org/python-pandas-series-sum/\" rel=\"noopener\" target=\"_blank\">sum()</a></strong></td><td>Returns the sum of the values for the requested axis</td></tr><tr><td><strong><a href=\"https://www.geeksforgeeks.org/python-pandas-series-prod/\" rel=\"noopener\" target=\"_blank\">prod()</a></strong></td><td>Returns the product of the values for the requested axis</td></tr><tr><td><strong>mean()</strong></td><td>Returns the mean of the values for the requested axis</td></tr><tr><td><strong><a href=\"https://www.geeksforgeeks.org/python-pandas-series-pow/\" rel=\"noopener\" target=\"_blank\">pow()</a></strong></td><td>Method is used to put each element of passed series as exponential power of caller series and returned the results</td></tr><tr><td><strong><a href=\"https://www.geeksforgeeks.org/python-pandas-series-abs/\" rel=\"noopener\" target=\"_blank\">abs()</a></strong></td><td>Method is used to get the absolute numeric value of each element in Series/DataFrame</td></tr><tr><td><strong><a href=\"https://www.geeksforgeeks.org/python-pandas-series-cov-to-find-covariance/\" rel=\"noopener\" target=\"_blank\">cov()</a></strong></td><td>Method is used to find covariance of two series</td></tr></tbody></table>"
   ],
   "metadata": {}
  },
  {
   "cell_type": "markdown",
   "source": [
    "Pandas series method:\r\n",
    "\r\n",
    "<table class=\"series-table\"><tbody><tr><th style=\"background-color:gray\">Function</th><th style=\"background-color:gray\">Description</th></tr><tr><td><strong>Series()</strong></td><td>A pandas Series can be created with the Series() constructor method. This constructor method accepts a variety of inputs</td></tr><tr><td><strong><a href=\"https://www.geeksforgeeks.org/python-pandas-series-combine_first/\" rel=\"noopener\" target=\"_blank\">combine_first()</a></strong></td><td>Method is used to combine two series into one</td></tr><tr><td><strong>count()</strong></td><td>Returns number of non-NA/null observations in the Series</td></tr><tr><td><strong>size()</strong></td><td>Returns the number of elements in the underlying data</td></tr><tr><td><strong>name()</strong></td><td>Method allows to give a name to a Series object, i.e. to the column</td></tr><tr><td><strong>is_unique()</strong></td><td>Method returns boolean if values in the object are unique</td></tr><tr><td><strong>idxmax()</strong></td><td>Method to extract the index positions of the highest values in a Series</td></tr><tr><td><strong>idxmin()</strong></td><td>Method to extract the index positions of the lowest values in a Series</td></tr><tr><td><strong>sort_values()</strong></td><td>Method is called on a Series to sort the values in ascending or descending order</td></tr><tr><td><strong>sort_index()</strong></td><td>Method is called on a pandas Series to sort it by the index instead of its values</td></tr><tr><td><strong>head()</strong></td><td>Method is used to return a specified number of rows from the beginning of a Series. The method returns a brand new Series</td></tr><tr><td><strong>tail()</strong></td><td>Method is used to return a specified number of rows from the end of a Series. The method returns a brand new Series</td></tr><tr><td><strong><a href=\"https://www.geeksforgeeks.org/python-pandas-series-le/\" rel=\"noopener\" target=\"_blank\">le()</a></strong></td><td>Used to compare every element of Caller series with passed series.It returns True for every element which is Less than or Equal to the element in passed series</td></tr><tr><td><strong><a href=\"https://www.geeksforgeeks.org/python-pandas-series-ne/\" rel=\"noopener\" target=\"_blank\">ne()</a></strong></td><td>Used to compare every element of Caller series with passed series. It returns True for every element which is Not Equal to the element in passed series</td></tr><tr><td><strong><a href=\"https://www.geeksforgeeks.org/python-pandas-series-ge/\" rel=\"noopener\" target=\"_blank\">ge()</a></strong></td><td>Used to compare every element of Caller series with passed series. It returns True for every element which is Greater than or Equal to the element in passed series</td></tr><tr><td><strong><a href=\"https://www.geeksforgeeks.org/python-pandas-series-eq/\" rel=\"noopener\" target=\"_blank\">eq()</a></strong></td><td>Used to compare every element of Caller series with passed series. It returns True for every element which is Equal to the element in passed series</td></tr><tr><td><strong><a href=\"https://www.geeksforgeeks.org/python-pandas-series-gt/\" rel=\"noopener\" target=\"_blank\">gt()</a></strong></td><td>Used to compare two series and return Boolean value for every respective element</td></tr><tr><td><strong><a href=\"https://www.geeksforgeeks.org/python-pandas-series-lt/\" rel=\"noopener\" target=\"_blank\">lt()</a></strong></td><td>Used to compare two series and return Boolean value for every respective element</td></tr><tr><td><strong><a href=\"https://www.geeksforgeeks.org/python-pandas-series-clip/\" rel=\"noopener\" target=\"_blank\">clip()</a></strong></td><td>Used to clip value below and above to passed Least and Max value</td></tr><tr><td><strong><a href=\"https://www.geeksforgeeks.org/python-pandas-series-clip_lower/\" rel=\"noopener\" target=\"_blank\">clip_lower()</a></strong></td><td>Used to clip values below a passed least value</td></tr><tr><td><strong><a href=\"https://www.geeksforgeeks.org/python-pandas-series-clip_upper/\" rel=\"noopener\" target=\"_blank\">clip_upper()</a></strong></td><td>Used to clip values above a passed maximum value</td></tr><tr><td><strong><a href=\"https://www.geeksforgeeks.org/python-pandas-series-astype-to-convert-data-type-of-series/\" rel=\"noopener\" target=\"_blank\">astype()</a></strong></td><td>Method is used to change data type of a series</td></tr><tr><td><strong><a href=\"https://www.geeksforgeeks.org/python-pandas-series-tolist/\" rel=\"noopener\" target=\"_blank\">tolist()</a></strong></td><td>Method is used to convert a series to list</td></tr><tr><td><strong>get()</strong></td><td>Method is called on a Series to extract values from a Series. This is alternative syntax to the traditional bracket syntax</td></tr><tr><td><strong><a href=\"https://www.geeksforgeeks.org/python-pandas-series-unique/\" rel=\"noopener\" target=\"_blank\">unique()</a></strong></td><td>Pandas unique() is used to see the unique values in a particular column</td></tr><tr><td><strong><a href=\"https://www.geeksforgeeks.org/python-pandas-series-nunique/\" rel=\"noopener\" target=\"_blank\">nunique()</a></strong></td><td>Pandas nunique() is used to get a count of unique values</td></tr><tr><td><strong>value_counts()</strong></td><td>Method to count the number of the times each unique value occurs in a Series</td></tr><tr><td><strong><a href=\"https://www.geeksforgeeks.org/python-pandas-factorize/\" rel=\"noopener\" target=\"_blank\">factorize()</a></strong></td><td>Method helps to get the numeric representation of an array by identifying distinct values</td></tr><tr><td><strong><a href=\"https://www.geeksforgeeks.org/python-pandas-map/\" rel=\"noopener\" target=\"_blank\">map()</a></strong></td><td>Method to tie together the values from one object to another</td></tr><tr><td><strong><a href=\"https://www.geeksforgeeks.org/python-pandas-series-between/\" rel=\"noopener\" target=\"_blank\">between()</a></strong></td><td>Pandas between() method is used on series to check which values lie between first and second argument</td></tr><tr><td><strong><a href=\"https://www.geeksforgeeks.org/python-pandas-apply/\" rel=\"noopener\" target=\"_blank\">apply()</a></strong></td><td>Method is called and feeded a Python function as an argument to use the function on every Series value. This method is helpful for executing custom operations that are not included in pandas or numpy</td></tr></tbody></table>\r\n",
    "\r\n"
   ],
   "metadata": {}
  }
 ],
 "metadata": {
  "orig_nbformat": 4,
  "language_info": {
   "name": "python",
   "version": "3.9.1",
   "mimetype": "text/x-python",
   "codemirror_mode": {
    "name": "ipython",
    "version": 3
   },
   "pygments_lexer": "ipython3",
   "nbconvert_exporter": "python",
   "file_extension": ".py"
  },
  "kernelspec": {
   "name": "python3",
   "display_name": "Python 3.9.1 64-bit"
  },
  "interpreter": {
   "hash": "11f1dc213e07634baa4c5c321dec03c05dafae643c50f20e6d1a492290c05dc2"
  }
 },
 "nbformat": 4,
 "nbformat_minor": 2
}