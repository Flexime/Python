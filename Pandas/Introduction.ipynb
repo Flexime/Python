{
 "cells": [
  {
   "cell_type": "markdown",
   "source": [
    "# Introduction to Pandas #\r\n",
    "Pandas is an open-source library that is made mainly for working with relational or labeled data both easily and intuitively. It provides various data structures and operations for manipulating numerical data and time series. This library is built on top of the NumPy library. Pandas is fast and it has high performance & productivity for users."
   ],
   "metadata": {}
  },
  {
   "cell_type": "markdown",
   "source": [
    "## History ## \r\n",
    "Pandas were initially developed by Wes McKinney in 2008 while he was working at AQR Capital Management. He convinced the AQR to allow him to open source the Pandas. Another AQR employee, Chang She, joined as the second major contributor to the library in 2012. Over time many versions of pandas have been released. The latest version of the pandas is 1.0.1"
   ],
   "metadata": {}
  },
  {
   "cell_type": "markdown",
   "source": [
    "## Advantages ##\r\n",
    "* Fast and efficient for manipulating and analyzing data. \r\n",
    "* Data from different file objects can be loaded. \r\n",
    "* Easy handling of missing data (represented as NaN) in floating point as well as non-floating point data \r\n",
    "* Size mutability: columns can be inserted and deleted from DataFrame and higher dimensional objects \r\n",
    "* Data set merging and joining. \r\n",
    "* Flexible reshaping and pivoting of data sets \r\n",
    "* Provides time-series functionality. \r\n",
    "* Powerful group by functionality for performing split-apply-combine operations on data sets. "
   ],
   "metadata": {}
  },
  {
   "cell_type": "markdown",
   "source": [
    "### Getting Started ###\r\n",
    "After the pandas have been installed into the system, you need to import the library. This module is generally imported as:"
   ],
   "metadata": {}
  },
  {
   "cell_type": "markdown",
   "source": [
    "import pandas as pd\r\n",
    "\r\n",
    "Here, pd is referred to as an alias to the Pandas. However, it is not necessary to import the library using the alias, it just helps in writing less amount code every time a method or property is called. \r\n",
    "Pandas generally provide two data structures for manipulating data, They are: \r\n",
    "\r\n",
    "* Series \r\n",
    "* DataFrame "
   ],
   "metadata": {}
  },
  {
   "cell_type": "markdown",
   "source": [
    "# Series: #\r\n",
    "Pandas Series is a one-dimensional labelled array capable of holding data of any type (integer, string, float, python objects, etc.). The axis labels are collectively called indexes. Pandas Series is nothing but a column in an excel sheet. Labels need not be unique but must be a hashable type. The object supports both integer and label-based indexing and provides a host of methods for performing operations involving the index."
   ],
   "metadata": {}
  },
  {
   "cell_type": "markdown",
   "source": [
    "\r\n",
    "\r\n",
    "<img src=\"https://media.geeksforgeeks.org/wp-content/uploads/20200225170506/pandas-series.png\" alt=\"drawing\" style=\"width:500px;\"/>\r\n",
    "\r\n"
   ],
   "metadata": {}
  },
  {
   "cell_type": "markdown",
   "source": [
    "### Creating a Series ###\r\n",
    "In the real world, a Pandas Series will be created by loading the datasets from existing storage, storage can be SQL Database, CSV file, an Excel file. Pandas Series can be created from the lists, dictionary, and from a scalar value etc."
   ],
   "metadata": {}
  },
  {
   "cell_type": "code",
   "execution_count": 1,
   "source": [
    "import pandas as pd\r\n",
    "import numpy as np\r\n",
    "\r\n",
    "\r\n",
    "# Creating empty series\r\n",
    "ser = pd.Series()\r\n",
    "\r\n",
    "print(ser)\r\n",
    "\r\n",
    "# simple array\r\n",
    "data = np.array(['f', 'l', 'e', 'k', 's'])\r\n",
    "\r\n",
    "ser = pd.Series(data)\r\n",
    "print(ser)\r\n"
   ],
   "outputs": [
    {
     "output_type": "stream",
     "name": "stdout",
     "text": [
      "Series([], dtype: float64)\n",
      "0    g\n",
      "1    e\n",
      "2    e\n",
      "3    k\n",
      "4    s\n",
      "dtype: object\n"
     ]
    },
    {
     "output_type": "stream",
     "name": "stderr",
     "text": [
      "<ipython-input-1-f8fbde373832>:6: DeprecationWarning: The default dtype for empty Series will be 'object' instead of 'float64' in a future version. Specify a dtype explicitly to silence this warning.\n",
      "  ser = pd.Series()\n"
     ]
    }
   ],
   "metadata": {}
  },
  {
   "cell_type": "markdown",
   "source": [
    "# DataFrame #\r\n",
    "Pandas DataFrame is a two-dimensional size-mutable, potentially heterogeneous tabular data structure with labeled axes (rows and columns). A Data frame is a two-dimensional data structure, i.e., data is aligned in a tabular fashion in rows and columns. Pandas DataFrame consists of three principal components, the data, rows, and columns."
   ],
   "metadata": {}
  },
  {
   "cell_type": "markdown",
   "source": [
    "\r\n",
    "\r\n",
    "<img src=\"https://media.geeksforgeeks.org/wp-content/uploads/20200225170602/pandas-dataframe.png\r\n",
    "\" alt=\"drawing\" style=\"width:500px;\"/>\r\n"
   ],
   "metadata": {}
  },
  {
   "cell_type": "markdown",
   "source": [
    "# Creating a DataFrame: # \r\n",
    "In the real world, a Pandas DataFrame will be created by loading the datasets from existing storage, storage can be SQL Database, CSV file, an Excel file. Pandas DataFrame can be created from the lists, dictionary, and from a list of dictionaries, etc."
   ],
   "metadata": {}
  },
  {
   "cell_type": "code",
   "execution_count": 2,
   "source": [
    "import pandas as pd\r\n",
    "\r\n",
    "# Calling DataFrame constructor\r\n",
    "df = pd.DataFrame()\r\n",
    "print(df)\r\n",
    "\r\n",
    "# list of strings\r\n",
    "lst = ['Flex', 'had', 'sth', 'really',\r\n",
    "\t\t\t'kekw', 'lmao', 'asdas']\r\n",
    "\r\n",
    "# Calling DataFrame constructor on list\r\n",
    "df = pd.DataFrame(lst)\r\n",
    "print(df)\r\n"
   ],
   "outputs": [
    {
     "output_type": "stream",
     "name": "stdout",
     "text": [
      "Empty DataFrame\n",
      "Columns: []\n",
      "Index: []\n",
      "        0\n",
      "0    Flex\n",
      "1     had\n",
      "2     sth\n",
      "3  really\n",
      "4    kekw\n",
      "5    lmao\n",
      "6   asdas\n"
     ]
    }
   ],
   "metadata": {}
  },
  {
   "cell_type": "markdown",
   "source": [
    "\r\n",
    "# Why Pandas is used for Data Science  # \r\n",
    "Pandas are generally used for data science but have you wondered why? This is because pandas are used in conjunction with other libraries that are used for data science. It is built on the top of the NumPy library which means that a lot of structures of NumPy are used or replicated in Pandas. The data produced by Pandas are often used as input for plotting functions of Matplotlib, statistical analysis in SciPy, machine learning algorithms in Scikit-learn.\r\n",
    "Pandas program can be run from any text editor but it is recommended to use Jupyter Notebook for this as Jupyter given the ability to execute code in a particular cell rather than executing the entire file. Jupyter also provides an easy way to visualize pandas data frames and plots."
   ],
   "metadata": {}
  }
 ],
 "metadata": {
  "orig_nbformat": 4,
  "language_info": {
   "name": "python",
   "version": "3.9.1",
   "mimetype": "text/x-python",
   "codemirror_mode": {
    "name": "ipython",
    "version": 3
   },
   "pygments_lexer": "ipython3",
   "nbconvert_exporter": "python",
   "file_extension": ".py"
  },
  "kernelspec": {
   "name": "python3",
   "display_name": "Python 3.9.1 64-bit"
  },
  "interpreter": {
   "hash": "11f1dc213e07634baa4c5c321dec03c05dafae643c50f20e6d1a492290c05dc2"
  }
 },
 "nbformat": 4,
 "nbformat_minor": 2
}