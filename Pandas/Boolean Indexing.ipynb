{
 "cells": [
  {
   "cell_type": "markdown",
   "source": [
    "# Boolean Indexing # \r\n",
    "\r\n",
    "\r\n",
    "In boolean indexing, we will select subsets of data based on the actual values of the data in the DataFrame and not on their row/column labels or integer locations. In boolean indexing, we use a boolean vector to filter the data. \r\n",
    " \r\n",
    "\r\n",
    "Boolean indexing is a type of indexing which uses actual values of the data in the DataFrame. In boolean indexing, we can filter a data in four ways – \r\n",
    " \r\n",
    "\r\n",
    "* Accessing a DataFrame with a boolean index\r\n",
    "* Applying a boolean mask to a dataframe\r\n",
    "* Masking data based on column value\r\n",
    "* Masking data based on index value\r\n",
    "\r\n",
    "Accessing a DataFrame with a boolean index : \r\n",
    "In order to access a dataframe with a boolean index, we have to create a dataframe in which index of dataframe contains a boolean value that is “True” or “False”. For Example \r\n",
    "\r\n"
   ],
   "metadata": {}
  },
  {
   "cell_type": "code",
   "execution_count": 1,
   "source": [
    "# importing pandas as pd\r\n",
    "import pandas as pd\r\n",
    "\r\n",
    "# dictionary of lists\r\n",
    "dict = {'name':[\"aparna\", \"pankaj\", \"sudhir\", \"Geeku\"],\r\n",
    "\t\t'degree': [\"MBA\", \"BCA\", \"M.Tech\", \"MBA\"],\r\n",
    "\t\t'score':[90, 40, 80, 98]}\r\n",
    "\r\n",
    "df = pd.DataFrame(dict, index = [True, False, True, False])\r\n",
    "\r\n",
    "print(df)\r\n"
   ],
   "outputs": [
    {
     "output_type": "stream",
     "name": "stdout",
     "text": [
      "         name  degree  score\n",
      "True   aparna     MBA     90\n",
      "False  pankaj     BCA     40\n",
      "True   sudhir  M.Tech     80\n",
      "False   Geeku     MBA     98\n"
     ]
    }
   ],
   "metadata": {}
  },
  {
   "cell_type": "markdown",
   "source": [
    "Now we have created a dataframe with boolean index after that user can access a dataframe with the help of boolean index. User can access a dataframe using three functions that is .loc[], .iloc[], .ix[] \r\n",
    " \r\n",
    "\r\n",
    "# Accessing a Dataframe with a boolean index using .loc[] #\r\n",
    "In order to access a dataframe with a boolean index using .loc[], we simply pass a boolean value (True or False) in a .loc[] function. "
   ],
   "metadata": {}
  },
  {
   "cell_type": "code",
   "execution_count": 2,
   "source": [
    "\r\n",
    "\r\n",
    "# dictionary of lists\r\n",
    "dict = {'name':[\"aparna\", \"pankaj\", \"sudhir\", \"Geeku\"],\r\n",
    "\t\t'degree': [\"MBA\", \"BCA\", \"M.Tech\", \"MBA\"],\r\n",
    "\t\t'score':[90, 40, 80, 98]}\r\n",
    "\r\n",
    "# creating a dataframe with boolean index\r\n",
    "df = pd.DataFrame(dict, index = [True, False, True, False])\r\n",
    "\r\n",
    "# accessing a dataframe using .loc[] function\r\n",
    "print(df.loc[True])\r\n"
   ],
   "outputs": [
    {
     "output_type": "stream",
     "name": "stdout",
     "text": [
      "        name  degree  score\n",
      "True  aparna     MBA     90\n",
      "True  sudhir  M.Tech     80\n"
     ]
    }
   ],
   "metadata": {}
  },
  {
   "cell_type": "markdown",
   "source": [
    "\r\n",
    "# Accessing a Dataframe with a boolean index using .iloc[] #\r\n",
    "In order to access a dataframe using .iloc[], we have to pass a boolean value (True or False)  but iloc[] function accept only integer as argument so it will throw an error so we can only access a dataframe when we pass a integer in iloc[] function \r\n",
    "Code #1: \r\n",
    " "
   ],
   "metadata": {}
  },
  {
   "cell_type": "code",
   "execution_count": 4,
   "source": [
    "\r\n",
    "# dictionary of lists\r\n",
    "dict = {'name':[\"aparna\", \"pankaj\", \"sudhir\", \"Geeku\"],\r\n",
    "\t\t'degree': [\"MBA\", \"BCA\", \"M.Tech\", \"MBA\"],\r\n",
    "\t\t'score':[90, 40, 80, 98]}\r\n",
    "\r\n",
    "# creating a dataframe with boolean index\r\n",
    "df = pd.DataFrame(dict, index = [True, False, True, False])\r\n",
    "\r\n",
    "# accessing a dataframe using .iloc[] function\r\n",
    "print(df.iloc[1])  # TRUE 1 FALSE 0 \r\n"
   ],
   "outputs": [
    {
     "output_type": "stream",
     "name": "stdout",
     "text": [
      "name      pankaj\n",
      "degree       BCA\n",
      "score         40\n",
      "dtype: object\n"
     ]
    }
   ],
   "metadata": {}
  },
  {
   "cell_type": "markdown",
   "source": [
    "Code #2: "
   ],
   "metadata": {}
  },
  {
   "cell_type": "code",
   "execution_count": 5,
   "source": [
    "\r\n",
    "# dictionary of lists\r\n",
    "dict = {'name':[\"aparna\", \"pankaj\", \"sudhir\", \"Geeku\"],\r\n",
    "\t\t'degree': [\"MBA\", \"BCA\", \"M.Tech\", \"MBA\"],\r\n",
    "\t\t'score':[90, 40, 80, 98]}\r\n",
    "\r\n",
    "# creating a dataframe with boolean index\r\n",
    "df = pd.DataFrame(dict, index = [True, False, True, False])\r\n",
    "\r\n",
    "\r\n",
    "# accessing a dataframe using .iloc[] function\r\n",
    "print(df.iloc[1])\r\n"
   ],
   "outputs": [
    {
     "output_type": "stream",
     "name": "stdout",
     "text": [
      "name      pankaj\n",
      "degree       BCA\n",
      "score         40\n",
      "dtype: object\n"
     ]
    }
   ],
   "metadata": {}
  },
  {
   "cell_type": "markdown",
   "source": [
    "\r\n",
    "# Accessing a Dataframe with a boolean index using .ix[] # \r\n",
    "In order to access a dataframe using .ix[], we have to pass boolean value (True or False) and integer value to .ix[] function because as we know that .ix[] function is a hybrid of .loc[] and .iloc[] function. \r\n",
    "Code #1: \r\n",
    " \r\n",
    "\r\n"
   ],
   "metadata": {}
  },
  {
   "cell_type": "code",
   "execution_count": 12,
   "source": [
    "\r\n",
    "# dictionary of lists\r\n",
    "dict = {'name':[\"aparna\", \"pankaj\", \"sudhir\", \"Geeku\"],\r\n",
    "\t\t'degree': [\"MBA\", \"BCA\", \"M.Tech\", \"MBA\"],\r\n",
    "\t\t'score':[90, 40, 80, 98]}\r\n",
    "\r\n",
    "# creating a dataframe with boolean index\r\n",
    "df = pd.DataFrame(dict, index = [True, False, True, False])\r\n",
    "\r\n",
    "\r\n",
    "# accessing a dataframe using .ix[] function\r\n",
    "print(df.index[True])\r\n"
   ],
   "outputs": [
    {
     "output_type": "stream",
     "name": "stdout",
     "text": [
      "[[True False True False]]\n"
     ]
    }
   ],
   "metadata": {}
  },
  {
   "cell_type": "markdown",
   "source": [
    "  \r\n",
    "# Applying a boolean mask to a dataframe :  # \r\n",
    "In a dataframe we can apply a boolean mask in order to do that we, can use __getitems__ or [] accessor. We can apply a boolean mask by giving list of True and False of the same length as contain in a dataframe. When we apply a boolean mask it will print only that dataframe in which we pass a boolean value True. To download “nba1.1” CSV file click here.\r\n",
    "Code #1: "
   ],
   "metadata": {}
  },
  {
   "cell_type": "code",
   "execution_count": 13,
   "source": [
    "# dictionary of lists\r\n",
    "dict = {'name':[\"aparna\", \"pankaj\", \"sudhir\", \"Geeku\"],\r\n",
    "\t\t'degree': [\"MBA\", \"BCA\", \"M.Tech\", \"MBA\"],\r\n",
    "\t\t'score':[90, 40, 80, 98]}\r\n",
    "\r\n",
    "df = pd.DataFrame(dict, index = [0, 1, 2, 3])\r\n",
    "\r\n",
    "\r\n",
    "\r\n",
    "print(df[[True, False, True, False]])\r\n"
   ],
   "outputs": [
    {
     "output_type": "stream",
     "name": "stdout",
     "text": [
      "     name  degree  score\n",
      "0  aparna     MBA     90\n",
      "2  sudhir  M.Tech     80\n"
     ]
    }
   ],
   "metadata": {}
  },
  {
   "cell_type": "markdown",
   "source": [
    "Code #2: \r\n",
    " "
   ],
   "metadata": {}
  },
  {
   "cell_type": "code",
   "execution_count": 16,
   "source": [
    "\r\n",
    "# making data frame from csv file\r\n",
    "data = pd.read_csv(\"D:/Python/input/nba.csv\", index_col =\"Name\")\r\n",
    "\r\n",
    "df = pd.DataFrame(data, index = [0, 1, 2, 3, 4, 5, 6,\r\n",
    "\t\t\t\t\t\t\t\t7, 8, 9, 10, 11, 12])\r\n",
    "\r\n",
    "\r\n",
    "df[[True, False, True, False, True, \r\n",
    "\tFalse, True, False, True, False,\r\n",
    "\t\t\t\tTrue, False, True]]\r\n"
   ],
   "outputs": [
    {
     "output_type": "execute_result",
     "data": {
      "text/plain": [
       "   Team  Number Position  Age Height  Weight College  Salary\n",
       "0   NaN     NaN      NaN  NaN    NaN     NaN     NaN     NaN\n",
       "2   NaN     NaN      NaN  NaN    NaN     NaN     NaN     NaN\n",
       "4   NaN     NaN      NaN  NaN    NaN     NaN     NaN     NaN\n",
       "6   NaN     NaN      NaN  NaN    NaN     NaN     NaN     NaN\n",
       "8   NaN     NaN      NaN  NaN    NaN     NaN     NaN     NaN\n",
       "10  NaN     NaN      NaN  NaN    NaN     NaN     NaN     NaN\n",
       "12  NaN     NaN      NaN  NaN    NaN     NaN     NaN     NaN"
      ],
      "text/html": [
       "<div>\n",
       "<style scoped>\n",
       "    .dataframe tbody tr th:only-of-type {\n",
       "        vertical-align: middle;\n",
       "    }\n",
       "\n",
       "    .dataframe tbody tr th {\n",
       "        vertical-align: top;\n",
       "    }\n",
       "\n",
       "    .dataframe thead th {\n",
       "        text-align: right;\n",
       "    }\n",
       "</style>\n",
       "<table border=\"1\" class=\"dataframe\">\n",
       "  <thead>\n",
       "    <tr style=\"text-align: right;\">\n",
       "      <th></th>\n",
       "      <th>Team</th>\n",
       "      <th>Number</th>\n",
       "      <th>Position</th>\n",
       "      <th>Age</th>\n",
       "      <th>Height</th>\n",
       "      <th>Weight</th>\n",
       "      <th>College</th>\n",
       "      <th>Salary</th>\n",
       "    </tr>\n",
       "  </thead>\n",
       "  <tbody>\n",
       "    <tr>\n",
       "      <th>0</th>\n",
       "      <td>NaN</td>\n",
       "      <td>NaN</td>\n",
       "      <td>NaN</td>\n",
       "      <td>NaN</td>\n",
       "      <td>NaN</td>\n",
       "      <td>NaN</td>\n",
       "      <td>NaN</td>\n",
       "      <td>NaN</td>\n",
       "    </tr>\n",
       "    <tr>\n",
       "      <th>2</th>\n",
       "      <td>NaN</td>\n",
       "      <td>NaN</td>\n",
       "      <td>NaN</td>\n",
       "      <td>NaN</td>\n",
       "      <td>NaN</td>\n",
       "      <td>NaN</td>\n",
       "      <td>NaN</td>\n",
       "      <td>NaN</td>\n",
       "    </tr>\n",
       "    <tr>\n",
       "      <th>4</th>\n",
       "      <td>NaN</td>\n",
       "      <td>NaN</td>\n",
       "      <td>NaN</td>\n",
       "      <td>NaN</td>\n",
       "      <td>NaN</td>\n",
       "      <td>NaN</td>\n",
       "      <td>NaN</td>\n",
       "      <td>NaN</td>\n",
       "    </tr>\n",
       "    <tr>\n",
       "      <th>6</th>\n",
       "      <td>NaN</td>\n",
       "      <td>NaN</td>\n",
       "      <td>NaN</td>\n",
       "      <td>NaN</td>\n",
       "      <td>NaN</td>\n",
       "      <td>NaN</td>\n",
       "      <td>NaN</td>\n",
       "      <td>NaN</td>\n",
       "    </tr>\n",
       "    <tr>\n",
       "      <th>8</th>\n",
       "      <td>NaN</td>\n",
       "      <td>NaN</td>\n",
       "      <td>NaN</td>\n",
       "      <td>NaN</td>\n",
       "      <td>NaN</td>\n",
       "      <td>NaN</td>\n",
       "      <td>NaN</td>\n",
       "      <td>NaN</td>\n",
       "    </tr>\n",
       "    <tr>\n",
       "      <th>10</th>\n",
       "      <td>NaN</td>\n",
       "      <td>NaN</td>\n",
       "      <td>NaN</td>\n",
       "      <td>NaN</td>\n",
       "      <td>NaN</td>\n",
       "      <td>NaN</td>\n",
       "      <td>NaN</td>\n",
       "      <td>NaN</td>\n",
       "    </tr>\n",
       "    <tr>\n",
       "      <th>12</th>\n",
       "      <td>NaN</td>\n",
       "      <td>NaN</td>\n",
       "      <td>NaN</td>\n",
       "      <td>NaN</td>\n",
       "      <td>NaN</td>\n",
       "      <td>NaN</td>\n",
       "      <td>NaN</td>\n",
       "      <td>NaN</td>\n",
       "    </tr>\n",
       "  </tbody>\n",
       "</table>\n",
       "</div>"
      ]
     },
     "metadata": {},
     "execution_count": 16
    }
   ],
   "metadata": {}
  },
  {
   "cell_type": "markdown",
   "source": [
    "# Masking data based on column value :  #\r\n",
    "In a dataframe we can filter a data based on a column value in order to filter data, we can apply certain condition on dataframe using different operator like ==, >, <, <=, >=. When we apply these operator on dataframe then it produce a Series of True and False. To download the “nba.csv” CSV, click here.\r\n",
    "Code #1: \r\n",
    " "
   ],
   "metadata": {}
  },
  {
   "cell_type": "code",
   "execution_count": 17,
   "source": [
    "\r\n",
    "# dictionary of lists\r\n",
    "dict = {'name':[\"aparna\", \"pankaj\", \"sudhir\", \"Geeku\"],\r\n",
    "\t\t'degree': [\"BCA\", \"BCA\", \"M.Tech\", \"BCA\"],\r\n",
    "\t\t'score':[90, 40, 80, 98]}\r\n",
    "\r\n",
    "# creating a dataframe\r\n",
    "df = pd.DataFrame(dict)\r\n",
    "\r\n",
    "# using a comparison operator for filtering of data\r\n",
    "print(df['degree'] == 'BCA')\r\n"
   ],
   "outputs": [
    {
     "output_type": "stream",
     "name": "stdout",
     "text": [
      "0     True\n",
      "1     True\n",
      "2    False\n",
      "3     True\n",
      "Name: degree, dtype: bool\n"
     ]
    }
   ],
   "metadata": {}
  },
  {
   "cell_type": "code",
   "execution_count": 19,
   "source": [
    "  \r\n",
    "# using greater than operator for filtering of data\r\n",
    "print(data['Age'] > 25)"
   ],
   "outputs": [
    {
     "output_type": "stream",
     "name": "stdout",
     "text": [
      "Name\n",
      "Avery Bradley    False\n",
      "Jae Crowder      False\n",
      "John Holland      True\n",
      "R.J. Hunter      False\n",
      "Jonas Jerebko     True\n",
      "                 ...  \n",
      "Shelvin Mack      True\n",
      "Raul Neto        False\n",
      "Tibor Pleiss      True\n",
      "Jeff Withey       True\n",
      "NaN              False\n",
      "Name: Age, Length: 458, dtype: bool\n"
     ]
    }
   ],
   "metadata": {}
  },
  {
   "cell_type": "markdown",
   "source": [
    "  \r\n",
    "Masking data based on index value : \\ \r\n",
    "\r\n",
    "In a dataframe we can filter a data based on a column value in order to filter data, we can create a mask based on the index values using different operator like ==, >, <, etc… . To download “nba1.1” CSV file click here.\r\n",
    "Code #1: "
   ],
   "metadata": {}
  },
  {
   "cell_type": "code",
   "execution_count": 20,
   "source": [
    "\r\n",
    "# dictionary of lists\r\n",
    "dict = {'name':[\"aparna\", \"pankaj\", \"sudhir\", \"Geeku\"],\r\n",
    "\t\t'degree': [\"BCA\", \"BCA\", \"M.Tech\", \"BCA\"],\r\n",
    "\t\t'score':[90, 40, 80, 98]}\r\n",
    "\r\n",
    "\r\n",
    "df = pd.DataFrame(dict, index = [0, 1, 2, 3])\r\n",
    "\r\n",
    "mask = df.index == 0\r\n",
    "\r\n",
    "print(df[mask])\r\n"
   ],
   "outputs": [
    {
     "output_type": "stream",
     "name": "stdout",
     "text": [
      "     name degree  score\n",
      "0  aparna    BCA     90\n"
     ]
    }
   ],
   "metadata": {}
  },
  {
   "cell_type": "code",
   "execution_count": 21,
   "source": [
    "\r\n",
    "\r\n",
    "# giving a index to a dataframe\r\n",
    "df = pd.DataFrame(data, index = [0, 1, 2, 3, 4, 5, 6,\r\n",
    "\t\t\t\t\t\t\t\t7, 8, 9, 10, 11, 12])\r\n",
    "\r\n",
    "# filtering data on index value\r\n",
    "mask = df.index > 7\r\n",
    "\r\n",
    "df[mask]\r\n"
   ],
   "outputs": [
    {
     "output_type": "execute_result",
     "data": {
      "text/plain": [
       "   Team  Number Position  Age Height  Weight College  Salary\n",
       "8   NaN     NaN      NaN  NaN    NaN     NaN     NaN     NaN\n",
       "9   NaN     NaN      NaN  NaN    NaN     NaN     NaN     NaN\n",
       "10  NaN     NaN      NaN  NaN    NaN     NaN     NaN     NaN\n",
       "11  NaN     NaN      NaN  NaN    NaN     NaN     NaN     NaN\n",
       "12  NaN     NaN      NaN  NaN    NaN     NaN     NaN     NaN"
      ],
      "text/html": [
       "<div>\n",
       "<style scoped>\n",
       "    .dataframe tbody tr th:only-of-type {\n",
       "        vertical-align: middle;\n",
       "    }\n",
       "\n",
       "    .dataframe tbody tr th {\n",
       "        vertical-align: top;\n",
       "    }\n",
       "\n",
       "    .dataframe thead th {\n",
       "        text-align: right;\n",
       "    }\n",
       "</style>\n",
       "<table border=\"1\" class=\"dataframe\">\n",
       "  <thead>\n",
       "    <tr style=\"text-align: right;\">\n",
       "      <th></th>\n",
       "      <th>Team</th>\n",
       "      <th>Number</th>\n",
       "      <th>Position</th>\n",
       "      <th>Age</th>\n",
       "      <th>Height</th>\n",
       "      <th>Weight</th>\n",
       "      <th>College</th>\n",
       "      <th>Salary</th>\n",
       "    </tr>\n",
       "  </thead>\n",
       "  <tbody>\n",
       "    <tr>\n",
       "      <th>8</th>\n",
       "      <td>NaN</td>\n",
       "      <td>NaN</td>\n",
       "      <td>NaN</td>\n",
       "      <td>NaN</td>\n",
       "      <td>NaN</td>\n",
       "      <td>NaN</td>\n",
       "      <td>NaN</td>\n",
       "      <td>NaN</td>\n",
       "    </tr>\n",
       "    <tr>\n",
       "      <th>9</th>\n",
       "      <td>NaN</td>\n",
       "      <td>NaN</td>\n",
       "      <td>NaN</td>\n",
       "      <td>NaN</td>\n",
       "      <td>NaN</td>\n",
       "      <td>NaN</td>\n",
       "      <td>NaN</td>\n",
       "      <td>NaN</td>\n",
       "    </tr>\n",
       "    <tr>\n",
       "      <th>10</th>\n",
       "      <td>NaN</td>\n",
       "      <td>NaN</td>\n",
       "      <td>NaN</td>\n",
       "      <td>NaN</td>\n",
       "      <td>NaN</td>\n",
       "      <td>NaN</td>\n",
       "      <td>NaN</td>\n",
       "      <td>NaN</td>\n",
       "    </tr>\n",
       "    <tr>\n",
       "      <th>11</th>\n",
       "      <td>NaN</td>\n",
       "      <td>NaN</td>\n",
       "      <td>NaN</td>\n",
       "      <td>NaN</td>\n",
       "      <td>NaN</td>\n",
       "      <td>NaN</td>\n",
       "      <td>NaN</td>\n",
       "      <td>NaN</td>\n",
       "    </tr>\n",
       "    <tr>\n",
       "      <th>12</th>\n",
       "      <td>NaN</td>\n",
       "      <td>NaN</td>\n",
       "      <td>NaN</td>\n",
       "      <td>NaN</td>\n",
       "      <td>NaN</td>\n",
       "      <td>NaN</td>\n",
       "      <td>NaN</td>\n",
       "      <td>NaN</td>\n",
       "    </tr>\n",
       "  </tbody>\n",
       "</table>\n",
       "</div>"
      ]
     },
     "metadata": {},
     "execution_count": 21
    }
   ],
   "metadata": {}
  },
  {
   "cell_type": "markdown",
   "source": [],
   "metadata": {}
  }
 ],
 "metadata": {
  "orig_nbformat": 4,
  "language_info": {
   "name": "python",
   "version": "3.9.1",
   "mimetype": "text/x-python",
   "codemirror_mode": {
    "name": "ipython",
    "version": 3
   },
   "pygments_lexer": "ipython3",
   "nbconvert_exporter": "python",
   "file_extension": ".py"
  },
  "kernelspec": {
   "name": "python3",
   "display_name": "Python 3.9.1 64-bit"
  },
  "interpreter": {
   "hash": "11f1dc213e07634baa4c5c321dec03c05dafae643c50f20e6d1a492290c05dc2"
  }
 },
 "nbformat": 4,
 "nbformat_minor": 2
}