{
 "cells": [
  {
   "cell_type": "markdown",
   "source": [
    "# Python | Pandas DataFrame #\r\n",
    "\r\n",
    "Pandas DataFrame is two-dimensional size-mutable, potentially heterogeneous tabular data structure with labeled axes (rows and columns). A Data frame is a two-dimensional data structure, i.e., data is aligned in a tabular fashion in rows and columns. Pandas DataFrame consists of three principal components, the data, rows, and columns.\r\n",
    "<img src=\"https://media.geeksforgeeks.org/wp-content/uploads/20200225170602/pandas-dataframe.png\r\n",
    "\" alt=\"drawing\" style=\"width:500px;\"/>\r\n",
    "\r\n",
    "\r\n",
    "\r\n",
    "\r\n",
    "A Dataframe is a two-dimensional data structure, i.e., data is aligned in a tabular fashion in rows and columns. In dataframe datasets arrange in rows and columns, we can store any number of datasets in a dataframe. We can perform many operations on these datasets like arithmetic operation, columns/rows selection, columns/rows addition etc. \r\n",
    "\r\n",
    "<img src=\"https://media.geeksforgeeks.org/wp-content/cdn-uploads/creating_dataframe1.png\r\n",
    "\" alt=\"drawing\" style=\"width:500px;\"/>\r\n",
    "\r\n",
    "\r\n"
   ],
   "metadata": {}
  },
  {
   "cell_type": "markdown",
   "source": [
    "# Creating a Pandas DataFrame #\r\n",
    "In the real world, a Pandas DataFrame will be created by loading the datasets from existing storage, storage can be SQL Database, CSV file, and Excel file. Pandas DataFrame can be created from the lists, dictionary, and from a list of dictionary etc. Dataframe can be created in different ways here are some ways by which we create a dataframe:\r\n",
    "\r\n",
    "Creating a dataframe using List: DataFrame can be created using a single list or a list of lists."
   ],
   "metadata": {}
  },
  {
   "cell_type": "code",
   "execution_count": 34,
   "source": [
    "# import pandas as pd\r\n",
    "import pandas as pd\r\n",
    "\r\n",
    "# list of strings\r\n",
    "lst = ['Flex', 'had', 'sth', 'really',\r\n",
    "\t\t\t'kekw', 'lmao', 'asdas']\r\n",
    "\r\n",
    " \r\n",
    "# Calling DataFrame constructor on list\r\n",
    "df = pd.DataFrame(lst)\r\n",
    "print(df)"
   ],
   "outputs": [
    {
     "output_type": "stream",
     "name": "stdout",
     "text": [
      "        0\n",
      "0    Flex\n",
      "1     had\n",
      "2     sth\n",
      "3  really\n",
      "4    kekw\n",
      "5    lmao\n",
      "6   asdas\n"
     ]
    }
   ],
   "metadata": {}
  },
  {
   "cell_type": "markdown",
   "source": [
    "\r\n",
    " \r\n",
    "Creating DataFrame from dict of ndarray/lists: \\\r\n",
    "To create DataFrame from dict of narray/list, all the narray must be of same length. If index is passed then the length index should be equal to the length of arrays. If no index is passed, then by default, index will be range(n) where n is the array length.\r\n",
    "\r\n"
   ],
   "metadata": {}
  },
  {
   "cell_type": "code",
   "execution_count": 21,
   "source": [
    "# Python code demonstrate creating \r\n",
    "# DataFrame from dict narray / lists \r\n",
    "# By default addresses.\r\n",
    " \r\n",
    " \r\n",
    "# intialise data of lists.\r\n",
    "data = {'Name':['Tom', 'nick', 'krish', 'jack'],\r\n",
    "        'Age':[20, 21, 19, 18]}\r\n",
    " \r\n",
    "# Create DataFrame\r\n",
    "df = pd.DataFrame(data)\r\n",
    " \r\n",
    "# Print the output.\r\n",
    "print(df)"
   ],
   "outputs": [
    {
     "output_type": "stream",
     "name": "stdout",
     "text": [
      "    Name  Age\n",
      "0    Tom   20\n",
      "1   nick   21\n",
      "2  krish   19\n",
      "3   jack   18\n"
     ]
    }
   ],
   "metadata": {}
  },
  {
   "cell_type": "markdown",
   "source": [
    "# Dealing with Rows and Columns # \r\n",
    "A Data frame is a two-dimensional data structure, i.e., data is aligned in a tabular fashion in rows and columns. We can perform basic operations on rows/columns like selecting, deleting, adding, and renaming.\r\n",
    "\r\n",
    "Column Selection: In Order to select a column in Pandas DataFrame, we can either access the columns by calling them by their columns name."
   ],
   "metadata": {}
  },
  {
   "cell_type": "code",
   "execution_count": 22,
   "source": [
    "# Import pandas package\r\n",
    "import pandas as pd\r\n",
    "import numpy as np\r\n",
    "# Define a dictionary containing employee data\r\n",
    "data = {'Name':['Jai', 'Princi', 'Gaurav', 'Anuj'],\r\n",
    "        'Age':[27, 24, 22, 32],\r\n",
    "        'Address':['Delhi', 'Kanpur', 'Allahabad', 'Kannauj'],\r\n",
    "        'Qualification':['Msc', 'MA', 'MCA', 'Phd']}\r\n",
    " \r\n",
    "# Convert the dictionary into DataFrame \r\n",
    "df = pd.DataFrame(data)\r\n",
    " \r\n",
    "# select two columns\r\n",
    "print(df[['Name', 'Qualification']])"
   ],
   "outputs": [
    {
     "output_type": "stream",
     "name": "stdout",
     "text": [
      "     Name Qualification\n",
      "0     Jai           Msc\n",
      "1  Princi            MA\n",
      "2  Gaurav           MCA\n",
      "3    Anuj           Phd\n"
     ]
    }
   ],
   "metadata": {}
  },
  {
   "cell_type": "markdown",
   "source": [
    "\r\n",
    " \r\n",
    "Row Selection: Pandas provide a unique method to retrieve rows from a Data frame. DataFrame.loc[] method is used to retrieve rows from Pandas DataFrame. Rows can also be selected by passing integer location to an iloc[] function.\r\n",
    "\r\n"
   ],
   "metadata": {}
  },
  {
   "cell_type": "code",
   "execution_count": 23,
   "source": [
    "# importing pandas package\r\n",
    "import pandas as pd\r\n",
    " \r\n",
    "# making data frame from csv file\r\n",
    "data = pd.read_csv(\"D:/Python/input/nba.csv\", index_col =\"Name\")\r\n",
    " \r\n",
    "# retrieving row by loc method\r\n",
    "first = data.loc[\"Avery Bradley\"]\r\n",
    "second = data.loc[\"R.J. Hunter\"]\r\n",
    " \r\n",
    " \r\n",
    "print(first, \"\\n\\n\\n\", second)"
   ],
   "outputs": [
    {
     "output_type": "stream",
     "name": "stdout",
     "text": [
      "Team        Boston Celtics\n",
      "Number                 0.0\n",
      "Position                PG\n",
      "Age                   25.0\n",
      "Height                 6-2\n",
      "Weight               180.0\n",
      "College              Texas\n",
      "Salary           7730337.0\n",
      "Name: Avery Bradley, dtype: object \n",
      "\n",
      "\n",
      " Team        Boston Celtics\n",
      "Number                28.0\n",
      "Position                SG\n",
      "Age                   22.0\n",
      "Height                 6-5\n",
      "Weight               185.0\n",
      "College      Georgia State\n",
      "Salary           1148640.0\n",
      "Name: R.J. Hunter, dtype: object\n"
     ]
    }
   ],
   "metadata": {}
  },
  {
   "cell_type": "markdown",
   "source": [
    "# Indexing and Selecting Data #\r\n",
    "Indexing in pandas means simply selecting particular rows and columns of data from a DataFrame. Indexing could mean selecting all the rows and some of the columns, some of the rows and all of the columns, or some of each of the rows and columns. Indexing can also be known as Subset Selection.\r\n",
    "\r\n",
    "Indexing a Dataframe using indexing operator [] :\r\n",
    "Indexing operator is used to refer to the square brackets following an object. The .loc and .iloc indexers also use the indexing operator to make selections. In this indexing operator to refer to df[].\r\n",
    "\r\n",
    "# Selecting a single columns # \r\n",
    "In order to select a single column, we simply put the name of the column in-between the brackets\r\n",
    "\r\n",
    "# Indexing a DataFrame using .loc[ ] : #\r\n",
    "This function selects data by the label of the rows and columns. The df.loc indexer selects data in a different way than just the indexing operator. It can select subsets of rows or columns. It can also simultaneously select subsets of rows and columns.\r\n",
    "\r\n",
    "# Selecting a single row  #\r\n",
    "In order to select a single row using .loc[], we put a single row label in a .loc function.\r\n",
    "\r\n"
   ],
   "metadata": {}
  },
  {
   "cell_type": "code",
   "execution_count": 24,
   "source": [
    "\r\n",
    "# retrieving row by loc method\r\n",
    "first = data.loc[\"Avery Bradley\"]\r\n",
    "second = data.loc[\"R.J. Hunter\"]\r\n",
    " \r\n",
    " \r\n",
    "print(first, \"\\n\\n\\n\", second)"
   ],
   "outputs": [
    {
     "output_type": "stream",
     "name": "stdout",
     "text": [
      "Team        Boston Celtics\n",
      "Number                 0.0\n",
      "Position                PG\n",
      "Age                   25.0\n",
      "Height                 6-2\n",
      "Weight               180.0\n",
      "College              Texas\n",
      "Salary           7730337.0\n",
      "Name: Avery Bradley, dtype: object \n",
      "\n",
      "\n",
      " Team        Boston Celtics\n",
      "Number                28.0\n",
      "Position                SG\n",
      "Age                   22.0\n",
      "Height                 6-5\n",
      "Weight               185.0\n",
      "College      Georgia State\n",
      "Salary           1148640.0\n",
      "Name: R.J. Hunter, dtype: object\n"
     ]
    }
   ],
   "metadata": {}
  },
  {
   "cell_type": "code",
   "execution_count": 25,
   "source": [
    "\r\n",
    "# retrieving rows by iloc method \r\n",
    "row2 = data.iloc[3] \r\n",
    " \r\n",
    " \r\n",
    " \r\n",
    "print(row2)"
   ],
   "outputs": [
    {
     "output_type": "stream",
     "name": "stdout",
     "text": [
      "Team        Boston Celtics\n",
      "Number                28.0\n",
      "Position                SG\n",
      "Age                   22.0\n",
      "Height                 6-5\n",
      "Weight               185.0\n",
      "College      Georgia State\n",
      "Salary           1148640.0\n",
      "Name: R.J. Hunter, dtype: object\n"
     ]
    }
   ],
   "metadata": {}
  },
  {
   "cell_type": "markdown",
   "source": [
    " ## Working with Missing Data ##\r\n",
    "Missing Data can occur when no information is provided for one or more items or for a whole unit. Missing Data is a very big problem in real life scenario. Missing Data can also refer to as NA(Not Available) values in pandas.\r\n",
    "\r\n",
    "Checking for missing values using isnull() and notnull() :\r\n",
    "\r\n",
    "In order to check missing values in Pandas DataFrame, we use a function isnull() and notnull(). Both function help in checking whether a value is NaN or not. These function can also be used in Pandas Series in order to find null values in a series."
   ],
   "metadata": {}
  },
  {
   "cell_type": "code",
   "execution_count": 26,
   "source": [
    "\r\n",
    " \r\n",
    "# dictionary of lists\r\n",
    "dict = {'First Score':[100, 90, np.nan, 95],\r\n",
    "        'Second Score': [30, 45, 56, np.nan],\r\n",
    "        'Third Score':[np.nan, 40, 80, 98]}\r\n",
    " \r\n",
    "# creating a dataframe from list\r\n",
    "df = pd.DataFrame(dict)\r\n",
    " \r\n",
    "# using isnull() function  \r\n",
    "df.isnull()"
   ],
   "outputs": [
    {
     "output_type": "execute_result",
     "data": {
      "text/plain": [
       "   First Score  Second Score  Third Score\n",
       "0        False         False         True\n",
       "1        False         False        False\n",
       "2         True         False        False\n",
       "3        False          True        False"
      ],
      "text/html": [
       "<div>\n",
       "<style scoped>\n",
       "    .dataframe tbody tr th:only-of-type {\n",
       "        vertical-align: middle;\n",
       "    }\n",
       "\n",
       "    .dataframe tbody tr th {\n",
       "        vertical-align: top;\n",
       "    }\n",
       "\n",
       "    .dataframe thead th {\n",
       "        text-align: right;\n",
       "    }\n",
       "</style>\n",
       "<table border=\"1\" class=\"dataframe\">\n",
       "  <thead>\n",
       "    <tr style=\"text-align: right;\">\n",
       "      <th></th>\n",
       "      <th>First Score</th>\n",
       "      <th>Second Score</th>\n",
       "      <th>Third Score</th>\n",
       "    </tr>\n",
       "  </thead>\n",
       "  <tbody>\n",
       "    <tr>\n",
       "      <th>0</th>\n",
       "      <td>False</td>\n",
       "      <td>False</td>\n",
       "      <td>True</td>\n",
       "    </tr>\n",
       "    <tr>\n",
       "      <th>1</th>\n",
       "      <td>False</td>\n",
       "      <td>False</td>\n",
       "      <td>False</td>\n",
       "    </tr>\n",
       "    <tr>\n",
       "      <th>2</th>\n",
       "      <td>True</td>\n",
       "      <td>False</td>\n",
       "      <td>False</td>\n",
       "    </tr>\n",
       "    <tr>\n",
       "      <th>3</th>\n",
       "      <td>False</td>\n",
       "      <td>True</td>\n",
       "      <td>False</td>\n",
       "    </tr>\n",
       "  </tbody>\n",
       "</table>\n",
       "</div>"
      ]
     },
     "metadata": {},
     "execution_count": 26
    }
   ],
   "metadata": {}
  },
  {
   "cell_type": "markdown",
   "source": [
    "\r\n",
    "# Filling missing values using fillna(), replace() and interpolate() : # \r\n",
    "In order to fill null values in a datasets, we use fillna(), replace() and interpolate() function these function replace NaN values with some value of their own. All these function help in filling a null values in datasets of a DataFrame. Interpolate() function is basically used to fill NA values in the dataframe but it uses various interpolation technique to fill the missing values rather than hard-coding the value."
   ],
   "metadata": {}
  },
  {
   "cell_type": "code",
   "execution_count": 27,
   "source": [
    "\r\n",
    "# dictionary of lists\r\n",
    "dict = {'First Score':[100, 90, np.nan, 95],\r\n",
    "        'Second Score': [30, 45, 56, np.nan],\r\n",
    "        'Third Score':[np.nan, 40, 80, 98]}\r\n",
    " \r\n",
    "# creating a dataframe from dictionary\r\n",
    "df = pd.DataFrame(dict)\r\n",
    " \r\n",
    "# filling missing value using fillna()  \r\n",
    "df.fillna(0)"
   ],
   "outputs": [
    {
     "output_type": "execute_result",
     "data": {
      "text/plain": [
       "   First Score  Second Score  Third Score\n",
       "0        100.0          30.0          0.0\n",
       "1         90.0          45.0         40.0\n",
       "2          0.0          56.0         80.0\n",
       "3         95.0           0.0         98.0"
      ],
      "text/html": [
       "<div>\n",
       "<style scoped>\n",
       "    .dataframe tbody tr th:only-of-type {\n",
       "        vertical-align: middle;\n",
       "    }\n",
       "\n",
       "    .dataframe tbody tr th {\n",
       "        vertical-align: top;\n",
       "    }\n",
       "\n",
       "    .dataframe thead th {\n",
       "        text-align: right;\n",
       "    }\n",
       "</style>\n",
       "<table border=\"1\" class=\"dataframe\">\n",
       "  <thead>\n",
       "    <tr style=\"text-align: right;\">\n",
       "      <th></th>\n",
       "      <th>First Score</th>\n",
       "      <th>Second Score</th>\n",
       "      <th>Third Score</th>\n",
       "    </tr>\n",
       "  </thead>\n",
       "  <tbody>\n",
       "    <tr>\n",
       "      <th>0</th>\n",
       "      <td>100.0</td>\n",
       "      <td>30.0</td>\n",
       "      <td>0.0</td>\n",
       "    </tr>\n",
       "    <tr>\n",
       "      <th>1</th>\n",
       "      <td>90.0</td>\n",
       "      <td>45.0</td>\n",
       "      <td>40.0</td>\n",
       "    </tr>\n",
       "    <tr>\n",
       "      <th>2</th>\n",
       "      <td>0.0</td>\n",
       "      <td>56.0</td>\n",
       "      <td>80.0</td>\n",
       "    </tr>\n",
       "    <tr>\n",
       "      <th>3</th>\n",
       "      <td>95.0</td>\n",
       "      <td>0.0</td>\n",
       "      <td>98.0</td>\n",
       "    </tr>\n",
       "  </tbody>\n",
       "</table>\n",
       "</div>"
      ]
     },
     "metadata": {},
     "execution_count": 27
    }
   ],
   "metadata": {}
  },
  {
   "cell_type": "markdown",
   "source": [
    "  \r\n",
    "# Dropping missing values using dropna() : #\r\n",
    "In order to drop a null values from a dataframe, we used dropna() function this fuction drop Rows/Columns of datasets with Null values in different ways."
   ],
   "metadata": {}
  },
  {
   "cell_type": "code",
   "execution_count": 28,
   "source": [
    "# importing pandas as pd\r\n",
    "import pandas as pd\r\n",
    " \r\n",
    "# importing numpy as np\r\n",
    "import numpy as np\r\n",
    " \r\n",
    "# dictionary of lists\r\n",
    "dict = {'First Score':[100, 90, np.nan, 95],\r\n",
    "        'Second Score': [30, np.nan, 45, 56],\r\n",
    "        'Third Score':[52, 40, 80, 98],\r\n",
    "        'Fourth Score':[np.nan, np.nan, np.nan, 65]}\r\n",
    " \r\n",
    "# creating a dataframe from dictionary\r\n",
    "df = pd.DataFrame(dict)\r\n",
    "   \r\n",
    "df"
   ],
   "outputs": [
    {
     "output_type": "execute_result",
     "data": {
      "text/plain": [
       "   First Score  Second Score  Third Score  Fourth Score\n",
       "0        100.0          30.0           52           NaN\n",
       "1         90.0           NaN           40           NaN\n",
       "2          NaN          45.0           80           NaN\n",
       "3         95.0          56.0           98          65.0"
      ],
      "text/html": [
       "<div>\n",
       "<style scoped>\n",
       "    .dataframe tbody tr th:only-of-type {\n",
       "        vertical-align: middle;\n",
       "    }\n",
       "\n",
       "    .dataframe tbody tr th {\n",
       "        vertical-align: top;\n",
       "    }\n",
       "\n",
       "    .dataframe thead th {\n",
       "        text-align: right;\n",
       "    }\n",
       "</style>\n",
       "<table border=\"1\" class=\"dataframe\">\n",
       "  <thead>\n",
       "    <tr style=\"text-align: right;\">\n",
       "      <th></th>\n",
       "      <th>First Score</th>\n",
       "      <th>Second Score</th>\n",
       "      <th>Third Score</th>\n",
       "      <th>Fourth Score</th>\n",
       "    </tr>\n",
       "  </thead>\n",
       "  <tbody>\n",
       "    <tr>\n",
       "      <th>0</th>\n",
       "      <td>100.0</td>\n",
       "      <td>30.0</td>\n",
       "      <td>52</td>\n",
       "      <td>NaN</td>\n",
       "    </tr>\n",
       "    <tr>\n",
       "      <th>1</th>\n",
       "      <td>90.0</td>\n",
       "      <td>NaN</td>\n",
       "      <td>40</td>\n",
       "      <td>NaN</td>\n",
       "    </tr>\n",
       "    <tr>\n",
       "      <th>2</th>\n",
       "      <td>NaN</td>\n",
       "      <td>45.0</td>\n",
       "      <td>80</td>\n",
       "      <td>NaN</td>\n",
       "    </tr>\n",
       "    <tr>\n",
       "      <th>3</th>\n",
       "      <td>95.0</td>\n",
       "      <td>56.0</td>\n",
       "      <td>98</td>\n",
       "      <td>65.0</td>\n",
       "    </tr>\n",
       "  </tbody>\n",
       "</table>\n",
       "</div>"
      ]
     },
     "metadata": {},
     "execution_count": 28
    }
   ],
   "metadata": {}
  },
  {
   "cell_type": "code",
   "execution_count": 29,
   "source": [
    "\r\n",
    "# dictionary of lists\r\n",
    "dict = {'First Score':[100, 90, np.nan, 95],\r\n",
    "        'Second Score': [30, np.nan, 45, 56],\r\n",
    "        'Third Score':[52, 40, 80, 98],\r\n",
    "        'Fourth Score':[np.nan, np.nan, np.nan, 65]}\r\n",
    " \r\n",
    "# creating a dataframe from dictionary\r\n",
    "df = pd.DataFrame(dict)\r\n",
    " \r\n",
    "# using dropna() function  \r\n",
    "df.dropna()"
   ],
   "outputs": [
    {
     "output_type": "execute_result",
     "data": {
      "text/plain": [
       "   First Score  Second Score  Third Score  Fourth Score\n",
       "3         95.0          56.0           98          65.0"
      ],
      "text/html": [
       "<div>\n",
       "<style scoped>\n",
       "    .dataframe tbody tr th:only-of-type {\n",
       "        vertical-align: middle;\n",
       "    }\n",
       "\n",
       "    .dataframe tbody tr th {\n",
       "        vertical-align: top;\n",
       "    }\n",
       "\n",
       "    .dataframe thead th {\n",
       "        text-align: right;\n",
       "    }\n",
       "</style>\n",
       "<table border=\"1\" class=\"dataframe\">\n",
       "  <thead>\n",
       "    <tr style=\"text-align: right;\">\n",
       "      <th></th>\n",
       "      <th>First Score</th>\n",
       "      <th>Second Score</th>\n",
       "      <th>Third Score</th>\n",
       "      <th>Fourth Score</th>\n",
       "    </tr>\n",
       "  </thead>\n",
       "  <tbody>\n",
       "    <tr>\n",
       "      <th>3</th>\n",
       "      <td>95.0</td>\n",
       "      <td>56.0</td>\n",
       "      <td>98</td>\n",
       "      <td>65.0</td>\n",
       "    </tr>\n",
       "  </tbody>\n",
       "</table>\n",
       "</div>"
      ]
     },
     "metadata": {},
     "execution_count": 29
    }
   ],
   "metadata": {}
  },
  {
   "cell_type": "markdown",
   "source": [
    "# Iterating over rows and columns #\r\n",
    "Iteration is a general term for taking each item of something, one after another. Pandas DataFrame consists of rows and columns so, in order to iterate over dataframe, we have to iterate a dataframe like a dictionary.\r\n",
    "\r\n",
    "\r\n",
    "Iterating over rows : \\\r\n",
    "In order to iterate over rows, we can use three function iteritems(), iterrows(), itertuples() . These three function will help in iteration over rows."
   ],
   "metadata": {}
  },
  {
   "cell_type": "code",
   "execution_count": 30,
   "source": [
    "\r\n",
    "# dictionary of lists\r\n",
    "dict = {'name':[\"aparna\", \"pankaj\", \"sudhir\", \"Geeku\"],\r\n",
    "        'degree': [\"MBA\", \"BCA\", \"M.Tech\", \"MBA\"],\r\n",
    "        'score':[90, 40, 80, 98]}\r\n",
    " \r\n",
    "# creating a dataframe from a dictionary \r\n",
    "df = pd.DataFrame(dict)\r\n",
    " \r\n",
    "print(df)"
   ],
   "outputs": [
    {
     "output_type": "stream",
     "name": "stdout",
     "text": [
      "     name  degree  score\n",
      "0  aparna     MBA     90\n",
      "1  pankaj     BCA     40\n",
      "2  sudhir  M.Tech     80\n",
      "3   Geeku     MBA     98\n"
     ]
    }
   ],
   "metadata": {}
  },
  {
   "cell_type": "markdown",
   "source": [
    "Now we apply iterrows() function in order to get a each element of rows."
   ],
   "metadata": {}
  },
  {
   "cell_type": "code",
   "execution_count": 31,
   "source": [
    "\r\n",
    "  \r\n",
    "# dictionary of lists\r\n",
    "dict = {'name':[\"aparna\", \"pankaj\", \"sudhir\", \"Geeku\"],\r\n",
    "        'degree': [\"MBA\", \"BCA\", \"M.Tech\", \"MBA\"],\r\n",
    "        'score':[90, 40, 80, 98]}\r\n",
    " \r\n",
    "# creating a dataframe from a dictionary \r\n",
    "df = pd.DataFrame(dict)\r\n",
    " \r\n",
    "# iterating over rows using iterrows() function \r\n",
    "for i, j in df.iterrows():\r\n",
    "    print(i, j)\r\n",
    "    print()"
   ],
   "outputs": [
    {
     "output_type": "stream",
     "name": "stdout",
     "text": [
      "0 name      aparna\n",
      "degree       MBA\n",
      "score         90\n",
      "Name: 0, dtype: object\n",
      "\n",
      "1 name      pankaj\n",
      "degree       BCA\n",
      "score         40\n",
      "Name: 1, dtype: object\n",
      "\n",
      "2 name      sudhir\n",
      "degree    M.Tech\n",
      "score         80\n",
      "Name: 2, dtype: object\n",
      "\n",
      "3 name      Geeku\n",
      "degree      MBA\n",
      "score        98\n",
      "Name: 3, dtype: object\n",
      "\n"
     ]
    }
   ],
   "metadata": {}
  },
  {
   "cell_type": "markdown",
   "source": [
    " \r\n",
    "Iterating over Columns : \\\r\n",
    "In order to iterate over columns, we need to create a list of dataframe columns and then iterating through that list to pull out the dataframe columns."
   ],
   "metadata": {}
  },
  {
   "cell_type": "code",
   "execution_count": 32,
   "source": [
    "# importing pandas as pd\r\n",
    "import pandas as pd\r\n",
    "   \r\n",
    "# dictionary of lists\r\n",
    "dict = {'name':[\"aparna\", \"pankaj\", \"sudhir\", \"Geeku\"],\r\n",
    "        'degree': [\"MBA\", \"BCA\", \"M.Tech\", \"MBA\"],\r\n",
    "        'score':[90, 40, 80, 98]}\r\n",
    "  \r\n",
    "# creating a dataframe from a dictionary \r\n",
    "df = pd.DataFrame(dict)\r\n",
    " \r\n",
    "print(df)"
   ],
   "outputs": [
    {
     "output_type": "stream",
     "name": "stdout",
     "text": [
      "     name  degree  score\n",
      "0  aparna     MBA     90\n",
      "1  pankaj     BCA     40\n",
      "2  sudhir  M.Tech     80\n",
      "3   Geeku     MBA     98\n"
     ]
    }
   ],
   "metadata": {}
  },
  {
   "cell_type": "markdown",
   "source": [
    "Now we iterate through columns in order to iterate through columns we first create a list of dataframe columns and then iterate through list."
   ],
   "metadata": {}
  },
  {
   "cell_type": "code",
   "execution_count": 33,
   "source": [
    "# creating a list of dataframe columns\r\n",
    "columns = list(df)\r\n",
    " \r\n",
    "for i in columns:\r\n",
    " \r\n",
    "    # printing the third element of the column\r\n",
    "    print (df[i][2])"
   ],
   "outputs": [
    {
     "output_type": "stream",
     "name": "stdout",
     "text": [
      "sudhir\n",
      "M.Tech\n",
      "80\n"
     ]
    }
   ],
   "metadata": {}
  },
  {
   "cell_type": "markdown",
   "source": [
    "<table class=\"dataframe-table\"><tbody><tr><th style=\"background-color:gray\">Function</th><th style=\"background-color:gray\">Description</th></tr><tr><td><strong>index()</strong></td><td>Method returns index (row labels) of the DataFrame</td></tr><tr><td><strong><a href=\"https://www.geeksforgeeks.org/python-pandas-dataframe-insert/\" rel=\"noopener\" target=\"_blank\">insert()</a></strong></td><td>Method inserts a column into a DataFrame</td></tr><tr><td><strong><a href=\"https://www.geeksforgeeks.org/python-pandas-dataframe-add/\" rel=\"noopener\" target=\"_blank\">add()</a></strong></td><td>Method returns addition of dataframe and other, element-wise (binary operator add)</td></tr><tr><td><strong><a href=\"https://www.geeksforgeeks.org/python-pandas-dataframe-sub/\" rel=\"noopener\" target=\"_blank\">sub()</a></strong></td><td>Method returns subtraction of dataframe and other, element-wise (binary operator sub)</td></tr><tr><td><strong><a href=\"https://www.geeksforgeeks.org/python-pandas-dataframe-mul/\" rel=\"noopener\" target=\"_blank\">mul()</a></strong></td><td>Method returns multiplication of dataframe and other, element-wise (binary operator mul)</td></tr><tr><td><strong><a href=\"https://www.geeksforgeeks.org/python-pandas-dataframe-div/\" rel=\"noopener\" target=\"_blank\">div()</a></strong></td><td>Method returns floating division of dataframe and other, element-wise (binary operator truediv)</td></tr><tr><td><strong>unique()</strong></td><td>Method extracts the unique values in the dataframe</td></tr><tr><td><strong><a href=\"https://www.geeksforgeeks.org/python-pandas-dataframe-nunique/\" rel=\"noopener\" target=\"_blank\">nunique()</a></strong></td><td>Method returns count of the unique values in the dataframe</td></tr><tr><td><strong>value_counts()</strong></td><td>Method counts the number of times each unique value occurs within the Series</td></tr><tr><td><strong>columns()</strong></td><td>Method returns the column labels of the DataFrame</td></tr><tr><td><strong>axes()</strong></td><td>Method returns a list representing the axes of the DataFrame</td></tr><tr><td><strong><a href=\"https://www.geeksforgeeks.org/python-pandas-isnull-and-notnull/\" rel=\"noopener\" target=\"_blank\">isnull()</a></strong></td><td>Method creates a Boolean Series for extracting rows with null values</td></tr><tr><td><strong><a href=\"https://www.geeksforgeeks.org/python-pandas-isnull-and-notnull/\" rel=\"noopener\" target=\"_blank\">notnull()</a></strong></td><td>Method creates a Boolean Series for extracting rows with non-null values</td></tr><tr><td><strong>between()</strong></td><td>Method extracts rows where a column value falls in between a predefined range</td></tr><tr><td><strong><a href=\"https://www.geeksforgeeks.org/python-pandas-dataframe-isin/\" rel=\"noopener\" target=\"_blank\">isin()</a></strong></td><td>Method extracts rows from a DataFrame where a column value exists in a predefined collection</td></tr><tr><td><strong>dtypes()</strong></td><td>Method returns a Series with the data type of each column. The result’s index is the original DataFrame’s columns</td></tr><tr><td><strong><a href=\"https://www.geeksforgeeks.org/python-pandas-dataframe-astype/\" rel=\"noopener\" target=\"_blank\">astype()</a></strong></td><td>Method converts the data types in a Series</td></tr><tr><td><strong>values()</strong></td><td>Method returns a Numpy representation of the DataFrame i.e. only the values in the DataFrame will be returned, the axes labels will be removed</td></tr><tr><td><strong>sort_values()- <a href=\"https://www.geeksforgeeks.org/python-pandas-dataframe-sort_values-set-1/\" rel=\"noopener\" target=\"_blank\">Set1</a>, <a href=\"https://www.geeksforgeeks.org/python-pandas-dataframe-sort_values-set-2/\" rel=\"noopener\" target=\"_blank\">Set2</a></strong></td><td>Method sorts a data frame in Ascending or Descending order of passed Column</td></tr><tr><td><strong><a href=\"https://www.geeksforgeeks.org/python-pandas-dataframe-sort_index/\" rel=\"noopener\" target=\"_blank\">sort_index()</a></strong></td><td>Method sorts the values in a DataFrame based on their index positions or labels instead of their values but sometimes a data frame is made out of two or more data frames and hence later index can be changed using this method</td></tr><tr><td><strong><a href=\"https://www.geeksforgeeks.org/python-pandas-extracting-rows-using-loc/\" rel=\"noopener\" target=\"_blank\">loc[]</a></strong></td><td>Method retrieves rows based on index label</td></tr><tr><td><strong><a href=\"https://www.geeksforgeeks.org/python-extracting-rows-using-pandas-iloc/\" rel=\"noopener\" target=\"_blank\">iloc[]</a></strong></td><td>Method retrieves rows based on index position</td></tr><tr><td><strong><a href=\"https://www.geeksforgeeks.org/python-pandas-dataframe-ix/\" rel=\"noopener\" target=\"_blank\">ix[]</a></strong></td><td>Method retrieves DataFrame rows based on either index label or index position. This method combines the best features of the .loc[] and .iloc[] methods</td></tr><tr><td><strong><a href=\"https://www.geeksforgeeks.org/python-pandas-dataframe-rename/\" rel=\"noopener\" target=\"_blank\">rename()</a></strong></td><td>Method is called on a DataFrame to change the names of the index labels or column names</td></tr><tr><td><strong>columns()</strong></td><td>Method is an alternative attribute to change the coloumn name</td></tr><tr><td><strong><a href=\"https://www.geeksforgeeks.org/python-delete-rows-columns-from-dataframe-using-pandas-drop/\" rel=\"noopener\" target=\"_blank\">drop()</a></strong></td><td>Method is used to delete rows or columns from a DataFrame</td></tr><tr><td><strong><a href=\"https://www.geeksforgeeks.org/python-pandas-dataframe-pop/\" rel=\"noopener\" target=\"_blank\">pop()</a></strong></td><td>Method is used to delete rows or columns from a DataFrame</td></tr><tr><td><strong><a href=\"https://www.geeksforgeeks.org/python-pandas-dataframe-sample/\" rel=\"noopener\" target=\"_blank\">sample()</a></strong></td><td>Method pulls out a random sample of rows or columns from a DataFrame</td></tr><tr><td><strong><a href=\"https://www.geeksforgeeks.org/python-pandas-dataframe-nsmallest/\" rel=\"noopener\" target=\"_blank\">nsmallest()</a></strong></td><td>Method pulls out the rows with the smallest values in a column</td></tr><tr><td><strong><a href=\"https://www.geeksforgeeks.org/python-pandas-dataframe-nlargest/\" rel=\"noopener\" target=\"_blank\">nlargest()</a></strong></td><td>Method pulls out the rows with the largest values in a column</td></tr><tr><td><strong><a href=\"https://www.geeksforgeeks.org/python-pandas-df-size-df-shape-and-df-ndim/\" rel=\"noopener\" target=\"_blank\">shape()</a></strong></td><td>Method returns a tuple representing the dimensionality of the DataFrame</td></tr><tr><td><strong><a href=\"https://www.geeksforgeeks.org/python-pandas-df-size-df-shape-and-df-ndim/\" rel=\"noopener\" target=\"_blank\">ndim()</a></strong></td><td>Method returns an ‘int’ representing the number of axes / array dimensions.<br>Returns 1 if Series, otherwise returns 2 if DataFrame</td></tr><tr><td><strong><a href=\"https://www.geeksforgeeks.org/python-pandas-dataframe-dropna/\" rel=\"noopener\" target=\"_blank\">dropna()</a></strong></td><td>Method allows the user to analyze and drop Rows/Columns with Null values in different ways</td></tr><tr><td><strong><a href=\"https://www.geeksforgeeks.org/python-pandas-dataframe-fillna-to-replace-null-values-in-dataframe/\" rel=\"noopener\" target=\"_blank\">fillna()</a></strong></td><td>Method manages and let the user replace NaN values with some value of their own</td></tr><tr><td><strong><a href=\"https://www.geeksforgeeks.org/python-pandas-dataframe-rank/\" rel=\"noopener\" target=\"_blank\">rank()</a></strong></td><td>Values in a Series can be ranked in order with this method</td></tr><tr><td><strong><a href=\"https://www.geeksforgeeks.org/python-filtering-data-with-pandas-query-method/\" rel=\"noopener\" target=\"_blank\">query()</a></strong></td><td>Method is an alternate string-based syntax for extracting a subset from a DataFrame</td></tr><tr><td><strong><a href=\"https://www.geeksforgeeks.org/python-difference-between-pandas-copy-and-copying-through-variables/\" rel=\"noopener\" target=\"_blank\">copy()</a></strong></td><td>Method creates an independent copy of a pandas object</td></tr><tr><td><strong><a href=\"https://www.geeksforgeeks.org/python-pandas-dataframe-duplicated/\" rel=\"noopener\" target=\"_blank\">duplicated()</a></strong></td><td>Method creates a Boolean Series and uses it to extract rows that have duplicate values</td></tr><tr><td><strong><a href=\"https://www.geeksforgeeks.org/python-pandas-dataframe-drop_duplicates/\" rel=\"noopener\" target=\"_blank\">drop_duplicates()</a></strong></td><td>Method is an alternative option to identifying duplicate rows and removing them through filtering</td></tr><tr><td><strong><a href=\"https://www.geeksforgeeks.org/python-pandas-dataframe-set_index/\" rel=\"noopener\" target=\"_blank\">set_index()</a></strong></td><td>Method sets the DataFrame index (row labels) using one or more existing columns</td></tr><tr><td><strong><a href=\"https://www.geeksforgeeks.org/python-pandas-dataframe-reset_index/\" rel=\"noopener\" target=\"_blank\">reset_index()</a></strong></td><td>Method resets index of a Data Frame. This method sets a list of integer ranging from 0 to length of data as index</td></tr><tr><td><strong><a href=\"https://www.geeksforgeeks.org/python-pandas-dataframe-where/\" rel=\"noopener\" target=\"_blank\">where()</a></strong></td><td>Method is used to check a Data Frame for one or more condition and return the result accordingly. By default, the rows not satisfying the condition are filled with NaN value</td></tr></tbody></table>"
   ],
   "metadata": {}
  },
  {
   "cell_type": "markdown",
   "source": [
    "## Pandas Dataframe/Series.head() method ## \r\n",
    "\r\n",
    "Example #1:\r\n",
    "\r\n",
    "In this example, top 5 rows of data frame are returned and stored in a new variable. No parameter is passed to .head() method since by default it is 5.\r\n"
   ],
   "metadata": {}
  },
  {
   "cell_type": "code",
   "execution_count": 35,
   "source": [
    "\r\n",
    "\r\n",
    "# calling head() method\r\n",
    "# storing in new variable\r\n",
    "data_top = data.head()\r\n",
    "\r\n",
    "# display\r\n",
    "data_top\r\n"
   ],
   "outputs": [
    {
     "output_type": "execute_result",
     "data": {
      "text/plain": [
       "                         Team  Number Position   Age Height  Weight  \\\n",
       "Name                                                                  \n",
       "Avery Bradley  Boston Celtics     0.0       PG  25.0    6-2   180.0   \n",
       "Jae Crowder    Boston Celtics    99.0       SF  25.0    6-6   235.0   \n",
       "John Holland   Boston Celtics    30.0       SG  27.0    6-5   205.0   \n",
       "R.J. Hunter    Boston Celtics    28.0       SG  22.0    6-5   185.0   \n",
       "Jonas Jerebko  Boston Celtics     8.0       PF  29.0   6-10   231.0   \n",
       "\n",
       "                         College     Salary  \n",
       "Name                                         \n",
       "Avery Bradley              Texas  7730337.0  \n",
       "Jae Crowder            Marquette  6796117.0  \n",
       "John Holland   Boston University        NaN  \n",
       "R.J. Hunter        Georgia State  1148640.0  \n",
       "Jonas Jerebko                NaN  5000000.0  "
      ],
      "text/html": [
       "<div>\n",
       "<style scoped>\n",
       "    .dataframe tbody tr th:only-of-type {\n",
       "        vertical-align: middle;\n",
       "    }\n",
       "\n",
       "    .dataframe tbody tr th {\n",
       "        vertical-align: top;\n",
       "    }\n",
       "\n",
       "    .dataframe thead th {\n",
       "        text-align: right;\n",
       "    }\n",
       "</style>\n",
       "<table border=\"1\" class=\"dataframe\">\n",
       "  <thead>\n",
       "    <tr style=\"text-align: right;\">\n",
       "      <th></th>\n",
       "      <th>Team</th>\n",
       "      <th>Number</th>\n",
       "      <th>Position</th>\n",
       "      <th>Age</th>\n",
       "      <th>Height</th>\n",
       "      <th>Weight</th>\n",
       "      <th>College</th>\n",
       "      <th>Salary</th>\n",
       "    </tr>\n",
       "    <tr>\n",
       "      <th>Name</th>\n",
       "      <th></th>\n",
       "      <th></th>\n",
       "      <th></th>\n",
       "      <th></th>\n",
       "      <th></th>\n",
       "      <th></th>\n",
       "      <th></th>\n",
       "      <th></th>\n",
       "    </tr>\n",
       "  </thead>\n",
       "  <tbody>\n",
       "    <tr>\n",
       "      <th>Avery Bradley</th>\n",
       "      <td>Boston Celtics</td>\n",
       "      <td>0.0</td>\n",
       "      <td>PG</td>\n",
       "      <td>25.0</td>\n",
       "      <td>6-2</td>\n",
       "      <td>180.0</td>\n",
       "      <td>Texas</td>\n",
       "      <td>7730337.0</td>\n",
       "    </tr>\n",
       "    <tr>\n",
       "      <th>Jae Crowder</th>\n",
       "      <td>Boston Celtics</td>\n",
       "      <td>99.0</td>\n",
       "      <td>SF</td>\n",
       "      <td>25.0</td>\n",
       "      <td>6-6</td>\n",
       "      <td>235.0</td>\n",
       "      <td>Marquette</td>\n",
       "      <td>6796117.0</td>\n",
       "    </tr>\n",
       "    <tr>\n",
       "      <th>John Holland</th>\n",
       "      <td>Boston Celtics</td>\n",
       "      <td>30.0</td>\n",
       "      <td>SG</td>\n",
       "      <td>27.0</td>\n",
       "      <td>6-5</td>\n",
       "      <td>205.0</td>\n",
       "      <td>Boston University</td>\n",
       "      <td>NaN</td>\n",
       "    </tr>\n",
       "    <tr>\n",
       "      <th>R.J. Hunter</th>\n",
       "      <td>Boston Celtics</td>\n",
       "      <td>28.0</td>\n",
       "      <td>SG</td>\n",
       "      <td>22.0</td>\n",
       "      <td>6-5</td>\n",
       "      <td>185.0</td>\n",
       "      <td>Georgia State</td>\n",
       "      <td>1148640.0</td>\n",
       "    </tr>\n",
       "    <tr>\n",
       "      <th>Jonas Jerebko</th>\n",
       "      <td>Boston Celtics</td>\n",
       "      <td>8.0</td>\n",
       "      <td>PF</td>\n",
       "      <td>29.0</td>\n",
       "      <td>6-10</td>\n",
       "      <td>231.0</td>\n",
       "      <td>NaN</td>\n",
       "      <td>5000000.0</td>\n",
       "    </tr>\n",
       "  </tbody>\n",
       "</table>\n",
       "</div>"
      ]
     },
     "metadata": {},
     "execution_count": 35
    }
   ],
   "metadata": {}
  },
  {
   "cell_type": "markdown",
   "source": [
    "Example #2: Calling on Series with n parameter()\r\n",
    "\r\n",
    "In this example, the .head() method is called on series with custom input of n parameter to return top 9 rows of the series."
   ],
   "metadata": {}
  },
  {
   "cell_type": "code",
   "execution_count": 38,
   "source": [
    "# number of rows to return\r\n",
    "n = 9\r\n",
    "data = pd.read_csv(\"D:/Python/input/nba.csv\")\r\n",
    "# creating series\r\n",
    "series = data[\"Name\"]\r\n",
    "\r\n",
    "# returning top n rows\r\n",
    "top = series.head(n = n)\r\n",
    "\r\n",
    "# display\r\n",
    "top\r\n"
   ],
   "outputs": [
    {
     "output_type": "execute_result",
     "data": {
      "text/plain": [
       "0    Avery Bradley\n",
       "1      Jae Crowder\n",
       "2     John Holland\n",
       "3      R.J. Hunter\n",
       "4    Jonas Jerebko\n",
       "5     Amir Johnson\n",
       "6    Jordan Mickey\n",
       "7     Kelly Olynyk\n",
       "8     Terry Rozier\n",
       "Name: Name, dtype: object"
      ]
     },
     "metadata": {},
     "execution_count": 38
    }
   ],
   "metadata": {}
  },
  {
   "cell_type": "markdown",
   "source": [
    "# Pandas Dataframe.describe() method #\r\n",
    "\r\n",
    "Pandas describe() is used to view some basic statistical details like percentile, mean, std etc. of a data frame or a series of numeric values. When this method is applied to a series of string, it returns a different output which is shown in the examples below.\r\n",
    "\r\n",
    "Syntax: DataFrame.describe(percentiles=None, include=None, exclude=None)\r\n",
    "\r\n",
    "Parameters:\r\n",
    "percentile: list like data type of numbers between 0-1 to return the respective percentile\r\n",
    "include: List of data types to be included while describing dataframe. Default is None\r\n",
    "exclude: List of data types to be Excluded while describing dataframe. Default is None\r\n",
    "\r\n",
    "Return type: Statistical summary of data frame.\r\n",
    "\r\n",
    "\r\n"
   ],
   "metadata": {}
  },
  {
   "cell_type": "code",
   "execution_count": 39,
   "source": [
    "# importing regex module\r\n",
    "import re\r\n",
    "\t\r\n",
    "\t\r\n",
    "# removing null values to avoid errors\r\n",
    "data.dropna(inplace = True)\r\n",
    "\r\n",
    "# percentile list\r\n",
    "perc =[.20, .40, .60, .80]\r\n",
    "\r\n",
    "# list of dtypes to include\r\n",
    "include =['object', 'float', 'int']\r\n",
    "\r\n",
    "# calling describe method\r\n",
    "desc = data.describe(percentiles = perc, include = include)\r\n",
    "\r\n",
    "# display\r\n",
    "desc\r\n"
   ],
   "outputs": [
    {
     "output_type": "execute_result",
     "data": {
      "text/plain": [
       "                 Name                  Team      Number Position         Age  \\\n",
       "count             364                   364  364.000000      364  364.000000   \n",
       "unique            364                    30         NaN        5         NaN   \n",
       "top     Jahlil Okafor  New Orleans Pelicans         NaN       SG         NaN   \n",
       "freq                1                    16         NaN       87         NaN   \n",
       "mean              NaN                   NaN   16.829670      NaN   26.615385   \n",
       "std               NaN                   NaN   14.994162      NaN    4.233591   \n",
       "min               NaN                   NaN    0.000000      NaN   19.000000   \n",
       "20%               NaN                   NaN    4.000000      NaN   23.000000   \n",
       "40%               NaN                   NaN    9.000000      NaN   25.000000   \n",
       "50%               NaN                   NaN   12.000000      NaN   26.000000   \n",
       "60%               NaN                   NaN   17.000000      NaN   27.000000   \n",
       "80%               NaN                   NaN   30.000000      NaN   30.000000   \n",
       "max               NaN                   NaN   99.000000      NaN   40.000000   \n",
       "\n",
       "       Height      Weight   College        Salary  \n",
       "count     364  364.000000       364  3.640000e+02  \n",
       "unique     17         NaN       115           NaN  \n",
       "top       6-9         NaN  Kentucky           NaN  \n",
       "freq       49         NaN        22           NaN  \n",
       "mean      NaN  219.785714       NaN  4.620311e+06  \n",
       "std       NaN   24.793099       NaN  5.119716e+06  \n",
       "min       NaN  161.000000       NaN  5.572200e+04  \n",
       "20%       NaN  195.000000       NaN  9.472760e+05  \n",
       "40%       NaN  212.000000       NaN  1.638754e+06  \n",
       "50%       NaN  220.000000       NaN  2.515440e+06  \n",
       "60%       NaN  228.000000       NaN  3.429934e+06  \n",
       "80%       NaN  242.400000       NaN  7.838202e+06  \n",
       "max       NaN  279.000000       NaN  2.287500e+07  "
      ],
      "text/html": [
       "<div>\n",
       "<style scoped>\n",
       "    .dataframe tbody tr th:only-of-type {\n",
       "        vertical-align: middle;\n",
       "    }\n",
       "\n",
       "    .dataframe tbody tr th {\n",
       "        vertical-align: top;\n",
       "    }\n",
       "\n",
       "    .dataframe thead th {\n",
       "        text-align: right;\n",
       "    }\n",
       "</style>\n",
       "<table border=\"1\" class=\"dataframe\">\n",
       "  <thead>\n",
       "    <tr style=\"text-align: right;\">\n",
       "      <th></th>\n",
       "      <th>Name</th>\n",
       "      <th>Team</th>\n",
       "      <th>Number</th>\n",
       "      <th>Position</th>\n",
       "      <th>Age</th>\n",
       "      <th>Height</th>\n",
       "      <th>Weight</th>\n",
       "      <th>College</th>\n",
       "      <th>Salary</th>\n",
       "    </tr>\n",
       "  </thead>\n",
       "  <tbody>\n",
       "    <tr>\n",
       "      <th>count</th>\n",
       "      <td>364</td>\n",
       "      <td>364</td>\n",
       "      <td>364.000000</td>\n",
       "      <td>364</td>\n",
       "      <td>364.000000</td>\n",
       "      <td>364</td>\n",
       "      <td>364.000000</td>\n",
       "      <td>364</td>\n",
       "      <td>3.640000e+02</td>\n",
       "    </tr>\n",
       "    <tr>\n",
       "      <th>unique</th>\n",
       "      <td>364</td>\n",
       "      <td>30</td>\n",
       "      <td>NaN</td>\n",
       "      <td>5</td>\n",
       "      <td>NaN</td>\n",
       "      <td>17</td>\n",
       "      <td>NaN</td>\n",
       "      <td>115</td>\n",
       "      <td>NaN</td>\n",
       "    </tr>\n",
       "    <tr>\n",
       "      <th>top</th>\n",
       "      <td>Jahlil Okafor</td>\n",
       "      <td>New Orleans Pelicans</td>\n",
       "      <td>NaN</td>\n",
       "      <td>SG</td>\n",
       "      <td>NaN</td>\n",
       "      <td>6-9</td>\n",
       "      <td>NaN</td>\n",
       "      <td>Kentucky</td>\n",
       "      <td>NaN</td>\n",
       "    </tr>\n",
       "    <tr>\n",
       "      <th>freq</th>\n",
       "      <td>1</td>\n",
       "      <td>16</td>\n",
       "      <td>NaN</td>\n",
       "      <td>87</td>\n",
       "      <td>NaN</td>\n",
       "      <td>49</td>\n",
       "      <td>NaN</td>\n",
       "      <td>22</td>\n",
       "      <td>NaN</td>\n",
       "    </tr>\n",
       "    <tr>\n",
       "      <th>mean</th>\n",
       "      <td>NaN</td>\n",
       "      <td>NaN</td>\n",
       "      <td>16.829670</td>\n",
       "      <td>NaN</td>\n",
       "      <td>26.615385</td>\n",
       "      <td>NaN</td>\n",
       "      <td>219.785714</td>\n",
       "      <td>NaN</td>\n",
       "      <td>4.620311e+06</td>\n",
       "    </tr>\n",
       "    <tr>\n",
       "      <th>std</th>\n",
       "      <td>NaN</td>\n",
       "      <td>NaN</td>\n",
       "      <td>14.994162</td>\n",
       "      <td>NaN</td>\n",
       "      <td>4.233591</td>\n",
       "      <td>NaN</td>\n",
       "      <td>24.793099</td>\n",
       "      <td>NaN</td>\n",
       "      <td>5.119716e+06</td>\n",
       "    </tr>\n",
       "    <tr>\n",
       "      <th>min</th>\n",
       "      <td>NaN</td>\n",
       "      <td>NaN</td>\n",
       "      <td>0.000000</td>\n",
       "      <td>NaN</td>\n",
       "      <td>19.000000</td>\n",
       "      <td>NaN</td>\n",
       "      <td>161.000000</td>\n",
       "      <td>NaN</td>\n",
       "      <td>5.572200e+04</td>\n",
       "    </tr>\n",
       "    <tr>\n",
       "      <th>20%</th>\n",
       "      <td>NaN</td>\n",
       "      <td>NaN</td>\n",
       "      <td>4.000000</td>\n",
       "      <td>NaN</td>\n",
       "      <td>23.000000</td>\n",
       "      <td>NaN</td>\n",
       "      <td>195.000000</td>\n",
       "      <td>NaN</td>\n",
       "      <td>9.472760e+05</td>\n",
       "    </tr>\n",
       "    <tr>\n",
       "      <th>40%</th>\n",
       "      <td>NaN</td>\n",
       "      <td>NaN</td>\n",
       "      <td>9.000000</td>\n",
       "      <td>NaN</td>\n",
       "      <td>25.000000</td>\n",
       "      <td>NaN</td>\n",
       "      <td>212.000000</td>\n",
       "      <td>NaN</td>\n",
       "      <td>1.638754e+06</td>\n",
       "    </tr>\n",
       "    <tr>\n",
       "      <th>50%</th>\n",
       "      <td>NaN</td>\n",
       "      <td>NaN</td>\n",
       "      <td>12.000000</td>\n",
       "      <td>NaN</td>\n",
       "      <td>26.000000</td>\n",
       "      <td>NaN</td>\n",
       "      <td>220.000000</td>\n",
       "      <td>NaN</td>\n",
       "      <td>2.515440e+06</td>\n",
       "    </tr>\n",
       "    <tr>\n",
       "      <th>60%</th>\n",
       "      <td>NaN</td>\n",
       "      <td>NaN</td>\n",
       "      <td>17.000000</td>\n",
       "      <td>NaN</td>\n",
       "      <td>27.000000</td>\n",
       "      <td>NaN</td>\n",
       "      <td>228.000000</td>\n",
       "      <td>NaN</td>\n",
       "      <td>3.429934e+06</td>\n",
       "    </tr>\n",
       "    <tr>\n",
       "      <th>80%</th>\n",
       "      <td>NaN</td>\n",
       "      <td>NaN</td>\n",
       "      <td>30.000000</td>\n",
       "      <td>NaN</td>\n",
       "      <td>30.000000</td>\n",
       "      <td>NaN</td>\n",
       "      <td>242.400000</td>\n",
       "      <td>NaN</td>\n",
       "      <td>7.838202e+06</td>\n",
       "    </tr>\n",
       "    <tr>\n",
       "      <th>max</th>\n",
       "      <td>NaN</td>\n",
       "      <td>NaN</td>\n",
       "      <td>99.000000</td>\n",
       "      <td>NaN</td>\n",
       "      <td>40.000000</td>\n",
       "      <td>NaN</td>\n",
       "      <td>279.000000</td>\n",
       "      <td>NaN</td>\n",
       "      <td>2.287500e+07</td>\n",
       "    </tr>\n",
       "  </tbody>\n",
       "</table>\n",
       "</div>"
      ]
     },
     "metadata": {},
     "execution_count": 39
    }
   ],
   "metadata": {}
  },
  {
   "cell_type": "markdown",
   "source": [
    " \r\n",
    "Example #2: Describing series of strings\r\n",
    "\r\n",
    "In this example, the describe method is called by the Name column to see the behaviour with object data type."
   ],
   "metadata": {}
  },
  {
   "cell_type": "code",
   "execution_count": 41,
   "source": [
    "\r\n",
    "\t\r\n",
    "# removing null values to avoid errors\r\n",
    "data.dropna(inplace = True)\r\n",
    "\r\n",
    "# calling describe method\r\n",
    "desc = data[\"Name\"].describe()\r\n",
    "\r\n",
    "# display\r\n",
    "desc\r\n"
   ],
   "outputs": [
    {
     "output_type": "execute_result",
     "data": {
      "text/plain": [
       "count               364\n",
       "unique              364\n",
       "top       Jahlil Okafor\n",
       "freq                  1\n",
       "Name: Name, dtype: object"
      ]
     },
     "metadata": {},
     "execution_count": 41
    }
   ],
   "metadata": {}
  }
 ],
 "metadata": {
  "orig_nbformat": 4,
  "language_info": {
   "name": "python",
   "version": "3.9.1",
   "mimetype": "text/x-python",
   "codemirror_mode": {
    "name": "ipython",
    "version": 3
   },
   "pygments_lexer": "ipython3",
   "nbconvert_exporter": "python",
   "file_extension": ".py"
  },
  "kernelspec": {
   "name": "python3",
   "display_name": "Python 3.9.1 64-bit"
  },
  "interpreter": {
   "hash": "11f1dc213e07634baa4c5c321dec03c05dafae643c50f20e6d1a492290c05dc2"
  }
 },
 "nbformat": 4,
 "nbformat_minor": 2
}