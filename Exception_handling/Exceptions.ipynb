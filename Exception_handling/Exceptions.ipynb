{
 "cells": [
  {
   "cell_type": "markdown",
   "source": [
    "# Python Exception Handling #\r\n",
    "\r\n",
    "Error in Python can be of two types i.e. Syntax errors and Exceptions. Errors are the problems in a program due to which the program will stop the execution. On the other hand, exceptions are raised when some internal events occur which changes the normal flow of the program. \r\n",
    "\r\n",
    "The difference between Syntax Error and Exceptions\r\n",
    "\r\n",
    "Syntax Error: As the name suggests this error is caused by the wrong syntax in the code. It leads to the termination of the program."
   ],
   "metadata": {}
  },
  {
   "cell_type": "code",
   "execution_count": 2,
   "source": [
    "# initialize the amount variable\r\n",
    "amount = 10000\r\n",
    "\r\n",
    "# check that You are eligible to\r\n",
    "# purchase Dsa Self Paced or not\r\n",
    "if(amount>2999)\r\n",
    "\tprint(\"You are eligible to purchase Dsa Self Paced\")\r\n",
    "\t\r\n"
   ],
   "outputs": [
    {
     "output_type": "stream",
     "name": "stdout",
     "text": [
      "You are eligible to purchase Dsa Self Paced\n"
     ]
    }
   ],
   "metadata": {}
  },
  {
   "cell_type": "markdown",
   "source": [
    "Exceptions: Exceptions are raised when the program is syntactically correct, but the code resulted in an error. This error does not stop the execution of the program, however, it changes the normal flow of the program.\r\n",
    " \r\n",
    "# Try and Except in Exception Handling #\r\n",
    "Let us try to access the array element whose index is out of bound and handle the corresponding exception."
   ],
   "metadata": {}
  },
  {
   "cell_type": "code",
   "execution_count": 3,
   "source": [
    "# Python program to handle simple runtime error\r\n",
    "#Python 3\r\n",
    "a = [1, 2, 3]\r\n",
    "\r\n",
    "try:\r\n",
    "\tprint (\"Second element = %d\" %(a[1]))\r\n",
    "\r\n",
    "\t# Throws error since there are only 3 elements in array\r\n",
    "\tprint (\"Fourth element = %d\" %(a[3]))\r\n",
    "\r\n",
    "except IndexError:\r\n",
    "\tprint (\"An error occurred\")\r\n"
   ],
   "outputs": [
    {
     "output_type": "stream",
     "name": "stdout",
     "text": [
      "Second element = 2\n",
      "An error occurred\n"
     ]
    }
   ],
   "metadata": {}
  },
  {
   "cell_type": "markdown",
   "source": [
    "A try statement can have more than one except clause, to specify handlers for different exceptions. Please note that at most one handler will be executed. "
   ],
   "metadata": {}
  },
  {
   "cell_type": "code",
   "execution_count": 4,
   "source": [
    "# Program to handle multiple errors with one except statement\r\n",
    "# Python 3\r\n",
    "try :\r\n",
    "\ta = 3\r\n",
    "\tif a < 4 :\r\n",
    "\r\n",
    "\t\t# throws ZeroDivisionError for a = 3\r\n",
    "\t\tb = a/(a-3)\r\n",
    "\t\r\n",
    "\t# throws NameError if a >= 4\r\n",
    "\tprint (\"Value of b = \", b)\r\n",
    "\r\n",
    "# note that braces () are necessary here for multiple exceptions\r\n",
    "except(ZeroDivisionError, NameError):\r\n",
    "\tprint (\"Error Occurred and Handled\")\r\n"
   ],
   "outputs": [
    {
     "output_type": "stream",
     "name": "stdout",
     "text": [
      "Error Occurred and Handled\n"
     ]
    }
   ],
   "metadata": {}
  },
  {
   "cell_type": "markdown",
   "source": [
    "# Else Clause # \r\n",
    "In python, you can also use else clause on the try-except block which must be present after all the except clauses. The code enters the else block only if the try clause does not raise an exception."
   ],
   "metadata": {}
  },
  {
   "cell_type": "code",
   "execution_count": 5,
   "source": [
    "# Program to depict else clause with try-except\r\n",
    "# Python 3\r\n",
    "# Function which returns a/b\r\n",
    "def AbyB(a , b):\r\n",
    "\ttry:\r\n",
    "\t\tc = ((a+b) / (a-b))\r\n",
    "\texcept ZeroDivisionError:\r\n",
    "\t\tprint (\"a/b result in 0\")\r\n",
    "\telse:\r\n",
    "\t\tprint (c)\r\n",
    "\r\n",
    "# Driver program to test above function\r\n",
    "AbyB(2.0, 3.0)\r\n",
    "AbyB(3.0, 3.0)\r\n"
   ],
   "outputs": [
    {
     "output_type": "stream",
     "name": "stdout",
     "text": [
      "-5.0\n",
      "a/b result in 0\n"
     ]
    }
   ],
   "metadata": {}
  },
  {
   "cell_type": "markdown",
   "source": [
    "# Finally Keyword in Python #\r\n",
    "Python provides a keyword finally, which is always executed after try and except blocks. The finally block always executes after normal termination of try block or after try block terminates due to some exception.\r\n",
    " \r\n"
   ],
   "metadata": {}
  },
  {
   "cell_type": "code",
   "execution_count": null,
   "source": [
    "#\r\n",
    "#try:\r\n",
    "#       # Some Code.... \r\n",
    "#\r\n",
    "#except:\r\n",
    "#       # optional block\r\n",
    "#       # Handling of exception (if required)\r\n",
    "#\r\n",
    "#else:\r\n",
    "#       # execute if no exception\r\n",
    "#\r\n",
    "#finally:\r\n",
    "      # Some code .....(always executed)\r\n"
   ],
   "outputs": [],
   "metadata": {}
  },
  {
   "cell_type": "code",
   "execution_count": 6,
   "source": [
    "# Python program to demonstrate finally\r\n",
    "\r\n",
    "# No exception Exception raised in try block\r\n",
    "try:\r\n",
    "\tk = 5//0 # raises divide by zero exception.\r\n",
    "\tprint(k)\r\n",
    "\r\n",
    "# handles zerodivision exception\t\r\n",
    "except ZeroDivisionError:\r\n",
    "\tprint(\"Can't divide by zero\")\r\n",
    "\t\r\n",
    "finally:\r\n",
    "\t# this block is always executed\r\n",
    "\t# regardless of exception generation.\r\n",
    "\tprint('This is always executed')\r\n"
   ],
   "outputs": [
    {
     "output_type": "stream",
     "name": "stdout",
     "text": [
      "Can't divide by zero\n",
      "This is always executed\n"
     ]
    }
   ],
   "metadata": {}
  },
  {
   "cell_type": "markdown",
   "source": [
    " # Raising Exception # \r\n",
    "The raise statement allows the programmer to force a specific exception to occur. The sole argument in raise indicates the exception to be raised. This must be either an exception instance or an exception class (a class that derives from Exception)."
   ],
   "metadata": {}
  },
  {
   "cell_type": "code",
   "execution_count": 7,
   "source": [
    "# Program to depict Raising Exception\r\n",
    "\r\n",
    "try:\r\n",
    "\traise NameError(\"Hi there\") # Raise Error\r\n",
    "except NameError:\r\n",
    "\tprint (\"An exception\")\r\n",
    "\traise # To determine whether the exception was raised or not\r\n",
    "#The output of the above code will simply line printed as “An exception”\r\n",
    "# but a Runtime error will also occur in the last due to raise statement in the last line. \r\n",
    "# So, the output on your command line will look like "
   ],
   "outputs": [
    {
     "output_type": "stream",
     "name": "stdout",
     "text": [
      "An exception\n"
     ]
    },
    {
     "output_type": "error",
     "ename": "NameError",
     "evalue": "Hi there",
     "traceback": [
      "\u001b[1;31m---------------------------------------------------------------------------\u001b[0m",
      "\u001b[1;31mNameError\u001b[0m                                 Traceback (most recent call last)",
      "\u001b[1;32m<ipython-input-7-0b45821acdd6>\u001b[0m in \u001b[0;36m<module>\u001b[1;34m\u001b[0m\n\u001b[0;32m      2\u001b[0m \u001b[1;33m\u001b[0m\u001b[0m\n\u001b[0;32m      3\u001b[0m \u001b[1;32mtry\u001b[0m\u001b[1;33m:\u001b[0m\u001b[1;33m\u001b[0m\u001b[1;33m\u001b[0m\u001b[0m\n\u001b[1;32m----> 4\u001b[1;33m         \u001b[1;32mraise\u001b[0m \u001b[0mNameError\u001b[0m\u001b[1;33m(\u001b[0m\u001b[1;34m\"Hi there\"\u001b[0m\u001b[1;33m)\u001b[0m \u001b[1;31m# Raise Error\u001b[0m\u001b[1;33m\u001b[0m\u001b[1;33m\u001b[0m\u001b[0m\n\u001b[0m\u001b[0;32m      5\u001b[0m \u001b[1;32mexcept\u001b[0m \u001b[0mNameError\u001b[0m\u001b[1;33m:\u001b[0m\u001b[1;33m\u001b[0m\u001b[1;33m\u001b[0m\u001b[0m\n\u001b[0;32m      6\u001b[0m         \u001b[0mprint\u001b[0m \u001b[1;33m(\u001b[0m\u001b[1;34m\"An exception\"\u001b[0m\u001b[1;33m)\u001b[0m\u001b[1;33m\u001b[0m\u001b[1;33m\u001b[0m\u001b[0m\n",
      "\u001b[1;31mNameError\u001b[0m: Hi there"
     ]
    }
   ],
   "metadata": {}
  }
 ],
 "metadata": {
  "orig_nbformat": 4,
  "language_info": {
   "name": "python",
   "version": "3.9.1",
   "mimetype": "text/x-python",
   "codemirror_mode": {
    "name": "ipython",
    "version": 3
   },
   "pygments_lexer": "ipython3",
   "nbconvert_exporter": "python",
   "file_extension": ".py"
  },
  "kernelspec": {
   "name": "python3",
   "display_name": "Python 3.9.1 64-bit"
  },
  "interpreter": {
   "hash": "11f1dc213e07634baa4c5c321dec03c05dafae643c50f20e6d1a492290c05dc2"
  }
 },
 "nbformat": 4,
 "nbformat_minor": 2
}