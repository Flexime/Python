{
 "cells": [
  {
   "cell_type": "markdown",
   "source": [
    "Python provides inbuilt functions for creating, writing and reading files. There are two types of files that can be handled in Python, normal text files and binary files (written in binary language, 0s and 1s).\r\n",
    "\r\n",
    "\r\n",
    "* Text files: In this type of file, Each line of text is terminated with a special character called EOL (End of Line), which is the new line character (‘\\n’) in Python by default.\r\n",
    "* Binary files: In this type of file, there is no terminator for a line and the data is stored after converting it into machine-understandable binary language.\r\n",
    "\r\n",
    "\r\n",
    "Opening a file\r\n",
    "Opening a file refers to getting the file ready either for reading or for writing. This can be done using the open() function. This function returns a file object and takes two arguments, one that accepts the file name and another that accepts the mode(Access Mode). Now, the question arises what is access mode?\r\n",
    "\r\n",
    "Access modes govern the type of operations possible in the opened file. It refers to how the file will be used once it’s opened. These modes also define the location of the File Handle in the file. File handle is like a cursor, which defines from where the data has to be read or written in the file. There are 6 access modes in python.\r\n",
    "\r\n",
    "* Read Only (‘r’): Open text file for reading. The handle is positioned at the beginning of the file. If the file does not exist, raises I/O error. This is also the default mode in which the file is opened.\r\n",
    "* Read and Write (‘r+’): Open the file for reading and writing. The handle is positioned at the beginning of the file. Raises I/O error if the file does not exist.\r\n",
    "* Write Only (‘w’): Open the file for writing. For existing file, the data is truncated and over-written. The handle is positioned at the beginning of the file. Creates the file if the file does not exist.\r\n",
    "* Write and Read (‘w+’): Open the file for reading and writing. For existing file, data is truncated and over-written. The handle is positioned at the beginning of the file.\r\n",
    "* Append Only (‘a’): Open the file for writing. The file is created if it does not exist. The handle is positioned at the end of the file. The data being written will be inserted at the end, after the existing data.\r\n",
    "* Append and Read (‘a+’): Open the file for reading and writing. The file is created if it does not exist. The handle is positioned at the end of the file. The data being written will be inserted at the end, after the existing data.\r\n",
    "\r\n",
    "\r\n",
    "\r\n"
   ],
   "metadata": {}
  },
  {
   "cell_type": "code",
   "execution_count": 2,
   "source": [
    "\r\n",
    "# Python program to demonstrate\r\n",
    "# opening a file\r\n",
    "  \r\n",
    "  \r\n",
    "# Open function to open the file \"myfile.txt\"  \r\n",
    "# (same directory) in read mode and store\r\n",
    "# it's reference in the variable file1\r\n",
    "  \r\n",
    "file1 = open(\"myfile.txt\")\r\n",
    "  \r\n",
    "# Reading from file\r\n",
    "print(file1.read())\r\n",
    "  \r\n",
    "file1.close()"
   ],
   "outputs": [
    {
     "output_type": "stream",
     "name": "stdout",
     "text": [
      "im inside txt help\n"
     ]
    }
   ],
   "metadata": {}
  },
  {
   "cell_type": "code",
   "execution_count": null,
   "source": [
    "# Python program to demonstrate\r\n",
    "# opening a file\r\n",
    "\r\n",
    "\r\n",
    "# Open function to open the file \"myfile.txt\"\r\n",
    "# (same directory) in append mode and store\r\n",
    "# it's reference in the variable file1\r\n",
    "file1 = open(\"myfile.txt\", \"a\")\r\n",
    "\r\n",
    "# Writing to file\r\n",
    "file1.write(\"\\nWriting to file :)\")\r\n",
    "\r\n",
    "# Closing file\r\n",
    "file1.close()\r\n"
   ],
   "outputs": [],
   "metadata": {}
  }
 ],
 "metadata": {
  "orig_nbformat": 4,
  "language_info": {
   "name": "python",
   "version": "3.9.1",
   "mimetype": "text/x-python",
   "codemirror_mode": {
    "name": "ipython",
    "version": 3
   },
   "pygments_lexer": "ipython3",
   "nbconvert_exporter": "python",
   "file_extension": ".py"
  },
  "kernelspec": {
   "name": "python3",
   "display_name": "Python 3.9.1 64-bit"
  },
  "interpreter": {
   "hash": "11f1dc213e07634baa4c5c321dec03c05dafae643c50f20e6d1a492290c05dc2"
  }
 },
 "nbformat": 4,
 "nbformat_minor": 2
}