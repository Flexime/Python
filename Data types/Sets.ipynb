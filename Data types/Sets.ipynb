{
 "cells": [
  {
   "cell_type": "markdown",
   "source": [
    "# Sets #\r\n",
    "\r\n",
    "In Python, Set is an unordered collection of data type that is iterable, mutable and has no duplicate elements. The order of elements in a set is undefined though it may consist of various elements.\r\n",
    "\r\n",
    "The major advantage of using a set, as opposed to a list, is that it has a highly optimized method for checking whether a specific element is contained in the set.\r\n",
    "\r\n",
    "# Creating a Set #\r\n",
    "Sets can be created by using the built-in set() function with an iterable object or a sequence by placing the sequence inside curly braces, separated by ‘comma’.\r\n",
    "\r\n",
    "Note – A set cannot have mutable elements like a list, set or dictionary, as its elements.  \r\n"
   ],
   "metadata": {}
  },
  {
   "cell_type": "code",
   "execution_count": 1,
   "source": [
    "# Python program to demonstrate\r\n",
    "# Creation of Set in Python\r\n",
    "\r\n",
    "# Creating a Set\r\n",
    "set1 = set()\r\n",
    "print(\"Initial blank Set: \")\r\n",
    "print(set1)\r\n",
    "\r\n",
    "# Creating a Set with\r\n",
    "# the use of a String\r\n",
    "set1 = set(\"GeeksForGeeks\")\r\n",
    "print(\"\\nSet with the use of String: \")\r\n",
    "print(set1)\r\n",
    "\r\n",
    "# Creating a Set with\r\n",
    "# the use of Constructor\r\n",
    "# (Using object to Store String)\r\n",
    "String = 'GeeksForGeeks'\r\n",
    "set1 = set(String)\r\n",
    "print(\"\\nSet with the use of an Object: \" )\r\n",
    "print(set1)\r\n",
    "\r\n",
    "# Creating a Set with\r\n",
    "# the use of a List\r\n",
    "set1 = set([\"Geeks\", \"For\", \"Geeks\"])\r\n",
    "print(\"\\nSet with the use of List: \")\r\n",
    "print(set1)\r\n"
   ],
   "outputs": [
    {
     "output_type": "stream",
     "name": "stdout",
     "text": [
      "Initial blank Set: \n",
      "set()\n",
      "\n",
      "Set with the use of String: \n",
      "{'k', 'r', 'G', 'F', 'o', 's', 'e'}\n",
      "\n",
      "Set with the use of an Object: \n",
      "{'k', 'r', 'G', 'F', 'o', 's', 'e'}\n",
      "\n",
      "Set with the use of List: \n",
      "{'Geeks', 'For'}\n"
     ]
    }
   ],
   "metadata": {}
  },
  {
   "cell_type": "markdown",
   "source": [
    "A set contains only unique elements but at the time of set creation, multiple duplicate values can also be passed. Order of elements in a set is undefined and is unchangeable. Type of elements in a set need not be the same, various mixed up data type values can also be passed to the set. \r\n",
    "\r\n"
   ],
   "metadata": {}
  },
  {
   "cell_type": "code",
   "execution_count": 2,
   "source": [
    "# Creating a Set with\r\n",
    "# a List of Numbers\r\n",
    "# (Having duplicate values)\r\n",
    "set1 = set([1, 2, 4, 4, 3, 3, 3, 6, 5])\r\n",
    "print(\"\\nSet with the use of Numbers: \")\r\n",
    "print(set1)\r\n",
    "\r\n",
    "# Creating a Set with\r\n",
    "# a mixed type of values\r\n",
    "# (Having numbers and strings)\r\n",
    "set1 = set([1, 2, 'Geeks', 4, 'For', 6, 'Geeks'])\r\n",
    "print(\"\\nSet with the use of Mixed Values\")\r\n",
    "print(set1)\r\n"
   ],
   "outputs": [
    {
     "output_type": "stream",
     "name": "stdout",
     "text": [
      "\n",
      "Set with the use of Numbers: \n",
      "{1, 2, 3, 4, 5, 6}\n",
      "\n",
      "Set with the use of Mixed Values\n",
      "{1, 2, 4, 6, 'For', 'Geeks'}\n"
     ]
    }
   ],
   "metadata": {}
  },
  {
   "cell_type": "markdown",
   "source": [
    "# Adding Elements to a Set #\r\n",
    "Using add() method\r\n",
    "Elements can be added to the Set by using built-in add() function. Only one element at a time can be added to the set by using add() method, loops are used to add multiple elements at a time with the use of add() method.\r\n",
    "\r\n",
    "Note – Lists cannot be added to a set as elements because Lists are not hashable whereas Tuples can be added because tuples are immutable and hence Hashable. "
   ],
   "metadata": {}
  },
  {
   "cell_type": "code",
   "execution_count": 3,
   "source": [
    "# Python program to demonstrate\r\n",
    "# Addition of elements in a Set\r\n",
    "\r\n",
    "# Creating a Set\r\n",
    "set1 = set()\r\n",
    "print(\"Initial blank Set: \")\r\n",
    "print(set1)\r\n",
    "\r\n",
    "# Adding element and tuple to the Set\r\n",
    "set1.add(8)\r\n",
    "set1.add(9)\r\n",
    "set1.add((6,7))\r\n",
    "print(\"\\nSet after Addition of Three elements: \")\r\n",
    "print(set1)\r\n",
    "\r\n",
    "# Adding elements to the Set\r\n",
    "# using Iterator\r\n",
    "for i in range(1, 6):\r\n",
    "\tset1.add(i)\r\n",
    "print(\"\\nSet after Addition of elements from 1-5: \")\r\n",
    "print(set1)\r\n"
   ],
   "outputs": [
    {
     "output_type": "stream",
     "name": "stdout",
     "text": [
      "Initial blank Set: \n",
      "set()\n",
      "\n",
      "Set after Addition of Three elements: \n",
      "{8, 9, (6, 7)}\n",
      "\n",
      "Set after Addition of elements from 1-5: \n",
      "{1, 2, 3, 4, 5, 8, 9, (6, 7)}\n"
     ]
    }
   ],
   "metadata": {}
  },
  {
   "cell_type": "markdown",
   "source": [
    "# Using update() method #\r\n",
    "For addition of two or more elements Update() method is used. The update() method accepts lists, strings, tuples as well as other sets as its arguments. In all of these cases, duplicate elements are avoided."
   ],
   "metadata": {}
  },
  {
   "cell_type": "code",
   "execution_count": 4,
   "source": [
    "# Python program to demonstrate\r\n",
    "# Addition of elements in a Set\r\n",
    "\r\n",
    "# Addition of elements to the Set\r\n",
    "# using Update function\r\n",
    "set1 = set([ 4, 5, (6, 7)])\r\n",
    "set1.update([10, 11])\r\n",
    "print(\"\\nSet after Addition of elements using Update: \")\r\n",
    "print(set1)\r\n"
   ],
   "outputs": [
    {
     "output_type": "stream",
     "name": "stdout",
     "text": [
      "\n",
      "Set after Addition of elements using Update: \n",
      "{4, 5, 10, 11, (6, 7)}\n"
     ]
    }
   ],
   "metadata": {}
  },
  {
   "cell_type": "markdown",
   "source": [
    "# Accessing a Set #\r\n",
    "Set items cannot be accessed by referring to an index, since sets are unordered the items has no index. But you can loop through the set items using a for loop, or ask if a specified value is present in a set, by using the in keyword.\r\n",
    "\r\n"
   ],
   "metadata": {}
  },
  {
   "cell_type": "code",
   "execution_count": 5,
   "source": [
    "# Python program to demonstrate\r\n",
    "# Accessing of elements in a set\r\n",
    "\r\n",
    "# Creating a set\r\n",
    "set1 = set([\"Geeks\", \"For\", \"Geeks\"])\r\n",
    "print(\"\\nInitial set\")\r\n",
    "print(set1)\r\n",
    "\r\n",
    "# Accessing element using\r\n",
    "# for loop\r\n",
    "print(\"\\nElements of set: \")\r\n",
    "for i in set1:\r\n",
    "\tprint(i, end=\" \")\r\n",
    "\r\n",
    "# Checking the element\r\n",
    "# using in keyword\r\n",
    "print(\"Geeks\" in set1)\r\n"
   ],
   "outputs": [
    {
     "output_type": "stream",
     "name": "stdout",
     "text": [
      "\n",
      "Initial set\n",
      "{'Geeks', 'For'}\n",
      "\n",
      "Elements of set: \n",
      "Geeks For True\n"
     ]
    }
   ],
   "metadata": {}
  },
  {
   "cell_type": "markdown",
   "source": [
    " # Removing elements from the Set #\r\n",
    "Using remove() method or discard() method\r\n",
    "Elements can be removed from the Set by using built-in remove() function but a KeyError arises if element doesn’t exist in the set. To remove elements from a set without KeyError, use discard(), if the element doesn’t exist in the set, it remains unchanged."
   ],
   "metadata": {}
  },
  {
   "cell_type": "code",
   "execution_count": 6,
   "source": [
    "# Python program to demonstrate\r\n",
    "# Deletion of elements in a Set\r\n",
    "\r\n",
    "# Creating a Set\r\n",
    "set1 = set([1, 2, 3, 4, 5, 6,\r\n",
    "\t\t\t7, 8, 9, 10, 11, 12])\r\n",
    "print(\"Initial Set: \")\r\n",
    "print(set1)\r\n",
    "\r\n",
    "# Removing elements from Set\r\n",
    "# using Remove() method\r\n",
    "set1.remove(5)\r\n",
    "set1.remove(6)\r\n",
    "print(\"\\nSet after Removal of two elements: \")\r\n",
    "print(set1)\r\n",
    "\r\n",
    "# Removing elements from Set\r\n",
    "# using Discard() method\r\n",
    "set1.discard(8)\r\n",
    "set1.discard(9)\r\n",
    "print(\"\\nSet after Discarding two elements: \")\r\n",
    "print(set1)\r\n",
    "\r\n",
    "# Removing elements from Set\r\n",
    "# using iterator method\r\n",
    "for i in range(1, 5):\r\n",
    "\tset1.remove(i)\r\n",
    "print(\"\\nSet after Removing a range of elements: \")\r\n",
    "print(set1)\r\n"
   ],
   "outputs": [
    {
     "output_type": "stream",
     "name": "stdout",
     "text": [
      "Initial Set: \n",
      "{1, 2, 3, 4, 5, 6, 7, 8, 9, 10, 11, 12}\n",
      "\n",
      "Set after Removal of two elements: \n",
      "{1, 2, 3, 4, 7, 8, 9, 10, 11, 12}\n",
      "\n",
      "Set after Discarding two elements: \n",
      "{1, 2, 3, 4, 7, 10, 11, 12}\n",
      "\n",
      "Set after Removing a range of elements: \n",
      "{7, 10, 11, 12}\n"
     ]
    }
   ],
   "metadata": {}
  },
  {
   "cell_type": "markdown",
   "source": [
    "# Using pop() method #\r\n",
    "Pop() function can also be used to remove and return an element from the set, but it removes only the last element of the set. \r\n",
    "Note – If the set is unordered then there’s no such way to determine which element is popped by using the pop() function. "
   ],
   "metadata": {}
  },
  {
   "cell_type": "code",
   "execution_count": 7,
   "source": [
    "# Python program to demonstrate\r\n",
    "# Deletion of elements in a Set\r\n",
    "\r\n",
    "# Creating a Set\r\n",
    "set1 = set([1, 2, 3, 4, 5, 6,\r\n",
    "\t\t\t7, 8, 9, 10, 11, 12])\r\n",
    "print(\"Initial Set: \")\r\n",
    "print(set1)\r\n",
    "\r\n",
    "# Removing element from the\r\n",
    "# Set using the pop() method\r\n",
    "set1.pop()\r\n",
    "print(\"\\nSet after popping an element: \")\r\n",
    "print(set1)\r\n"
   ],
   "outputs": [
    {
     "output_type": "stream",
     "name": "stdout",
     "text": [
      "Initial Set: \n",
      "{1, 2, 3, 4, 5, 6, 7, 8, 9, 10, 11, 12}\n",
      "\n",
      "Set after popping an element: \n",
      "{2, 3, 4, 5, 6, 7, 8, 9, 10, 11, 12}\n"
     ]
    }
   ],
   "metadata": {}
  },
  {
   "cell_type": "markdown",
   "source": [
    "# Using clear() method #\r\n",
    "To remove all the elements from the set, clear() function is used. \r\n",
    "\r\n"
   ],
   "metadata": {}
  },
  {
   "cell_type": "code",
   "execution_count": 8,
   "source": [
    "#Creating a set\r\n",
    "set1 = set([1,2,3,4,5])\r\n",
    "print(\"\\n Initial set: \")\r\n",
    "print(set1)\r\n",
    "\r\n",
    "\r\n",
    "# Removing all the elements from\r\n",
    "# Set using clear() method\r\n",
    "set1.clear()\r\n",
    "print(\"\\nSet after clearing all the elements: \")\r\n",
    "print(set1)\r\n"
   ],
   "outputs": [
    {
     "output_type": "stream",
     "name": "stdout",
     "text": [
      "\n",
      " Initial set: \n",
      "{1, 2, 3, 4, 5}\n",
      "\n",
      "Set after clearing all the elements: \n",
      "set()\n"
     ]
    }
   ],
   "metadata": {}
  },
  {
   "cell_type": "markdown",
   "source": [
    "Frozen sets in Python are immutable objects that only support methods and operators that produce a result without affecting the frozen set or sets to which they are applied. While elements of a set can be modified at any time, elements of the frozen set remain the same after creation. \r\n",
    "\r\n",
    "If no parameters are passed, it returns an empty frozenset.  \r\n",
    "\r\n"
   ],
   "metadata": {}
  },
  {
   "cell_type": "code",
   "execution_count": 9,
   "source": [
    "# Python program to demonstrate\r\n",
    "# working of a FrozenSet\r\n",
    "\r\n",
    "# Creating a Set\r\n",
    "String = ('G', 'e', 'e', 'k', 's', 'F', 'o', 'r')\r\n",
    "\r\n",
    "Fset1 = frozenset(String)\r\n",
    "print(\"The FrozenSet is: \")\r\n",
    "print(Fset1)\r\n",
    "\r\n",
    "# To print Empty Frozen Set\r\n",
    "# No parameter is passed\r\n",
    "print(\"\\nEmpty FrozenSet: \")\r\n",
    "print(frozenset())\r\n"
   ],
   "outputs": [
    {
     "output_type": "stream",
     "name": "stdout",
     "text": [
      "The FrozenSet is: \n",
      "frozenset({'k', 'r', 'G', 'F', 'o', 's', 'e'})\n",
      "\n",
      "Empty FrozenSet: \n",
      "frozenset()\n"
     ]
    }
   ],
   "metadata": {}
  },
  {
   "cell_type": "markdown",
   "source": [
    "# Set Methods # \r\n",
    "\r\n",
    "\r\n",
    "<table><thead><tr><th>Function</th><th>Description</th></tr></thead><tbody><tr><td><a href=\"https://www.geeksforgeeks.org/set-add-python/\">add()</a></td><td>Adds an element to a set</td></tr><tr><td><a href=\"https://www.geeksforgeeks.org/python-remove-discard-sets/\">remove()</a></td><td>Removes an element from a set. If the element is not present in the set, raise a KeyError</td></tr><tr><td><a href=\"https://www.geeksforgeeks.org/set-clear-python/\">clear()</a></td><td>Removes all elements form a set</td></tr><tr><td><a href=\"https://www.geeksforgeeks.org/set-copy-python/\">copy()</a></td><td>Returns a shallow copy of a set</td></tr><tr><td><a href=\"https://www.geeksforgeeks.org/python-set-pop/\">pop()</a></td><td>Removes and returns an arbitrary set element. Raise KeyError if the set is empty</td></tr><tr><td><a href=\"https://www.geeksforgeeks.org/python-set-update/\">update()</a></td><td>Updates a set with the union of itself and others</td></tr><tr><td><a href=\"https://www.geeksforgeeks.org/union-function-python/\">union()</a></td><td>Returns the union of sets in a new set</td></tr><tr><td><a href=\"https://www.geeksforgeeks.org/python-set-difference/\">difference()</a></td><td>Returns the difference of two or more sets as a new set</td></tr><tr><td><a href=\"https://www.geeksforgeeks.org/python-set-difference_update/\">difference_update()</a></td><td>Removes all elements of another set from this set</td></tr><tr><td><a href=\"https://www.geeksforgeeks.org/python-remove-discard-sets/\">discard()</a></td><td>Removes an element from set if it is a member. (Do nothing if the element is not in set)</td></tr><tr><td><a href=\"https://www.geeksforgeeks.org/intersection-function-python/\">intersection()</a></td><td>Returns the intersection of two sets as a new set</td></tr><tr><td>intersection_update()</td><td>Updates the set with the intersection of itself and another</td></tr><tr><td><a href=\"https://www.geeksforgeeks.org/isdisjoint-function-python/\">isdisjoint()</a></td><td>Returns True if two sets have a null intersection</td></tr><tr><td><a href=\"https://www.geeksforgeeks.org/issubset-in-python/\">issubset()</a></td><td>Returns True if another set contains this set</td></tr><tr><td><a href=\"https://www.geeksforgeeks.org/issuperset-in-python/\">issuperset()</a></td><td>Returns True if this set contains another set</td></tr><tr><td><a href=\"https://www.geeksforgeeks.org/python-set-symmetric_difference-2/\">symmetric_difference()</a></td><td>Returns the symmetric difference of two sets as a new set</td></tr><tr><td><a href=\"https://www.geeksforgeeks.org/python-set-symmetric_difference_update/\">symmetric_difference_update()</a></td><td>Updates a set with the symmetric difference of itself and another</td></tr></tbody></table>"
   ],
   "metadata": {}
  }
 ],
 "metadata": {
  "orig_nbformat": 4,
  "language_info": {
   "name": "python",
   "version": "3.9.1",
   "mimetype": "text/x-python",
   "codemirror_mode": {
    "name": "ipython",
    "version": 3
   },
   "pygments_lexer": "ipython3",
   "nbconvert_exporter": "python",
   "file_extension": ".py"
  },
  "kernelspec": {
   "name": "python3",
   "display_name": "Python 3.9.1 64-bit"
  },
  "interpreter": {
   "hash": "11f1dc213e07634baa4c5c321dec03c05dafae643c50f20e6d1a492290c05dc2"
  }
 },
 "nbformat": 4,
 "nbformat_minor": 2
}