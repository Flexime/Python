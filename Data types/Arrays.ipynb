{
 "cells": [
  {
   "cell_type": "markdown",
   "source": [
    " # Arrays # \r\n",
    "\r\n",
    "An array is a collection of items stored at contiguous memory locations. The idea is to store multiple items of the same type together. This makes it easier to calculate the position of each element by simply adding an offset to a base value, i.e., the memory location of the first element of the array (generally denoted by the name of the array).\r\n",
    "For simplicity, we can think of an array a fleet of stairs where on each step is placed a value (let’s say one of your friends). Here, you can identify the location of any of your friends by simply knowing the count of the step they are on. Array can be handled in Python by a module named array. They can be useful when we have to manipulate only a specific data type values. A user can treat lists as arrays. However, user cannot constraint the type of elements stored in a list. If you create arrays using the array module, all elements of the array must be of the same type. \r\n",
    "\r\n",
    "\r\n",
    "\r\n",
    "![](https://media.geeksforgeeks.org/wp-content/uploads/CommonArticleDesign1-min.png)\r\n",
    "\r\n",
    "# Creating a Array #\r\n",
    "Array in Python can be created by importing array module. array(data_type, value_list) is used to create an array with data type and value list specified in its arguments. \r\n",
    " \r\n",
    "\r\n"
   ],
   "metadata": {}
  },
  {
   "cell_type": "code",
   "execution_count": 13,
   "source": [
    "# Python program to demonstrate\r\n",
    "# Creation of Array\r\n",
    "\r\n",
    "# importing \"array\" for array creations\r\n",
    "import array as arr\r\n",
    "\r\n",
    "# creating an array with integer type\r\n",
    "a = arr.array('i', [1, 2, 3])\r\n",
    "\r\n",
    "# printing original array\r\n",
    "print (\"The new created array is : \", end =\" \")\r\n",
    "for i in range (0, 3):\r\n",
    "\tprint (a[i], end =\" \")\r\n",
    "print()\r\n",
    "\r\n",
    "# creating an array with float type\r\n",
    "b = arr.array('d', [2.5, 3.2, 3.3])\r\n",
    "\r\n",
    "# printing original array\r\n",
    "print (\"The new created array is : \", end =\" \")\r\n",
    "for i in range (0, 3):\r\n",
    "\tprint (b[i], end =\" \")\r\n",
    "\t\r\n"
   ],
   "outputs": [
    {
     "output_type": "stream",
     "name": "stdout",
     "text": [
      "The new created array is :  1 2 3 \n",
      "The new created array is :  2.5 3.2 3.3 "
     ]
    }
   ],
   "metadata": {}
  },
  {
   "cell_type": "markdown",
   "source": [
    "\r\n",
    "# Adding Elements to a Array # \r\n",
    "Elements can be added to the Array by using built-in insert() function. Insert is used to insert one or more data elements into an array. Based on the requirement, a new element can be added at the beginning, end, or any given index of array. append() is also used to add the value mentioned in its arguments at the end of the array. \r\n",
    " \r\n",
    "\r\n"
   ],
   "metadata": {}
  },
  {
   "cell_type": "code",
   "execution_count": 14,
   "source": [
    "# Python program to demonstrate\r\n",
    "# Adding Elements to a Array\r\n",
    "\r\n",
    "# importing \"array\" for array creations\r\n",
    "import array as arr\r\n",
    "\r\n",
    "# array with int type\r\n",
    "a = arr.array('i', [1, 2, 3])\r\n",
    "\r\n",
    "\r\n",
    "print (\"Array before insertion : \", end =\" \")\r\n",
    "for i in range (0, 3):\r\n",
    "\tprint (a[i], end =\" \")\r\n",
    "print()\r\n",
    "\r\n",
    "# inserting array using\r\n",
    "# insert() function\r\n",
    "a.insert(1, 4)\r\n",
    "\r\n",
    "print (\"Array after insertion : \", end =\" \")\r\n",
    "for i in (a):\r\n",
    "\tprint (i, end =\" \")\r\n",
    "print()\r\n",
    "\r\n",
    "# array with float type\r\n",
    "b = arr.array('d', [2.5, 3.2, 3.3])\r\n",
    "\r\n",
    "print (\"Array before insertion : \", end =\" \")\r\n",
    "for i in range (0, 3):\r\n",
    "\tprint (b[i], end =\" \")\r\n",
    "print()\r\n",
    "\r\n",
    "# adding an element using append()\r\n",
    "b.append(4.4)\r\n",
    "\r\n",
    "print (\"Array after insertion : \", end =\" \")\r\n",
    "for i in (b):\r\n",
    "\tprint (i, end =\" \")\r\n",
    "print()\r\n"
   ],
   "outputs": [
    {
     "output_type": "stream",
     "name": "stdout",
     "text": [
      "Array before insertion :  1 2 3 \n",
      "Array after insertion :  1 4 2 3 \n",
      "Array before insertion :  2.5 3.2 3.3 \n",
      "Array after insertion :  2.5 3.2 3.3 4.4 \n"
     ]
    }
   ],
   "metadata": {}
  },
  {
   "cell_type": "markdown",
   "source": [
    "# Accessing elements from the Array  #\r\n",
    "In order to access the array items refer to the index number. Use the index operator [ ] to access an item in a array. The index must be an integer. "
   ],
   "metadata": {}
  },
  {
   "cell_type": "code",
   "execution_count": 15,
   "source": [
    "# Python program to demonstrate\r\n",
    "# accessing of element from list\r\n",
    "\r\n",
    "# importing array module\r\n",
    "import array as arr\r\n",
    "\r\n",
    "# array with int type\r\n",
    "a = arr.array('i', [1, 2, 3, 4, 5, 6])\r\n",
    "\r\n",
    "# accessing element of array\r\n",
    "print(\"Access element is: \", a[0])\r\n",
    "\r\n",
    "# accessing element of array\r\n",
    "print(\"Access element is: \", a[3])\r\n",
    "\r\n",
    "# array with float type\r\n",
    "b = arr.array('d', [2.5, 3.2, 3.3])\r\n",
    "\r\n",
    "# accessing element of array\r\n",
    "print(\"Access element is: \", b[1])\r\n",
    "\r\n",
    "# accessing element of array\r\n",
    "print(\"Access element is: \", b[2])\r\n"
   ],
   "outputs": [
    {
     "output_type": "stream",
     "name": "stdout",
     "text": [
      "Access element is:  1\n",
      "Access element is:  4\n",
      "Access element is:  3.2\n",
      "Access element is:  3.3\n"
     ]
    }
   ],
   "metadata": {}
  },
  {
   "cell_type": "markdown",
   "source": [
    "# Removing Elements from the Array #\r\n",
    "Elements can be removed from the array by using built-in remove() function but an Error arises if element doesn’t exist in the set. Remove() method only removes one element at a time, to remove range of elements, iterator is used. pop() function can also be used to remove and return an element from the array, but by default it removes only the last element of the array, to remove element from a specific position of the array, index of the element is passed as an argument to the pop() method.\r\n",
    "Note – Remove method in List will only remove the first occurrence of the searched element. \r\n",
    " \r\n",
    "\r\n"
   ],
   "metadata": {}
  },
  {
   "cell_type": "code",
   "execution_count": 16,
   "source": [
    "# Python program to demonstrate\r\n",
    "# Removal of elements in a Array\r\n",
    "\r\n",
    "# importing \"array\" for array operations\r\n",
    "import array\r\n",
    "\r\n",
    "# initializing array with array values\r\n",
    "# initializes array with signed integers\r\n",
    "arr = array.array('i', [1, 2, 3, 1, 5])\r\n",
    "\r\n",
    "# printing original array\r\n",
    "print (\"The new created array is : \", end =\"\")\r\n",
    "for i in range (0, 5):\r\n",
    "\tprint (arr[i], end =\" \")\r\n",
    "\r\n",
    "print (\"\\r\")\r\n",
    "\r\n",
    "# using pop() to remove element at 2nd position\r\n",
    "print (\"The popped element is : \", end =\"\")\r\n",
    "print (arr.pop(2))\r\n",
    "\r\n",
    "# printing array after popping\r\n",
    "print (\"The array after popping is : \", end =\"\")\r\n",
    "for i in range (0, 4):\r\n",
    "\tprint (arr[i], end =\" \")\r\n",
    "\r\n",
    "print(\"\\r\")\r\n",
    "\r\n",
    "# using remove() to remove 1st occurrence of 1\r\n",
    "arr.remove(1)\r\n",
    "\r\n",
    "# printing array after removing\r\n",
    "print (\"The array after removing is : \", end =\"\")\r\n",
    "for i in range (0, 3):\r\n",
    "\tprint (arr[i], end =\" \")\r\n"
   ],
   "outputs": [
    {
     "output_type": "stream",
     "name": "stdout",
     "text": [
      "The new created array is : 1 2 3 1 5 \n",
      "The popped element is : 3\n",
      "The array after popping is : 1 2 1 5 \n",
      "The array after removing is : 2 1 5 "
     ]
    }
   ],
   "metadata": {}
  },
  {
   "cell_type": "markdown",
   "source": [
    "# Slicing of a Array # \r\n",
    "In Python array, there are multiple ways to print the whole array with all the elements, but to print a specific range of elements from the array, we use Slice operation. Slice operation is performed on array with the use of colon(:). To print elements from beginning to a range use [:Index], to print elements from end use [:-Index], to print elements from specific Index till the end use [Index:], to print elements within a range, use [Start Index:End Index] and to print whole List with the use of slicing operation, use [:]. Further, to print whole array in reverse order, use [::-1]. \r\n",
    "\r\n",
    "![](https://media.geeksforgeeks.org/wp-content/uploads/CommonArticleDesign3-min.png)\r\n",
    "\r\n"
   ],
   "metadata": {}
  },
  {
   "cell_type": "code",
   "execution_count": 17,
   "source": [
    "# Python program to demonstrate\r\n",
    "# silicing of elements in a Array\r\n",
    "\r\n",
    "# importing array module\r\n",
    "import array as arr\r\n",
    "\r\n",
    "# creating a list\r\n",
    "l = [1, 2, 3, 4, 5, 6, 7, 8, 9, 10]\r\n",
    "\r\n",
    "a = arr.array('i', l)\r\n",
    "print(\"Initial Array: \")\r\n",
    "for i in (a):\r\n",
    "\tprint(i, end =\" \")\r\n",
    "\r\n",
    "# Print elements of a range\r\n",
    "# using Slice operation\r\n",
    "Sliced_array = a[3:8]\r\n",
    "print(\"\\nSlicing elements in a range 3-8: \")\r\n",
    "print(Sliced_array)\r\n",
    "\r\n",
    "# Print elements from a\r\n",
    "# pre-defined point to end\r\n",
    "Sliced_array = a[5:]\r\n",
    "print(\"\\nElements sliced from 5th \"\r\n",
    "\t\"element till the end: \")\r\n",
    "print(Sliced_array)\r\n",
    "\r\n",
    "# Printing elements from\r\n",
    "# beginning till end\r\n",
    "Sliced_array = a[:]\r\n",
    "print(\"\\nPrinting all elements using slice operation: \")\r\n",
    "print(Sliced_array)\r\n"
   ],
   "outputs": [
    {
     "output_type": "stream",
     "name": "stdout",
     "text": [
      "Initial Array: \n",
      "1 2 3 4 5 6 7 8 9 10 \n",
      "Slicing elements in a range 3-8: \n",
      "array('i', [4, 5, 6, 7, 8])\n",
      "\n",
      "Elements sliced from 5th element till the end: \n",
      "array('i', [6, 7, 8, 9, 10])\n",
      "\n",
      "Printing all elements using slice operation: \n",
      "array('i', [1, 2, 3, 4, 5, 6, 7, 8, 9, 10])\n"
     ]
    }
   ],
   "metadata": {}
  },
  {
   "cell_type": "markdown",
   "source": [
    "\r\n",
    "# Searching element in a Array # \r\n",
    "In order to search an element in the array we use a python in-built index() method. This function returns the index of the first occurrence of value mentioned in arguments. \r\n",
    " "
   ],
   "metadata": {}
  },
  {
   "cell_type": "code",
   "execution_count": 18,
   "source": [
    "# Python code to demonstrate\r\n",
    "# searching an element in array\r\n",
    "\r\n",
    "\r\n",
    "# importing array module\r\n",
    "import array\r\n",
    "\r\n",
    "# initializing array with array values\r\n",
    "# initializes array with signed integers\r\n",
    "arr = array.array('i', [1, 2, 3, 1, 2, 5])\r\n",
    "\r\n",
    "# printing original array\r\n",
    "print (\"The new created array is : \", end =\"\")\r\n",
    "for i in range (0, 6):\r\n",
    "\tprint (arr[i], end =\" \")\r\n",
    "\r\n",
    "print (\"\\r\")\r\n",
    "\r\n",
    "# using index() to print index of 1st occurrenece of 2\r\n",
    "print (\"The index of 1st occurrence of 2 is : \", end =\"\")\r\n",
    "print (arr.index(2))\r\n",
    "\r\n",
    "# using index() to print index of 1st occurrenece of 1\r\n",
    "print (\"The index of 1st occurrence of 1 is : \", end =\"\")\r\n",
    "print (arr.index(1))\r\n"
   ],
   "outputs": [
    {
     "output_type": "stream",
     "name": "stdout",
     "text": [
      "The new created array is : 1 2 3 1 2 5 \n",
      "The index of 1st occurrence of 2 is : 1\n",
      "The index of 1st occurrence of 1 is : 0\n"
     ]
    }
   ],
   "metadata": {}
  },
  {
   "cell_type": "markdown",
   "source": [
    "# Updating Elements in a Array # \r\n",
    "In order to update an element in the array we simply reassign a new value to the desired index we want to update. \r\n",
    " "
   ],
   "metadata": {}
  },
  {
   "cell_type": "code",
   "execution_count": 19,
   "source": [
    "# Python code to demonstrate\r\n",
    "# how to update an element in array\r\n",
    "\r\n",
    "# importing array module\r\n",
    "import array\r\n",
    "\r\n",
    "# initializing array with array values\r\n",
    "# initializes array with signed integers\r\n",
    "arr = array.array('i', [1, 2, 3, 1, 2, 5])\r\n",
    "\r\n",
    "# printing original array\r\n",
    "print (\"Array before updation : \", end =\"\")\r\n",
    "for i in range (0, 6):\r\n",
    "\tprint (arr[i], end =\" \")\r\n",
    "\r\n",
    "print (\"\\r\")\r\n",
    "\r\n",
    "# updating a element in a array\r\n",
    "arr[2] = 6\r\n",
    "print(\"Array after updation : \", end =\"\")\r\n",
    "for i in range (0, 6):\r\n",
    "\tprint (arr[i], end =\" \")\r\n",
    "print()\r\n",
    "\r\n",
    "# updating a element in a array\r\n",
    "arr[4] = 8\r\n",
    "print(\"Array after updation : \", end =\"\")\r\n",
    "for i in range (0, 6):\r\n",
    "\tprint (arr[i], end =\" \")\r\n"
   ],
   "outputs": [
    {
     "output_type": "stream",
     "name": "stdout",
     "text": [
      "Array before updation : 1 2 3 1 2 5 \n",
      "Array after updation : 1 2 6 1 2 5 \n",
      "Array after updation : 1 2 6 1 8 5 "
     ]
    }
   ],
   "metadata": {}
  },
  {
   "cell_type": "code",
   "execution_count": 90,
   "source": [
    "n = 6\r\n",
    "a = [['.'] * n for i in range(n)]\r\n",
    "for i in range(n):\r\n",
    "    a[i-(i-((n-1)/2))][i] = '*'\r\n",
    "\r\n",
    "for i in range(n):\r\n",
    "    a[i][i-(i-((n-1)/2))] ='*'\r\n",
    "    \r\n",
    "for i in range(n):\r\n",
    "    a[i][i] = '*'\r\n",
    "\r\n",
    "for i in range(n):\r\n",
    "    a[i][(n-1)-i] = '*'\r\n",
    "\r\n",
    "for row in a:\r\n",
    "    print(' '.join([str(elem) for elem in row]))"
   ],
   "outputs": [
    {
     "output_type": "error",
     "ename": "TypeError",
     "evalue": "list indices must be integers or slices, not float",
     "traceback": [
      "\u001b[1;31m---------------------------------------------------------------------------\u001b[0m",
      "\u001b[1;31mTypeError\u001b[0m                                 Traceback (most recent call last)",
      "\u001b[1;32m<ipython-input-90-e21f4736ab8a>\u001b[0m in \u001b[0;36m<module>\u001b[1;34m\u001b[0m\n\u001b[0;32m      2\u001b[0m \u001b[0ma\u001b[0m \u001b[1;33m=\u001b[0m \u001b[1;33m[\u001b[0m\u001b[1;33m[\u001b[0m\u001b[1;34m'.'\u001b[0m\u001b[1;33m]\u001b[0m \u001b[1;33m*\u001b[0m \u001b[0mn\u001b[0m \u001b[1;32mfor\u001b[0m \u001b[0mi\u001b[0m \u001b[1;32min\u001b[0m \u001b[0mrange\u001b[0m\u001b[1;33m(\u001b[0m\u001b[0mn\u001b[0m\u001b[1;33m)\u001b[0m\u001b[1;33m]\u001b[0m\u001b[1;33m\u001b[0m\u001b[1;33m\u001b[0m\u001b[0m\n\u001b[0;32m      3\u001b[0m \u001b[1;32mfor\u001b[0m \u001b[0mi\u001b[0m \u001b[1;32min\u001b[0m \u001b[0mrange\u001b[0m\u001b[1;33m(\u001b[0m\u001b[0mn\u001b[0m\u001b[1;33m)\u001b[0m\u001b[1;33m:\u001b[0m\u001b[1;33m\u001b[0m\u001b[1;33m\u001b[0m\u001b[0m\n\u001b[1;32m----> 4\u001b[1;33m     \u001b[0ma\u001b[0m\u001b[1;33m[\u001b[0m\u001b[0mi\u001b[0m\u001b[1;33m-\u001b[0m\u001b[1;33m(\u001b[0m\u001b[0mi\u001b[0m\u001b[1;33m-\u001b[0m\u001b[1;33m(\u001b[0m\u001b[1;33m(\u001b[0m\u001b[0mn\u001b[0m\u001b[1;33m-\u001b[0m\u001b[1;36m1\u001b[0m\u001b[1;33m)\u001b[0m\u001b[1;33m/\u001b[0m\u001b[1;36m2\u001b[0m\u001b[1;33m)\u001b[0m\u001b[1;33m)\u001b[0m\u001b[1;33m]\u001b[0m\u001b[1;33m[\u001b[0m\u001b[0mi\u001b[0m\u001b[1;33m]\u001b[0m \u001b[1;33m=\u001b[0m \u001b[0mi\u001b[0m\u001b[1;31m#'*'\u001b[0m\u001b[1;33m\u001b[0m\u001b[1;33m\u001b[0m\u001b[0m\n\u001b[0m\u001b[0;32m      5\u001b[0m \u001b[1;33m\u001b[0m\u001b[0m\n\u001b[0;32m      6\u001b[0m \u001b[1;32mfor\u001b[0m \u001b[0mi\u001b[0m \u001b[1;32min\u001b[0m \u001b[0mrange\u001b[0m\u001b[1;33m(\u001b[0m\u001b[0mn\u001b[0m\u001b[1;33m)\u001b[0m\u001b[1;33m:\u001b[0m\u001b[1;33m\u001b[0m\u001b[1;33m\u001b[0m\u001b[0m\n",
      "\u001b[1;31mTypeError\u001b[0m: list indices must be integers or slices, not float"
     ]
    }
   ],
   "metadata": {}
  }
 ],
 "metadata": {
  "orig_nbformat": 4,
  "language_info": {
   "name": "python",
   "version": "3.9.1",
   "mimetype": "text/x-python",
   "codemirror_mode": {
    "name": "ipython",
    "version": 3
   },
   "pygments_lexer": "ipython3",
   "nbconvert_exporter": "python",
   "file_extension": ".py"
  },
  "kernelspec": {
   "name": "python3",
   "display_name": "Python 3.9.1 64-bit"
  },
  "interpreter": {
   "hash": "11f1dc213e07634baa4c5c321dec03c05dafae643c50f20e6d1a492290c05dc2"
  }
 },
 "nbformat": 4,
 "nbformat_minor": 2
}