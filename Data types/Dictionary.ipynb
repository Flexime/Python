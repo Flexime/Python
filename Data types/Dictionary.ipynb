{
 "cells": [
  {
   "cell_type": "markdown",
   "source": [
    "# Dictionary #\r\n",
    "\r\n",
    "Dictionary in Python is an ordered collection of data values, used to store data values like a map, which, unlike other Data Types that hold only a single value as an element, Dictionary holds key:value pair. Key-value is provided in the dictionary to make it more optimized. \r\n",
    " \r\n",
    "\r\n",
    "Note – Keys in a dictionary don’t allow Polymorphism.\r\n",
    "\r\n",
    "# Creating a Dictionary #\r\n",
    "In Python, a Dictionary can be created by placing a sequence of elements within curly {} braces, separated by ‘comma’. Dictionary holds a pair of values, one being the Key and the other corresponding pair element being its Key:value. Values in a dictionary can be of any datatype and can be duplicated, whereas keys can’t be repeated and must be immutable. \r\n",
    "Note – Dictionary keys are case sensitive, same name but different cases of Key will be treated distinctly. \r\n",
    "  "
   ],
   "metadata": {}
  },
  {
   "cell_type": "code",
   "execution_count": null,
   "source": [
    "# Creating a Dictionary\r\n",
    "# with Integer Keys\r\n",
    "Dict = {1: 'Geeks', 2: 'For', 3: 'Geeks'}\r\n",
    "print(\"\\nDictionary with the use of Integer Keys: \")\r\n",
    "print(Dict)\r\n",
    "\r\n",
    "# Creating a Dictionary\r\n",
    "# with Mixed keys\r\n",
    "Dict = {'Name': 'Geeks', 1: [1, 2, 3, 4]}\r\n",
    "print(\"\\nDictionary with the use of Mixed Keys: \")\r\n",
    "print(Dict)\r\n"
   ],
   "outputs": [],
   "metadata": {}
  },
  {
   "cell_type": "markdown",
   "source": [
    "Dictionary can also be created by the built-in function dict(). An empty dictionary can be created by just placing to curly braces{}. "
   ],
   "metadata": {}
  },
  {
   "cell_type": "code",
   "execution_count": 1,
   "source": [
    "# Creating an empty Dictionary\r\n",
    "Dict = {}\r\n",
    "print(\"Empty Dictionary: \")\r\n",
    "print(Dict)\r\n",
    "\r\n",
    "# Creating a Dictionary\r\n",
    "# with dict() method\r\n",
    "Dict = dict({1: 'Geeks', 2: 'For', 3:'Geeks'})\r\n",
    "print(\"\\nDictionary with the use of dict(): \")\r\n",
    "print(Dict)\r\n",
    "\r\n",
    "# Creating a Dictionary\r\n",
    "# with each item as a Pair\r\n",
    "Dict = dict([(1, 'Geeks'), (2, 'For')])\r\n",
    "print(\"\\nDictionary with each item as a pair: \")\r\n",
    "print(Dict)\r\n"
   ],
   "outputs": [
    {
     "output_type": "stream",
     "name": "stdout",
     "text": [
      "Empty Dictionary: \n",
      "{}\n",
      "\n",
      "Dictionary with the use of dict(): \n",
      "{1: 'Geeks', 2: 'For', 3: 'Geeks'}\n",
      "\n",
      "Dictionary with each item as a pair: \n",
      "{1: 'Geeks', 2: 'For'}\n"
     ]
    }
   ],
   "metadata": {}
  },
  {
   "cell_type": "markdown",
   "source": [
    "![](https://media.geeksforgeeks.org/wp-content/uploads/Dictionary-Creation-1.jpg)"
   ],
   "metadata": {}
  },
  {
   "cell_type": "code",
   "execution_count": 2,
   "source": [
    "# Creating a Nested Dictionary\r\n",
    "# as shown in the below image\r\n",
    "Dict = {1: 'Geeks', 2: 'For',\r\n",
    "\t\t3:{'A' : 'Welcome', 'B' : 'To', 'C' : 'Geeks'}}\r\n",
    "\r\n",
    "print(Dict)\r\n"
   ],
   "outputs": [
    {
     "output_type": "stream",
     "name": "stdout",
     "text": [
      "{1: 'Geeks', 2: 'For', 3: {'A': 'Welcome', 'B': 'To', 'C': 'Geeks'}}\n"
     ]
    }
   ],
   "metadata": {}
  },
  {
   "cell_type": "markdown",
   "source": [
    "\r\n",
    "# Adding elements to a Dictionary #\r\n",
    "In Python Dictionary, Addition of elements can be done in multiple ways. One value at a time can be added to a Dictionary by defining value along with the key e.g. Dict[Key] = ‘Value’. Updating an existing value in a Dictionary can be done by using the built-in update() method. Nested key values can also be added to an existing Dictionary. \r\n",
    "Note- While adding a value, if the key value already exists, the value gets updated otherwise a new Key with the value is added to the Dictionary.\r\n",
    " "
   ],
   "metadata": {}
  },
  {
   "cell_type": "code",
   "execution_count": 3,
   "source": [
    "# Creating an empty Dictionary\r\n",
    "Dict = {}\r\n",
    "print(\"Empty Dictionary: \")\r\n",
    "print(Dict)\r\n",
    "\r\n",
    "# Adding elements one at a time\r\n",
    "Dict[0] = 'Geeks'\r\n",
    "Dict[2] = 'For'\r\n",
    "Dict[3] = 1\r\n",
    "print(\"\\nDictionary after adding 3 elements: \")\r\n",
    "print(Dict)\r\n",
    "\r\n",
    "# Adding set of values\r\n",
    "# to a single Key\r\n",
    "Dict['Value_set'] = 2, 3, 4\r\n",
    "print(\"\\nDictionary after adding 3 elements: \")\r\n",
    "print(Dict)\r\n",
    "\r\n",
    "# Updating existing Key's Value\r\n",
    "Dict[2] = 'Welcome'\r\n",
    "print(\"\\nUpdated key value: \")\r\n",
    "print(Dict)\r\n",
    "\r\n",
    "# Adding Nested Key value to Dictionary\r\n",
    "Dict[5] = {'Nested' :{'1' : 'Life', '2' : 'Geeks'}}\r\n",
    "print(\"\\nAdding a Nested Key: \")\r\n",
    "print(Dict)\r\n"
   ],
   "outputs": [
    {
     "output_type": "stream",
     "name": "stdout",
     "text": [
      "Empty Dictionary: \n",
      "{}\n",
      "\n",
      "Dictionary after adding 3 elements: \n",
      "{0: 'Geeks', 2: 'For', 3: 1}\n",
      "\n",
      "Dictionary after adding 3 elements: \n",
      "{0: 'Geeks', 2: 'For', 3: 1, 'Value_set': (2, 3, 4)}\n",
      "\n",
      "Updated key value: \n",
      "{0: 'Geeks', 2: 'Welcome', 3: 1, 'Value_set': (2, 3, 4)}\n",
      "\n",
      "Adding a Nested Key: \n",
      "{0: 'Geeks', 2: 'Welcome', 3: 1, 'Value_set': (2, 3, 4), 5: {'Nested': {'1': 'Life', '2': 'Geeks'}}}\n"
     ]
    }
   ],
   "metadata": {}
  },
  {
   "cell_type": "markdown",
   "source": [
    "# Accessing elements from a Dictionary #\r\n",
    "In order to access the items of a dictionary refer to its key name.Key can be used inside square brackets. \r\n",
    " "
   ],
   "metadata": {}
  },
  {
   "cell_type": "code",
   "execution_count": 4,
   "source": [
    "# Python program to demonstrate\r\n",
    "# accessing a element from a Dictionary\r\n",
    "\r\n",
    "# Creating a Dictionary\r\n",
    "Dict = {1: 'Geeks', 'name': 'For', 3: 'Geeks'}\r\n",
    "\r\n",
    "# accessing a element using key\r\n",
    "print(\"Accessing a element using key:\")\r\n",
    "print(Dict['name'])\r\n",
    "\r\n",
    "# accessing a element using key\r\n",
    "print(\"Accessing a element using key:\")\r\n",
    "print(Dict[1])\r\n"
   ],
   "outputs": [
    {
     "output_type": "stream",
     "name": "stdout",
     "text": [
      "Accessing a element using key:\n",
      "For\n",
      "Accessing a element using key:\n",
      "Geeks\n"
     ]
    }
   ],
   "metadata": {}
  },
  {
   "cell_type": "markdown",
   "source": [
    "There is also a method called get() that will also help in acessing the element from a dictionary."
   ],
   "metadata": {}
  },
  {
   "cell_type": "code",
   "execution_count": 5,
   "source": [
    "# Creating a Dictionary\r\n",
    "Dict = {1: 'Geeks', 'name': 'For', 3: 'Geeks'}\r\n",
    "\r\n",
    "# accessing a element using get()\r\n",
    "# method\r\n",
    "print(\"Accessing a element using get:\")\r\n",
    "print(Dict.get(3))\r\n"
   ],
   "outputs": [
    {
     "output_type": "stream",
     "name": "stdout",
     "text": [
      "Accessing a element using get:\n",
      "Geeks\n"
     ]
    }
   ],
   "metadata": {}
  },
  {
   "cell_type": "markdown",
   "source": [
    " \r\n",
    "\r\n",
    "# Accessing element of a nested dictionary #\r\n",
    "In order to access the value of any key in nested dictionary, use indexing [] syntax.\r\n",
    " "
   ],
   "metadata": {}
  },
  {
   "cell_type": "code",
   "execution_count": 6,
   "source": [
    "# Creating a Dictionary\r\n",
    "Dict = {'Dict1': {1: 'Geeks'},\r\n",
    "\t\t'Dict2': {'Name': 'For'}}\r\n",
    "\r\n",
    "# Accessing element using key\r\n",
    "print(Dict['Dict1'])\r\n",
    "print(Dict['Dict1'][1])\r\n",
    "print(Dict['Dict2']['Name'])\r\n"
   ],
   "outputs": [
    {
     "output_type": "stream",
     "name": "stdout",
     "text": [
      "{1: 'Geeks'}\n",
      "Geeks\n",
      "For\n"
     ]
    }
   ],
   "metadata": {}
  },
  {
   "cell_type": "markdown",
   "source": [
    "# Removing Elements from Dictionary #\r\n",
    " \r\n",
    "\r\n",
    "Using del keyword\r\n",
    "In Python Dictionary, deletion of keys can be done by using the del keyword. Using del keyword, specific values from a dictionary as well as whole dictionary can be deleted. Items in a Nested dictionary can also be deleted by using del keyword and providing specific nested key and particular key to be deleted from that nested Dictionary.\r\n",
    "Note- del Dict will delete the entire dictionary and hence printing it after deletion will raise an Error."
   ],
   "metadata": {}
  },
  {
   "cell_type": "code",
   "execution_count": 7,
   "source": [
    "# Initial Dictionary\r\n",
    "Dict = { 5 : 'Welcome', 6 : 'To', 7 : 'Geeks',\r\n",
    "\t\t'A' : {1 : 'Geeks', 2 : 'For', 3 : 'Geeks'},\r\n",
    "\t\t'B' : {1 : 'Geeks', 2 : 'Life'}}\r\n",
    "print(\"Initial Dictionary: \")\r\n",
    "print(Dict)\r\n",
    "\r\n",
    "# Deleting a Key value\r\n",
    "del Dict[6]\r\n",
    "print(\"\\nDeleting a specific key: \")\r\n",
    "print(Dict)\r\n",
    "\r\n",
    "# Deleting a Key from\r\n",
    "# Nested Dictionary\r\n",
    "del Dict['A'][2]\r\n",
    "print(\"\\nDeleting a key from Nested Dictionary: \")\r\n",
    "print(Dict)\r\n"
   ],
   "outputs": [
    {
     "output_type": "stream",
     "name": "stdout",
     "text": [
      "Initial Dictionary: \n",
      "{5: 'Welcome', 6: 'To', 7: 'Geeks', 'A': {1: 'Geeks', 2: 'For', 3: 'Geeks'}, 'B': {1: 'Geeks', 2: 'Life'}}\n",
      "\n",
      "Deleting a specific key: \n",
      "{5: 'Welcome', 7: 'Geeks', 'A': {1: 'Geeks', 2: 'For', 3: 'Geeks'}, 'B': {1: 'Geeks', 2: 'Life'}}\n",
      "\n",
      "Deleting a key from Nested Dictionary: \n",
      "{5: 'Welcome', 7: 'Geeks', 'A': {1: 'Geeks', 3: 'Geeks'}, 'B': {1: 'Geeks', 2: 'Life'}}\n"
     ]
    }
   ],
   "metadata": {}
  },
  {
   "cell_type": "markdown",
   "source": [
    "# Using pop() method #\r\n",
    "Pop() method is used to return and delete the value of the key specified.\r\n",
    " \r\n",
    "\r\n"
   ],
   "metadata": {}
  },
  {
   "cell_type": "code",
   "execution_count": 8,
   "source": [
    "# Creating a Dictionary\r\n",
    "Dict = {1: 'Geeks', 'name': 'For', 3: 'Geeks'}\r\n",
    "\r\n",
    "# Deleting a key\r\n",
    "# using pop() method\r\n",
    "pop_ele = Dict.pop(1)\r\n",
    "print('\\nDictionary after deletion: ' + str(Dict))\r\n",
    "print('Value associated to poped key is: ' + str(pop_ele))\r\n"
   ],
   "outputs": [
    {
     "output_type": "stream",
     "name": "stdout",
     "text": [
      "\n",
      "Dictionary after deletion: {'name': 'For', 3: 'Geeks'}\n",
      "Value associated to poped key is: Geeks\n"
     ]
    }
   ],
   "metadata": {}
  },
  {
   "cell_type": "markdown",
   "source": [
    "# Using popitem() method #\r\n",
    "The popitem() returns and removes an arbitrary element (key, value) pair from the dictionary.\r\n",
    " \r\n",
    "\r\n"
   ],
   "metadata": {}
  },
  {
   "cell_type": "code",
   "execution_count": 9,
   "source": [
    "# Creating Dictionary\r\n",
    "Dict = {1: 'Geeks', 'name': 'For', 3: 'Geeks'}\r\n",
    "\r\n",
    "# Deleting an arbitrary key\r\n",
    "# using popitem() function\r\n",
    "pop_ele = Dict.popitem()\r\n",
    "print(\"\\nDictionary after deletion: \" + str(Dict))\r\n",
    "print(\"The arbitrary pair returned is: \" + str(pop_ele))\r\n"
   ],
   "outputs": [
    {
     "output_type": "stream",
     "name": "stdout",
     "text": [
      "\n",
      "Dictionary after deletion: {1: 'Geeks', 'name': 'For'}\n",
      "The arbitrary pair returned is: (3, 'Geeks')\n"
     ]
    }
   ],
   "metadata": {}
  },
  {
   "cell_type": "markdown",
   "source": [
    " \r\n",
    "\r\n",
    "# Using clear() method #\r\n",
    "All the items from a dictionary can be deleted at once by using clear() method.\r\n",
    " \r\n",
    "\r\n"
   ],
   "metadata": {}
  },
  {
   "cell_type": "code",
   "execution_count": 10,
   "source": [
    "# Creating a Dictionary\r\n",
    "Dict = {1: 'Geeks', 'name': 'For', 3: 'Geeks'}\r\n",
    "\r\n",
    "\r\n",
    "# Deleting entire Dictionary\r\n",
    "Dict.clear()\r\n",
    "print(\"\\nDeleting Entire Dictionary: \")\r\n",
    "print(Dict)\r\n"
   ],
   "outputs": [
    {
     "output_type": "stream",
     "name": "stdout",
     "text": [
      "\n",
      "Deleting Entire Dictionary: \n",
      "{}\n"
     ]
    }
   ],
   "metadata": {}
  },
  {
   "cell_type": "markdown",
   "source": [
    "\r\n",
    "# Dictionary Methods # \r\n",
    "\r\n",
    "<table><tbody><tr><th>Methods</th><th>Description</th></tr><tr><th><a href=\"https://www.geeksforgeeks.org/python-dictionary-copy/\">copy()</a></th><th>They copy() method returns a shallow copy of the dictionary.</th></tr><tr><th><a href=\"https://www.geeksforgeeks.org/python-dictionary-clear/\">clear()</a></th><th>The clear() method removes all items from the dictionary.</th></tr><tr><th><a href=\"https://www.geeksforgeeks.org/python-dictionary-pop-method/\">pop()</a></th><th>Removes and returns an element from a dictionary having the given key.</th></tr><tr><th><a href=\"https://www.geeksforgeeks.org/python-dictionary-popitem-method/\">popitem()</a></th><th>Removes the arbitrary key-value pair from the dictionary and returns it as tuple.</th></tr><tr><th><a href=\"https://www.geeksforgeeks.org/get-method-dictionaries-python/\">get()</a></th><th>It is a conventional method to access a value for a key.</th></tr><tr><th><a href=\"https://www.geeksforgeeks.org/python-dictionary-values/\">dictionary_name.values()</a></th><th>returns a list of all the values available in a given dictionary.</th></tr><tr><th>str()</th><th>Produces a printable string representation of a dictionary.</th></tr><tr><th><a href=\"https://www.geeksforgeeks.org/python-dictionary-update-method/\">update()</a></th><th>Adds dictionary dict2’s key-values pairs to dict</th></tr><tr><th><a href=\"https://www.geeksforgeeks.org/python-dictionary-setdefault-method/\">setdefault()</a></th><th>Set dict[key]=default if key is not already in dict</th></tr><tr><th><a href=\"https://www.geeksforgeeks.org/python-dictionary-keys-method/\">keys()</a></th><th>Returns list of dictionary dict’s keys</th></tr><tr><th><a href=\"https://www.geeksforgeeks.org/python-dictionary-items-method/\">items()</a></th><th>Returns a list of dict’s (key, value) tuple pairs</th></tr><tr><th><a href=\"https://www.geeksforgeeks.org/python-dictionary-has_key/\">has_key()</a></th><th>Returns true if key in dictionary dict, false otherwise</th></tr><tr><th><a href=\"https://www.geeksforgeeks.org/python-dictionary-fromkeys-method/\">fromkeys()</a></th><th>Create a new dictionary with keys from seq and values set to value.</th></tr><tr><th><a href=\"https://www.geeksforgeeks.org/python-type-function/\">type()</a></th><th>Returns the type of the passed variable.</th></tr><tr><th><a href=\"https://www.geeksforgeeks.org/dictionary-methods-in-python-set-1-cmp-len-items/\">cmp()</a></th><th>Compares elements of both dict.</th></tr></tbody></table>\r\n"
   ],
   "metadata": {}
  }
 ],
 "metadata": {
  "orig_nbformat": 4,
  "language_info": {
   "name": "python",
   "version": "3.9.1",
   "mimetype": "text/x-python",
   "codemirror_mode": {
    "name": "ipython",
    "version": 3
   },
   "pygments_lexer": "ipython3",
   "nbconvert_exporter": "python",
   "file_extension": ".py"
  },
  "kernelspec": {
   "name": "python3",
   "display_name": "Python 3.9.1 64-bit"
  },
  "interpreter": {
   "hash": "11f1dc213e07634baa4c5c321dec03c05dafae643c50f20e6d1a492290c05dc2"
  }
 },
 "nbformat": 4,
 "nbformat_minor": 2
}