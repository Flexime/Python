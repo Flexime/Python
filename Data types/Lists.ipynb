{
 "cells": [
  {
   "cell_type": "markdown",
   "source": [
    "# Lists #\r\n",
    "\r\n",
    "Lists are just like dynamic sized arrays, declared in other languages (vector in C++ and ArrayList in Java). Lists need not be homogeneous always which makes it a most powerful tool in Python. A single list may contain DataTypes like Integers, Strings, as well as Objects. Lists are mutable, and hence, they can be altered even after their creation.\r\n",
    "\r\n",
    "List in Python are ordered and have a definite count. The elements in a list are indexed according to a definite sequence and the indexing of a list is done with 0 being the first index. Each element in the list has its definite place in the list, which allows duplicating of elements in the list, with each element having its own distinct place and credibility.\r\n",
    "\r\n",
    "Note- Lists are a useful tool for preserving a sequence of data and further iterating over it.\r\n",
    "\r\n",
    "# Creating a List # \r\n",
    "\r\n",
    "Lists in Python can be created by just placing the sequence inside the square brackets[]. Unlike Sets, list doesn’t need a built-in function for creation of list.\r\n",
    "\r\n",
    "\r\n",
    "\r\n",
    "Note – Unlike Sets, list may contain mutable elements."
   ],
   "metadata": {}
  },
  {
   "cell_type": "code",
   "execution_count": null,
   "source": [
    "# Python program to demonstrate\r\n",
    "# Creation of List\r\n",
    "\r\n",
    "# Creating a List\r\n",
    "List = []\r\n",
    "print(\"Blank List: \")\r\n",
    "print(List)\r\n",
    "\r\n",
    "# Creating a List of numbers\r\n",
    "List = [10, 20, 14]\r\n",
    "print(\"\\nList of numbers: \")\r\n",
    "print(List)\r\n",
    "\r\n",
    "# Creating a List of strings and accessing\r\n",
    "# using index\r\n",
    "List = [\"Geeks\", \"For\", \"Geeks\"]\r\n",
    "print(\"\\nList Items: \")\r\n",
    "print(List[0])\r\n",
    "print(List[2])\r\n",
    "\r\n",
    "# Creating a Multi-Dimensional List\r\n",
    "# (By Nesting a list inside a List)\r\n",
    "List = [['Geeks', 'For'] , ['Geeks']]\r\n",
    "print(\"\\nMulti-Dimensional List: \")\r\n",
    "print(List)\r\n"
   ],
   "outputs": [],
   "metadata": {}
  },
  {
   "cell_type": "markdown",
   "source": [
    "Creating a list with multiple distinct or duplicate elements\r\n",
    "A list may contain duplicate values with their distinct positions and hence, multiple distinct or duplicate values can be passed as a sequence at the time of list creation."
   ],
   "metadata": {}
  },
  {
   "cell_type": "code",
   "execution_count": 1,
   "source": [
    "# Creating a List with\r\n",
    "# the use of Numbers\r\n",
    "# (Having duplicate values)\r\n",
    "List = [1, 2, 4, 4, 3, 3, 3, 6, 5]\r\n",
    "print(\"\\nList with the use of Numbers: \")\r\n",
    "print(List)\r\n",
    "\r\n",
    "# Creating a List with\r\n",
    "# mixed type of values\r\n",
    "# (Having numbers and strings)\r\n",
    "List = [1, 2, 'Geeks', 4, 'For', 6, 'Geeks']\r\n",
    "print(\"\\nList with the use of Mixed Values: \")\r\n",
    "print(List)\r\n"
   ],
   "outputs": [
    {
     "output_type": "stream",
     "name": "stdout",
     "text": [
      "\n",
      "List with the use of Numbers: \n",
      "[1, 2, 4, 4, 3, 3, 3, 6, 5]\n",
      "\n",
      "List with the use of Mixed Values: \n",
      "[1, 2, 'Geeks', 4, 'For', 6, 'Geeks']\n"
     ]
    }
   ],
   "metadata": {}
  },
  {
   "cell_type": "markdown",
   "source": [
    "Knowing the size of List"
   ],
   "metadata": {}
  },
  {
   "cell_type": "code",
   "execution_count": 2,
   "source": [
    "# Creating a List\r\n",
    "List1 = []\r\n",
    "print(len(List1))\r\n",
    "\r\n",
    "# Creating a List of numbers\r\n",
    "List2 = [10, 20, 14]\r\n",
    "print(len(List2))\r\n"
   ],
   "outputs": [
    {
     "output_type": "stream",
     "name": "stdout",
     "text": [
      "0\n",
      "3\n"
     ]
    }
   ],
   "metadata": {}
  },
  {
   "cell_type": "markdown",
   "source": [
    "# Adding Elements to a List # \r\n",
    "Using append() method\r\n",
    "Elements can be added to the List by using built-in append() function. Only one element at a time can be added to the list by using append() method, for addition of multiple elements with the append() method, loops are used. Tuples can also be added to the List with the use of append method because tuples are immutable. Unlike Sets, Lists can also be added to the existing list with the use of append() method."
   ],
   "metadata": {}
  },
  {
   "cell_type": "code",
   "execution_count": 3,
   "source": [
    "# Python program to demonstrate\r\n",
    "# Addition of elements in a List\r\n",
    "\r\n",
    "# Creating a List\r\n",
    "List = []\r\n",
    "print(\"Initial blank List: \")\r\n",
    "print(List)\r\n",
    "\r\n",
    "# Addition of Elements\r\n",
    "# in the List\r\n",
    "List.append(1)\r\n",
    "List.append(2)\r\n",
    "List.append(4)\r\n",
    "print(\"\\nList after Addition of Three elements: \")\r\n",
    "print(List)\r\n",
    "\r\n",
    "# Adding elements to the List\r\n",
    "# using Iterator\r\n",
    "for i in range(1, 4):\r\n",
    "\tList.append(i)\r\n",
    "print(\"\\nList after Addition of elements from 1-3: \")\r\n",
    "print(List)\r\n",
    "\r\n",
    "# Adding Tuples to the List\r\n",
    "List.append((5, 6))\r\n",
    "print(\"\\nList after Addition of a Tuple: \")\r\n",
    "print(List)\r\n",
    "\r\n",
    "# Addition of List to a List\r\n",
    "List2 = ['For', 'Geeks']\r\n",
    "List.append(List2)\r\n",
    "print(\"\\nList after Addition of a List: \")\r\n",
    "print(List)\r\n"
   ],
   "outputs": [
    {
     "output_type": "stream",
     "name": "stdout",
     "text": [
      "Initial blank List: \n",
      "[]\n",
      "\n",
      "List after Addition of Three elements: \n",
      "[1, 2, 4]\n",
      "\n",
      "List after Addition of elements from 1-3: \n",
      "[1, 2, 4, 1, 2, 3]\n",
      "\n",
      "List after Addition of a Tuple: \n",
      "[1, 2, 4, 1, 2, 3, (5, 6)]\n",
      "\n",
      "List after Addition of a List: \n",
      "[1, 2, 4, 1, 2, 3, (5, 6), ['For', 'Geeks']]\n"
     ]
    }
   ],
   "metadata": {}
  },
  {
   "cell_type": "markdown",
   "source": [
    "Using insert() method\r\n",
    "append() method only works for addition of elements at the end of the List, for addition of element at the desired position, insert() method is used. Unlike append() which takes only one argument, insert() method requires two arguments(position, value).\r\n",
    "\r\n",
    "\r\n"
   ],
   "metadata": {}
  },
  {
   "cell_type": "code",
   "execution_count": 4,
   "source": [
    "# Python program to demonstrate\r\n",
    "# Addition of elements in a List\r\n",
    "\r\n",
    "# Creating a List\r\n",
    "List = [1,2,3,4]\r\n",
    "print(\"Initial List: \")\r\n",
    "print(List)\r\n",
    "\r\n",
    "# Addition of Element at\r\n",
    "# specific Position\r\n",
    "# (using Insert Method)\r\n",
    "List.insert(3, 12)\r\n",
    "List.insert(0, 'Geeks')\r\n",
    "print(\"\\nList after performing Insert Operation: \")\r\n",
    "print(List)\r\n"
   ],
   "outputs": [
    {
     "output_type": "stream",
     "name": "stdout",
     "text": [
      "Initial List: \n",
      "[1, 2, 3, 4]\n",
      "\n",
      "List after performing Insert Operation: \n",
      "['Geeks', 1, 2, 3, 12, 4]\n"
     ]
    }
   ],
   "metadata": {}
  },
  {
   "cell_type": "markdown",
   "source": [
    "# Using extend() method # \r\n",
    "Other than append() and insert() methods, there’s one more method for Addition of elements, extend(), this method is used to add multiple elements at the same time at the end of the list.\r\n",
    "\r\n",
    "Note – append() and extend() methods can only add elements at the end."
   ],
   "metadata": {}
  },
  {
   "cell_type": "code",
   "execution_count": 5,
   "source": [
    "# Python program to demonstrate\r\n",
    "# Addition of elements in a List\r\n",
    "\t\r\n",
    "# Creating a List\r\n",
    "List = [1,2,3,4]\r\n",
    "print(\"Initial List: \")\r\n",
    "print(List)\r\n",
    "\r\n",
    "# Addition of multiple elements\r\n",
    "# to the List at the end\r\n",
    "# (using Extend Method)\r\n",
    "List.extend([8, 'Geeks', 'Always'])\r\n",
    "print(\"\\nList after performing Extend Operation: \")\r\n",
    "print(List)\r\n"
   ],
   "outputs": [
    {
     "output_type": "stream",
     "name": "stdout",
     "text": [
      "Initial List: \n",
      "[1, 2, 3, 4]\n",
      "\n",
      "List after performing Extend Operation: \n",
      "[1, 2, 3, 4, 8, 'Geeks', 'Always']\n"
     ]
    }
   ],
   "metadata": {}
  },
  {
   "cell_type": "markdown",
   "source": [
    "# Accessing elements from the List #\r\n",
    "In order to access the list items refer to the index number.Use the index operator [ ] to access an item in a list.The index must be an integer.Nested list are accessed using nested indexing."
   ],
   "metadata": {}
  },
  {
   "cell_type": "code",
   "execution_count": 6,
   "source": [
    "# Python program to demonstrate\r\n",
    "# accessing of element from list\r\n",
    "\r\n",
    "# Creating a List with\r\n",
    "# the use of multiple values\r\n",
    "List = [\"Geeks\", \"For\", \"Geeks\"]\r\n",
    "\r\n",
    "# accessing a element from the\r\n",
    "# list using index number\r\n",
    "print(\"Accessing a element from the list\")\r\n",
    "print(List[0])\r\n",
    "print(List[2])\r\n",
    "\r\n",
    "# Creating a Multi-Dimensional List\r\n",
    "# (By Nesting a list inside a List)\r\n",
    "List = [['Geeks', 'For'] , ['Geeks']]\r\n",
    "\r\n",
    "# accessing an element from the\r\n",
    "# Multi-Dimensional List using\r\n",
    "# index number\r\n",
    "print(\"Accessing a element from a Multi-Dimensional list\")\r\n",
    "print(List[0][1])\r\n",
    "print(List[1][0])\r\n"
   ],
   "outputs": [
    {
     "output_type": "stream",
     "name": "stdout",
     "text": [
      "Accessing a element from the list\n",
      "Geeks\n",
      "Geeks\n",
      "Accessing a element from a Multi-Dimensional list\n",
      "For\n",
      "Geeks\n"
     ]
    }
   ],
   "metadata": {}
  },
  {
   "cell_type": "markdown",
   "source": [
    "# Negative indexing # \r\n",
    "In Python, negative sequence indexes represent positions from the end of the array. Instead of having to compute the offset as in List[len(List)-3], it is enough to just write List[-3]. Negative indexing means beginning from the end, -1 refers to the last item, -2 refers to the second-last item, etc."
   ],
   "metadata": {}
  },
  {
   "cell_type": "code",
   "execution_count": 7,
   "source": [
    "List = [1, 2, 'Geeks', 4, 'For', 6, 'Geeks']\r\n",
    "\r\n",
    "# accessing a element using\r\n",
    "# negative indexing\r\n",
    "print(\"Accessing element using negative indexing\")\r\n",
    "\r\n",
    "# print the last element of list\r\n",
    "print(List[-1])\r\n",
    "\r\n",
    "# print the third last element of list\r\n",
    "print(List[-3])\r\n"
   ],
   "outputs": [
    {
     "output_type": "stream",
     "name": "stdout",
     "text": [
      "Accessing element using negative indexing\n",
      "Geeks\n",
      "For\n"
     ]
    }
   ],
   "metadata": {}
  },
  {
   "cell_type": "markdown",
   "source": [
    "# Removing Elements from the List #\r\n",
    "Using remove() method\r\n",
    "Elements can be removed from the List by using built-in remove() function but an Error arises if element doesn’t exist in the set. Remove() method only removes one element at a time, to remove range of elements, iterator is used. The remove() method removes the specified item.\r\n",
    "\r\n",
    "Note – Remove method in List will only remove the first occurrence of the searched element."
   ],
   "metadata": {}
  },
  {
   "cell_type": "code",
   "execution_count": 8,
   "source": [
    "# Python program to demonstrate\r\n",
    "# Removal of elements in a List\r\n",
    "\r\n",
    "# Creating a List\r\n",
    "List = [1, 2, 3, 4, 5, 6,\r\n",
    "\t\t7, 8, 9, 10, 11, 12]\r\n",
    "print(\"Initial List: \")\r\n",
    "print(List)\r\n",
    "\r\n",
    "# Removing elements from List\r\n",
    "# using Remove() method\r\n",
    "List.remove(5)\r\n",
    "List.remove(6)\r\n",
    "print(\"\\nList after Removal of two elements: \")\r\n",
    "print(List)\r\n",
    "\r\n",
    "# Removing elements from List\r\n",
    "# using iterator method\r\n",
    "for i in range(1, 5):\r\n",
    "\tList.remove(i)\r\n",
    "print(\"\\nList after Removing a range of elements: \")\r\n",
    "print(List)\r\n"
   ],
   "outputs": [
    {
     "output_type": "stream",
     "name": "stdout",
     "text": [
      "Initial List: \n",
      "[1, 2, 3, 4, 5, 6, 7, 8, 9, 10, 11, 12]\n",
      "\n",
      "List after Removal of two elements: \n",
      "[1, 2, 3, 4, 7, 8, 9, 10, 11, 12]\n",
      "\n",
      "List after Removing a range of elements: \n",
      "[7, 8, 9, 10, 11, 12]\n"
     ]
    }
   ],
   "metadata": {}
  },
  {
   "cell_type": "markdown",
   "source": [
    "# Using pop() method # \r\n",
    "Pop() function can also be used to remove and return an element from the set, but by default it removes only the last element of the set, to remove element from a specific position of the List, index of the element is passed as an argument to the pop() method."
   ],
   "metadata": {}
  },
  {
   "cell_type": "code",
   "execution_count": 9,
   "source": [
    "List = [1,2,3,4,5]\r\n",
    "\r\n",
    "# Removing element from the\r\n",
    "# Set using the pop() method\r\n",
    "List.pop()\r\n",
    "print(\"\\nList after popping an element: \")\r\n",
    "print(List)\r\n",
    "\r\n",
    "# Removing element at a\r\n",
    "# specific location from the\r\n",
    "# Set using the pop() method\r\n",
    "List.pop(2)\r\n",
    "print(\"\\nList after popping a specific element: \")\r\n",
    "print(List)\r\n"
   ],
   "outputs": [
    {
     "output_type": "stream",
     "name": "stdout",
     "text": [
      "\n",
      "List after popping an element: \n",
      "[1, 2, 3, 4]\n",
      "\n",
      "List after popping a specific element: \n",
      "[1, 2, 4]\n"
     ]
    }
   ],
   "metadata": {}
  },
  {
   "cell_type": "markdown",
   "source": [
    "\r\n",
    "# Slicing of a List #\r\n",
    "In Python List, there are multiple ways to print the whole List with all the elements, but to print a specific range of elements from the list, we use Slice operation. Slice operation is performed on Lists with the use of a colon(:). To print elements from beginning to a range use [: Index], to print elements from end-use [:-Index], to print elements from specific Index till the end use [Index:], to print elements within a range, use [Start Index:End Index] and to print the whole List with the use of slicing operation, use [:]. Further, to print the whole List in reverse order, use [::-1].\r\n",
    "\r\n",
    "Note – To print elements of List from rear end, use Negative Indexes."
   ],
   "metadata": {}
  },
  {
   "cell_type": "markdown",
   "source": [
    "![](https://media.geeksforgeeks.org/wp-content/uploads/List-Slicing.jpg)"
   ],
   "metadata": {}
  },
  {
   "cell_type": "code",
   "execution_count": 10,
   "source": [
    "# Python program to demonstrate\r\n",
    "# Removal of elements in a List\r\n",
    "\r\n",
    "# Creating a List\r\n",
    "List = ['G','E','E','K','S','F',\r\n",
    "\t\t'O','R','G','E','E','K','S']\r\n",
    "print(\"Initial List: \")\r\n",
    "print(List)\r\n",
    "\r\n",
    "# Print elements of a range\r\n",
    "# using Slice operation\r\n",
    "Sliced_List = List[3:8]\r\n",
    "print(\"\\nSlicing elements in a range 3-8: \")\r\n",
    "print(Sliced_List)\r\n",
    "\r\n",
    "# Print elements from a\r\n",
    "# pre-defined point to end\r\n",
    "Sliced_List = List[5:]\r\n",
    "print(\"\\nElements sliced from 5th \"\r\n",
    "\t\"element till the end: \")\r\n",
    "print(Sliced_List)\r\n",
    "\r\n",
    "# Printing elements from\r\n",
    "# beginning till end\r\n",
    "Sliced_List = List[:]\r\n",
    "print(\"\\nPrinting all elements using slice operation: \")\r\n",
    "print(Sliced_List)\r\n"
   ],
   "outputs": [
    {
     "output_type": "stream",
     "name": "stdout",
     "text": [
      "Initial List: \n",
      "['G', 'E', 'E', 'K', 'S', 'F', 'O', 'R', 'G', 'E', 'E', 'K', 'S']\n",
      "\n",
      "Slicing elements in a range 3-8: \n",
      "['K', 'S', 'F', 'O', 'R']\n",
      "\n",
      "Elements sliced from 5th element till the end: \n",
      "['F', 'O', 'R', 'G', 'E', 'E', 'K', 'S']\n",
      "\n",
      "Printing all elements using slice operation: \n",
      "['G', 'E', 'E', 'K', 'S', 'F', 'O', 'R', 'G', 'E', 'E', 'K', 'S']\n"
     ]
    }
   ],
   "metadata": {}
  },
  {
   "cell_type": "markdown",
   "source": [
    "Negative index List slicing"
   ],
   "metadata": {}
  },
  {
   "cell_type": "code",
   "execution_count": 11,
   "source": [
    "# Creating a List\r\n",
    "List = ['G','E','E','K','S','F',\r\n",
    "\t\t'O','R','G','E','E','K','S']\r\n",
    "print(\"Initial List: \")\r\n",
    "print(List)\r\n",
    "\r\n",
    "# Print elements from beginning\r\n",
    "# to a pre-defined point using Slice\r\n",
    "Sliced_List = List[:-6]\r\n",
    "print(\"\\nElements sliced till 6th element from last: \")\r\n",
    "print(Sliced_List)\r\n",
    "\r\n",
    "# Print elements of a range\r\n",
    "# using negative index List slicing\r\n",
    "Sliced_List = List[-6:-1]\r\n",
    "print(\"\\nElements sliced from index -6 to -1\")\r\n",
    "print(Sliced_List)\r\n",
    "\r\n",
    "# Printing elements in reverse\r\n",
    "# using Slice operation\r\n",
    "Sliced_List = List[::-1]\r\n",
    "print(\"\\nPrinting List in reverse: \")\r\n",
    "print(Sliced_List)\r\n"
   ],
   "outputs": [
    {
     "output_type": "stream",
     "name": "stdout",
     "text": [
      "Initial List: \n",
      "['G', 'E', 'E', 'K', 'S', 'F', 'O', 'R', 'G', 'E', 'E', 'K', 'S']\n",
      "\n",
      "Elements sliced till 6th element from last: \n",
      "['G', 'E', 'E', 'K', 'S', 'F', 'O']\n",
      "\n",
      "Elements sliced from index -6 to -1\n",
      "['R', 'G', 'E', 'E', 'K']\n",
      "\n",
      "Printing List in reverse: \n",
      "['S', 'K', 'E', 'E', 'G', 'R', 'O', 'F', 'S', 'K', 'E', 'E', 'G']\n"
     ]
    }
   ],
   "metadata": {}
  },
  {
   "cell_type": "markdown",
   "source": [
    "# List Comprehension #\r\n",
    "List comprehensions are used for creating new lists from other iterables like tuples, strings, arrays, lists, etc.\r\n",
    "\r\n",
    "A list comprehension consists of brackets containing the expression, which is executed for each element along with the for loop to iterate over each element.\r\n",
    "\r\n",
    "Syntax:"
   ],
   "metadata": {}
  },
  {
   "cell_type": "code",
   "execution_count": null,
   "source": [
    "#newList = [ expression(element) for element in oldList if condition ]"
   ],
   "outputs": [],
   "metadata": {}
  },
  {
   "cell_type": "code",
   "execution_count": 12,
   "source": [
    "# Python program to demonstrate list\r\n",
    "# comprehension in Python\r\n",
    "\t\r\n",
    "# below list contains square of all\r\n",
    "# odd numbers from range 1 to 10\r\n",
    "odd_square = [x ** 2 for x in range(1, 11) if x % 2 == 1]\r\n",
    "print (odd_square)\r\n"
   ],
   "outputs": [
    {
     "output_type": "stream",
     "name": "stdout",
     "text": [
      "[1, 9, 25, 49, 81]\n"
     ]
    }
   ],
   "metadata": {}
  },
  {
   "cell_type": "markdown",
   "source": [
    "For better understanding the above code is similar to –\r\n",
    "\r\n"
   ],
   "metadata": {}
  },
  {
   "cell_type": "code",
   "execution_count": 13,
   "source": [
    "# for understanding, above generation is same as,\r\n",
    "odd_square = []\r\n",
    "\r\n",
    "for x in range(1, 11):\r\n",
    "\tif x % 2 == 1:\r\n",
    "\t\todd_square.append(x**2)\r\n",
    "\r\n",
    "print (odd_square)\r\n"
   ],
   "outputs": [
    {
     "output_type": "stream",
     "name": "stdout",
     "text": [
      "[1, 9, 25, 49, 81]\n"
     ]
    }
   ],
   "metadata": {}
  },
  {
   "cell_type": "markdown",
   "source": [
    "# List Methods # \r\n",
    "\r\n",
    "<table class=\"numpy-table\"><tbody><tr><th style=\"background-color:gray\">Function</th><th style=\"background-color:gray\">Description</th></tr><tr><td><a href=\"https://www.geeksforgeeks.org/append-extend-python/\">Append()</a></td><td>Add an element to the end of the list</td></tr><tr align=\"left\"><td><a href=\"https://www.geeksforgeeks.org/append-extend-python/\">Extend()</a></td><td align=\"left\">Add all elements of a list to the another list</td></tr><tr><td><a href=\"https://www.geeksforgeeks.org/list-methods-in-python-set-2-del-remove-sort-insert-pop-extend/\">Insert()</a></td><td>Insert an item at the defined index</td></tr><tr><td><a href=\"https://www.geeksforgeeks.org/list-methods-in-python-set-2-del-remove-sort-insert-pop-extend/\">Remove()</a></td><td>Removes an item from the list</td></tr><tr><td><a href=\"https://www.geeksforgeeks.org/list-methods-in-python-set-2-del-remove-sort-insert-pop-extend/\">Pop()</a></td><td>Removes and returns an element at the given index</td></tr><tr><td><a href=\"https://www.geeksforgeeks.org/list-methods-in-python-set-2-del-remove-sort-insert-pop-extend/\">Clear()</a></td><td>Removes all items from the list</td></tr><tr><td><a href=\"https://www.geeksforgeeks.org/python-list-index/\" rel=\"noopener\" target=\"_blank\">Index()</a></td><td>Returns the index of the first matched item</td></tr><tr><td><a href=\"https://www.geeksforgeeks.org/python-list-function-count/\" rel=\"noopener\" target=\"_blank\">Count()</a></td><td>Returns the count of number of items passed as an argument</td></tr><tr><td><a href=\"https://www.geeksforgeeks.org/sort-in-python/\">Sort()</a></td><td>Sort items in a list in ascending order</td></tr><tr><td><a href=\"https://www.geeksforgeeks.org/list-methods-in-python-set-2-del-remove-sort-insert-pop-extend/\">Reverse()</a></td><td>Reverse the order of items in the list</td></tr><tr><td><a href=\"https://www.geeksforgeeks.org/python-list-copy-method/\" rel=\"noopener\" target=\"_blank\">copy()</a></td><td>Returns a copy of the list</td></tr></tbody></table>\r\n"
   ],
   "metadata": {}
  },
  {
   "cell_type": "markdown",
   "source": [
    "<table class=\"numpy-table\"><tbody><tr><th style=\"background-color:gray\">Function</th><th style=\"background-color:gray\">Description</th></tr><tr><td><a href=\"https://www.geeksforgeeks.org/reduce-in-python/\" rel=\"noopener\" target=\"_blank\">reduce()</a></td><td>apply a particular function passed in its argument to all of the list elements stores the intermediate result and only returns the final summation value</td></tr><tr><td><a href=\"https://www.geeksforgeeks.org/sum-function-python/\" rel=\"noopener\" target=\"_blank\">sum()</a></td><td>Sums up the numbers in the list</td></tr><tr><td><a href=\"https://www.geeksforgeeks.org/ord-function-python/\" rel=\"noopener\" target=\"_blank\">ord()</a></td><td>Returns an integer representing the Unicode code point of the given Unicode character</td></tr><tr><td><a href=\"https://www.geeksforgeeks.org/python-2-number-cmplist-method/\" rel=\"noopener\" target=\"_blank\">cmp()</a></td><td>This function returns 1, if first list is “greater” than second list</td></tr><tr><td>max()</td><td>return maximum element of given list</td></tr><tr><td>min()</td><td>return minimum element of given list</td></tr><tr><td><a href=\"https://www.geeksforgeeks.org/any-all-in-python/\" rel=\"noopener\" target=\"_blank\">all()</a></td><td>Returns true if all element are true or if list is empty</td></tr><tr><td><a href=\"https://www.geeksforgeeks.org/any-all-in-python/\" rel=\"noopener\" target=\"_blank\">any()</a></td><td>return true if any element of the list is true. if list is empty, return false</td></tr><tr><td>len()</td><td>Returns length of the list or size of the list</td></tr><tr><td><a href=\"https://www.geeksforgeeks.org/enumerate-in-python/\" rel=\"noopener\" target=\"_blank\">enumerate()</a></td><td>Returns enumerate object of list</td></tr><tr><td>accumulate()</td><td>apply a particular function passed in its argument to all of the list elements returns a list containing the intermediate results</td></tr><tr><td><a href=\"https://www.geeksforgeeks.org/filter-in-python/\" rel=\"noopener\" target=\"_blank\">filter()</a></td><td>tests if each element of a list true or not</td></tr><tr><td><a href=\"https://www.geeksforgeeks.org/python-map-function/\" rel=\"noopener\" target=\"_blank\">map()</a></td><td>returns a list of the results after applying the given function to each item of a given iterable</td></tr><tr><td><a href=\"https://www.geeksforgeeks.org/python-lambda-anonymous-functions-filter-map-reduce/\" rel=\"noopener\" target=\"_blank\">lambda()</a></td><td>This function can have any number of arguments but only one expression, which is evaluated and returned.</td></tr></tbody></table>"
   ],
   "metadata": {}
  }
 ],
 "metadata": {
  "orig_nbformat": 4,
  "language_info": {
   "name": "python",
   "version": "3.9.1",
   "mimetype": "text/x-python",
   "codemirror_mode": {
    "name": "ipython",
    "version": 3
   },
   "pygments_lexer": "ipython3",
   "nbconvert_exporter": "python",
   "file_extension": ".py"
  },
  "kernelspec": {
   "name": "python3",
   "display_name": "Python 3.9.1 64-bit"
  },
  "interpreter": {
   "hash": "11f1dc213e07634baa4c5c321dec03c05dafae643c50f20e6d1a492290c05dc2"
  }
 },
 "nbformat": 4,
 "nbformat_minor": 2
}