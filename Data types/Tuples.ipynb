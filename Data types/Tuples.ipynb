{
 "cells": [
  {
   "cell_type": "markdown",
   "source": [
    "# Tuples #\r\n",
    "\r\n",
    "Tuple is a collection of Python objects much like a list. The sequence of values stored in a tuple can be of any type, and they are indexed by integers. \r\n",
    "\r\n",
    "Values of a tuple are syntactically separated by ‘commas’. Although it is not necessary, it is more common to define a tuple by closing the sequence of values in parentheses. This helps in understanding the Python tuples more easily.\r\n",
    " \r\n",
    "\r\n",
    " # Creating a Tuple # \r\n",
    "In Python, tuples are created by placing a sequence of values separated by ‘comma’ with or without the use of parentheses for grouping the data sequence.\r\n",
    " \r\n",
    "\r\n",
    "Note: Creation of Python tuple without the use of parentheses is known as Tuple Packing. \r\n",
    " \r\n",
    "\r\n",
    "Python program to demonstrate the addition of elements in a Tuple.\r\n",
    "\r\n"
   ],
   "metadata": {}
  },
  {
   "cell_type": "code",
   "execution_count": null,
   "source": [
    "#Creating an empty Tuple\r\n",
    "Tuple1 = ()\r\n",
    "print(\"Initial empty Tuple: \")\r\n",
    "print (Tuple1)\r\n",
    "\r\n",
    "#Creating a Tuple\r\n",
    "#with the use of string\r\n",
    "Tuple1 = ('Geeks', 'For')\r\n",
    "print(\"\\nTuple with the use of String: \")\r\n",
    "print(Tuple1)\r\n",
    "\r\n",
    "# Creating a Tuple with\r\n",
    "# the use of list\r\n",
    "list1 = [1, 2, 4, 5, 6]\r\n",
    "print(\"\\nTuple using List: \")\r\n",
    "print(tuple(list1))\r\n",
    "\r\n",
    "#Creating a Tuple\r\n",
    "#with the use of built-in function\r\n",
    "Tuple1 = tuple('Geeks')\r\n",
    "print(\"\\nTuple with the use of function: \")\r\n",
    "print(Tuple1)\r\n"
   ],
   "outputs": [],
   "metadata": {}
  },
  {
   "cell_type": "markdown",
   "source": [
    "\r\n",
    "# Creating a Tuple with Mixed Datatypes. #\r\n",
    "Tuples can contain any number of elements and of any datatype (like strings, integers, list, etc.). Tuples can also be created with a single element, but it is a bit tricky. Having one element in the parentheses is not sufficient, there must be a trailing ‘comma’ to make it a tuple.\r\n",
    " "
   ],
   "metadata": {}
  },
  {
   "cell_type": "code",
   "execution_count": 1,
   "source": [
    "#Creating a Tuple\r\n",
    "#with Mixed Datatype\r\n",
    "Tuple1 = (5, 'Welcome', 7, 'Geeks')\r\n",
    "print(\"\\nTuple with Mixed Datatypes: \")\r\n",
    "print(Tuple1)\r\n",
    "\r\n",
    "#Creating a Tuple\r\n",
    "#with nested tuples\r\n",
    "Tuple1 = (0, 1, 2, 3)\r\n",
    "Tuple2 = ('python', 'geek')\r\n",
    "Tuple3 = (Tuple1, Tuple2)\r\n",
    "print(\"\\nTuple with nested tuples: \")\r\n",
    "print(Tuple3)\r\n",
    "\r\n",
    "#Creating a Tuple\r\n",
    "#with repetition\r\n",
    "Tuple1 = ('Geeks',) * 3\r\n",
    "print(\"\\nTuple with repetition: \")\r\n",
    "print(Tuple1)\r\n",
    "\r\n",
    "#Creating a Tuple\r\n",
    "#with the use of loop\r\n",
    "Tuple1 = ('Geeks')\r\n",
    "n = 5\r\n",
    "print(\"\\nTuple with a loop\")\r\n",
    "for i in range(int(n)):\r\n",
    "\tTuple1 = (Tuple1,)\r\n",
    "\tprint(Tuple1)\r\n"
   ],
   "outputs": [
    {
     "output_type": "stream",
     "name": "stdout",
     "text": [
      "\n",
      "Tuple with Mixed Datatypes: \n",
      "(5, 'Welcome', 7, 'Geeks')\n",
      "\n",
      "Tuple with nested tuples: \n",
      "((0, 1, 2, 3), ('python', 'geek'))\n",
      "\n",
      "Tuple with repetition: \n",
      "('Geeks', 'Geeks', 'Geeks')\n",
      "\n",
      "Tuple with a loop\n",
      "('Geeks',)\n",
      "(('Geeks',),)\n",
      "((('Geeks',),),)\n",
      "(((('Geeks',),),),)\n",
      "((((('Geeks',),),),),)\n"
     ]
    }
   ],
   "metadata": {}
  },
  {
   "cell_type": "markdown",
   "source": [
    "# Accessing of Tuples # \r\n",
    "Tuples are immutable, and usually, they contain a sequence of heterogeneous elements that are accessed via unpacking or indexing (or even by attribute in the case of named tuples). Lists are mutable, and their elements are usually homogeneous and are accessed by iterating over the list.\r\n",
    " \r\n",
    "\r\n",
    "Note: In unpacking of tuple number of variables on the left-hand side should be equal to a number of values in given tuple a."
   ],
   "metadata": {}
  },
  {
   "cell_type": "code",
   "execution_count": 2,
   "source": [
    "#Accessing Tuple\r\n",
    "#with Indexing\r\n",
    "Tuple1 = tuple(\"Geeks\")\r\n",
    "print(\"\\nFirst element of Tuple: \")\r\n",
    "print(Tuple1[1])\r\n",
    "\r\n",
    "\r\n",
    "#Tuple unpacking\r\n",
    "Tuple1 = (\"Geeks\", \"For\", \"Geeks\")\r\n",
    "\r\n",
    "#This line unpack\r\n",
    "#values of Tuple1\r\n",
    "a, b, c = Tuple1\r\n",
    "print(\"\\nValues after unpacking: \")\r\n",
    "print(a)\r\n",
    "print(b)\r\n",
    "print(c)\r\n"
   ],
   "outputs": [
    {
     "output_type": "stream",
     "name": "stdout",
     "text": [
      "\n",
      "First element of Tuple: \n",
      "e\n",
      "\n",
      "Values after unpacking: \n",
      "Geeks\n",
      "For\n",
      "Geeks\n"
     ]
    }
   ],
   "metadata": {}
  },
  {
   "cell_type": "markdown",
   "source": [
    "\r\n",
    "# Concatenation of Tuples #\r\n",
    "Concatenation of tuple is the process of joining two or more Tuples. Concatenation is done by the use of ‘+’ operator. Concatenation of tuples is done always from the end of the original tuple. Other arithmetic operations do not apply on Tuples. \r\n",
    "Note- Only the same datatypes can be combined with concatenation, an error arises if a list and a tuple are combined.\r\n",
    "\r\n",
    "![](https://media.geeksforgeeks.org/wp-content/uploads/Tuple-Concatenation-1.jpg)\r\n"
   ],
   "metadata": {}
  },
  {
   "cell_type": "code",
   "execution_count": 3,
   "source": [
    "# Concatenation of tuples\r\n",
    "Tuple1 = (0, 1, 2, 3)\r\n",
    "Tuple2 = ('Geeks', 'For', 'Geeks')\r\n",
    "\r\n",
    "Tuple3 = Tuple1 + Tuple2\r\n",
    "\r\n",
    "# Printing first Tuple\r\n",
    "print(\"Tuple 1: \")\r\n",
    "print(Tuple1)\r\n",
    "\r\n",
    "# Printing Second Tuple\r\n",
    "print(\"\\nTuple2: \")\r\n",
    "print(Tuple2)\r\n",
    "\r\n",
    "# Printing Final Tuple\r\n",
    "print(\"\\nTuples after Concatenation: \")\r\n",
    "print(Tuple3)\r\n"
   ],
   "outputs": [
    {
     "output_type": "stream",
     "name": "stdout",
     "text": [
      "Tuple 1: \n",
      "(0, 1, 2, 3)\n",
      "\n",
      "Tuple2: \n",
      "('Geeks', 'For', 'Geeks')\n",
      "\n",
      "Tuples after Concatenation: \n",
      "(0, 1, 2, 3, 'Geeks', 'For', 'Geeks')\n"
     ]
    }
   ],
   "metadata": {}
  },
  {
   "cell_type": "markdown",
   "source": [
    "\r\n",
    "# Slicing of Tuple #\r\n",
    "Slicing of a Tuple is done to fetch a specific range or slice of sub-elements from a Tuple. Slicing can also be done to lists and arrays. Indexing in a list results to fetching a single element whereas Slicing allows to fetch a set of elements. \r\n",
    "Note- Negative Increment values can also be used to reverse the sequence of Tuples \r\n",
    " "
   ],
   "metadata": {}
  },
  {
   "cell_type": "code",
   "execution_count": 4,
   "source": [
    "# Slicing of a Tuple\r\n",
    "\r\n",
    "# Slicing of a Tuple\r\n",
    "# with Numbers\r\n",
    "Tuple1 = tuple('GEEKSFORGEEKS')\r\n",
    "\r\n",
    "# Removing First element\r\n",
    "print(\"Removal of First Element: \")\r\n",
    "print(Tuple1[1:])\r\n",
    "\r\n",
    "# Reversing the Tuple\r\n",
    "print(\"\\nTuple after sequence of Element is reversed: \")\r\n",
    "print(Tuple1[::-1])\r\n",
    "\r\n",
    "# Printing elements of a Range\r\n",
    "print(\"\\nPrinting elements between Range 4-9: \")\r\n",
    "print(Tuple1[4:9])\r\n"
   ],
   "outputs": [
    {
     "output_type": "stream",
     "name": "stdout",
     "text": [
      "Removal of First Element: \n",
      "('E', 'E', 'K', 'S', 'F', 'O', 'R', 'G', 'E', 'E', 'K', 'S')\n",
      "\n",
      "Tuple after sequence of Element is reversed: \n",
      "('S', 'K', 'E', 'E', 'G', 'R', 'O', 'F', 'S', 'K', 'E', 'E', 'G')\n",
      "\n",
      "Printing elements between Range 4-9: \n",
      "('S', 'F', 'O', 'R', 'G')\n"
     ]
    }
   ],
   "metadata": {}
  },
  {
   "cell_type": "markdown",
   "source": [
    "\r\n",
    "# Deleting a Tuple #\r\n",
    "Tuples are immutable and hence they do not allow deletion of a part of it. The entire tuple gets deleted by the use of del() method. \r\n",
    " \r\n",
    "\r\n",
    "Note- Printing of Tuple after deletion results in an Error. \r\n",
    " "
   ],
   "metadata": {}
  },
  {
   "cell_type": "code",
   "execution_count": 5,
   "source": [
    "# Deleting a Tuple\r\n",
    "\r\n",
    "Tuple1 = (0, 1, 2, 3, 4)\r\n",
    "del Tuple1\r\n",
    "\r\n",
    "print(Tuple1)\r\n"
   ],
   "outputs": [
    {
     "output_type": "error",
     "ename": "NameError",
     "evalue": "name 'Tuple1' is not defined",
     "traceback": [
      "\u001b[1;31m---------------------------------------------------------------------------\u001b[0m",
      "\u001b[1;31mNameError\u001b[0m                                 Traceback (most recent call last)",
      "\u001b[1;32m<ipython-input-5-a21fab793afb>\u001b[0m in \u001b[0;36m<module>\u001b[1;34m\u001b[0m\n\u001b[0;32m      4\u001b[0m \u001b[1;32mdel\u001b[0m \u001b[0mTuple1\u001b[0m\u001b[1;33m\u001b[0m\u001b[1;33m\u001b[0m\u001b[0m\n\u001b[0;32m      5\u001b[0m \u001b[1;33m\u001b[0m\u001b[0m\n\u001b[1;32m----> 6\u001b[1;33m \u001b[0mprint\u001b[0m\u001b[1;33m(\u001b[0m\u001b[0mTuple1\u001b[0m\u001b[1;33m)\u001b[0m\u001b[1;33m\u001b[0m\u001b[1;33m\u001b[0m\u001b[0m\n\u001b[0m",
      "\u001b[1;31mNameError\u001b[0m: name 'Tuple1' is not defined"
     ]
    }
   ],
   "metadata": {}
  },
  {
   "cell_type": "markdown",
   "source": [
    "# Built-In Methods #\r\n",
    "\r\n",
    "<table><tbody><tr><td><strong>Built-in-Method</strong></td><td><strong>Description</strong></td></tr><tr><td><strong>index( )</strong></td><td><strong>find in the tuple and returns the index of the given value where it’s available</strong></td></tr><tr><td><strong>count( )</strong></td><td><strong>returns the frequency of occurrence of a specified value</strong></td></tr></tbody></table>\r\n",
    "\r\n",
    "# Built-In Functions #\r\n",
    "\r\n",
    "<table><tbody><tr><th>Built-in Function</th><th>Description</th></tr><tr><th>all()</th><th>Returns true if all element are true or if tuple is empty</th></tr><tr><th>any()</th><th>return true if any element of the tuple is true. if tuple is empty, return false</th></tr><tr><th>len()</th><th>Returns length of the tuple or size of the tuple</th></tr><tr><th>enumerate()</th><th>Returns enumerate object of tuple</th></tr><tr><th>max()</th><th>return maximum element of given tuple</th></tr><tr><th>min()</th><th>return minimum element of given tuple</th></tr><tr><th><a href=\"https://www.geeksforgeeks.org/sum-function-python/\">sum()</a></th><th>Sums up the numbers in the tuple</th></tr><tr><th><a href=\"https://www.geeksforgeeks.org/sorted-function-python/\">sorted()</a></th><th>input elements in the tuple and return a new sorted list</th></tr><tr><th><a href=\"https://www.geeksforgeeks.org/python-tuple-function/\"><strong>tuple()</strong></a></th><th>Convert an iterable to a tuple.</th></tr></tbody></table>\r\n",
    "\r\n"
   ],
   "metadata": {}
  }
 ],
 "metadata": {
  "orig_nbformat": 4,
  "language_info": {
   "name": "python",
   "version": "3.9.1",
   "mimetype": "text/x-python",
   "codemirror_mode": {
    "name": "ipython",
    "version": 3
   },
   "pygments_lexer": "ipython3",
   "nbconvert_exporter": "python",
   "file_extension": ".py"
  },
  "kernelspec": {
   "name": "python3",
   "display_name": "Python 3.9.1 64-bit"
  },
  "interpreter": {
   "hash": "11f1dc213e07634baa4c5c321dec03c05dafae643c50f20e6d1a492290c05dc2"
  }
 },
 "nbformat": 4,
 "nbformat_minor": 2
}