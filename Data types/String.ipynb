{
 "cells": [
  {
   "cell_type": "markdown",
   "source": [
    "# Python String # \r\n",
    "\r\n",
    "In Python, Strings are arrays of bytes representing Unicode characters. However, Python does not have a character data type, a single character is simply a string with a length of 1. Square brackets can be used to access elements of the string.\r\n",
    "\r\n",
    "# Creating a String # \r\n",
    "Strings in Python can be created using single quotes or double quotes or even triple quotes. "
   ],
   "metadata": {}
  },
  {
   "cell_type": "code",
   "execution_count": 1,
   "source": [
    "# Python Program for\r\n",
    "# Creation of String\r\n",
    "\r\n",
    "# Creating a String\r\n",
    "# with single Quotes\r\n",
    "String1 = 'Welcome to the Geeks World'\r\n",
    "print(\"String with the use of Single Quotes: \")\r\n",
    "print(String1)\r\n",
    "\r\n",
    "# Creating a String\r\n",
    "# with double Quotes\r\n",
    "String1 = \"I'm a Geek\"\r\n",
    "print(\"\\nString with the use of Double Quotes: \")\r\n",
    "print(String1)\r\n",
    "\r\n",
    "# Creating a String\r\n",
    "# with triple Quotes\r\n",
    "String1 = '''I'm a Geek and I live in a world of \"Geeks\"'''\r\n",
    "print(\"\\nString with the use of Triple Quotes: \")\r\n",
    "print(String1)\r\n",
    "\r\n",
    "# Creating String with triple\r\n",
    "# Quotes allows multiple lines\r\n",
    "String1 = '''Geeks\r\n",
    "\t\t\tFor\r\n",
    "\t\t\tLife'''\r\n",
    "print(\"\\nCreating a multiline String: \")\r\n",
    "print(String1)\r\n"
   ],
   "outputs": [
    {
     "output_type": "stream",
     "name": "stdout",
     "text": [
      "String with the use of Single Quotes: \n",
      "Welcome to the Geeks World\n",
      "\n",
      "String with the use of Double Quotes: \n",
      "I'm a Geek\n",
      "\n",
      "String with the use of Triple Quotes: \n",
      "I'm a Geek and I live in a world of \"Geeks\"\n",
      "\n",
      "Creating a multiline String: \n",
      "Geeks\n",
      "\t\t\tFor\n",
      "\t\t\tLife\n"
     ]
    }
   ],
   "metadata": {}
  },
  {
   "cell_type": "markdown",
   "source": [
    "# Accessing characters in Python # \r\n",
    "In Python, individual characters of a String can be accessed by using the method of Indexing. Indexing allows negative address references to access characters from the back of the String, e.g. -1 refers to the last character, -2 refers to the second last character and so on. \r\n",
    "\r\n",
    "While accessing an index out of the range will cause an IndexError. Only Integers are allowed to be passed as an index, float or other types will cause a TypeError. \r\n",
    "\r\n"
   ],
   "metadata": {}
  },
  {
   "cell_type": "code",
   "execution_count": 3,
   "source": [
    "# Python Program to Access\r\n",
    "# characters of String\r\n",
    "\r\n",
    "String1 = \"Flexer\"\r\n",
    "print(\"Initial String: \")\r\n",
    "print(String1)\r\n",
    "\r\n",
    "# Printing First character\r\n",
    "print(\"\\nFirst character of String is: \")\r\n",
    "print(String1[0])\r\n",
    "\r\n",
    "# Printing Last character\r\n",
    "print(\"\\nLast character of String is: \")\r\n",
    "print(String1[-1])\r\n"
   ],
   "outputs": [
    {
     "output_type": "stream",
     "name": "stdout",
     "text": [
      "Initial String: \n",
      "Flexer\n",
      "\n",
      "First character of String is: \n",
      "F\n",
      "\n",
      "Last character of String is: \n",
      "r\n"
     ]
    }
   ],
   "metadata": {}
  },
  {
   "cell_type": "markdown",
   "source": [
    "String Slicing \\\r\n",
    "To access a range of characters in the String, method of slicing is used. Slicing in a String is done by using a Slicing operator (colon). "
   ],
   "metadata": {}
  },
  {
   "cell_type": "code",
   "execution_count": 4,
   "source": [
    "# Python Program to\r\n",
    "# demonstrate String slicing\r\n",
    "\r\n",
    "# Creating a String\r\n",
    "String1 = \"GeeksForGeeks\"\r\n",
    "print(\"Initial String: \")\r\n",
    "print(String1)\r\n",
    "\r\n",
    "# Printing 3rd to 12th character\r\n",
    "print(\"\\nSlicing characters from 3-12: \")\r\n",
    "print(String1[3:12])\r\n",
    "\r\n",
    "# Printing characters between\r\n",
    "# 3rd and 2nd last character\r\n",
    "print(\"\\nSlicing characters between \" +\r\n",
    "\t\"3rd and 2nd last character: \")\r\n",
    "print(String1[3:-2])\r\n"
   ],
   "outputs": [
    {
     "output_type": "stream",
     "name": "stdout",
     "text": [
      "Initial String: \n",
      "GeeksForGeeks\n",
      "\n",
      "Slicing characters from 3-12: \n",
      "ksForGeek\n",
      "\n",
      "Slicing characters between 3rd and 2nd last character: \n",
      "ksForGee\n"
     ]
    }
   ],
   "metadata": {}
  },
  {
   "cell_type": "markdown",
   "source": [
    "# Deleting/Updating from a String # \r\n",
    "In Python, Updation or deletion of characters from a String is not allowed. This will cause an error because item assignment or item deletion from a String is not supported. Although deletion of entire String is possible with the use of a built-in del keyword. This is because Strings are immutable, hence elements of a String cannot be changed once it has been assigned. Only new strings can be reassigned to the same name. \r\n",
    "\r\n",
    "Updation of a character: \r\n"
   ],
   "metadata": {}
  },
  {
   "cell_type": "code",
   "execution_count": 5,
   "source": [
    "# Python Program to Update\r\n",
    "# character of a String\r\n",
    "\r\n",
    "String1 = \"Hello, I'm a Geek\"\r\n",
    "print(\"Initial String: \")\r\n",
    "print(String1)\r\n",
    "\r\n",
    "# Updating a character\r\n",
    "# of the String\r\n",
    "String1[2] = 'p'\r\n",
    "print(\"\\nUpdating character at 2nd Index: \")\r\n",
    "print(String1)\r\n"
   ],
   "outputs": [
    {
     "output_type": "stream",
     "name": "stdout",
     "text": [
      "Initial String: \n",
      "Hello, I'm a Geek\n"
     ]
    },
    {
     "output_type": "error",
     "ename": "TypeError",
     "evalue": "'str' object does not support item assignment",
     "traceback": [
      "\u001b[1;31m---------------------------------------------------------------------------\u001b[0m",
      "\u001b[1;31mTypeError\u001b[0m                                 Traceback (most recent call last)",
      "\u001b[1;32m<ipython-input-5-ad5482708f48>\u001b[0m in \u001b[0;36m<module>\u001b[1;34m\u001b[0m\n\u001b[0;32m      8\u001b[0m \u001b[1;31m# Updating a character\u001b[0m\u001b[1;33m\u001b[0m\u001b[1;33m\u001b[0m\u001b[1;33m\u001b[0m\u001b[0m\n\u001b[0;32m      9\u001b[0m \u001b[1;31m# of the String\u001b[0m\u001b[1;33m\u001b[0m\u001b[1;33m\u001b[0m\u001b[1;33m\u001b[0m\u001b[0m\n\u001b[1;32m---> 10\u001b[1;33m \u001b[0mString1\u001b[0m\u001b[1;33m[\u001b[0m\u001b[1;36m2\u001b[0m\u001b[1;33m]\u001b[0m \u001b[1;33m=\u001b[0m \u001b[1;34m'p'\u001b[0m\u001b[1;33m\u001b[0m\u001b[1;33m\u001b[0m\u001b[0m\n\u001b[0m\u001b[0;32m     11\u001b[0m \u001b[0mprint\u001b[0m\u001b[1;33m(\u001b[0m\u001b[1;34m\"\\nUpdating character at 2nd Index: \"\u001b[0m\u001b[1;33m)\u001b[0m\u001b[1;33m\u001b[0m\u001b[1;33m\u001b[0m\u001b[0m\n\u001b[0;32m     12\u001b[0m \u001b[0mprint\u001b[0m\u001b[1;33m(\u001b[0m\u001b[0mString1\u001b[0m\u001b[1;33m)\u001b[0m\u001b[1;33m\u001b[0m\u001b[1;33m\u001b[0m\u001b[0m\n",
      "\u001b[1;31mTypeError\u001b[0m: 'str' object does not support item assignment"
     ]
    }
   ],
   "metadata": {}
  },
  {
   "cell_type": "code",
   "execution_count": 7,
   "source": [
    "# Python Program to Update\r\n",
    "# entire String\r\n",
    "\r\n",
    "String1 = \"Hello, I'm a Flex\"\r\n",
    "print(\"Initial String: \")\r\n",
    "print(String1)\r\n",
    "\r\n",
    "# Updating a String\r\n",
    "String1 = \"Welcome to the Flex World\"\r\n",
    "print(\"\\nUpdated String: \")\r\n",
    "print(String1)\r\n"
   ],
   "outputs": [
    {
     "output_type": "stream",
     "name": "stdout",
     "text": [
      "Initial String: \n",
      "Hello, I'm a Flex\n",
      "\n",
      "Updated String: \n",
      "Welcome to the Flex World\n"
     ]
    }
   ],
   "metadata": {}
  },
  {
   "cell_type": "markdown",
   "source": [
    "Deletion of a character: "
   ],
   "metadata": {}
  },
  {
   "cell_type": "code",
   "execution_count": 8,
   "source": [
    "# Python Program to Delete\r\n",
    "# characters from a String\r\n",
    "\r\n",
    "String1 = \"Hello, I'm a Geek\"\r\n",
    "print(\"Initial String: \")\r\n",
    "print(String1)\r\n",
    "\r\n",
    "# Deleting a character\r\n",
    "# of the String\r\n",
    "del String1[2]\r\n",
    "print(\"\\nDeleting character at 2nd Index: \")\r\n",
    "print(String1)\r\n"
   ],
   "outputs": [
    {
     "output_type": "stream",
     "name": "stdout",
     "text": [
      "Initial String: \n",
      "Hello, I'm a Geek\n"
     ]
    },
    {
     "output_type": "error",
     "ename": "TypeError",
     "evalue": "'str' object doesn't support item deletion",
     "traceback": [
      "\u001b[1;31m---------------------------------------------------------------------------\u001b[0m",
      "\u001b[1;31mTypeError\u001b[0m                                 Traceback (most recent call last)",
      "\u001b[1;32m<ipython-input-8-dc676f045184>\u001b[0m in \u001b[0;36m<module>\u001b[1;34m\u001b[0m\n\u001b[0;32m      8\u001b[0m \u001b[1;31m# Deleting a character\u001b[0m\u001b[1;33m\u001b[0m\u001b[1;33m\u001b[0m\u001b[1;33m\u001b[0m\u001b[0m\n\u001b[0;32m      9\u001b[0m \u001b[1;31m# of the String\u001b[0m\u001b[1;33m\u001b[0m\u001b[1;33m\u001b[0m\u001b[1;33m\u001b[0m\u001b[0m\n\u001b[1;32m---> 10\u001b[1;33m \u001b[1;32mdel\u001b[0m \u001b[0mString1\u001b[0m\u001b[1;33m[\u001b[0m\u001b[1;36m2\u001b[0m\u001b[1;33m]\u001b[0m\u001b[1;33m\u001b[0m\u001b[1;33m\u001b[0m\u001b[0m\n\u001b[0m\u001b[0;32m     11\u001b[0m \u001b[0mprint\u001b[0m\u001b[1;33m(\u001b[0m\u001b[1;34m\"\\nDeleting character at 2nd Index: \"\u001b[0m\u001b[1;33m)\u001b[0m\u001b[1;33m\u001b[0m\u001b[1;33m\u001b[0m\u001b[0m\n\u001b[0;32m     12\u001b[0m \u001b[0mprint\u001b[0m\u001b[1;33m(\u001b[0m\u001b[0mString1\u001b[0m\u001b[1;33m)\u001b[0m\u001b[1;33m\u001b[0m\u001b[1;33m\u001b[0m\u001b[0m\n",
      "\u001b[1;31mTypeError\u001b[0m: 'str' object doesn't support item deletion"
     ]
    }
   ],
   "metadata": {}
  },
  {
   "cell_type": "markdown",
   "source": [
    "Deleting Entire String: \\\r\n",
    "Deletion of entire string is possible with the use of del keyword. Further, if we try to print the string, this will produce an error because String is deleted and is unavailable to be printed.  \r\n",
    "\r\n"
   ],
   "metadata": {}
  },
  {
   "cell_type": "code",
   "execution_count": 10,
   "source": [
    "# Python Program to Delete\r\n",
    "# entire String\r\n",
    "\r\n",
    "String1 = \"Hello, I'm a Geek\"\r\n",
    "print(\"Initial String: \")\r\n",
    "print(String1)\r\n",
    "\r\n",
    "# Deleting a String\r\n",
    "# with the use of del\r\n",
    "del String1\r\n",
    "print(\"\\nDeleting entire String: \")\r\n",
    "print(String1)\r\n"
   ],
   "outputs": [
    {
     "output_type": "stream",
     "name": "stdout",
     "text": [
      "Initial String: \n",
      "Hello, I'm a Geek\n",
      "\n",
      "Deleting entire String: \n"
     ]
    },
    {
     "output_type": "error",
     "ename": "NameError",
     "evalue": "name 'String1' is not defined",
     "traceback": [
      "\u001b[1;31m---------------------------------------------------------------------------\u001b[0m",
      "\u001b[1;31mNameError\u001b[0m                                 Traceback (most recent call last)",
      "\u001b[1;32m<ipython-input-10-7c2d60caeee5>\u001b[0m in \u001b[0;36m<module>\u001b[1;34m\u001b[0m\n\u001b[0;32m     10\u001b[0m \u001b[1;32mdel\u001b[0m \u001b[0mString1\u001b[0m\u001b[1;33m\u001b[0m\u001b[1;33m\u001b[0m\u001b[0m\n\u001b[0;32m     11\u001b[0m \u001b[0mprint\u001b[0m\u001b[1;33m(\u001b[0m\u001b[1;34m\"\\nDeleting entire String: \"\u001b[0m\u001b[1;33m)\u001b[0m\u001b[1;33m\u001b[0m\u001b[1;33m\u001b[0m\u001b[0m\n\u001b[1;32m---> 12\u001b[1;33m \u001b[0mprint\u001b[0m\u001b[1;33m(\u001b[0m\u001b[0mString1\u001b[0m\u001b[1;33m)\u001b[0m\u001b[1;33m\u001b[0m\u001b[1;33m\u001b[0m\u001b[0m\n\u001b[0m",
      "\u001b[1;31mNameError\u001b[0m: name 'String1' is not defined"
     ]
    }
   ],
   "metadata": {}
  },
  {
   "cell_type": "markdown",
   "source": [
    "# Escape Sequencing in Python #\r\n",
    "While printing Strings with single and double quotes in it causes SyntaxError because String already contains Single and Double Quotes and hence cannot be printed with the use of either of these. Hence, to print such a String either Triple Quotes are used or Escape sequences are used to print such Strings. \r\n",
    "\r\n",
    "Escape sequences start with a backslash and can be interpreted differently. If single quotes are used to represent a string, then all the single quotes present in the string must be escaped and same is done for Double Quotes. \r\n",
    "\r\n"
   ],
   "metadata": {}
  },
  {
   "cell_type": "code",
   "execution_count": 11,
   "source": [
    "# Python Program for\r\n",
    "# Escape Sequencing\r\n",
    "# of String\r\n",
    "\r\n",
    "# Initial String\r\n",
    "String1 = '''I'm a \"Geek\"'''\r\n",
    "print(\"Initial String with use of Triple Quotes: \")\r\n",
    "print(String1)\r\n",
    "\r\n",
    "# Escaping Single Quote\r\n",
    "String1 = 'I\\'m a \"Geek\"'\r\n",
    "print(\"\\nEscaping Single Quote: \")\r\n",
    "print(String1)\r\n",
    "\r\n",
    "# Escaping Double Quotes\r\n",
    "String1 = \"I'm a \\\"Geek\\\"\"\r\n",
    "print(\"\\nEscaping Double Quotes: \")\r\n",
    "print(String1)\r\n",
    "\r\n",
    "# Printing Paths with the\r\n",
    "# use of Escape Sequences\r\n",
    "String1 = \"C:\\\\Python\\\\Geeks\\\\\"\r\n",
    "print(\"\\nEscaping Backslashes: \")\r\n",
    "print(String1)\r\n"
   ],
   "outputs": [
    {
     "output_type": "stream",
     "name": "stdout",
     "text": [
      "Initial String with use of Triple Quotes: \n",
      "I'm a \"Geek\"\n",
      "\n",
      "Escaping Single Quote: \n",
      "I'm a \"Geek\"\n",
      "\n",
      "Escaping Double Quotes: \n",
      "I'm a \"Geek\"\n",
      "\n",
      "Escaping Backslashes: \n",
      "C:\\Python\\Geeks\\\n"
     ]
    }
   ],
   "metadata": {}
  },
  {
   "cell_type": "markdown",
   "source": [
    "To ignore the escape sequences in a String, r or R is used, this implies that the string is a raw string and escape sequences inside it are to be ignored.\r\n",
    " "
   ],
   "metadata": {}
  },
  {
   "cell_type": "code",
   "execution_count": 12,
   "source": [
    "# Printing Geeks in HEX\r\n",
    "String1 = \"This is \\x47\\x65\\x65\\x6b\\x73 in \\x48\\x45\\x58\"\r\n",
    "print(\"\\nPrinting in HEX with the use of Escape Sequences: \")\r\n",
    "print(String1)\r\n",
    "\r\n",
    "# Using raw String to\r\n",
    "# ignore Escape Sequences\r\n",
    "String1 = r\"This is \\x47\\x65\\x65\\x6b\\x73 in \\x48\\x45\\x58\"\r\n",
    "print(\"\\nPrinting Raw String in HEX Format: \")\r\n",
    "print(String1)\r\n"
   ],
   "outputs": [
    {
     "output_type": "stream",
     "name": "stdout",
     "text": [
      "\n",
      "Printing in HEX with the use of Escape Sequences: \n",
      "This is Geeks in HEX\n",
      "\n",
      "Printing Raw String in HEX Format: \n",
      "This is \\x47\\x65\\x65\\x6b\\x73 in \\x48\\x45\\x58\n"
     ]
    }
   ],
   "metadata": {}
  },
  {
   "cell_type": "markdown",
   "source": [
    "Formatting of Strings \\\r\n",
    "Strings in Python can be formatted with the use of format() method which is very versatile and powerful tool for formatting of Strings. Format method in String contains curly braces {} as placeholders which can hold arguments according to position or keyword to specify the order.\r\n",
    "\r\n"
   ],
   "metadata": {}
  },
  {
   "cell_type": "code",
   "execution_count": 13,
   "source": [
    "# Python Program for\r\n",
    "# Formatting of Strings\r\n",
    "\r\n",
    "# Default order\r\n",
    "String1 = \"{} {} {}\".format('Geeks', 'For', 'Life')\r\n",
    "print(\"Print String in default order: \")\r\n",
    "print(String1)\r\n",
    "\r\n",
    "# Positional Formatting\r\n",
    "String1 = \"{1} {0} {2}\".format('Geeks', 'For', 'Life')\r\n",
    "print(\"\\nPrint String in Positional order: \")\r\n",
    "print(String1)\r\n",
    "\r\n",
    "# Keyword Formatting\r\n",
    "String1 = \"{l} {f} {g}\".format(g = 'Geeks', f = 'For', l = 'Life')\r\n",
    "print(\"\\nPrint String in order of Keywords: \")\r\n",
    "print(String1)\r\n"
   ],
   "outputs": [
    {
     "output_type": "stream",
     "name": "stdout",
     "text": [
      "Print String in default order: \n",
      "Geeks For Life\n",
      "\n",
      "Print String in Positional order: \n",
      "For Geeks Life\n",
      "\n",
      "Print String in order of Keywords: \n",
      "Life For Geeks\n"
     ]
    }
   ],
   "metadata": {}
  },
  {
   "cell_type": "markdown",
   "source": [
    "Integers such as Binary, hexadecimal, etc. and floats can be rounded or displayed in the exponent form with the use of format specifiers. "
   ],
   "metadata": {}
  },
  {
   "cell_type": "code",
   "execution_count": 14,
   "source": [
    "# Formatting of Integers\r\n",
    "String1 = \"{0:b}\".format(16)\r\n",
    "print(\"\\nBinary representation of 16 is \")\r\n",
    "print(String1)\r\n",
    "\r\n",
    "# Formatting of Floats\r\n",
    "String1 = \"{0:e}\".format(165.6458)\r\n",
    "print(\"\\nExponent representation of 165.6458 is \")\r\n",
    "print(String1)\r\n",
    "\r\n",
    "# Rounding off Integers\r\n",
    "String1 = \"{0:.2f}\".format(1/6)\r\n",
    "print(\"\\none-sixth is : \")\r\n",
    "print(String1)\r\n"
   ],
   "outputs": [
    {
     "output_type": "stream",
     "name": "stdout",
     "text": [
      "\n",
      "Binary representation of 16 is \n",
      "10000\n",
      "\n",
      "Exponent representation of 165.6458 is \n",
      "1.656458e+02\n",
      "\n",
      "one-sixth is : \n",
      "0.17\n"
     ]
    }
   ],
   "metadata": {}
  },
  {
   "cell_type": "markdown",
   "source": [
    "A string can be left() or center(^) justified with the use of format specifiers, separated by colon(:).  "
   ],
   "metadata": {}
  },
  {
   "cell_type": "code",
   "execution_count": 15,
   "source": [
    "# String alignment\r\n",
    "String1 = \"|{:<10}|{:^10}|{:>10}|\".format('Geeks','for','Geeks')\r\n",
    "print(\"\\nLeft, center and right alignment with Formatting: \")\r\n",
    "print(String1)\r\n",
    "\r\n",
    "# To demonstrate aligning of spaces\r\n",
    "String1 = \"\\n{0:^16} was founded in {1:<4}!\".format(\"GeeksforGeeks\", 2009)\r\n",
    "print(String1)\r\n"
   ],
   "outputs": [
    {
     "output_type": "stream",
     "name": "stdout",
     "text": [
      "\n",
      "Left, center and right alignment with Formatting: \n",
      "|Geeks     |   for    |     Geeks|\n",
      "\n",
      " GeeksforGeeks   was founded in 2009!\n"
     ]
    }
   ],
   "metadata": {}
  },
  {
   "cell_type": "markdown",
   "source": [
    "Old style formatting was done without the use of format method by using % operator "
   ],
   "metadata": {}
  },
  {
   "cell_type": "code",
   "execution_count": 16,
   "source": [
    "# Python Program for\r\n",
    "# Old Style Formatting\r\n",
    "# of Integers\r\n",
    "\r\n",
    "Integer1 = 12.3456789\r\n",
    "print(\"Formatting in 3.2f format: \")\r\n",
    "print('The value of Integer1 is %3.2f' %Integer1)\r\n",
    "print(\"\\nFormatting in 3.4f format: \")\r\n",
    "print('The value of Integer1 is %3.4f' %Integer1)\r\n"
   ],
   "outputs": [
    {
     "output_type": "stream",
     "name": "stdout",
     "text": [
      "Formatting in 3.2f format: \n",
      "The value of Integer1 is 12.35\n",
      "\n",
      "Formatting in 3.4f format: \n",
      "The value of Integer1 is 12.3457\n"
     ]
    }
   ],
   "metadata": {}
  },
  {
   "cell_type": "markdown",
   "source": [
    "String constants \r\n",
    "\r\n",
    "<table><thead><tr><th>Built-In Function</th><th>Description</th></tr></thead><tbody><tr><td><a href=\"https://www.geeksforgeeks.org/python-string-ascii_letters/\">string.ascii_letters</a></td><td>Concatenation of the ascii_lowercase and ascii_uppercase constants.</td></tr><tr><td><a href=\"https://www.geeksforgeeks.org/python-string-ascii_lowercase/\">string.ascii_lowercase</a></td><td>Concatenation of lowercase letters</td></tr><tr><td><a href=\"https://www.geeksforgeeks.org/python-string-ascii_uppercase/\">string.ascii_uppercase</a></td><td>Concatenation of uppercase letters</td></tr><tr><td><a href=\"https://www.geeksforgeeks.org/python-string-digits/\">string.digits</a></td><td>Digit in strings</td></tr><tr><td><a href=\"https://www.geeksforgeeks.org/python-string-hexdigits/\">string.hexdigits</a></td><td>Hexadigit in strings</td></tr><tr><td>string.letters</td><td>concatenation of the strings lowercase and uppercase</td></tr><tr><td>string.lowercase</td><td>A string must contain lowercase letters.</td></tr><tr><td>string.octdigits</td><td>Octadigit in a string</td></tr><tr><td>string.punctuation</td><td>ASCII characters having punctuation characters.</td></tr><tr><td>string.printable</td><td>String of characters which are printable</td></tr><tr><td><a href=\"https://www.geeksforgeeks.org/string-endswith-python/\">String.endswith()</a></td><td>Returns True if a string ends with the given suffix otherwise returns False</td></tr><tr><td><a href=\"https://www.geeksforgeeks.org/python-string-startswith/\">String.startswith()</a></td><td>Returns True if a string starts with the given prefix otherwise returns False</td></tr><tr><td><a href=\"https://www.geeksforgeeks.org/python-string-isdigit-application/\">String.isdigit()</a></td><td>Returns “True” if all characters in the string are digits, Otherwise, It returns “False”.</td></tr><tr><td><a href=\"https//www.geeksforgeeks.org/python-string-isalpha-application/\">String.isalpha()</a></td><td>Returns “True” if all characters in the string are alphabets, Otherwise, It returns “False”.</td></tr><tr><td><a href=\"https://www.geeksforgeeks.org/python-string-isdecimal/\">string.isdecimal()</a></td><td>Returns true if all characters in a string are decimal.</td></tr><tr><td><a href=\"https://www.geeksforgeeks.org/python-format-function/\">str.format()</a></td><td>one of the string formatting methods in Python3, which allows multiple substitutions and value formatting.</td></tr><tr><td><a href=\"https://www.geeksforgeeks.org/python-string-index-applications/\">String.index</a></td><td>Returns the position of the first occurrence of substring in a string</td></tr><tr><td>string.uppercase</td><td>A string must contain uppercase letters.</td></tr><tr><td><a href=\"https://www.geeksforgeeks.org/python-string-isspace-application/\">string.whitespace</a></td><td>A string containing all characters that are considered whitespace.</td></tr><tr><td><a href=\"https://www.geeksforgeeks.org/python-string-swapcase/\">string.swapcase()</a></td><td>Method converts all uppercase characters to lowercase and vice versa of the given string, and returns it</td></tr><tr><td><a href=\"https://www.geeksforgeeks.org/python-string-replace/\">replace()</a></td><td>returns a copy of the string where all occurrences of a substring is replaced with another substring.</td></tr></tbody></table>"
   ],
   "metadata": {}
  },
  {
   "cell_type": "markdown",
   "source": [
    "Deprecated string functions\r\n",
    "\r\n",
    "<table><thead><tr><th>Built-In Function</th><th>Description</th></tr></thead><tbody><tr><td><a href=\"https://www.geeksforgeeks.org/python-string-isdecimal/\">string.Isdecimal</a></td><td>Returns true if all characters in a string are decimal</td></tr><tr><td><a href=\"https://www.geeksforgeeks.org/python-string-isalnum/\">String.Isalnum</a></td><td>Returns true if all the characters in a given string are alphanumeric.</td></tr><tr><td><a href=\"https://www.geeksforgeeks.org/python-string-istitle/\">string.Istitle</a></td><td>Returns True if the string is a titlecased string</td></tr><tr><td><a href=\"https://www.geeksforgeeks.org/string-partition-python/\">String.partition</a></td><td>splits the string at the first occurrence of the separator and returns a tuple.</td></tr><tr><td><a href=\"https://www.geeksforgeeks.org/python-string-isidentifier/\">String.Isidentifier</a></td><td>Check whether a string is a valid identifier or not.</td></tr><tr><td><a href=\"https://www.geeksforgeeks.org/python-string-length-len/\">String.len</a></td><td>Returns the length of the string.</td></tr><tr><td><a href=\"https://www.geeksforgeeks.org/string-rindex-python/\">String.rindex</a></td><td>Returns the highest index of the substring inside the string if substring is found.</td></tr><tr><td><a href=\"https://www.geeksforgeeks.org/python-string-max/\">String.Max</a></td><td>Returns the highest alphabetical character in a string.</td></tr><tr><td><a href=\"https://www.geeksforgeeks.org/python-string-min/\">String.min</a></td><td>Returns the minimum alphabetical character in a string.</td></tr><tr><td><a href=\"https://www.geeksforgeeks.org/python-string-splitlines/\">String.splitlines</a></td><td>Returns a list of lines in the string.</td></tr><tr><td><a href=\"https://www.geeksforgeeks.org/string-capitalize-python/\">string.capitalize</a></td><td>Return a word with its first character capitalized.</td></tr><tr><td><a href=\"https://www.geeksforgeeks.org/python-expandtabs-method/\">string.expandtabs</a></td><td>Expand tabs in a string replacing them by one or more spaces</td></tr><tr><td><a href=\"https://www.geeksforgeeks.org/string-find-python/\">string.find</a></td><td>Return the lowest indexin a sub string.</td></tr><tr><td><a href=\"https://www.geeksforgeeks.org/python-string-rfind/\">string.rfind</a></td><td>find the highest index.</td></tr><tr><td><a href=\"https://www.geeksforgeeks.org/python-string-count/\">string.count</a></td><td>Return the number of (non-overlapping) occurrences of substring sub in string</td></tr><tr><td><a href=\"https://www.geeksforgeeks.org/python-string-lower/\">string.lower</a></td><td>Return a copy of s, but with upper case letters converted to lower case.</td></tr><tr><td><a href=\"https://www.geeksforgeeks.org/python-string-split/\">string.split</a></td><td>Return a list of the words of the string,If the optional second argument sep is absent or None</td></tr><tr><td><a href=\"https://write.geeksforgeeks.org/improve/find-the-smallest-binary-digit-multiple-of-given-number-2/\">string.rsplit()</a></td><td>Return a list of the words of the string s, scanning s from the end.</td></tr><tr><td><a href=\"https://www.geeksforgeeks.org/python-string-rpartition/\">rpartition()</a></td><td>Method splits the given string into three parts</td></tr><tr><td>string.splitfields</td><td>Return a list of the words of the string when only used with two arguments.</td></tr><tr><td><a href=\"https://www.geeksforgeeks.org/join-function-python/\">string.join</a></td><td>Concatenate a list or tuple of words with intervening occurrences of sep.</td></tr><tr><td><a href=\"https://www.geeksforgeeks.org/python-string-strip/\">string.strip()</a></td><td>It return a copy of the string with both leading and trailing characters removed</td></tr><tr><td><a href=\"https://www.geeksforgeeks.org/python-string-strip/\">string.lstrip</a></td><td>Return a copy of the string with leading characters removed.</td></tr><tr><td><a href=\"https://www.geeksforgeeks.org/python-string-rstrip/\">string.rstrip</a></td><td>Return a copy of the string with trailing characters removed.</td></tr><tr><td><a href=\"https://www.geeksforgeeks.org/python-string-swapcase/\">string.swapcase</a></td><td>Converts lower case letters to upper case and vice versa.</td></tr><tr><td><a href=\"https://www.geeksforgeeks.org/python-string-translate/\">string.translate</a></td><td>Translate the characters using table</td></tr><tr><td><a href=\"https://www.geeksforgeeks.org/python-string-upper/\">string.upper</a></td><td>lower case letters converted to upper case.</td></tr><tr><td><a href=\"https://www.geeksforgeeks.org/string-rjust-ljust-python/\">string.ljust</a></td><td>left-justify in a field of given width.</td></tr><tr><td><a href=\"https://www.geeksforgeeks.org/string-rjust-ljust-python/\">string.rjust</a></td><td>Right-justify in a field of given width.</td></tr><tr><td><a href=\"https://www.geeksforgeeks.org/string-center-python/\">string.center()</a></td><td>Center-justify in a field of given width.</td></tr><tr><td><a href=\"https://www.geeksforgeeks.org/python-string-zfill/\">string-zfill</a></td><td>Pad a numeric string on the left with zero digits until the given width is reached.</td></tr><tr><td><a href=\"https://www.geeksforgeeks.org/replace-in-python-to-replace-a-substring/\">string.replace</a></td><td>Return a copy of string s with all occurrences of substring old replaced by new.</td></tr><tr><td><a href=\"https://www.geeksforgeeks.org/casefold-string-python/\">string.casefold()</a></td><td>Returns the string in lowercase which can be used for caseless comparisons.</td></tr><tr><td><a href=\"https://www.geeksforgeeks.org/python-strings-encode-method/\">string.encode</a></td><td>Encodes the string into any encoding supported by Python.Default encoding is utf-8.</td></tr><tr><td><a href=\"https://www.geeksforgeeks.org/python-maketrans-translate-functions/\">string.maketrans</a></td><td>Returns a translation table usable for str.translate()</td></tr></tbody></table>\r\n",
    "\r\n"
   ],
   "metadata": {}
  }
 ],
 "metadata": {
  "orig_nbformat": 4,
  "language_info": {
   "name": "python",
   "version": "3.9.1",
   "mimetype": "text/x-python",
   "codemirror_mode": {
    "name": "ipython",
    "version": 3
   },
   "pygments_lexer": "ipython3",
   "nbconvert_exporter": "python",
   "file_extension": ".py"
  },
  "kernelspec": {
   "name": "python3",
   "display_name": "Python 3.9.1 64-bit"
  },
  "interpreter": {
   "hash": "11f1dc213e07634baa4c5c321dec03c05dafae643c50f20e6d1a492290c05dc2"
  }
 },
 "nbformat": 4,
 "nbformat_minor": 2
}